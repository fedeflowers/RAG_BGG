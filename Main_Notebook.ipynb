{
 "cells": [
  {
   "cell_type": "markdown",
   "metadata": {},
   "source": [
    "# Ingestion"
   ]
  },
  {
   "cell_type": "code",
   "execution_count": 44,
   "metadata": {},
   "outputs": [],
   "source": [
    "import pandas as pd\n",
    "from datasets import Dataset\n",
    "import matplotlib.pyplot as plt\n",
    "import datasets\n",
    "from sentence_transformers import SentenceTransformer\n",
    "from transformers import AutoTokenizer\n",
    "from langchain_huggingface import HuggingFaceEmbeddings\n",
    "from langchain_community.vectorstores.utils import DistanceStrategy\n",
    "from qdrant_client import QdrantClient\n",
    "from langchain_qdrant import QdrantVectorStore\n",
    "from langchain.text_splitter import RecursiveCharacterTextSplitter\n",
    "from transformers import AutoTokenizer\n",
    "from typing import List, Optional  # Import List and Optional for type annotations\n",
    "from langchain.docstore.document import Document as LangchainDocument\n",
    "from tqdm import tqdm\n",
    "import pdfplumber\n",
    "import os\n",
    "from datasets import Dataset\n",
    "import openai\n",
    "from langchain.embeddings import OpenAIEmbeddings  # Correct import path for OpenAI embeddings\n"
   ]
  },
  {
   "cell_type": "code",
   "execution_count": 24,
   "metadata": {},
   "outputs": [],
   "source": [
    "from openai import OpenAI\n",
    "\n",
    "# Set your OpenAI API key\n",
    "os.environ[\"OPENAI_API_KEY\"] = read_token_from_file(\"keys/OpenAI.txt\")"
   ]
  },
  {
   "cell_type": "code",
   "execution_count": 8,
   "metadata": {},
   "outputs": [],
   "source": [
    "def read_token_from_file(file_path=\"token.txt\"):\n",
    "    with open(file_path, \"r\") as file:\n",
    "        return file.read().strip()"
   ]
  },
  {
   "cell_type": "code",
   "execution_count": 9,
   "metadata": {},
   "outputs": [],
   "source": [
    "file_path = [\n",
    "    \"C:/Users/fiori/OneDrive/Documenti/Rulebooks/\"\n",
    "]\n",
    "COLLECTION_NAME = \"transformer_sentece_splitter_2\"\n",
    "\n",
    "URL=read_token_from_file(\"keys/qdrant_URL.txt\")\n",
    "API_KEY=read_token_from_file(\"keys/qdrant.txt\")\n",
    "# Specify the folder path\n",
    "folder_path = \"C:\\\\Users\\\\fiori\\\\OneDrive\\\\Documenti\\\\Rulebooks\"\n",
    "EMBEDDING_MODEL_NAME = \"thenlper/gte-small\"\n"
   ]
  },
  {
   "cell_type": "code",
   "execution_count": 54,
   "metadata": {},
   "outputs": [],
   "source": [
    "def add_embeddings_to_qdrant(docs_processed, URL, API_KEY, OPENAI_KEY, collection_name=\"test_2\"):\n",
    "    \"\"\"Create embeddings for documents and add them to Qdrant.\"\"\"\n",
    "    \n",
    "    URL=URL \n",
    "    API_KEY=API_KEY\n",
    "    \n",
    "    if OPENAI_KEY:\n",
    "        embedding_model = OpenAIEmbeddings(\n",
    "            model=\"text-embedding-ada-002\",  # Specify the desired OpenAI embedding model\n",
    "        )\n",
    "\n",
    "    else:\n",
    "        embedding_model = HuggingFaceEmbeddings(\n",
    "            model_name=EMBEDDING_MODEL_NAME,\n",
    "            multi_process=True,  # Enable multiprocessing\n",
    "            model_kwargs={\"device\": \"cuda\"},\n",
    "            encode_kwargs={\"normalize_embeddings\": True},  # Set `True` for cosine similarity\n",
    "        )\n",
    "\n",
    "\n",
    "    vector_store = QdrantVectorStore.from_documents(\n",
    "        docs_processed,\n",
    "        embedding_model,\n",
    "        url = URL,\n",
    "        prefer_grpc=True,\n",
    "        api_key=API_KEY,\n",
    "        collection_name=collection_name,\n",
    "        force_recreate = False\n",
    "    )"
   ]
  },
  {
   "cell_type": "code",
   "execution_count": 32,
   "metadata": {},
   "outputs": [],
   "source": [
    "def connect_Qdrant(URL, API_KEY):\n",
    "    # Initialize Qdrant client\n",
    "    qdrant_client = QdrantClient(\n",
    "        url=URL, \n",
    "        api_key=API_KEY,\n",
    "    )\n",
    "    return qdrant_client\n"
   ]
  },
  {
   "cell_type": "code",
   "execution_count": 33,
   "metadata": {},
   "outputs": [],
   "source": [
    "def process_pdfs(path, tokenizer):\n",
    "    # Load dataset from Hugging Face\n",
    "    RAW_KNOWLEDGE_BASE = []\n",
    "\n",
    "    # List the PDF files in the folder\n",
    "    pdf_files = [f for f in os.listdir(path) if f.endswith(\".pdf\")]\n",
    "    pdf_texts = []\n",
    "\n",
    "    for pdf_file in tqdm(pdf_files):\n",
    "        # Extract text from PDF using pdfplumber\n",
    "        with pdfplumber.open(os.path.join(folder_path, pdf_file)) as pdf:\n",
    "            text = \"\"\n",
    "            for page in pdf.pages:\n",
    "                text += page.extract_text()\n",
    "        pdf_texts.append(text)\n",
    "\n",
    "    pdf_dict = [{\"game_name\" : pdf_file.removesuffix(\".pdf\").split(\"_\")[0], \"game_id\" : pdf_file.removesuffix(\".pdf\").split(\"_\")[1]} for i, pdf_file in enumerate(pdf_files)]\n",
    "\n",
    "    RAW_KNOWLEDGE_BASE = tokenizer.create_documents(\n",
    "        pdf_texts,\n",
    "        pdf_dict\n",
    "    )\n",
    "\n",
    "    docs_processed = tokenizer.split_documents(RAW_KNOWLEDGE_BASE)\n",
    "    return docs_processed"
   ]
  },
  {
   "cell_type": "markdown",
   "metadata": {},
   "source": [
    "# UNSTRUCTURED"
   ]
  },
  {
   "cell_type": "code",
   "execution_count": 12,
   "metadata": {},
   "outputs": [],
   "source": [
    "from langchain_unstructured import UnstructuredLoader\n",
    "from unstructured.chunking.title import chunk_by_title\n",
    "\n",
    "\n",
    "loader = UnstructuredLoader(file_paths, chunk_strategy = chunk_by_title)"
   ]
  },
  {
   "cell_type": "code",
   "execution_count": 28,
   "metadata": {},
   "outputs": [],
   "source": [
    "docs = loader.load()"
   ]
  },
  {
   "cell_type": "code",
   "execution_count": 29,
   "metadata": {},
   "outputs": [
    {
     "data": {
      "text/plain": [
       "'Difficulty level:'"
      ]
     },
     "execution_count": 29,
     "metadata": {},
     "output_type": "execute_result"
    }
   ],
   "source": [
    "docs[10].page_content"
   ]
  },
  {
   "cell_type": "code",
   "execution_count": 30,
   "metadata": {},
   "outputs": [],
   "source": [
    "from langchain.document_loaders import UnstructuredPDFLoader #fa un pò cagare, bisognerebbe provare l'API by_title, magari si può usare per le tabelle...\n",
    "\n",
    "loader = UnstructuredPDFLoader(\"C:/Users/fiori/OneDrive/Documenti/Rulebooks/The Mind Extreme.pdf\", mode=\"elements\")\n",
    "docs = loader.load()"
   ]
  },
  {
   "cell_type": "code",
   "execution_count": 31,
   "metadata": {},
   "outputs": [
    {
     "data": {
      "text/plain": [
       "[Document(metadata={'source': 'C:/Users/fiori/OneDrive/Documenti/Rulebooks/The Mind Extreme.pdf', 'coordinates': {'points': ((9.73945, 4.981999999999971), (9.73945, 30.98199999999997), (120.65519598000003, 30.98199999999997), (120.65519598000003, 4.981999999999971)), 'system': 'PixelSpace', 'layout_width': 257.95, 'layout_height': 334.49}, 'file_directory': 'C:/Users/fiori/OneDrive/Documenti/Rulebooks', 'filename': 'The Mind Extreme.pdf', 'languages': ['eng'], 'last_modified': '2024-09-29T13:58:58', 'page_number': 1, 'filetype': 'application/pdf', 'category': 'Header', 'element_id': '7d22452cb6bfb2b564695db47ac3493f'}, page_content='The Mind'),\n",
       " Document(metadata={'source': 'C:/Users/fiori/OneDrive/Documenti/Rulebooks/The Mind Extreme.pdf', 'coordinates': {'points': ((194.737, 15.110000000000014), (194.737, 29.110000000000014), (217.9882, 29.110000000000014), (217.9882, 15.110000000000014)), 'system': 'PixelSpace', 'layout_width': 257.95, 'layout_height': 334.49}, 'file_directory': 'C:/Users/fiori/OneDrive/Documenti/Rulebooks', 'filename': 'The Mind Extreme.pdf', 'languages': ['eng'], 'last_modified': '2024-09-29T13:58:58', 'page_number': 1, 'filetype': 'application/pdf', 'category': 'Header', 'element_id': '387ae4f1c3b75065a54b0cd25145c646'}, page_content='W o l f g a n g W a r s c h'),\n",
       " Document(metadata={'source': 'C:/Users/fiori/OneDrive/Documenti/Rulebooks/The Mind Extreme.pdf', 'coordinates': {'points': ((28.4031, 32.512), (28.4031, 38.512), (101.98109999999998, 38.512), (101.98109999999998, 32.512)), 'system': 'PixelSpace', 'layout_width': 257.95, 'layout_height': 334.49}, 'file_directory': 'C:/Users/fiori/OneDrive/Documenti/Rulebooks', 'filename': 'The Mind Extreme.pdf', 'languages': ['eng'], 'last_modified': '2024-09-29T13:58:58', 'page_number': 1, 'parent_id': '387ae4f1c3b75065a54b0cd25145c646', 'filetype': 'application/pdf', 'category': 'Title', 'element_id': 'fbf9fc9251983e1b82c0d7fba337be9c'}, page_content='Fo r pr ofessi onal t el epaths!'),\n",
       " Document(metadata={'source': 'C:/Users/fiori/OneDrive/Documenti/Rulebooks/The Mind Extreme.pdf', 'coordinates': {'points': ((56.7973, 43.124000000000024), (56.7973, 49.624000000000024), (201.1552559, 49.624000000000024), (201.1552559, 43.124000000000024)), 'system': 'PixelSpace', 'layout_width': 257.95, 'layout_height': 334.49}, 'file_directory': 'C:/Users/fiori/OneDrive/Documenti/Rulebooks', 'filename': 'The Mind Extreme.pdf', 'languages': ['eng'], 'last_modified': '2024-09-29T13:58:58', 'page_number': 1, 'parent_id': '387ae4f1c3b75065a54b0cd25145c646', 'filetype': 'application/pdf', 'category': 'Title', 'element_id': 'd40b3cad4ab2aef58b776591b4673fd6'}, page_content='Players: 2- 4 people Age: 8+ Duration: app. 20 min.'),\n",
       " Document(metadata={'source': 'C:/Users/fiori/OneDrive/Documenti/Rulebooks/The Mind Extreme.pdf', 'coordinates': {'points': ((12.472000000000008, 59.04000000000002), (12.472000000000008, 152.50809000000004), (247.3049856000001, 152.50809000000004), (247.3049856000001, 59.04000000000002)), 'system': 'PixelSpace', 'layout_width': 257.95, 'layout_height': 334.49}, 'file_directory': 'C:/Users/fiori/OneDrive/Documenti/Rulebooks', 'filename': 'The Mind Extreme.pdf', 'languages': ['eng'], 'last_modified': '2024-09-29T13:58:58', 'page_number': 1, 'parent_id': 'd40b3cad4ab2aef58b776591b4673fd6', 'filetype': 'application/pdf', 'category': 'NarrativeText', 'element_id': 'ed3dd5e00a305568f2c6d4e0c247789e'}, page_content='What‘s new about the Extreme version? The basic rules of the original „The Mind” game are the same. In the first round (level 1) everyone gets 1 card, in the second round (level 2) everyone gets 2 cards, etc. Everyone forms one team and tries to lay all the cards they receive correctly in the middle of the table. There is no player order. Anyone who wants to lay a card, simply lays it. Warning: There’s not just one stack in the middle of the table like with the original but two at the same time! The stack with the white numbers is ascending (1-50), the stack with the red numbers is descending (50-1). In some levels the cards even have to be laid face down in the middle of the table, which makes the collective sense of time even more challenging.'),\n",
       " Document(metadata={'source': 'C:/Users/fiori/OneDrive/Documenti/Rulebooks/The Mind Extreme.pdf', 'coordinates': {'points': ((32.32480000000001, 159.92827000000003), (32.32480000000001, 166.92827000000003), (79.63780000000003, 166.92827000000003), (79.63780000000003, 159.92827000000003)), 'system': 'PixelSpace', 'layout_width': 257.95, 'layout_height': 334.49}, 'file_directory': 'C:/Users/fiori/OneDrive/Documenti/Rulebooks', 'filename': 'The Mind Extreme.pdf', 'languages': ['eng'], 'last_modified': '2024-09-29T13:58:58', 'page_number': 1, 'parent_id': '387ae4f1c3b75065a54b0cd25145c646', 'filetype': 'application/pdf', 'category': 'Title', 'element_id': '389b0e5b1ed349bbbcb5d028c42e3265'}, page_content='100 number cards'),\n",
       " Document(metadata={'source': 'C:/Users/fiori/OneDrive/Documenti/Rulebooks/The Mind Extreme.pdf', 'coordinates': {'points': ((133.39096800000002, 159.92827000000003), (133.39096800000002, 166.92827000000003), (158.380702, 166.92827000000003), (158.380702, 159.92827000000003)), 'system': 'PixelSpace', 'layout_width': 257.95, 'layout_height': 334.49}, 'file_directory': 'C:/Users/fiori/OneDrive/Documenti/Rulebooks', 'filename': 'The Mind Extreme.pdf', 'languages': ['eng'], 'last_modified': '2024-09-29T13:58:58', 'page_number': 1, 'parent_id': '387ae4f1c3b75065a54b0cd25145c646', 'filetype': 'application/pdf', 'category': 'Title', 'element_id': 'b30ff785b40acec6d95c8dd68267ad9b'}, page_content='12 levels'),\n",
       " Document(metadata={'source': 'C:/Users/fiori/OneDrive/Documenti/Rulebooks/The Mind Extreme.pdf', 'coordinates': {'points': ((190.455, 159.92827000000003), (190.455, 166.92827000000003), (208.37516100000002, 166.92827000000003), (208.37516100000002, 159.92827000000003)), 'system': 'PixelSpace', 'layout_width': 257.95, 'layout_height': 334.49}, 'file_directory': 'C:/Users/fiori/OneDrive/Documenti/Rulebooks', 'filename': 'The Mind Extreme.pdf', 'languages': ['eng'], 'last_modified': '2024-09-29T13:58:58', 'page_number': 1, 'parent_id': '387ae4f1c3b75065a54b0cd25145c646', 'filetype': 'application/pdf', 'category': 'Title', 'element_id': '8944521c7beccc7b35673c49f60300f4'}, page_content='5 lives'),\n",
       " Document(metadata={'source': 'C:/Users/fiori/OneDrive/Documenti/Rulebooks/The Mind Extreme.pdf', 'coordinates': {'points': ((220.2048, 159.92827000000003), (220.2048, 173.92827000000003), (247.96680980000002, 173.92827000000003), (247.96680980000002, 159.92827000000003)), 'system': 'PixelSpace', 'layout_width': 257.95, 'layout_height': 334.49}, 'file_directory': 'C:/Users/fiori/OneDrive/Documenti/Rulebooks', 'filename': 'The Mind Extreme.pdf', 'languages': ['eng'], 'last_modified': '2024-09-29T13:58:58', 'page_number': 1, 'parent_id': '8944521c7beccc7b35673c49f60300f4', 'filetype': 'application/pdf', 'category': 'NarrativeText', 'element_id': '83edfa6d983f4169649315fa06da24b7'}, page_content='3 throwing stars'),\n",
       " Document(metadata={'source': 'C:/Users/fiori/OneDrive/Documenti/Rulebooks/The Mind Extreme.pdf', 'coordinates': {'points': ((13.200490000000002, 210.74157000000002), (13.200490000000002, 217.74157000000002), (47.213490000000014, 217.74157000000002), (47.213490000000014, 210.74157000000002)), 'system': 'PixelSpace', 'layout_width': 257.95, 'layout_height': 334.49}, 'file_directory': 'C:/Users/fiori/OneDrive/Documenti/Rulebooks', 'filename': 'The Mind Extreme.pdf', 'languages': ['eng'], 'last_modified': '2024-09-29T13:58:58', 'page_number': 1, 'parent_id': '8944521c7beccc7b35673c49f60300f4', 'filetype': 'application/pdf', 'category': 'UncategorizedText', 'element_id': '34ead6df89d151ea0a63dc16a34e0fc1'}, page_content='White (1-50)'),\n",
       " Document(metadata={'source': 'C:/Users/fiori/OneDrive/Documenti/Rulebooks/The Mind Extreme.pdf', 'coordinates': {'points': ((66.87663, 210.74157000000002), (66.87663, 217.74157000000002), (96.60562999999999, 217.74157000000002), (96.60562999999999, 210.74157000000002)), 'system': 'PixelSpace', 'layout_width': 257.95, 'layout_height': 334.49}, 'file_directory': 'C:/Users/fiori/OneDrive/Documenti/Rulebooks', 'filename': 'The Mind Extreme.pdf', 'languages': ['eng'], 'last_modified': '2024-09-29T13:58:58', 'page_number': 1, 'parent_id': '8944521c7beccc7b35673c49f60300f4', 'filetype': 'application/pdf', 'category': 'UncategorizedText', 'element_id': '93526cb80d0ed4df8644442930430878'}, page_content='Red (1-50)'),\n",
       " Document(metadata={'source': 'C:/Users/fiori/OneDrive/Documenti/Rulebooks/The Mind Extreme.pdf', 'coordinates': {'points': ((8.503900000000002, 227.1699), (8.503900000000002, 295.02), (251.27223600000002, 295.02), (251.27223600000002, 227.1699)), 'system': 'PixelSpace', 'layout_width': 257.95, 'layout_height': 334.49}, 'file_directory': 'C:/Users/fiori/OneDrive/Documenti/Rulebooks', 'filename': 'The Mind Extreme.pdf', 'languages': ['eng'], 'last_modified': '2024-09-29T13:58:58', 'page_number': 1, 'parent_id': '8944521c7beccc7b35673c49f60300f4', 'filetype': 'application/pdf', 'category': 'NarrativeText', 'element_id': '0a61a3bdd18c94fd3af95a4a3780b35b'}, page_content='Setting up the game The team gets a certain number of lives and throwing stars, which are placed face up next to each other on the table. The remaining lives and throwing stars are put aside at the edge of the table. They may be needed later. Now a certain number of level cards are stacked one on top of the other ascending and placed as a face up stack next to the lives and throwing stones (with level 1 at the very top). Unused levels are placed in the box.'),\n",
       " Document(metadata={'source': 'C:/Users/fiori/OneDrive/Documenti/Rulebooks/The Mind Extreme.pdf', 'coordinates': {'points': ((8.50391, 303.3299), (8.50391, 326.33227), (148.53100949999993, 326.33227), (148.53100949999993, 303.3299)), 'system': 'PixelSpace', 'layout_width': 257.95, 'layout_height': 334.49}, 'file_directory': 'C:/Users/fiori/OneDrive/Documenti/Rulebooks', 'filename': 'The Mind Extreme.pdf', 'languages': ['eng'], 'last_modified': '2024-09-29T13:58:58', 'page_number': 1, 'filetype': 'application/pdf', 'category': 'Footer', 'element_id': 'bcd18174b948a4e37d3117bfaa5dddb4'}, page_content='2 players: level 1 -12 • 2 lives • 1 throwing star 3 players: level 1 -10 • 3 lives • 1 throwing star 4 players: level 1 - 8 • 4 lives • 1 throwing star'),\n",
       " Document(metadata={'source': 'C:/Users/fiori/OneDrive/Documenti/Rulebooks/The Mind Extreme.pdf', 'coordinates': {'points': ((8.50391, 11.54000000000002), (8.50391, 29.03609), (251.22238639999983, 29.03609), (251.22238639999983, 11.54000000000002)), 'system': 'PixelSpace', 'layout_width': 257.95, 'layout_height': 334.49}, 'file_directory': 'C:/Users/fiori/OneDrive/Documenti/Rulebooks', 'filename': 'The Mind Extreme.pdf', 'languages': ['eng'], 'last_modified': '2024-09-29T13:58:58', 'page_number': 2, 'filetype': 'application/pdf', 'category': 'Header', 'element_id': 'd587253c6a6ab5c4f0823803e89b8127'}, page_content='The 100 number cards are shuffled. Each player receives one card (for level 1) and holds it in their hand so the other players cannot see it.'),\n",
       " Document(metadata={'source': 'C:/Users/fiori/OneDrive/Documenti/Rulebooks/The Mind Extreme.pdf', 'coordinates': {'points': ((8.503900000000002, 46.670000000000016), (8.503900000000002, 124.01618000000005), (251.28865777600012, 124.01618000000005), (251.28865777600012, 46.670000000000016)), 'system': 'PixelSpace', 'layout_width': 257.95, 'layout_height': 334.49}, 'file_directory': 'C:/Users/fiori/OneDrive/Documenti/Rulebooks', 'filename': 'The Mind Extreme.pdf', 'languages': ['eng'], 'last_modified': '2024-09-29T13:58:58', 'page_number': 2, 'parent_id': 'd587253c6a6ab5c4f0823803e89b8127', 'filetype': 'application/pdf', 'category': 'NarrativeText', 'element_id': '747e3202f237634a729cca6eb8e42692'}, page_content='Course of the game Once a player is ready to play the current level, they place one hand flat on the table. When everyone is ready, they take their hands away from the table and the game begins. Note: It is extremely important for everyone to synchronise together for the level to complete it successfully! The players are basically allowed to resynchronise at any time during the game. Just say „Stop“ and interrupt the game, everyone puts one hand on the table, resynchronises, takes their hand away, and continues playing!'),\n",
       " Document(metadata={'source': 'C:/Users/fiori/OneDrive/Documenti/Rulebooks/The Mind Extreme.pdf', 'coordinates': {'points': ((8.50391, 137.64000000000001), (8.50391, 190.54000000000002), (250.52, 190.54000000000002), (250.52, 137.64000000000001)), 'system': 'PixelSpace', 'layout_width': 257.95, 'layout_height': 334.49}, 'file_directory': 'C:/Users/fiori/OneDrive/Documenti/Rulebooks', 'filename': 'The Mind Extreme.pdf', 'languages': ['eng'], 'last_modified': '2024-09-29T13:58:58', 'page_number': 2, 'parent_id': 'd587253c6a6ab5c4f0823803e89b8127', 'filetype': 'application/pdf', 'category': 'ListItem', 'element_id': 'ba94f21ba7b00dc64b2504bace0fd1ad'}, page_content='The cards held by the players must be laid in the middle of the table. Only the the • The white cards are laid on top of each other on an ascending stack. The lowest white card, and so on.'),\n",
       " Document(metadata={'source': 'C:/Users/fiori/OneDrive/Documenti/Rulebooks/The Mind Extreme.pdf', 'coordinates': {'points': ((8.50399999999999, 151.04000000000002), (8.50399999999999, 159.04000000000002), (249.454, 159.04000000000002), (249.454, 151.04000000000002)), 'system': 'PixelSpace', 'layout_width': 257.95, 'layout_height': 334.49}, 'file_directory': 'C:/Users/fiori/OneDrive/Documenti/Rulebooks', 'filename': 'The Mind Extreme.pdf', 'languages': ['eng'], 'last_modified': '2024-09-29T13:58:58', 'page_number': 2, 'parent_id': 'd587253c6a6ab5c4f0823803e89b8127', 'filetype': 'application/pdf', 'category': 'NarrativeText', 'element_id': '3c980a55449a00c865e55c06132a8c67'}, page_content='white cards are laid to the left of the level card, the red cards to the right!'),\n",
       " Document(metadata={'source': 'C:/Users/fiori/OneDrive/Documenti/Rulebooks/The Mind Extreme.pdf', 'coordinates': {'points': ((8.50391, 190.64000000000001), (8.50391, 222.04000000000002), (249.4479872, 222.04000000000002), (249.4479872, 190.64000000000001)), 'system': 'PixelSpace', 'layout_width': 257.95, 'layout_height': 334.49}, 'file_directory': 'C:/Users/fiori/OneDrive/Documenti/Rulebooks', 'filename': 'The Mind Extreme.pdf', 'languages': ['eng'], 'last_modified': '2024-09-29T13:58:58', 'page_number': 2, 'parent_id': 'd587253c6a6ab5c4f0823803e89b8127', 'filetype': 'application/pdf', 'category': 'ListItem', 'element_id': 'fea4abc8be4df7b1d441b4baf64e5401'}, page_content='The red cards are laid on top of each other on a descending stack. The highest (available) red card has to be laid first, followed by the second highest (available) red card, and so on.'),\n",
       " Document(metadata={'source': 'C:/Users/fiori/OneDrive/Documenti/Rulebooks/The Mind Extreme.pdf', 'coordinates': {'points': ((8.503900000000002, 239.54000000000002), (8.503900000000002, 276.02819), (251.26382031199998, 276.02819), (251.26382031199998, 239.54000000000002)), 'system': 'PixelSpace', 'layout_width': 257.95, 'layout_height': 334.49}, 'file_directory': 'C:/Users/fiori/OneDrive/Documenti/Rulebooks', 'filename': 'The Mind Extreme.pdf', 'languages': ['eng'], 'last_modified': '2024-09-29T13:58:58', 'page_number': 2, 'parent_id': 'd587253c6a6ab5c4f0823803e89b8127', 'filetype': 'application/pdf', 'category': 'NarrativeText', 'element_id': '2ceac2de5cdcedd2636afd9f03a63611'}, page_content='The cards are always laid individually. There is no player order. Any player who thinks they have the lowest available white card or the highest available red card, lays it. The players may not reveal or show their own numbers. The players are not allowed to confer with each other, exchange information or use secret signs!'),\n",
       " Document(metadata={'source': 'C:/Users/fiori/OneDrive/Documenti/Rulebooks/The Mind Extreme.pdf', 'coordinates': {'points': ((8.503900000000002, 287.0282), (8.503900000000002, 314.02), (251.27990000000005, 314.02), (251.27990000000005, 287.0282)), 'system': 'PixelSpace', 'layout_width': 257.95, 'layout_height': 334.49}, 'file_directory': 'C:/Users/fiori/OneDrive/Documenti/Rulebooks', 'filename': 'The Mind Extreme.pdf', 'languages': ['eng'], 'last_modified': '2024-09-29T13:58:58', 'page_number': 2, 'parent_id': 'd587253c6a6ab5c4f0823803e89b8127', 'filetype': 'application/pdf', 'category': 'NarrativeText', 'element_id': '26ac802760c4f92a61e7173e4b30b516'}, page_content='Very important: Both stacks must be watched and played on at the same time. Players are not allowed to complete one of the two stacks first and then the other (regardless of the numbers available).'),\n",
       " Document(metadata={'source': 'C:/Users/fiori/OneDrive/Documenti/Rulebooks/The Mind Extreme.pdf', 'coordinates': {'points': ((8.50391, 7.039999999999964), (8.50391, 25.039999999999964), (249.442, 25.039999999999964), (249.442, 7.039999999999964)), 'system': 'PixelSpace', 'layout_width': 257.95, 'layout_height': 334.49}, 'file_directory': 'C:/Users/fiori/OneDrive/Documenti/Rulebooks', 'filename': 'The Mind Extreme.pdf', 'languages': ['eng'], 'last_modified': '2024-09-29T13:58:58', 'page_number': 3, 'filetype': 'application/pdf', 'category': 'Header', 'element_id': '314b8396c02ab8fb9ea3639e2042c7ed'}, page_content='• Once the players have laid all the cards in the correct order (white ascending,'),\n",
       " Document(metadata={'source': 'C:/Users/fiori/OneDrive/Documenti/Rulebooks/The Mind Extreme.pdf', 'coordinates': {'points': ((17.00790399999999, 21.04000000000002), (17.00790399999999, 29.04000000000002), (178.55190399999998, 29.04000000000002), (178.55190399999998, 21.04000000000002)), 'system': 'PixelSpace', 'layout_width': 257.95, 'layout_height': 334.49}, 'file_directory': 'C:/Users/fiori/OneDrive/Documenti/Rulebooks', 'filename': 'The Mind Extreme.pdf', 'languages': ['eng'], 'last_modified': '2024-09-29T13:58:58', 'page_number': 3, 'parent_id': '314b8396c02ab8fb9ea3639e2042c7ed', 'filetype': 'application/pdf', 'category': 'NarrativeText', 'element_id': '198baaaaf7fc2193d149b6717474fb29'}, page_content='red descending), they have completed the current level!'),\n",
       " Document(metadata={'source': 'C:/Users/fiori/OneDrive/Documenti/Rulebooks/The Mind Extreme.pdf', 'coordinates': {'points': ((143.1935847286, 80.58248328580001), (143.1935847286, 99.77766185500002), (152.23887983859998, 99.77766185500002), (152.23887983859998, 80.58248328580001)), 'system': 'PixelSpace', 'layout_width': 257.95, 'layout_height': 334.49}, 'file_directory': 'C:/Users/fiori/OneDrive/Documenti/Rulebooks', 'filename': 'The Mind Extreme.pdf', 'languages': ['eng'], 'last_modified': '2024-09-29T13:58:58', 'page_number': 3, 'parent_id': '314b8396c02ab8fb9ea3639e2042c7ed', 'filetype': 'application/pdf', 'category': 'UncategorizedText', 'element_id': '59268c5d96749484e976e4e568e729c2'}, page_content='✔'),\n",
       " Document(metadata={'source': 'C:/Users/fiori/OneDrive/Documenti/Rulebooks/The Mind Extreme.pdf', 'coordinates': {'points': ((8.50391, 106.54000000000002), (8.50391, 162.02045000000007), (251.29590654399993, 162.02045000000007), (251.29590654399993, 106.54000000000002)), 'system': 'PixelSpace', 'layout_width': 257.95, 'layout_height': 334.49}, 'file_directory': 'C:/Users/fiori/OneDrive/Documenti/Rulebooks', 'filename': 'The Mind Extreme.pdf', 'languages': ['eng'], 'last_modified': '2024-09-29T13:58:58', 'page_number': 3, 'parent_id': '314b8396c02ab8fb9ea3639e2042c7ed', 'filetype': 'application/pdf', 'category': 'NarrativeText', 'element_id': 'c11884b9ecc9c421af0d8c1613a3ed72'}, page_content='Tim, Sarah, Linus and Hanna put one hand on the table – they are ready. They take their hands away from the table and the game begins. Linus lays his white 8 face up to the left of the level card. Sarah lays the white 13 on the white 8. Hanna lays the red 33 face up to the right of the level card. Tim lays the white 46 on the white 13. Everything ascending in white, everything descending in red (it’s just one card), everything correct – level 1 completed!'),\n",
       " Document(metadata={'source': 'C:/Users/fiori/OneDrive/Documenti/Rulebooks/The Mind Extreme.pdf', 'coordinates': {'points': ((8.503900000000002, 173.02), (8.503900000000002, 219.00400000000002), (251.2733032, 219.00400000000002), (251.2733032, 173.02)), 'system': 'PixelSpace', 'layout_width': 257.95, 'layout_height': 334.49}, 'file_directory': 'C:/Users/fiori/OneDrive/Documenti/Rulebooks', 'filename': 'The Mind Extreme.pdf', 'languages': ['eng'], 'last_modified': '2024-09-29T13:58:58', 'page_number': 3, 'parent_id': '314b8396c02ab8fb9ea3639e2042c7ed', 'filetype': 'application/pdf', 'category': 'NarrativeText', 'element_id': '6c48bf236fe14d040fac24c15e32ca90'}, page_content='The next level: The stack’s top level card is placed in the box. All 100 number cards are reshuffled and each player is dealt as many cards as the new current level specifies. Players hold their cards in their hand, place their other hand on the table to synchronise, and then start the next round. Once again all the white cards can be laid on a stack ascending, all the red cards descending.'),\n",
       " Document(metadata={'source': 'C:/Users/fiori/OneDrive/Documenti/Rulebooks/The Mind Extreme.pdf', 'coordinates': {'points': ((131.8195847286, 277.2445832858), (131.8195847286, 296.43976185500003), (140.8648798386, 296.43976185500003), (140.8648798386, 277.2445832858)), 'system': 'PixelSpace', 'layout_width': 257.95, 'layout_height': 334.49}, 'file_directory': 'C:/Users/fiori/OneDrive/Documenti/Rulebooks', 'filename': 'The Mind Extreme.pdf', 'languages': ['eng'], 'last_modified': '2024-09-29T13:58:58', 'page_number': 3, 'parent_id': '314b8396c02ab8fb9ea3639e2042c7ed', 'filetype': 'application/pdf', 'category': 'UncategorizedText', 'element_id': '9ee738326f81649de40420a05e7b75c4'}, page_content='✔'),\n",
       " Document(metadata={'source': 'C:/Users/fiori/OneDrive/Documenti/Rulebooks/The Mind Extreme.pdf', 'coordinates': {'points': ((8.50391, 306.004), (8.50391, 323.50009), (251.26419719999996, 323.50009), (251.26419719999996, 306.004)), 'system': 'PixelSpace', 'layout_width': 257.95, 'layout_height': 334.49}, 'file_directory': 'C:/Users/fiori/OneDrive/Documenti/Rulebooks', 'filename': 'The Mind Extreme.pdf', 'languages': ['eng'], 'last_modified': '2024-09-29T13:58:58', 'page_number': 3, 'filetype': 'application/pdf', 'category': 'Footer', 'element_id': 'c7d3c39534d3ebb5ba38a6145afb5c37'}, page_content='Tim, Sarah, Linus and Hanna are playing level 2. Everyone now has two cards. Hanna lays the red 45 face up. Tim lays the white 43 on the white 45. Tim lays the white'),\n",
       " Document(metadata={'source': 'C:/Users/fiori/OneDrive/Documenti/Rulebooks/The Mind Extreme.pdf', 'coordinates': {'points': ((8.50391, 11.54000000000002), (8.50391, 38.53217999999998), (251.26270359999992, 38.53217999999998), (251.26270359999992, 11.54000000000002)), 'system': 'PixelSpace', 'layout_width': 257.95, 'layout_height': 334.49}, 'file_directory': 'C:/Users/fiori/OneDrive/Documenti/Rulebooks', 'filename': 'The Mind Extreme.pdf', 'languages': ['eng'], 'last_modified': '2024-09-29T13:58:58', 'page_number': 4, 'filetype': 'application/pdf', 'category': 'NarrativeText', 'element_id': 'edecb65a2ab209f65d8d793896f9e25d'}, page_content='10 and then the red 36. Hanna lays the white 31, Sarah the red 26. Linus lays the white 41 and Hanna finally lays the red 3. Everything ascending in white, everything descending in red, everything correct – level 2 completed!'),\n",
       " Document(metadata={'source': 'C:/Users/fiori/OneDrive/Documenti/Rulebooks/The Mind Extreme.pdf', 'coordinates': {'points': ((8.50391, 49.53200000000004), (8.50391, 77.29169999999999), (251.27173080000006, 77.29169999999999), (251.27173080000006, 49.53200000000004)), 'system': 'PixelSpace', 'layout_width': 257.95, 'layout_height': 334.49}, 'file_directory': 'C:/Users/fiori/OneDrive/Documenti/Rulebooks', 'filename': 'The Mind Extreme.pdf', 'languages': ['eng'], 'last_modified': '2024-09-29T13:58:58', 'page_number': 4, 'filetype': 'application/pdf', 'category': 'NarrativeText', 'element_id': '1594880e6399a4096752da5d58588949'}, page_content='The levels are played one after the other in this way. Important: A player must always play the lowest white card or the highest red card in their hand. For example, if Tim has the white 11, 26 and 43 in his hand, he must play the white 11 first.'),\n",
       " Document(metadata={'source': 'C:/Users/fiori/OneDrive/Documenti/Rulebooks/The Mind Extreme.pdf', 'coordinates': {'points': ((8.50391, 114.75), (8.50391, 181.02045000000007), (208.76784880000002, 181.02045000000007), (208.76784880000002, 114.75)), 'system': 'PixelSpace', 'layout_width': 257.95, 'layout_height': 334.49}, 'file_directory': 'C:/Users/fiori/OneDrive/Documenti/Rulebooks', 'filename': 'The Mind Extreme.pdf', 'languages': ['eng'], 'last_modified': '2024-09-29T13:58:58', 'page_number': 4, 'filetype': 'application/pdf', 'category': 'NarrativeText', 'element_id': 'a2039940ae1b30394189ff78c98516e7'}, page_content='Reward (Level 2, 3, 5, 6, 8, 9) Once the team has successfully mastered level 2, it receives a throwing star as a reward. It takes a throwing star from the edge of the table and adds it to the current throwing stars. There is also a reward that the team takes from the edge of the table for the mastered levels 3, 5, 6, 8, 9. The reward is shown on the bottom right of the level card (1 life or 1 throwing star).'),\n",
       " Document(metadata={'source': 'C:/Users/fiori/OneDrive/Documenti/Rulebooks/The Mind Extreme.pdf', 'coordinates': {'points': ((233.4200052, 166.625), (233.4200052, 182.225), (246.42, 182.225), (246.42, 166.625)), 'system': 'PixelSpace', 'layout_width': 257.95, 'layout_height': 334.49}, 'file_directory': 'C:/Users/fiori/OneDrive/Documenti/Rulebooks', 'filename': 'The Mind Extreme.pdf', 'languages': ['eng'], 'last_modified': '2024-09-29T13:58:58', 'page_number': 4, 'filetype': 'application/pdf', 'category': 'Title', 'element_id': '115d54031bdec5a3742727098803daaa'}, page_content='m'),\n",
       " Document(metadata={'source': 'C:/Users/fiori/OneDrive/Documenti/Rulebooks/The Mind Extreme.pdf', 'coordinates': {'points': ((220.787, 180.92600000000002), (220.787, 187.92600000000002), (242.85800980000002, 187.92600000000002), (242.85800980000002, 180.92600000000002)), 'system': 'PixelSpace', 'layout_width': 257.95, 'layout_height': 334.49}, 'file_directory': 'C:/Users/fiori/OneDrive/Documenti/Rulebooks', 'filename': 'The Mind Extreme.pdf', 'languages': ['eng'], 'last_modified': '2024-09-29T13:58:58', 'page_number': 4, 'filetype': 'application/pdf', 'category': 'Title', 'element_id': 'b69de40e92269881a045dfcc13f05203'}, page_content='Reward'),\n",
       " Document(metadata={'source': 'C:/Users/fiori/OneDrive/Documenti/Rulebooks/The Mind Extreme.pdf', 'coordinates': {'points': ((8.50391, 192.02), (8.50391, 200.02), (249.41620667999996, 200.02), (249.41620667999996, 192.02)), 'system': 'PixelSpace', 'layout_width': 257.95, 'layout_height': 334.49}, 'file_directory': 'C:/Users/fiori/OneDrive/Documenti/Rulebooks', 'filename': 'The Mind Extreme.pdf', 'languages': ['eng'], 'last_modified': '2024-09-29T13:58:58', 'page_number': 4, 'parent_id': 'b69de40e92269881a045dfcc13f05203', 'filetype': 'application/pdf', 'category': 'NarrativeText', 'element_id': 'bda57fb381cc92c15f8ab302967da99c'}, page_content='Note: Ideally, the team can have a maximum of 5 lives and 3 throwing stars.'),\n",
       " Document(metadata={'source': 'C:/Users/fiori/OneDrive/Documenti/Rulebooks/The Mind Extreme.pdf', 'coordinates': {'points': ((8.50391, 219.25), (8.50391, 276.02426), (251.31172759999993, 276.02426), (251.31172759999993, 219.25)), 'system': 'PixelSpace', 'layout_width': 257.95, 'layout_height': 334.49}, 'file_directory': 'C:/Users/fiori/OneDrive/Documenti/Rulebooks', 'filename': 'The Mind Extreme.pdf', 'languages': ['eng'], 'last_modified': '2024-09-29T13:58:58', 'page_number': 4, 'parent_id': 'b69de40e92269881a045dfcc13f05203', 'filetype': 'application/pdf', 'category': 'NarrativeText', 'element_id': '3e4ee8422399706489b146998e21ac7e'}, page_content='Laying mistake: Give up 1 life! If someone plays a number card in the wrong order, the game is immediately interrupted by the player who is holding cards in that colour that should have been played before. The team loses one of its lives (regardless of how many cards would have had to be laid before) and must put one life card aside. Then all the held cards that should have been played before are put aside. They then continue with the level.'),\n",
       " Document(metadata={'source': 'C:/Users/fiori/OneDrive/Documenti/Rulebooks/The Mind Extreme.pdf', 'coordinates': {'points': ((8.50390999999999, 287.02430000000004), (8.50390999999999, 314.01609), (251.27203719999952, 314.01609), (251.27203719999952, 287.02430000000004)), 'system': 'PixelSpace', 'layout_width': 257.95, 'layout_height': 334.49}, 'file_directory': 'C:/Users/fiori/OneDrive/Documenti/Rulebooks', 'filename': 'The Mind Extreme.pdf', 'languages': ['eng'], 'last_modified': '2024-09-29T13:58:58', 'page_number': 4, 'parent_id': 'b69de40e92269881a045dfcc13f05203', 'filetype': 'application/pdf', 'category': 'NarrativeText', 'element_id': '026bfb609a4e4ef92b85a5542bdaacfb'}, page_content='Sarah plays white 34. Tim and Linus shout „Stop“. Tim has the white 26 in his hand, Li- nus the white 30, both cards should have been laid before the 34. One life is given up. Tim puts his 26 and Linus his 30 aside. The team resynchronises and then continues.'),\n",
       " Document(metadata={'source': 'C:/Users/fiori/OneDrive/Documenti/Rulebooks/The Mind Extreme.pdf', 'coordinates': {'points': ((8.50391, 10.25), (8.50391, 86.01653999999994), (251.26404439999993, 86.01653999999994), (251.26404439999993, 10.25)), 'system': 'PixelSpace', 'layout_width': 257.95, 'layout_height': 334.49}, 'file_directory': 'C:/Users/fiori/OneDrive/Documenti/Rulebooks', 'filename': 'The Mind Extreme.pdf', 'languages': ['eng'], 'last_modified': '2024-09-29T13:58:58', 'page_number': 5, 'parent_id': 'b69de40e92269881a045dfcc13f05203', 'filetype': 'application/pdf', 'category': 'NarrativeText', 'element_id': '7533be5bcf8b1f23de90e537be4d9548'}, page_content='From level 3: Playing “blind” In level 3, the white cards have to be laid face down to the left of the level card (the red cards are laid as usual face up to the right of the level card). At the end of the level, the face down cards are turned over and the order is checked. If a player makes a mistake, it costs a life. In later levels the red cards then have to be laid face down, in levels 6 and 10 even both colours have to be face down. The blind mode is always indicated by the hand symbol on the level card.'),\n",
       " Document(metadata={'source': 'C:/Users/fiori/OneDrive/Documenti/Rulebooks/The Mind Extreme.pdf', 'coordinates': {'points': ((8.503909999999998, 97.01600000000002), (8.503909999999998, 124.00818000000004), (251.2638251999999, 124.00818000000004), (251.2638251999999, 97.01600000000002)), 'system': 'PixelSpace', 'layout_width': 257.95, 'layout_height': 334.49}, 'file_directory': 'C:/Users/fiori/OneDrive/Documenti/Rulebooks', 'filename': 'The Mind Extreme.pdf', 'languages': ['eng'], 'last_modified': '2024-09-29T13:58:58', 'page_number': 5, 'parent_id': 'b69de40e92269881a045dfcc13f05203', 'filetype': 'application/pdf', 'category': 'NarrativeText', 'element_id': 'beca174e8c20851cf6a59c59463208b6'}, page_content='Example 1: Once the team has laid all cards in level 3, it turns the white cards over. The following were laid: 7-14-28-20-25-23-37-48. The cards 20, 23 and 25 should have been played before the 28. A life has to be given up for this mistake.'),\n",
       " Document(metadata={'source': 'C:/Users/fiori/OneDrive/Documenti/Rulebooks/The Mind Extreme.pdf', 'coordinates': {'points': ((8.503909999999998, 135.00818000000004), (8.503909999999998, 161.99997000000005), (251.2720435200002, 161.99997000000005), (251.2720435200002, 135.00818000000004)), 'system': 'PixelSpace', 'layout_width': 257.95, 'layout_height': 334.49}, 'file_directory': 'C:/Users/fiori/OneDrive/Documenti/Rulebooks', 'filename': 'The Mind Extreme.pdf', 'languages': ['eng'], 'last_modified': '2024-09-29T13:58:58', 'page_number': 5, 'parent_id': 'b69de40e92269881a045dfcc13f05203', 'filetype': 'application/pdf', 'category': 'NarrativeText', 'element_id': '537bd5c85ae32a5c8452f3aa4d018e8d'}, page_content='Example 2: The following white cards were laid: 2-13-11-28-44-42-37. The 11 should have been played before the 13 and the 37 and 42 should have been played before the 44. Two lives have to be given up for these two mistakes.'),\n",
       " Document(metadata={'source': 'C:/Users/fiori/OneDrive/Documenti/Rulebooks/The Mind Extreme.pdf', 'coordinates': {'points': ((8.50391, 181.25), (8.50391, 247.52044999999998), (251.29594573600008, 247.52044999999998), (251.29594573600008, 181.25)), 'system': 'PixelSpace', 'layout_width': 257.95, 'layout_height': 334.49}, 'file_directory': 'C:/Users/fiori/OneDrive/Documenti/Rulebooks', 'filename': 'The Mind Extreme.pdf', 'languages': ['eng'], 'last_modified': '2024-09-29T13:58:58', 'page_number': 5, 'parent_id': 'b69de40e92269881a045dfcc13f05203', 'filetype': 'application/pdf', 'category': 'NarrativeText', 'element_id': '69df031e2e7203566a9284b7569dac61'}, page_content='Using a throwing star Any player can suggest activating a throwing star by raising their hand at any time during a level. If all players agree, the throwing star is used. All players secretly choose either the lowest white or highest red card in their hand. Each player places the corresponding card face down in front of them first. When they are all ready, the cards in question are revealed and turned face up. A throwing star is set aside. Then the players resynchronise and play on.'),\n",
       " Document(metadata={'source': 'C:/Users/fiori/OneDrive/Documenti/Rulebooks/The Mind Extreme.pdf', 'coordinates': {'points': ((8.50391, 265.1699), (8.50391, 295.03599), (251.25585927199998, 295.03599), (251.25585927199998, 265.1699)), 'system': 'PixelSpace', 'layout_width': 257.95, 'layout_height': 334.49}, 'file_directory': 'C:/Users/fiori/OneDrive/Documenti/Rulebooks', 'filename': 'The Mind Extreme.pdf', 'languages': ['eng'], 'last_modified': '2024-09-29T13:58:58', 'page_number': 5, 'parent_id': 'b69de40e92269881a045dfcc13f05203', 'filetype': 'application/pdf', 'category': 'NarrativeText', 'element_id': '288f6f48ad09db3d73559df1ac29c636'}, page_content='End of game If the team succeeds in completing all the stacked levels, they have won together! If the team has to give up the last life they have unfortunately failed.'),\n",
       " Document(metadata={'source': 'C:/Users/fiori/OneDrive/Documenti/Rulebooks/The Mind Extreme.pdf', 'coordinates': {'points': ((8.50391, 316.5015), (8.50391, 322.5015), (228.88296032000036, 322.5015), (228.88296032000036, 316.5015)), 'system': 'PixelSpace', 'layout_width': 257.95, 'layout_height': 334.49}, 'file_directory': 'C:/Users/fiori/OneDrive/Documenti/Rulebooks', 'filename': 'The Mind Extreme.pdf', 'languages': ['eng'], 'last_modified': '2024-09-29T13:58:58', 'page_number': 5, 'filetype': 'application/pdf', 'category': 'Footer', 'element_id': 'e3f34d0d49fa002e14d7c784f7b3bc7f'}, page_content='Nürnberger-Spielkarten-Verlag GmbH, Forsthausstraße 3-5, D-90768 Fürth-Dambach, www.nsv.de')]"
      ]
     },
     "execution_count": 31,
     "metadata": {},
     "output_type": "execute_result"
    }
   ],
   "source": [
    "docs"
   ]
  },
  {
   "cell_type": "markdown",
   "metadata": {},
   "source": [
    "# SEMANTIC SPLITTER"
   ]
  },
  {
   "cell_type": "code",
   "execution_count": 34,
   "metadata": {},
   "outputs": [],
   "source": [
    "# https://github.com/FullStackRetrieval-com/RetrievalTutorials/blob/main/tutorials/LevelsOfTextSplitting/5_Levels_Of_Text_Splitting.ipynb\n",
    "#fare vector_Db con semantic e provare LLM\n",
    "from langchain_experimental.text_splitter import SemanticChunker"
   ]
  },
  {
   "cell_type": "code",
   "execution_count": 47,
   "metadata": {},
   "outputs": [],
   "source": [
    "# Initialize the embedding model\n",
    "# embedding_model = HuggingFaceEmbeddings(\n",
    "#     model_name=EMBEDDING_MODEL_NAME,\n",
    "#     multi_process=True,  # Enable multiprocessing\n",
    "#     model_kwargs={\"device\": \"cuda\"},\n",
    "#     encode_kwargs={\"normalize_embeddings\": True},  # Set `True` for cosine similarity\n",
    "# )\n",
    "\n",
    "#nvdia embeddings + nvidia reranker with API\n",
    "# from langchain_nvidia_ai_endpoints import NVIDIAEmbeddings\n",
    "\n",
    "# embedding_model = NVIDIAEmbeddings()\n",
    "\n",
    "embedding_model = OpenAIEmbeddings(\n",
    "    model=\"text-embedding-ada-002\",  # Specify the desired OpenAI embedding model\n",
    ")\n",
    "\n",
    "\n",
    "semnatic_splitter = SemanticChunker(\n",
    "    embedding_model, breakpoint_threshold_type=\"percentile\"\n",
    ")"
   ]
  },
  {
   "cell_type": "code",
   "execution_count": 48,
   "metadata": {},
   "outputs": [
    {
     "name": "stderr",
     "output_type": "stream",
     "text": [
      "100%|██████████| 3/3 [00:05<00:00,  1.86s/it]\n"
     ]
    }
   ],
   "source": [
    "# Pass the Dataset object to the process_documents function\n",
    "docs_processed = process_pdfs(folder_path, semnatic_splitter)"
   ]
  },
  {
   "cell_type": "code",
   "execution_count": 57,
   "metadata": {},
   "outputs": [
    {
     "data": {
      "text/plain": [
       "[Document(metadata={'game_name': 'The Mind Extreme'}, page_content='The Mind\\nWolfgang\\nWarsch\\nFor professional telepaths! Players: 2-4 people Age: 8+ Duration: app.'),\n",
       " Document(metadata={'game_name': 'The Mind Extreme'}, page_content='20 min.'),\n",
       " Document(metadata={'game_name': 'The Mind Extreme'}, page_content='What‘s new about the Extreme version? The basic rules of the original „The Mind” game are the same. In the first round\\n(level 1) everyone gets 1 card, in the second round (level 2) everyone gets 2 cards,\\netc.'),\n",
       " Document(metadata={'game_name': 'The Mind Extreme'}, page_content='Everyone forms one team and tries to lay all the cards they receive correctly in\\nthe middle of the table. There is no player order. Anyone who wants to lay a card,\\nsimply lays it. Warning: There’s not just one stack in the middle of the table\\nlike with the original but two at the same time! The stack with the white numbers\\nis ascending (1-50), the stack with the red numbers is descending (50-1). In some\\nlevels the cards even have to be laid face down in the middle of the table, which\\nmakes the collective sense of time even more challenging. 100 number cards 1 2 levels 5 lives 3 throwing\\nstars\\nWhite (1-50) Red (1-50)\\nSetting up the game\\nThe team gets a certain number of lives and throwing stars, which are placed face\\nup next to each other on the table. The remaining lives and throwing stars are put\\naside at the edge of the table. They may be needed later. Now a certain number of\\nlevel cards are stacked one on top of the other ascending and placed as a face up\\nstack next to the lives and throwing stones (with level 1 at the very top). Unused\\nlevels are placed in the box. 2 players: level 1-12 • 2 lives • 1 throwing star\\n3 players: level 1-10 • 3 lives • 1 throwing star\\n4 players: level 1-8 • 4 lives • 1 throwing starThe 100 number cards are shuffled. Each player receives one card (for level 1) and\\nholds it in their hand so the other players cannot see it. Course of the game\\nOnce a player is ready to play the current level, they place one hand flat on the table. When everyone is ready, they take their hands away from the table and the game\\nbegins. Note: It is extremely important for everyone to synchronise together for the level to\\ncomplete it successfully! The players are basically allowed to resynchronise at any time\\nduring the game. Just say „Stop“ and interrupt the game, everyone puts one hand on\\nthe table, resynchronises, takes their hand away, and continues playing! •\\nThe cards held by the players must be laid in the middle of the table.'),\n",
       " Document(metadata={'game_name': 'The Mind Extreme'}, page_content='Only the the\\nwhite cards are laid to the left of the level card, the red cards to the right! •\\nThe white cards are laid on top of each other on an ascending stack. The lowest\\n(available) white card has to be laid first, followed by the second lowest (available)\\nwhite card, and so on. •\\nThe red cards are laid on top of each other on a descending stack. The highest\\n(available) red card has to be laid first, followed by the second highest (available)\\nred card, and so on. The cards are always laid individually. There is no player order. Any player who\\nthinks they have the lowest available white card or the highest available red card,\\nlays it. The players may not reveal or show their own numbers.'),\n",
       " Document(metadata={'game_name': 'The Mind Extreme'}, page_content='The players are not\\nallowed to confer with each other, exchange information or use secret signs! Very important: Both stacks must be watched and played on at the same time. Players are not allowed to complete one of the two stacks first and then the other\\n(regardless of the numbers available).•\\nOnce the players have laid all the cards in the correct order (white ascending,\\nred descending), they have completed the current level! ✔\\nTim, Sarah, Linus and Hanna put one hand on the table – they are ready. They take\\ntheir hands away from the table and the game begins. Linus lays his white 8 face\\nup to the left of the level card. Sarah lays the white 13 on the white 8. Hanna lays\\nthe red 33 face up to the right of the level card. Tim lays the white 46 on the white\\n13. Everything ascending in white, everything descending in red (it’s just one card),\\neverything correct – level 1 completed! The next level: The stack’s top level card is placed in the box. All 100 number\\ncards are reshuffled and each player is dealt as many cards as the new current level\\nspecifies. Players hold their cards in their hand, place their other hand on the table\\nto synchronise, and then start the next round. Once again all the white cards can\\nbe laid on a stack ascending, all the red cards descending. ✔\\nTim, Sarah, Linus and Hanna are playing level 2. Everyone now has two cards. Hanna\\nlays the red 45 face up. Tim lays the white 43 on the white 45. Tim lays the white10 and then the red 36. Hanna lays the white 31, Sarah the red 26. Linus lays the\\nwhite 41 and Hanna finally lays the red 3. Everything ascending in white, everything\\ndescending in red, everything correct – level 2 completed!'),\n",
       " Document(metadata={'game_name': 'The Mind Extreme'}, page_content='The levels are played one after the other in this way. Important: A player must always\\nplay the lowest white card or the highest red card in their hand. For example, if Tim\\nhas the white 11, 26 and 43 in his hand, he must play the white 11 first. Reward (Level 2, 3, 5, 6, 8, 9)\\nOnce the team has successfully mastered level 2, it receives a throwing\\nstar as a reward. It takes a throwing star from the edge of the table\\nand adds it to the current throwing stars. There is also a reward that\\nthe team takes from the edge of the table for the mastered levels 3,\\n5, 6, 8, 9. The reward is shown on the bottom right of the level card\\nm\\n(1 life or 1 throwing star). Reward\\nNote: Ideally, the team can have a maximum of 5 lives and 3 throwing stars. Laying mistake: Give up 1 life! If someone plays a number card in the wrong order, the game is immediately\\ninterrupted by the player who is holding cards in that colour that should have been\\nplayed before. The team loses one of its lives (regardless of how many cards would have\\nhad to be laid before) and must put one life card aside.'),\n",
       " Document(metadata={'game_name': 'The Mind Extreme'}, page_content='Then all the held cards that\\nshould have been played before are put aside. They then continue with the level.'),\n",
       " Document(metadata={'game_name': 'The Mind Extreme'}, page_content='Sarah plays white 34. Tim and Linus shout „Stop“. Tim has the white 26 in his hand, Li-\\nnus the white 30, both cards should have been laid before the 34. One life is given up.'),\n",
       " Document(metadata={'game_name': 'The Mind Extreme'}, page_content='Tim puts his 26 and Linus his 30 aside. The team resynchronises and then continues.From level 3: Playing “blind”\\nIn level 3, the white cards have to be laid face down to the left of the\\nlevel card (the red cards are laid as usual face up to the right of the\\nlevel card). At the end of the level, the face down cards are turned\\nover and the order is checked. If a player makes a mistake, it costs\\na life. In later levels the red cards then have to be laid face down, in levels 6 and 10\\neven both colours have to be face down. The blind mode is always indicated by the\\nhand symbol on the level card. Example 1: Once the team has laid all cards in level 3, it turns the white cards over. The following were laid: 7-14-28-20-25-23-37-48. The cards 20, 23 and 25 should\\nhave been played before the 28. A life has to be given up for this mistake. Example 2: The following white cards were laid: 2-13-11-28-44-42-37. The 11\\nshould have been played before the 13 and the 37 and 42 should have been played\\nbefore the 44.'),\n",
       " Document(metadata={'game_name': 'The Mind Extreme'}, page_content='Two lives have to be given up for these two mistakes. Using a throwing star\\nAny player can suggest activating a throwing star by raising their hand at any time\\nduring a level. If all players agree, the throwing star is used. All players secretly\\nchoose either the lowest white or highest red card in their hand. Each player places\\nthe corresponding card face down in front of them first. When they are all ready, the\\ncards in question are revealed and turned face up. A throwing star is set aside.'),\n",
       " Document(metadata={'game_name': 'The Mind Extreme'}, page_content='Then\\nthe players resynchronise and play on. End of game\\nIf the team succeeds in completing all the stacked levels, they have won together! If the team has to give up the last life they have unfortunately failed. Nürnberger-Spielkarten-Verlag GmbH, Forsthausstraße 3-5, D-90768 Fürth-Dambach, www.nsv.de'),\n",
       " Document(metadata={'game_name': 'Unlock'}, page_content='Ages 10\\nand up\\nu\\n60\\nminutes\\nu\\nSECRET\\nADVENTURES u\\n1 to 6\\nplayers\\nCONTENTS\\nIMPORTANT: DO NOT LOOK THROUGH THE CARD DECKS BEFORE STARTING TO PLAY\\nA 10-card Tutorial deck 3 adventures (186 cards + cardboard tokens)\\nThis tutorial is placed\\nTOMBSTONE EXPRESS\\non the top of the first adventure. Place these cards in space 0\\nonce the decks are unwrapped. Difficulty level: Difficulty level: Difficulty level:\\nGAME OVERVIEW\\n60’\\nEach deck of cards proposes a cooperative scenario. Players are immersed in an adventure and have one hour to complete their mission.'),\n",
       " Document(metadata={'game_name': 'Unlock'}, page_content='1\\nDuring that hour, they will have to overcome many challenges and obstacles.GAME SETUP\\nIn order to learn how to play the game, it is recommended that the Tutorial\\nadventure is played first, as it will walk you through the rules. The tutorial can even be played before reading this rulebook. Just follow the setup instructions as indicated below:\\nu Place the start card (with the title of the adventure) in the center of the table,\\nwith the text face up. u Place the other cards face down to form a deck. u Launch the app (see App - page 7), select the “Secret Adventures” Tutorial,\\nand place the device within easy reach of all players. u One player reads the text on the start card out loud, then launches the countdown Each card bears a unique number\\non the back so that you can\\non the app and flips the card over. The game begins! check if your deck is complete\\nprior to starting the game. Note: Players can take notes during the game. GAME RULES\\nThe first room of the game is on the back of the matching card from the deck and reveal it (flip it\\nstart card. In this room, there are numbers and let- over to see the other side). ters that match cards in the deck (the numbers Revealed cards are placed face up on the table so\\nand letters that are written on the back of the cards). that everyone can see them. Each time players see a number or a letter on the\\nroom card or any other card, they must take the\\n42\\n42\\n11\\n11\\nBack Back\\nFront Front\\nThe game takes place in real time. The players Players can either designate one of them to search\\nmust form a team and work together to win. Each and reveal cards or split the deck among them. player should have access to the deck at all times. Players cannot spread out the deck on the table. 2CARD TYPES\\nTHERE ARE SEVERAL CARD TYPES. OBJECTS (RED OR BLUE STRIPE)\\nObjects can sometimes interact with other objects\\n(see Combining Objects - page 4). Object 35 is a cabinet. Object 11 is a key. MACHINES (GREEN STRIPE)\\nPlayers must enter the Machine number in the app\\nto access it (see Machines - page 5). Machine 69 is a grid with 6 pins. CODES (YELLOW STRIPE)\\nPlayers must enter a code in the app to continue\\nthe adventure (see Codes - page 6). Card 21 is a door locked by a digital code. Players must enter the code in the app to unlock the door. OTHER CARDS (GREY STRIPE)\\nThese cards can be:\\nu A place showing a room and the objects within.'),\n",
       " Document(metadata={'game_name': 'Unlock'}, page_content='u The result of an interaction with an object.'),\n",
       " Document(metadata={'game_name': 'Unlock'}, page_content='u A penalty applied to players who made a mistake. u A modifier (see Modifiers - page 5).'),\n",
       " Document(metadata={'game_name': 'Unlock'}, page_content='On the left, a room. In the middle, the result of an interaction. On the right, a penalty. 3COMBINING OBJECTS\\nSometimes, it is possible to combine objects (for example, a key with a\\ndoor). To that end, just add their respective numbers together (within a red 11 35\\nor blue circle) and look for the matching card in the deck. Of course, it is\\nimpossible to combine a letter with a number. GOLDEN RULE: A red number can only be combined with a blue\\n46\\nnumber and vice versa. NO other combination is possible (blue+blue,\\nred+red, blue+grey, etc.). Players decide to combine the key ( 11 ) with the cabinet ( 35 ). So, they look for card 46 (11+35) in the deck and reveal it. It works: they open the cabinet and discover what is inside. DISCARDING CARDS ?'),\n",
       " Document(metadata={'game_name': 'Unlock'}, page_content='The top of some cards bears crossed-out numbers or letters. You must\\nimmediately discard the corresponding cards as they will not be used\\nagain during the game. After opening the cabinet ( 46 ), players must\\ndiscard the key ( 11 ) and the cabinet ( 35 ). PENALTIES\\nPlayers may lose time (generally a few minutes) because of\\nsome actions they performed. If players reveal a Penalty\\ncard ( ), they must follow its instructions. These cards\\nmust always be discarded afterwards. 4MODIFIERS +? L\\nThere are Modifiers on some cards. These are blue numbers prece-\\nded by a “+” within the blue icons shaped as puzzle pieces. These\\nnumbers never match a card from the deck. They must be added to\\na red number (the golden rule!)\\naN le aa ser ra\\no\\nc na am sp t,\\na\\nnth de .r e’s +19\\n+14\\ngP ala iny ee drs ah a mv oe\\nd\\nr ie fis et ro (re +d\\n6\\np\\n)\\no thw ae tr t( hc ea yrd\\nc\\na2 n5 a) da dn d (nI Pot r ’ t os h n-p eo ta hin s et t mi tn o ag w pt a )o r .dt h s\\nI\\ne t\\nt\\nh ce\\na\\np ny sr wam iveid\\nl r\\nound.+9\\nto a red number, rather than using the card\\nnumber ( 25 ). Card_Back_US_UNLOCK_TheIsland.indd\\n53\\n09/11/2016 16:31\\nMACHINES\\nTo use the machines (green-striped cards), players must enter the card number\\nin the app (if a letter, the number below it). Then, the app will display the machine\\nand the buttons that must be used to activate its functions.'),\n",
       " Document(metadata={'game_name': 'Unlock'}, page_content='Once the players have\\nunderstood how the machine works, the app will take them through all the steps to\\ncontinue playing. Later in the game, players have learned how to use machine 69 . An electrical wire must be placed between the two pins in the center. So, they must press the app’s button and enter number 69. Then, by selecting the two pins in the center and after validating, they\\nobtain number . Now, they can combine this number with the one of\\nthe electrical wire ( 16 ) and take card 25 (16+9). Look out!'),\n",
       " Document(metadata={'game_name': 'Unlock'}, page_content='A misuse can cause loss of time and you may need\\nto move forward in the adventure to understand the machine. 5CODES\\nDuring the game, players will sometimes be confronted with codes (yellow\\nstripe): combination locks, digital codes, etc. To open them, players will have\\nto find the correct code. Then, this code must be entered in the app (see App\\n- page 7) and validated (the card number doesn’t need to be entered). Codes are made up of 4 digits. If players entered the correct code, the app\\nwill provide instructions so as to continue playing. If the code is incorrect,\\nplayers, most often, will lose a few minutes. HIDDEN OBJECTS\\nDuring the game, all objects are not always visible. Therefore, players must carefully\\nlook at the cards in order to find, every now and then, hidden letters or numbers that\\nmatch cards to be looked for in the deck. Note: If players are stuck and do not know what to do next, the button “Hidden\\nObject” is available in the app and indicates the closest hidden object based on their\\nprogress. It is also possible, at game start, to activate the automatic help function to\\nfind the hidden objects.'),\n",
       " Document(metadata={'game_name': 'Unlock'}, page_content='In this case, the app will provide the indications to players\\nin due time. Do you see the hidden number (16) on the opposite card? HINTS\\nDuring the game and when at loss, players For cards with a letter, players will have\\ncan obtain hints by pressing the app’s but- to enter the number below the letter to\\nton “Hint” and by entering the number of obtain the hint. a revealed card. Note: For some of the cards, the app will offer players a second hint (and/or the solution) if the first one\\ndoes not provide enough information. END OF GAME\\nThe game ends once players have\\nmanaged to solve the last puzzle and\\nstopped the timer. Then, they can access\\ntheir score and their performance\\nevaluation (0 to 5 stars).'),\n",
       " Document(metadata={'game_name': 'Unlock'}, page_content='6APP The UNLOCK! app can be downloaded, for free, on the App Store and Google Play. It manages\\nplayers’ time, penalties, codes, machines, and hints. THE APP IS REQUIRED TO PLAY THE\\nGAME (but once downloaded, no internet connection is required to play). After launching\\nthe app, players must select the box, then the game language: they are directed toward the\\nadventure selection screen\\nADVENTURE SELECTION\\nA\\nA Adventure: by dragging the image, players can choose between the available adventures included\\nin the box. Reminder: It is recommended to start with the Tutorial adventure. B By pressing “Play”, players are taken to the game screen. B\\nGAME SCREEN I J\\nA\\nA Remaining time or elapsed time (depending on the adventures). B\\nB Start/Pause: Start or pause the game. C E\\nC Hint: Obtain a hint by entering the card number for which help is needed. D\\nD Penalty: When players reveal a Penalty card, they are asked to press this button. As a result,\\nH F\\nthey lose a few minutes.'),\n",
       " Document(metadata={'game_name': 'Unlock'}, page_content='G\\nE C ode: Enter a code. F Machine: Use of the machines. G Review: Review hints/hidden objects. H Hidden Object: Get help about hidden objects according to the progresses made in the adventure. I Sound: Turn the background music on/off. J Time: Play with or without the timer. HINTS/CODES/MACHINES\\nC\\nWhen pressing the “Hint”, “Code”, or “Machine” buttons, players get access to a digital keypad that\\nallows them to enter the hint number, the code, or the Machine card number. A Digital keypad: Enables players to enter a number.'),\n",
       " Document(metadata={'game_name': 'Unlock'}, page_content='The button deletes the entire entry. A\\nB Validation: Enables to validate the entered number and to obtain the corresponding message. C Closing: Enables to close the digital keypad without making any entry. B\\nEVALUATION\\nAfter completing the adventure, players are automatically directed toward this screen.'),\n",
       " Document(metadata={'game_name': 'Unlock'}, page_content='In certain instances, it will display the outcome of the adventure. A Game results: This information summarizes the adventure. The first line shows the total time and\\nnumber of requested hints. The second line shows the time lost due to penalties (in parentheses,\\nthe number of penalties). The third line shows the time lost because of the machines and the A\\nincorrect codes (in parentheses, the number of incorrect codes). B\\nB Evaluation: The stars are awarded (from 0 to 5) according to players’ performance–time spent\\nto complete the adventure and the number of hints requested.'),\n",
       " Document(metadata={'game_name': 'Unlock'}, page_content='7PLAYER AID\\nCARD TYPES:\\n+? Object (door, key) Modifier Code (padlock, door code…) Machine\\nu 1 BLUE NUMBER (other u Always 4 digits u Card number to be entered\\nthan the card number) in the app\\nu Must be entered\\nin the app u Requires solving a puzzle\\nCombine Combine\\nGrey cards\\n+? or u The other cards (location,\\ninteraction, penalties)\\n+? THE GOLDEN RULE: A RED NUMBER (OBJECT OR MACHINE) CAN ONLY BE COMBINED\\nWITH A BLUE NUMBER (OBJECT OR MODIFIER) AND VICE VERSA. ADVICE\\nBe organized: Still stuck?'),\n",
       " Document(metadata={'game_name': 'Unlock'}, page_content='u S plit the deck between the players so that they can search faster You may need to move forward in the adventure to understand a\\nthrough the cards during the game; combination, a code or a machine. However:\\nu Read the cards carefully and communicate with each other; u I f a card seems too complex, request a hint about this specific card\\n(even if it will lower your final evaluation);\\nu D iscard cards when instructed (and check that no errors have\\nbeen made, crossed-out numbers or letters show the cards to be u You might have missed a hidden object.'),\n",
       " Document(metadata={'game_name': 'Unlock'}, page_content='Press the “Hidden Object”\\ndiscarded).'),\n",
       " Document(metadata={'game_name': 'Unlock'}, page_content='button in the app. CREDITS\\nTOMBSTONE EXPRESS\\nScenario: Lewis Cheshire Scenario: Arch Stanton Scenario: Thomas Cauët\\nIllustrator: Legruth Illustrator: Arnaud Demaegd Illustrator: Mahulda Jelly\\nhttp://www.mgueritte.com @ArnaudDemaegdArtist http://mahuldajelly.artstation.com\\nTutorial illustrated by Arnaud Demaegd.'),\n",
       " Document(metadata={'game_name': 'Unlock'}, page_content='UNLOCK! SECRET ADVENTURES is a game published by JD Editions - Space Cowboys\\n238 rue des Frères Farman, 78530 BUC - France © 2018 SPACE Cowboys. All rights reserved. Find out more about UNLOCK! and SPACE Cowboys on\\nwww.spacecowboys.fr, on @SpaceCowboysFR et sur . 8 This product has been manufactured with all possible care. However, if you encounter a problem with your game, please contact our Customer Service at www.asmodee.com')]"
      ]
     },
     "execution_count": 57,
     "metadata": {},
     "output_type": "execute_result"
    }
   ],
   "source": [
    "docs_processed"
   ]
  },
  {
   "cell_type": "code",
   "execution_count": 52,
   "metadata": {},
   "outputs": [],
   "source": [
    "add_embeddings_to_qdrant(docs_processed, URL, API_KEY,OPENAI_KEY = os.environ[\"OPENAI_API_KEY\"], collection_name=\"openai\")"
   ]
  },
  {
   "cell_type": "markdown",
   "metadata": {},
   "source": [
    "# SEMANTIC TRANSFORMER MODEL"
   ]
  },
  {
   "cell_type": "code",
   "execution_count": 19,
   "metadata": {},
   "outputs": [
    {
     "name": "stderr",
     "output_type": "stream",
     "text": [
      "c:\\Users\\fiori\\OneDrive\\Documenti\\GitHub\\ChatBot_BoardGames\\venv\\lib\\site-packages\\transformers\\tokenization_utils_base.py:1617: FutureWarning: `clean_up_tokenization_spaces` was not set. It will be set to `True` by default. This behavior will be deprecated in transformers v4.45, and will be then set to `False` by default. For more details check this issue: https://github.com/huggingface/transformers/issues/31884\n",
      "  warnings.warn(\n"
     ]
    }
   ],
   "source": [
    "from langchain_text_splitters.sentence_transformers import SentenceTransformersTokenTextSplitter\n",
    "\n",
    "\n",
    "transformer_splitter = SentenceTransformersTokenTextSplitter(\n",
    "    chunk_overlap=200\n",
    ")"
   ]
  },
  {
   "cell_type": "code",
   "execution_count": 10,
   "metadata": {},
   "outputs": [
    {
     "name": "stderr",
     "output_type": "stream",
     "text": [
      "  0%|          | 0/3 [00:00<?, ?it/s]"
     ]
    },
    {
     "name": "stderr",
     "output_type": "stream",
     "text": [
      "100%|██████████| 3/3 [00:05<00:00,  1.99s/it]\n"
     ]
    }
   ],
   "source": [
    "# Pass the Dataset object to the process_documents function\n",
    "docs_processed = process_pdfs(folder_path, transformer_splitter)"
   ]
  },
  {
   "cell_type": "code",
   "execution_count": 11,
   "metadata": {},
   "outputs": [
    {
     "data": {
      "text/plain": [
       "70"
      ]
     },
     "execution_count": 11,
     "metadata": {},
     "output_type": "execute_result"
    }
   ],
   "source": [
    "len(docs_processed)"
   ]
  },
  {
   "cell_type": "code",
   "execution_count": 12,
   "metadata": {},
   "outputs": [],
   "source": [
    "add_embeddings_to_qdrant(docs_processed, URL, API_KEY, collection_name=\"transformer_sentece_splitter_2\")"
   ]
  },
  {
   "cell_type": "markdown",
   "metadata": {},
   "source": [
    "RECURSIVE TEXT SPLITTER"
   ]
  },
  {
   "cell_type": "code",
   "execution_count": null,
   "metadata": {},
   "outputs": [],
   "source": [
    "#fare vector_DB con agentic chuncking e provare LLM"
   ]
  },
  {
   "cell_type": "code",
   "execution_count": 8,
   "metadata": {},
   "outputs": [],
   "source": [
    "# def split_documents(\n",
    "#     chunk_size: int,\n",
    "#     knowledge_base: List[LangchainDocument],\n",
    "#     tokenizer_name: Optional[str] ,\n",
    "# ) -> List[LangchainDocument]:\n",
    "#     \"\"\"\n",
    "#     Split documents into chunks of maximum size `chunk_size` tokens and return a list of documents.\n",
    "#     \"\"\"\n",
    "#     text_splitter = RecursiveCharacterTextSplitter.from_huggingface_tokenizer(\n",
    "#         AutoTokenizer.from_pretrained(tokenizer_name),\n",
    "#         chunk_size=chunk_size,\n",
    "#         chunk_overlap=int(chunk_size / 10),\n",
    "#         add_start_index=True,\n",
    "#         strip_whitespace=True,\n",
    "#         separators=MARKDOWN_SEPARATORS,\n",
    "#     )\n",
    "\n",
    "#     docs_processed = []\n",
    "#     for doc in tqdm(knowledge_base):\n",
    "#         docs_processed += text_splitter.split_documents([doc])\n",
    "\n",
    "#     # Remove duplicates\n",
    "#     unique_texts = {}\n",
    "#     docs_processed_unique = []\n",
    "#     for doc in docs_processed:\n",
    "#         if doc.page_content not in unique_texts:\n",
    "#             unique_texts[doc.page_content] = True\n",
    "#             docs_processed_unique.append(doc)\n",
    "\n",
    "#     return docs_processed_unique\n"
   ]
  },
  {
   "cell_type": "code",
   "execution_count": 9,
   "metadata": {},
   "outputs": [],
   "source": [
    "# def process_pdfs(path):\n",
    "#     # Load dataset from Hugging Face\n",
    "#     RAW_KNOWLEDGE_BASE = []\n",
    "\n",
    "#     # List the PDF files in the folder\n",
    "#     pdf_files = [f for f in os.listdir(path) if f.endswith(\".pdf\")]\n",
    "\n",
    "#     for pdf_file in tqdm(pdf_files):\n",
    "#         # Extract text from PDF using pdfplumber\n",
    "#         with pdfplumber.open(os.path.join(folder_path, pdf_file)) as pdf:\n",
    "#             text = \"\"\n",
    "#             for page in pdf.pages:\n",
    "#                 text += page.extract_text()\n",
    "#             RAW_KNOWLEDGE_BASE.append(LangchainDocument(page_content=text, metadata={\"source\": pdf_file.removesuffix(\".pdf\")}))\n",
    "\n",
    "#     # Process documents (split into chunks)\n",
    "#     docs_processed = split_documents(\n",
    "#         512,  # Chunk size adapted to the model's capabilities\n",
    "#         RAW_KNOWLEDGE_BASE,\n",
    "#         tokenizer_name=EMBEDDING_MODEL_NAME,\n",
    "#     )\n",
    "#     return docs_processed"
   ]
  },
  {
   "cell_type": "code",
   "execution_count": 28,
   "metadata": {},
   "outputs": [
    {
     "name": "stderr",
     "output_type": "stream",
     "text": [
      "  0%|          | 0/1 [00:00<?, ?it/s]"
     ]
    },
    {
     "name": "stderr",
     "output_type": "stream",
     "text": [
      "100%|██████████| 1/1 [00:00<00:00,  1.43it/s]\n",
      "100%|██████████| 1/1 [00:00<00:00, 12.73it/s]\n"
     ]
    },
    {
     "name": "stdout",
     "output_type": "stream",
     "text": [
      "Model's maximum sequence length: 512\n",
      "Documents and their embeddings have been successfully added to Qdrant.\n"
     ]
    }
   ],
   "source": [
    "pd.set_option(\"display.max_colwidth\", None)\n",
    "# We use a hierarchical list of separators specifically tailored for splitting Markdown documents\n",
    "# This list is taken from LangChain's MarkdownTextSplitter class\n",
    "MARKDOWN_SEPARATORS = [\n",
    "    \"\\n#{1,6} \",\n",
    "    \"```\\n\",\n",
    "    \"\\n\\\\*\\\\*\\\\*+\\n\",\n",
    "    \"\\n---+\\n\",\n",
    "    \"\\n___+\\n\",\n",
    "    \"\\n\\n\",\n",
    "    \"\\n\",\n",
    "    \" \",\n",
    "    \"\",\n",
    "]\n",
    "\n",
    "\n",
    "URL=read_token_from_file(\"keys/qdrant_URL.txt\")\n",
    "API_KEY=read_token_from_file(\"keys/qdrant.txt\")\n",
    "# Specify the folder path\n",
    "folder_path = \"C:\\\\Users\\\\fiori\\\\OneDrive\\\\Documenti\\\\Rulebooks\"\n",
    "\n",
    "# Pass the Dataset object to the process_documents function\n",
    "docs_processed = process_pdfs(folder_path)\n",
    "\n",
    "\n",
    "# Only the main process should execute this\n",
    "print(f\"Model's maximum sequence length: {SentenceTransformer(EMBEDDING_MODEL_NAME).max_seq_length}\")\n",
    "\n",
    "add_embeddings_to_qdrant(docs_processed, URL, API_KEY)\n",
    "\n",
    "print(\"Documents and their embeddings have been successfully added to Qdrant.\")"
   ]
  },
  {
   "cell_type": "markdown",
   "metadata": {},
   "source": [
    "### LLM & Retrieval"
   ]
  },
  {
   "cell_type": "code",
   "execution_count": 13,
   "metadata": {},
   "outputs": [
    {
     "data": {
      "text/plain": [
       "device(type='cuda', index=0)"
      ]
     },
     "execution_count": 13,
     "metadata": {},
     "output_type": "execute_result"
    }
   ],
   "source": [
    "import torch\n",
    "device = torch.device(\"cuda:0\" if torch.cuda.is_available() else \"cpu\")\n",
    "device"
   ]
  },
  {
   "cell_type": "code",
   "execution_count": 14,
   "metadata": {},
   "outputs": [],
   "source": [
    "import os\n",
    "\n",
    "os.environ[\"LANGCHAIN_TRACING_V2\"] = \"true\"\n",
    "os.environ[\"LANGCHAIN_API_KEY\"] = read_token_from_file(\"keys/langchain.txt\")"
   ]
  },
  {
   "cell_type": "code",
   "execution_count": 15,
   "metadata": {},
   "outputs": [],
   "source": [
    "from langchain_core.prompts import ChatPromptTemplate\n",
    "from langchain_ollama.llms import OllamaLLM\n",
    "\n",
    "llm = OllamaLLM(model=\"llama3.1\")"
   ]
  },
  {
   "cell_type": "code",
   "execution_count": 10,
   "metadata": {},
   "outputs": [
    {
     "name": "stderr",
     "output_type": "stream",
     "text": [
      "C:\\Users\\fiori\\AppData\\Local\\Temp\\ipykernel_9312\\3167214120.py:5: LangChainDeprecationWarning: The class `ChatOpenAI` was deprecated in LangChain 0.0.10 and will be removed in 1.0. An updated version of the class exists in the :class:`~langchain-openai package and should be used instead. To use it run `pip install -U :class:`~langchain-openai` and import as `from :class:`~langchain_openai import ChatOpenAI``.\n",
      "  llm = ChatOpenAI(model=\"gpt-3.5-turbo\", temperature=0.7)\n"
     ]
    },
    {
     "ename": "ValidationError",
     "evalue": "1 validation error for ChatOpenAI\n  Value error, Did not find openai_api_key, please add an environment variable `OPENAI_API_KEY` which contains it, or pass `openai_api_key` as a named parameter. [type=value_error, input_value={'temperature': 0.7, 'mod...ne, 'http_client': None}, input_type=dict]\n    For further information visit https://errors.pydantic.dev/2.9/v/value_error",
     "output_type": "error",
     "traceback": [
      "\u001b[1;31m---------------------------------------------------------------------------\u001b[0m",
      "\u001b[1;31mValidationError\u001b[0m                           Traceback (most recent call last)",
      "Cell \u001b[1;32mIn[10], line 5\u001b[0m\n\u001b[0;32m      2\u001b[0m \u001b[38;5;28;01mfrom\u001b[39;00m \u001b[38;5;21;01mlangchain\u001b[39;00m\u001b[38;5;21;01m.\u001b[39;00m\u001b[38;5;21;01mprompts\u001b[39;00m \u001b[38;5;28;01mimport\u001b[39;00m ChatPromptTemplate\n\u001b[0;32m      4\u001b[0m \u001b[38;5;66;03m# Initialize GPT-3.5 Turbo using Langchain's ChatOpenAI model\u001b[39;00m\n\u001b[1;32m----> 5\u001b[0m llm \u001b[38;5;241m=\u001b[39m \u001b[43mChatOpenAI\u001b[49m\u001b[43m(\u001b[49m\u001b[43mmodel\u001b[49m\u001b[38;5;241;43m=\u001b[39;49m\u001b[38;5;124;43m\"\u001b[39;49m\u001b[38;5;124;43mgpt-3.5-turbo\u001b[39;49m\u001b[38;5;124;43m\"\u001b[39;49m\u001b[43m,\u001b[49m\u001b[43m \u001b[49m\u001b[43mtemperature\u001b[49m\u001b[38;5;241;43m=\u001b[39;49m\u001b[38;5;241;43m0.7\u001b[39;49m\u001b[43m)\u001b[49m\n",
      "File \u001b[1;32mc:\\Users\\fiori\\OneDrive\\Documenti\\GitHub\\ChatBot_BoardGames\\venv\\lib\\site-packages\\langchain_core\\_api\\deprecation.py:214\u001b[0m, in \u001b[0;36mdeprecated.<locals>.deprecate.<locals>.finalize.<locals>.warn_if_direct_instance\u001b[1;34m(self, *args, **kwargs)\u001b[0m\n\u001b[0;32m    212\u001b[0m     warned \u001b[38;5;241m=\u001b[39m \u001b[38;5;28;01mTrue\u001b[39;00m\n\u001b[0;32m    213\u001b[0m     emit_warning()\n\u001b[1;32m--> 214\u001b[0m \u001b[38;5;28;01mreturn\u001b[39;00m wrapped(\u001b[38;5;28mself\u001b[39m, \u001b[38;5;241m*\u001b[39margs, \u001b[38;5;241m*\u001b[39m\u001b[38;5;241m*\u001b[39mkwargs)\n",
      "File \u001b[1;32mc:\\Users\\fiori\\OneDrive\\Documenti\\GitHub\\ChatBot_BoardGames\\venv\\lib\\site-packages\\langchain_core\\load\\serializable.py:110\u001b[0m, in \u001b[0;36mSerializable.__init__\u001b[1;34m(self, *args, **kwargs)\u001b[0m\n\u001b[0;32m    108\u001b[0m \u001b[38;5;28;01mdef\u001b[39;00m \u001b[38;5;21m__init__\u001b[39m(\u001b[38;5;28mself\u001b[39m, \u001b[38;5;241m*\u001b[39margs: Any, \u001b[38;5;241m*\u001b[39m\u001b[38;5;241m*\u001b[39mkwargs: Any) \u001b[38;5;241m-\u001b[39m\u001b[38;5;241m>\u001b[39m \u001b[38;5;28;01mNone\u001b[39;00m:\n\u001b[0;32m    109\u001b[0m \u001b[38;5;250m    \u001b[39m\u001b[38;5;124;03m\"\"\"\"\"\"\u001b[39;00m\n\u001b[1;32m--> 110\u001b[0m     \u001b[38;5;28msuper\u001b[39m()\u001b[38;5;241m.\u001b[39m\u001b[38;5;21m__init__\u001b[39m(\u001b[38;5;241m*\u001b[39margs, \u001b[38;5;241m*\u001b[39m\u001b[38;5;241m*\u001b[39mkwargs)\n",
      "File \u001b[1;32mc:\\Users\\fiori\\OneDrive\\Documenti\\GitHub\\ChatBot_BoardGames\\venv\\lib\\site-packages\\pydantic\\main.py:212\u001b[0m, in \u001b[0;36mBaseModel.__init__\u001b[1;34m(self, **data)\u001b[0m\n\u001b[0;32m    210\u001b[0m \u001b[38;5;66;03m# `__tracebackhide__` tells pytest and some other tools to omit this function from tracebacks\u001b[39;00m\n\u001b[0;32m    211\u001b[0m __tracebackhide__ \u001b[38;5;241m=\u001b[39m \u001b[38;5;28;01mTrue\u001b[39;00m\n\u001b[1;32m--> 212\u001b[0m validated_self \u001b[38;5;241m=\u001b[39m \u001b[38;5;28;43mself\u001b[39;49m\u001b[38;5;241;43m.\u001b[39;49m\u001b[43m__pydantic_validator__\u001b[49m\u001b[38;5;241;43m.\u001b[39;49m\u001b[43mvalidate_python\u001b[49m\u001b[43m(\u001b[49m\u001b[43mdata\u001b[49m\u001b[43m,\u001b[49m\u001b[43m \u001b[49m\u001b[43mself_instance\u001b[49m\u001b[38;5;241;43m=\u001b[39;49m\u001b[38;5;28;43mself\u001b[39;49m\u001b[43m)\u001b[49m\n\u001b[0;32m    213\u001b[0m \u001b[38;5;28;01mif\u001b[39;00m \u001b[38;5;28mself\u001b[39m \u001b[38;5;129;01mis\u001b[39;00m \u001b[38;5;129;01mnot\u001b[39;00m validated_self:\n\u001b[0;32m    214\u001b[0m     warnings\u001b[38;5;241m.\u001b[39mwarn(\n\u001b[0;32m    215\u001b[0m         \u001b[38;5;124m'\u001b[39m\u001b[38;5;124mA custom validator is returning a value other than `self`.\u001b[39m\u001b[38;5;130;01m\\n\u001b[39;00m\u001b[38;5;124m'\u001b[39m\n\u001b[0;32m    216\u001b[0m         \u001b[38;5;124m\"\u001b[39m\u001b[38;5;124mReturning anything other than `self` from a top level model validator isn\u001b[39m\u001b[38;5;124m'\u001b[39m\u001b[38;5;124mt supported when validating via `__init__`.\u001b[39m\u001b[38;5;130;01m\\n\u001b[39;00m\u001b[38;5;124m\"\u001b[39m\n\u001b[0;32m    217\u001b[0m         \u001b[38;5;124m'\u001b[39m\u001b[38;5;124mSee the `model_validator` docs (https://docs.pydantic.dev/latest/concepts/validators/#model-validators) for more details.\u001b[39m\u001b[38;5;124m'\u001b[39m,\n\u001b[0;32m    218\u001b[0m         category\u001b[38;5;241m=\u001b[39m\u001b[38;5;28;01mNone\u001b[39;00m,\n\u001b[0;32m    219\u001b[0m     )\n",
      "\u001b[1;31mValidationError\u001b[0m: 1 validation error for ChatOpenAI\n  Value error, Did not find openai_api_key, please add an environment variable `OPENAI_API_KEY` which contains it, or pass `openai_api_key` as a named parameter. [type=value_error, input_value={'temperature': 0.7, 'mod...ne, 'http_client': None}, input_type=dict]\n    For further information visit https://errors.pydantic.dev/2.9/v/value_error"
     ]
    }
   ],
   "source": [
    "from langchain.chat_models import ChatOpenAI\n",
    "from langchain.prompts import ChatPromptTemplate\n",
    "\n",
    "# Initialize GPT-3.5 Turbo using Langchain's ChatOpenAI model\n",
    "llm = ChatOpenAI(model=\"gpt-3.5-turbo\", temperature=0.7)\n"
   ]
  },
  {
   "cell_type": "code",
   "execution_count": 16,
   "metadata": {},
   "outputs": [],
   "source": [
    "from langchain.chains.prompt_selector import ConditionalPromptSelector, is_chat_model\n",
    "from langchain.prompts import PromptTemplate\n",
    "from langchain.prompts.chat import (\n",
    "    ChatPromptTemplate,\n",
    "    HumanMessagePromptTemplate,\n",
    "    SystemMessagePromptTemplate,\n",
    ")\n",
    "from langchain_core.output_parsers import StrOutputParser\n",
    "\n",
    "template_string = \"\"\"\n",
    "System: You are Boardy, an expert assistant specializing in board games. Your role is to provide authoritative, precise, and practical guidance on game rules, mechanics, strategies, and scenarios. \n",
    "You respond as the ultimate reference for the games discussed, ensuring clarity and correctness. Your answers should feel as though they’re guiding the player through a live game session. \n",
    "Avoid general advice or unrelated topics. Instead, focus entirely on providing rule explanations, strategic insights, and in-game examples based on the player's current scenario.\n",
    "\n",
    "The game you're explaining today is: **{name}**\n",
    "\n",
    "---\n",
    "**Game Overview**:  \n",
    "Here’s a description of the game to give you more context about its theme, goals, and mechanics:  \n",
    "_{description}_\n",
    "\n",
    "---\n",
    "**Current Situation**:  \n",
    "This is the specific context or scenario the player is in, which might affect your answer:  \n",
    "_{context}_\n",
    "\n",
    "---\n",
    "**Player's Question**:  \n",
    "_{question}_\n",
    "\n",
    "---\n",
    "**Boardy's Response**:  \n",
    "Provide your answer in an instructive and conversational tone as if you’re explaining the rules and strategies at the table. Include relevant examples, clarify mechanics, and offer advice on how to best handle the current scenario:\n",
    "\n",
    "- **Game Rule Explanation**: Offer precise details on the relevant game rules, mechanics, or actions related to the question.\n",
    "  \n",
    "- **Contextual Strategy/Advice**: If applicable, give strategic advice based on the player’s current in-game context, During this contextualization, do not give example of a specific case, just be vague for some strategy applicable in general, not in the specific case, unless explicity asked so.\n",
    "\n",
    "- **Example**: Where useful, provide an example to illustrate the explanation more clearly.\n",
    "\"\"\"\n",
    "\n",
    "\n",
    "\n",
    "PROMPT = PromptTemplate(\n",
    "    template=template_string, input_variables=[\"context\", \"question\"]\n",
    ")\n"
   ]
  },
  {
   "cell_type": "code",
   "execution_count": 17,
   "metadata": {},
   "outputs": [],
   "source": [
    "embedding_model = HuggingFaceEmbeddings(\n",
    "        model_name=EMBEDDING_MODEL_NAME,\n",
    "        multi_process=True,  # Enable multiprocessing\n",
    "        model_kwargs={\"device\": \"cuda\"},\n",
    "        encode_kwargs={\"normalize_embeddings\": True},  # Set `True` for cosine similarity\n",
    "    )\n",
    "\n",
    "URL=read_token_from_file(\"keys/qdrant_URL.txt\") \n",
    "API_KEY=read_token_from_file(\"keys/qdrant.txt\")\n",
    "\n",
    "qdrant_client = connect_Qdrant(URL, API_KEY)\n",
    "\n",
    "vector_store = QdrantVectorStore(\n",
    "    client=qdrant_client,\n",
    "    collection_name=COLLECTION_NAME,\n",
    "    embedding=embedding_model,\n",
    "    )\n"
   ]
  },
  {
   "cell_type": "code",
   "execution_count": 18,
   "metadata": {},
   "outputs": [
    {
     "name": "stdout",
     "output_type": "stream",
     "text": [
      "Number of documents in the collection: 70\n"
     ]
    }
   ],
   "source": [
    "# Get the number of points (documents) in the collection\n",
    "collection_info = qdrant_client.count(collection_name=COLLECTION_NAME)\n",
    "\n",
    "# Print the number of documents (points)\n",
    "num_documents = collection_info.count\n",
    "print(f\"Number of documents in the collection: {num_documents}\")"
   ]
  },
  {
   "cell_type": "code",
   "execution_count": 19,
   "metadata": {},
   "outputs": [],
   "source": [
    "from qdrant_client.http import models\n",
    "\n",
    "def retrieve_query(query, k=1, embedding_model=embedding_model, qdrant_client=qdrant_client, vector_store=vector_store, metadata_filter=None):\n",
    "    '''\n",
    "    Retrieve query from Qdrant with metadata filtering. \n",
    "    k: Number of documents to retrieve.\n",
    "    metadata_filter: Dictionary specifying filter conditions (e.g., { \"key\": \"game_name\", \"value\": \"Unlock\" })\n",
    "    '''\n",
    "    \n",
    "    if metadata_filter:\n",
    "        # Create a filter based on the provided metadata\n",
    "        filter_conditions = models.Filter(\n",
    "            must=[\n",
    "                models.FieldCondition(\n",
    "                    key=metadata_filter[\"key\"],  # Metadata key, e.g., 'game_name'\n",
    "                    match=models.MatchValue(\n",
    "                        value=metadata_filter[\"value\"],  # Metadata value, e.g., 'Unlock'\n",
    "                    ),\n",
    "                ),\n",
    "            ]\n",
    "        )\n",
    "        \n",
    "        # Debug: Print filter conditions to verify\n",
    "        # print(f\"Filter conditions: {filter_conditions}\")\n",
    "\n",
    "        # Perform similarity search with metadata filtering\n",
    "        result = vector_store.similarity_search(\n",
    "            query=query,\n",
    "            k=k,\n",
    "            filter=filter_conditions  # Applying the metadata filter\n",
    "        )\n",
    "    else:\n",
    "        # Perform regular similarity search without filtering\n",
    "        result = vector_store.similarity_search(\n",
    "            query=query,\n",
    "            k=k,\n",
    "        )\n",
    "    \n",
    "    # Debug: Print retrieved results\n",
    "    # for doc in result:\n",
    "        # print(f\"Retrieved result: {doc}\")\n",
    "    \n",
    "    # Extract content from the result\n",
    "    game_id = result[-1].metadata[\"game_id\"]\n",
    "    context = [doc.page_content for doc in result]\n",
    "    \n",
    "    return context, game_id\n"
   ]
  },
  {
   "cell_type": "markdown",
   "metadata": {},
   "source": [
    "Retrieval"
   ]
  },
  {
   "cell_type": "code",
   "execution_count": 26,
   "metadata": {},
   "outputs": [],
   "source": [
    "#1. FILTRARE IN BASE AL GIOCO IL CONTEXT (filtrare in base ai metadata di Qdrant) -> migliorare, se utente sbaglia a scrivere? o sbaglia nome del gioco?\n",
    "#2. CREARE CHAT CON STORIA\n",
    "#3. MIGLIORARE IL CONTEXT, ALCUNE VOLTE DOVREBBE PRENDERE PIù DOCUMENTI, OPPURE PRENDERE DEI DOCUMENTI DIFFERENTI... \n",
    "\n",
    "#4 IDEA: Prepararsi un context generale del gioco per ogni singolo gioco, così quando l'user sceglie il gioco sul quale ricevere regole, l'assisente avrà anche un'idea generale del gioco che si sta giocando e potrà essere ancora + d'aiuto\n",
    "# Ho notato che con un context iniziale molto strutturato l'assistente migliora di brutto quindi questo potrebbe essere TOP\n",
    "#modi per ottenerlo: scraping su BGG, farlo a mano, fare riassunto automatizzato tramite un altro LLM\n",
    "#Scaricare description da BGG con api: https://boardgamegeek.com/xmlapi/boardgame/35424\n",
    "#id=NNN\tSpecifies the id of the type of database entry you want the forum list for. This is the id that appears in the address of the page when visiting a particular game in the database.\n",
    "#type=[thing,family]\tThe type of entry in the database.\n",
    "#SI potrebbe anche aggiungere il tipo di gioco, ad esempio strategy, coop, 1v1 ecc... così l'AI può anche dare consigli sulla base di cosa vuole giocare il giocatore, quindi 1 modalità per advise in cui si parla di giochi e cosa cosnigliare\n",
    "#per una serata o con tot giocatori ecc... quindi consigli per il giocatore e poi una modalità in cui ti Spiega il gioco di cui hai bisogno le regole specifich ecc...\n",
    "\n",
    "#https://github.com/seanmckaybeck/scrapers/tree/master/boardgamegeek  #ha un txt con tutti gli id su BGG\n",
    "\n",
    "\n",
    "#mettere game id nei metadata di Qdrant\n",
    "#usare re-ranking\n",
    "\n",
    "#recuperare immagini ad esempio per il setup o per far vedere i tokens ecc? sarebbe figo -> chuncking va pensato meglio, modello di retrieving e output va pensato meglio\n",
    "\n",
    "#\n",
    "\n",
    "#BEST CHUNCKER: SentenceTransformersTokenTextSplitter (PUò PURE OVERLAPPARE, TOP!)\n"
   ]
  },
  {
   "cell_type": "markdown",
   "metadata": {},
   "source": [
    "1. iniziare a sviluppare APP con interfaccia streamlit, così si ha prodotto finito, riempire memoria di Qdrant con 1gb di pdf, e così si ha il prototipo (magari con top 100 di giochi più giocati ecc...)\n",
    "2. Provare a vendere il prototipo oppure provare a tramutarlo in APP per playstore e capire come vendere/ fare advertising. migliorare usando API e modelli a pagamento -> oppure migliorare advertising e cercare di vendere (provare anche a recuperare immagini per il setup e carte?)\n",
    "\n",
    "p.s. provo a venderlo al bastard cafè? provo a venderlo a BGG? provo a venderlo su play Store?\n"
   ]
  },
  {
   "cell_type": "markdown",
   "metadata": {},
   "source": [
    "GET GAME DESCRIPTION"
   ]
  },
  {
   "cell_type": "code",
   "execution_count": 20,
   "metadata": {},
   "outputs": [],
   "source": [
    "import requests\n",
    "from bs4 import BeautifulSoup\n",
    "\n",
    "def get_game_details(game_id):\n",
    "    # Step 3: Use the ID to retrieve game details from the API\n",
    "    api_url = f\"https://boardgamegeek.com/xmlapi/boardgame/{game_id}\"\n",
    "    response = requests.get(api_url)\n",
    "    \n",
    "    if response.status_code == 200:\n",
    "        soup = BeautifulSoup(response.content, 'xml')\n",
    "        # Extracting the description of the game\n",
    "        name = soup.find('name').text\n",
    "        description = soup.find('description').text\n",
    "        return (name, description)\n",
    "    else:\n",
    "        print(\"Failed to retrieve game details.\")\n",
    "        return None\n",
    "    \n"
   ]
  },
  {
   "cell_type": "code",
   "execution_count": 21,
   "metadata": {},
   "outputs": [
    {
     "name": "stdout",
     "output_type": "stream",
     "text": [
      "Game Name: The Mind Extrém\n",
      "Game Description:\n",
      "The Mind Extreme functions like The Mind, with players trying to play cards from their hand in ascending order &mdash; without consulting one another! &mdash; so that they can complete a certain number of levels and win. The higher the level, the more cards you have in hand, giving you more to juggle, but also more information to use during play.<br/><br/>The Mind Extreme offers a more complex challenge as now instead of a deck of cards from 1-100, you have two decks each numbered 1-50. Now you'll have two discard piles in play, with cards from one deck needing to be played in ascending order and cards from the other being played in descending order. What's more, some levels must be played blind &mdash; that is, with the cards discarded face down so that no one sees what you've played. Can all players get in the right groove and discard everything in the proper order?<br/><br/>\n"
     ]
    }
   ],
   "source": [
    "game_id = 287607\n",
    "if game_id:\n",
    "    name, description = get_game_details(game_id)\n",
    "    print(f\"Game Name: {name}\")\n",
    "    if description:\n",
    "        print(f\"Game Description:\\n{description}\")"
   ]
  },
  {
   "cell_type": "markdown",
   "metadata": {},
   "source": []
  },
  {
   "cell_type": "markdown",
   "metadata": {},
   "source": [
    "### RE RANK the documents"
   ]
  },
  {
   "cell_type": "markdown",
   "metadata": {},
   "source": [
    "il reranking mi sposta la corretta in fondo... non ha senso, nell'esempio dovrebbe essere la terza, ma me la sposta verso il fondo"
   ]
  },
  {
   "cell_type": "code",
   "execution_count": null,
   "metadata": {},
   "outputs": [],
   "source": [
    "# from langchain_nvidia_ai_endpoints import NVIDIARerank\n",
    "\n",
    "# reranker = NVIDIARerank()"
   ]
  },
  {
   "cell_type": "code",
   "execution_count": 37,
   "metadata": {},
   "outputs": [
    {
     "name": "stdout",
     "output_type": "stream",
     "text": [
      "Document: and 43 in his hand, he must play the white 11 first. reward ( level 2, 3, 5, 6, 8, 9 ) once the team has successfully mastered level 2, it receives a throwing star as a reward. it takes a throwing star from the edge of the table and adds it to the current throwing stars. there is also a reward that the team takes from the edge of the table for the mastered levels 3, 5, 6, 8, 9. the reward is shown on the bottom right of the level card m ( 1 life or 1 throwing star ). reward note : ideally, the team can have a maximum of 5 lives and 3 throwing stars. laying mistake : give up 1 life! if someone plays a number card in the wrong order, the game is immediately interrupted by the player who is holding cards in that colour that should have been played before. the team loses one of its lives ( regardless of how many cards would have had to be laid before ) and must put one life card aside. then all the held cards that should have been played before are put aside. they then continue with the level. sarah plays white 34. tim and linus shout „ stop “. tim has the white 26 in his hand, li - nus the white 30, both cards should have been laid before the 34. one life is given up. tim puts his 26 and linus his 30 aside. the team resynchronises and then continues. from level 3 : playing “ blind ” in level 3, the white cards have to be laid face down to the left of the level card ( the red cards are laid as usual face up to the right of the level card ). at the end of the level, the face down cards are turned over and the order is checked. if a player makes a mistake, it costs a life. in later levels the red cards then\n",
      "Score: 0.0018938971916213632\n",
      "\n",
      "Document: lives ( regardless of how many cards would have had to be laid before ) and must put one life card aside. then all the held cards that should have been played before are put aside. they then continue with the level. sarah plays white 34. tim and linus shout „ stop “. tim has the white 26 in his hand, li - nus the white 30, both cards should have been laid before the 34. one life is given up. tim puts his 26 and linus his 30 aside. the team resynchronises and then continues. from level 3 : playing “ blind ” in level 3, the white cards have to be laid face down to the left of the level card ( the red cards are laid as usual face up to the right of the level card ). at the end of the level, the face down cards are turned over and the order is checked. if a player makes a mistake, it costs a life. in later levels the red cards then have to be laid face down, in levels 6 and 10 even both colours have to be face down. the blind mode is always indicated by the hand symbol on the level card. example 1 : once the team has laid all cards in level 3, it turns the white cards over. the following were laid : 7 - 14 - 28 - 20 - 25 - 23 - 37 - 48. the cards 20, 23 and 25 should have been played before the 28. a life has to be given up for this mistake. example 2 : the following white cards were laid : 2 - 13 - 11 - 28 - 44 - 42 - 37. the 11 should have been played before the 13 and the 37 and 42 should have been played before the 44. two lives have to be given up for these two mistakes. using a throwing star any player can suggest activating a throwing star by raising their hand at any time during a\n",
      "Score: 0.0006460007280111313\n",
      "\n",
      "Document: makes a mistake, it costs a life. in later levels the red cards then have to be laid face down, in levels 6 and 10 even both colours have to be face down. the blind mode is always indicated by the hand symbol on the level card. example 1 : once the team has laid all cards in level 3, it turns the white cards over. the following were laid : 7 - 14 - 28 - 20 - 25 - 23 - 37 - 48. the cards 20, 23 and 25 should have been played before the 28. a life has to be given up for this mistake. example 2 : the following white cards were laid : 2 - 13 - 11 - 28 - 44 - 42 - 37. the 11 should have been played before the 13 and the 37 and 42 should have been played before the 44. two lives have to be given up for these two mistakes. using a throwing star any player can suggest activating a throwing star by raising their hand at any time during a level. if all players agree, the throwing star is used. all players secretly choose either the lowest white or highest red card in their hand. each player places the corresponding card face down in front of them first. when they are all ready, the cards in question are revealed and turned face up. a throwing star is set aside. then the players resynchronise and play on. end of game if the team succeeds in completing all the stacked levels, they have won together! if the team has to give up the last life they have unfortunately failed. nurnberger - spielkarten - verlag gmbh, forsthausstraße 3 - 5, d - 90768 furth - dambach, www. nsv. de\n",
      "Score: 0.0002496689558029175\n",
      "\n",
      "Document: face down in the middle of the table, which makes the collective sense of time even more challenging. 100 number cards 1 2 levels 5 lives 3 throwing stars white ( 1 - 50 ) red ( 1 - 50 ) setting up the game the team gets a certain number of lives and throwing stars, which are placed face up next to each other on the table. the remaining lives and throwing stars are put aside at the edge of the table. they may be needed later. now a certain number of level cards are stacked one on top of the other ascending and placed as a face up stack next to the lives and throwing stones ( with level 1 at the very top ). unused levels are placed in the box. 2 players : level 1 - 12 • 2 lives • 1 throwing star 3 players : level 1 - 10 • 3 lives • 1 throwing star 4 players : level 1 - 8 • 4 lives • 1 throwing starthe 100 number cards are shuffled. each player receives one card ( for level 1 ) and holds it in their hand so the other players cannot see it. course of the game once a player is ready to play the current level, they place one hand flat on the table. when everyone is ready, they take their hands away from the table and the game begins. note : it is extremely important for everyone to synchronise together for the level to complete it successfully! the players are basically allowed to resynchronise at any time during the game. just say „ stop “ and interrupt the game, everyone puts one hand on the table, resynchronises, takes their hand away, and continues playing! • the cards held by the players must be laid in the middle of the table. only the the white cards are laid to the left of the level card, the red cards to the right! • the white cards are laid on top of each other on an ascending stack\n",
      "Score: 0.0009422724833711982\n",
      "\n",
      "Document: specifies. players hold their cards in their hand, place their other hand on the table to synchronise, and then start the next round. once again all the white cards can be laid on a stack ascending, all the red cards descending. [UNK] tim, sarah, linus and hanna are playing level 2. everyone now has two cards. hanna lays the red 45 face up. tim lays the white 43 on the white 45. tim lays the white10 and then the red 36. hanna lays the white 31, sarah the red 26. linus lays the white 41 and hanna finally lays the red 3. everything ascending in white, everything descending in red, everything correct – level 2 completed! the levels are played one after the other in this way. important : a player must always play the lowest white card or the highest red card in their hand. for example, if tim has the white 11, 26 and 43 in his hand, he must play the white 11 first. reward ( level 2, 3, 5, 6, 8, 9 ) once the team has successfully mastered level 2, it receives a throwing star as a reward. it takes a throwing star from the edge of the table and adds it to the current throwing stars. there is also a reward that the team takes from the edge of the table for the mastered levels 3, 5, 6, 8, 9. the reward is shown on the bottom right of the level card m ( 1 life or 1 throwing star ). reward note : ideally, the team can have a maximum of 5 lives and 3 throwing stars. laying mistake : give up 1 life! if someone plays a number card in the wrong order, the game is immediately interrupted by the player who is holding cards in that colour that should have been played before. the team loses one of its lives ( regardless of how many cards would have had to be laid before ) and\n",
      "Score: 0.0036080777645111084\n",
      "\n",
      "Document: the right! • the white cards are laid on top of each other on an ascending stack. the lowest ( available ) white card has to be laid first, followed by the second lowest ( available ) white card, and so on. • the red cards are laid on top of each other on a descending stack. the highest ( available ) red card has to be laid first, followed by the second highest ( available ) red card, and so on. the cards are always laid individually. there is no player order. any player who thinks they have the lowest available white card or the highest available red card, lays it. the players may not reveal or show their own numbers. the players are not allowed to confer with each other, exchange information or use secret signs! very important : both stacks must be watched and played on at the same time. players are not allowed to complete one of the two stacks first and then the other ( regardless of the numbers available ). • once the players have laid all\n",
      "Score: 0.01043905969709158\n",
      "\n",
      "Document: other ( regardless of the numbers available ). • once the players have laid all the cards in the correct order ( white ascending, red descending ), they have completed the current level! [UNK] tim, sarah, linus and hanna put one hand on the table – they are ready. they take their hands away from the table and the game begins. linus lays his white 8 face up to the left of the level card. sarah lays the white 13 on the white 8. hanna lays the red 33 face up to the right of the level card. tim lays the white 46 on the white 13. everything ascending in white, everything descending in red ( it ’ s just one card ), everything correct – level 1 completed! the next level : the stack ’ s top level card is placed in the box. all 100 number cards are reshuffled and each player is dealt as many cards as the new current level specifies. players hold their cards in their hand, place their other hand on the table to synchronise, and then start the next round. once again all the white cards can be laid on a stack ascending, all the red cards descending. [UNK] tim, sarah, linus and hanna are playing level 2. everyone now has two cards. hanna lays the red 45 face up. tim lays the white 43 on the white 45. tim lays the white10 and then the red 36. hanna lays the white 31, sarah the red 26. linus lays the white 41 and hanna finally lays the red 3. everything ascending in white, everything descending in red, everything correct – level 2 completed! the levels are played one after the other in this way. important : a player must always play the lowest white card or the highest red card in their hand. for example, if tim has the white 11, 26 and 43 in his hand, he must play the white 11 first. reward (\n",
      "Score: 0.007460827007889748\n",
      "\n",
      "Document: # # he 100 number cards are shuffled. each player receives one card ( for level 1 ) and holds it in their hand so the other players cannot see it. course of the game once a player is ready to play the current level, they place one hand flat on the table. when everyone is ready, they take their hands away from the table and the game begins. note : it is extremely important for everyone to synchronise together for the level to complete it successfully! the players are basically allowed to resynchronise at any time during the game. just say „ stop “ and interrupt the game, everyone puts one hand on the table, resynchronises, takes their hand away, and continues playing! • the cards held by the players must be laid in the middle of the table. only the the white cards are laid to the left of the level card, the red cards to the right! • the white cards are laid on top of each other on an ascending stack. the lowest ( available ) white card has to be laid first, followed by the second lowest ( available ) white card, and so on. • the red cards are laid on top of each other on a descending stack. the highest ( available ) red card has to be laid first, followed by the second highest ( available ) red card, and so on. the cards are always laid individually. there is no player order. any player who thinks they have the lowest available white card or the highest available red card, lays it. the players may not reveal or show their own numbers. the players are not allowed to confer with each other, exchange information or use secret signs! very important : both stacks must be watched and played on at the same time. players are not allowed to complete one of the two stacks first and then the other ( regardless of the numbers available ). • once the players have\n",
      "Score: 0.008893763646483421\n",
      "\n",
      "Document: ! • the white cards are laid on top of each other on an ascending stack. the lowest ( available ) white card has to be laid first, followed by the second lowest ( available ) white card, and so on. • the red cards are laid on top of each other on a descending stack. the highest ( available ) red card has to be laid first, followed by the second highest ( available ) red card, and so on. the cards are always laid individually. there is no player order. any player who thinks they have the lowest available white card or the highest available red card, lays it. the players may not reveal or show their own numbers. the players are not allowed to confer with each other, exchange information or use secret signs! very important : both stacks must be watched and played on at the same time. players are not allowed to complete one of the two stacks first and then the other ( regardless of the numbers available ). • once the players have laid all the cards in the correct order ( white ascending, red descending ), they have completed the current level! [UNK] tim, sarah, linus and hanna put one hand on the table – they are ready. they take their hands away from the table and the game begins. linus lays his white 8 face up to the left of the level card. sarah lays the white 13 on the white 8. hanna lays the red 33 face up to the right of the level card. tim lays the white 46 on the white 13. everything ascending in white, everything descending in red ( it ’ s just one card ), everything correct – level 1 completed! the next level : the stack ’ s top level card is placed in the box. all 100 number cards are reshuffled and each player is dealt as many cards as the new current level specifies. players hold their cards in their hand, place their other hand on the\n",
      "Score: 0.007203800603747368\n",
      "\n",
      "Document: the mind wolfgang warsch for professional telepaths! players : 2 - 4 people age : 8 + duration : app. 20 min. what ‘ s new about the extreme version? the basic rules of the original „ the mind ” game are the same. in the first round ( level 1 ) everyone gets 1 card, in the second round ( level 2 ) everyone gets 2 cards, etc. everyone forms one team and tries to lay all the cards they receive correctly in the middle of the table. there is no player order. anyone who wants to lay a card, simply lays it. warning : there ’ s not just one stack in the middle of the table like with the original but two at the same time! the stack with the white numbers is ascending ( 1 - 50 ), the stack with the red numbers is descending ( 50 - 1 ). in some levels the cards even have to be laid face down in the middle of the table, which makes the collective sense of time even more challenging. 100 number cards 1 2 levels 5 lives 3 throwing stars white ( 1 - 50 ) red ( 1 - 50 ) setting up the game the team gets a certain number of lives and throwing stars, which are placed face up next to each other on the table. the remaining lives and throwing stars are put aside at the edge of the table. they may be needed later. now a certain number of level cards are stacked one on top of the other ascending and placed as a face up stack next to the lives and throwing stones ( with level 1 at the very top ). unused levels are placed in the box. 2 players : level 1 - 12 • 2 lives • 1 throwing star 3 players : level 1 - 10 • 3 lives • 1 throwing star 4 players : level 1 - 8 • 4 lives • 1 throwing starthe 100 number cards are shuffled. each player receives one card ( for level 1\n",
      "Score: 0.0006123506464064121\n",
      "\n"
     ]
    }
   ],
   "source": [
    "from transformers import pipeline\n",
    "\n",
    "# Check if GPU is available\n",
    "device = 0 if torch.cuda.is_available() else -1\n",
    "\n",
    "reranker = pipeline(\"text-classification\", model=\"cross-encoder/ms-marco-MiniLM-L-6-v2\", device=device)\n",
    "pairs = [{\"text\": f\"{question} [SEP] {doc}\"} for doc in result]\n",
    "scores = reranker(pairs)\n",
    "\n",
    "for doc, result in zip(result, scores):\n",
    "    print(f\"Document: {doc}\\nScore: {result['score']}\\n\")"
   ]
  },
  {
   "cell_type": "code",
   "execution_count": 22,
   "metadata": {},
   "outputs": [
    {
     "data": {
      "text/plain": [
       "['and 43 in his hand, he must play the white 11 first. reward ( level 2, 3, 5, 6, 8, 9 ) once the team has successfully mastered level 2, it receives a throwing star as a reward. it takes a throwing star from the edge of the table and adds it to the current throwing stars. there is also a reward that the team takes from the edge of the table for the mastered levels 3, 5, 6, 8, 9. the reward is shown on the bottom right of the level card m ( 1 life or 1 throwing star ). reward note : ideally, the team can have a maximum of 5 lives and 3 throwing stars. laying mistake : give up 1 life! if someone plays a number card in the wrong order, the game is immediately interrupted by the player who is holding cards in that colour that should have been played before. the team loses one of its lives ( regardless of how many cards would have had to be laid before ) and must put one life card aside. then all the held cards that should have been played before are put aside. they then continue with the level. sarah plays white 34. tim and linus shout „ stop “. tim has the white 26 in his hand, li - nus the white 30, both cards should have been laid before the 34. one life is given up. tim puts his 26 and linus his 30 aside. the team resynchronises and then continues. from level 3 : playing “ blind ” in level 3, the white cards have to be laid face down to the left of the level card ( the red cards are laid as usual face up to the right of the level card ). at the end of the level, the face down cards are turned over and the order is checked. if a player makes a mistake, it costs a life. in later levels the red cards then',\n",
       " 'lives ( regardless of how many cards would have had to be laid before ) and must put one life card aside. then all the held cards that should have been played before are put aside. they then continue with the level. sarah plays white 34. tim and linus shout „ stop “. tim has the white 26 in his hand, li - nus the white 30, both cards should have been laid before the 34. one life is given up. tim puts his 26 and linus his 30 aside. the team resynchronises and then continues. from level 3 : playing “ blind ” in level 3, the white cards have to be laid face down to the left of the level card ( the red cards are laid as usual face up to the right of the level card ). at the end of the level, the face down cards are turned over and the order is checked. if a player makes a mistake, it costs a life. in later levels the red cards then have to be laid face down, in levels 6 and 10 even both colours have to be face down. the blind mode is always indicated by the hand symbol on the level card. example 1 : once the team has laid all cards in level 3, it turns the white cards over. the following were laid : 7 - 14 - 28 - 20 - 25 - 23 - 37 - 48. the cards 20, 23 and 25 should have been played before the 28. a life has to be given up for this mistake. example 2 : the following white cards were laid : 2 - 13 - 11 - 28 - 44 - 42 - 37. the 11 should have been played before the 13 and the 37 and 42 should have been played before the 44. two lives have to be given up for these two mistakes. using a throwing star any player can suggest activating a throwing star by raising their hand at any time during a',\n",
       " 'makes a mistake, it costs a life. in later levels the red cards then have to be laid face down, in levels 6 and 10 even both colours have to be face down. the blind mode is always indicated by the hand symbol on the level card. example 1 : once the team has laid all cards in level 3, it turns the white cards over. the following were laid : 7 - 14 - 28 - 20 - 25 - 23 - 37 - 48. the cards 20, 23 and 25 should have been played before the 28. a life has to be given up for this mistake. example 2 : the following white cards were laid : 2 - 13 - 11 - 28 - 44 - 42 - 37. the 11 should have been played before the 13 and the 37 and 42 should have been played before the 44. two lives have to be given up for these two mistakes. using a throwing star any player can suggest activating a throwing star by raising their hand at any time during a level. if all players agree, the throwing star is used. all players secretly choose either the lowest white or highest red card in their hand. each player places the corresponding card face down in front of them first. when they are all ready, the cards in question are revealed and turned face up. a throwing star is set aside. then the players resynchronise and play on. end of game if the team succeeds in completing all the stacked levels, they have won together! if the team has to give up the last life they have unfortunately failed. nurnberger - spielkarten - verlag gmbh, forsthausstraße 3 - 5, d - 90768 furth - dambach, www. nsv. de',\n",
       " 'face down in the middle of the table, which makes the collective sense of time even more challenging. 100 number cards 1 2 levels 5 lives 3 throwing stars white ( 1 - 50 ) red ( 1 - 50 ) setting up the game the team gets a certain number of lives and throwing stars, which are placed face up next to each other on the table. the remaining lives and throwing stars are put aside at the edge of the table. they may be needed later. now a certain number of level cards are stacked one on top of the other ascending and placed as a face up stack next to the lives and throwing stones ( with level 1 at the very top ). unused levels are placed in the box. 2 players : level 1 - 12 • 2 lives • 1 throwing star 3 players : level 1 - 10 • 3 lives • 1 throwing star 4 players : level 1 - 8 • 4 lives • 1 throwing starthe 100 number cards are shuffled. each player receives one card ( for level 1 ) and holds it in their hand so the other players cannot see it. course of the game once a player is ready to play the current level, they place one hand flat on the table. when everyone is ready, they take their hands away from the table and the game begins. note : it is extremely important for everyone to synchronise together for the level to complete it successfully! the players are basically allowed to resynchronise at any time during the game. just say „ stop “ and interrupt the game, everyone puts one hand on the table, resynchronises, takes their hand away, and continues playing! • the cards held by the players must be laid in the middle of the table. only the the white cards are laid to the left of the level card, the red cards to the right! • the white cards are laid on top of each other on an ascending stack',\n",
       " 'specifies. players hold their cards in their hand, place their other hand on the table to synchronise, and then start the next round. once again all the white cards can be laid on a stack ascending, all the red cards descending. [UNK] tim, sarah, linus and hanna are playing level 2. everyone now has two cards. hanna lays the red 45 face up. tim lays the white 43 on the white 45. tim lays the white10 and then the red 36. hanna lays the white 31, sarah the red 26. linus lays the white 41 and hanna finally lays the red 3. everything ascending in white, everything descending in red, everything correct – level 2 completed! the levels are played one after the other in this way. important : a player must always play the lowest white card or the highest red card in their hand. for example, if tim has the white 11, 26 and 43 in his hand, he must play the white 11 first. reward ( level 2, 3, 5, 6, 8, 9 ) once the team has successfully mastered level 2, it receives a throwing star as a reward. it takes a throwing star from the edge of the table and adds it to the current throwing stars. there is also a reward that the team takes from the edge of the table for the mastered levels 3, 5, 6, 8, 9. the reward is shown on the bottom right of the level card m ( 1 life or 1 throwing star ). reward note : ideally, the team can have a maximum of 5 lives and 3 throwing stars. laying mistake : give up 1 life! if someone plays a number card in the wrong order, the game is immediately interrupted by the player who is holding cards in that colour that should have been played before. the team loses one of its lives ( regardless of how many cards would have had to be laid before ) and']"
      ]
     },
     "execution_count": 22,
     "metadata": {},
     "output_type": "execute_result"
    }
   ],
   "source": [
    "question = \"how can i use a shuriken?\"\n",
    "one = \"Unlock\"\n",
    "two = \"The Mind Extreme\"\n",
    "three = \"SpellBook\"\n",
    "metadata_filter = {'key': 'metadata.game_name', 'value': two}\n",
    "result, game_id = retrieve_query(question, k = 5, metadata_filter = metadata_filter)\n",
    "name, description = get_game_details(game_id)\n",
    "result"
   ]
  },
  {
   "cell_type": "code",
   "execution_count": 39,
   "metadata": {},
   "outputs": [
    {
     "name": "stdout",
     "output_type": "stream",
     "text": [
      "**Game Rule Explanation**: In The Mind Extreme, a shuriken, also known as a throwing star, can be used by any player to suggest activating it during a level. To do this, a player must raise their hand at any time during the level to propose using the throwing star. If all players agree, the throwing star is activated.\n",
      "\n",
      "**Contextual Strategy/Advice**: Using a shuriken can be a powerful tool to help the team when facing a particularly challenging situation. It allows players to strategically reveal either the lowest white card or the highest red card in their hand, aiding in decision-making and potentially avoiding mistakes.\n",
      "\n",
      "**Example**: Imagine you're in a level where players are struggling to determine whether to play a white 10 or a red 15 next. By suggesting to activate the throwing star, players can reveal their lowest white card and highest red card, giving valuable information to the team and increasing the chances of successfully completing the level. Remember, teamwork and coordination are key in The Mind Extreme!"
     ]
    }
   ],
   "source": [
    "# Create a Chain object\n",
    "\n",
    "parser = StrOutputParser()\n",
    "chain = PROMPT | llm | parser\n",
    "\n",
    "async for chunk in chain.astream({\"context\":result, \"question\": question, \"description\": description, \"name\": name}):\n",
    "    print(chunk, end=\"\", flush=True)"
   ]
  },
  {
   "cell_type": "code",
   "execution_count": 3,
   "metadata": {},
   "outputs": [],
   "source": [
    "a = ['and 43 in his hand, he must play the white 11 first. reward ( level 2, 3, 5, 6, 8, 9 ) once the team has successfully mastered level 2, it receives a throwing star as a reward. it takes a throwing star from the edge of the table and adds it to the current throwing stars. there is also a reward that the team takes from the edge of the table for the mastered levels 3, 5, 6, 8, 9. the reward is shown on the bottom right of the level card m ( 1 life or 1 throwing star ). reward note : ideally, the team can have a maximum of 5 lives and 3 throwing stars. laying mistake : give up 1 life! if someone plays a number card in the wrong order, the game is immediately interrupted by the player who is holding cards in that colour that should have been played before. the team loses one of its lives ( regardless of how many cards would have had to be laid before ) and must put one life card aside. then all the held cards that should have been played before are put aside. they then continue with the level. sarah plays white 34. tim and linus shout „ stop “. tim has the white 26 in his hand, li - nus the white 30, both cards should have been laid before the 34. one life is given up. tim puts his 26 and linus his 30 aside. the team resynchronises and then continues. from level 3 : playing “ blind ” in level 3, the white cards have to be laid face down to the left of the level card ( the red cards are laid as usual face up to the right of the level card ). at the end of the level, the face down cards are turned over and the order is checked. if a player makes a mistake, it costs a life. in later levels the red cards then',\n",
    " 'lives ( regardless of how many cards would have had to be laid before ) and must put one life card aside. then all the held cards that should have been played before are put aside. they then continue with the level. sarah plays white 34. tim and linus shout „ stop “. tim has the white 26 in his hand, li - nus the white 30, both cards should have been laid before the 34. one life is given up. tim puts his 26 and linus his 30 aside. the team resynchronises and then continues. from level 3 : playing “ blind ” in level 3, the white cards have to be laid face down to the left of the level card ( the red cards are laid as usual face up to the right of the level card ). at the end of the level, the face down cards are turned over and the order is checked. if a player makes a mistake, it costs a life. in later levels the red cards then have to be laid face down, in levels 6 and 10 even both colours have to be face down. the blind mode is always indicated by the hand symbol on the level card. example 1 : once the team has laid all cards in level 3, it turns the white cards over. the following were laid : 7 - 14 - 28 - 20 - 25 - 23 - 37 - 48. the cards 20, 23 and 25 should have been played before the 28. a life has to be given up for this mistake. example 2 : the following white cards were laid : 2 - 13 - 11 - 28 - 44 - 42 - 37. the 11 should have been played before the 13 and the 37 and 42 should have been played before the 44. two lives have to be given up for these two mistakes. using a throwing star any player can suggest activating a throwing star by raising their hand at any time during a',\n",
    " 'makes a mistake, it costs a life. in later levels the red cards then have to be laid face down, in levels 6 and 10 even both colours have to be face down. the blind mode is always indicated by the hand symbol on the level card. example 1 : once the team has laid all cards in level 3, it turns the white cards over. the following were laid : 7 - 14 - 28 - 20 - 25 - 23 - 37 - 48. the cards 20, 23 and 25 should have been played before the 28. a life has to be given up for this mistake. example 2 : the following white cards were laid : 2 - 13 - 11 - 28 - 44 - 42 - 37. the 11 should have been played before the 13 and the 37 and 42 should have been played before the 44. two lives have to be given up for these two mistakes. using a throwing star any player can suggest activating a throwing star by raising their hand at any time during a level. if all players agree, the throwing star is used. all players secretly choose either the lowest white or highest red card in their hand. each player places the corresponding card face down in front of them first. when they are all ready, the cards in question are revealed and turned face up. a throwing star is set aside. then the players resynchronise and play on. end of game if the team succeeds in completing all the stacked levels, they have won together! if the team has to give up the last life they have unfortunately failed. nurnberger - spielkarten - verlag gmbh, forsthausstraße 3 - 5, d - 90768 furth - dambach, www. nsv. de',\n",
    " 'face down in the middle of the table, which makes the collective sense of time even more challenging. 100 number cards 1 2 levels 5 lives 3 throwing stars white ( 1 - 50 ) red ( 1 - 50 ) setting up the game the team gets a certain number of lives and throwing stars, which are placed face up next to each other on the table. the remaining lives and throwing stars are put aside at the edge of the table. they may be needed later. now a certain number of level cards are stacked one on top of the other ascending and placed as a face up stack next to the lives and throwing stones ( with level 1 at the very top ). unused levels are placed in the box. 2 players : level 1 - 12 • 2 lives • 1 throwing star 3 players : level 1 - 10 • 3 lives • 1 throwing star 4 players : level 1 - 8 • 4 lives • 1 throwing starthe 100 number cards are shuffled. each player receives one card ( for level 1 ) and holds it in their hand so the other players cannot see it. course of the game once a player is ready to play the current level, they place one hand flat on the table. when everyone is ready, they take their hands away from the table and the game begins. note : it is extremely important for everyone to synchronise together for the level to complete it successfully! the players are basically allowed to resynchronise at any time during the game. just say „ stop “ and interrupt the game, everyone puts one hand on the table, resynchronises, takes their hand away, and continues playing! • the cards held by the players must be laid in the middle of the table. only the the white cards are laid to the left of the level card, the red cards to the right! • the white cards are laid on top of each other on an ascending stack',\n",
    " 'specifies. players hold their cards in their hand, place their other hand on the table to synchronise, and then start the next round. once again all the white cards can be laid on a stack ascending, all the red cards descending. [UNK] tim, sarah, linus and hanna are playing level 2. everyone now has two cards. hanna lays the red 45 face up. tim lays the white 43 on the white 45. tim lays the white10 and then the red 36. hanna lays the white 31, sarah the red 26. linus lays the white 41 and hanna finally lays the red 3. everything ascending in white, everything descending in red, everything correct – level 2 completed! the levels are played one after the other in this way. important : a player must always play the lowest white card or the highest red card in their hand. for example, if tim has the white 11, 26 and 43 in his hand, he must play the white 11 first. reward ( level 2, 3, 5, 6, 8, 9 ) once the team has successfully mastered level 2, it receives a throwing star as a reward. it takes a throwing star from the edge of the table and adds it to the current throwing stars. there is also a reward that the team takes from the edge of the table for the mastered levels 3, 5, 6, 8, 9. the reward is shown on the bottom right of the level card m ( 1 life or 1 throwing star ). reward note : ideally, the team can have a maximum of 5 lives and 3 throwing stars. laying mistake : give up 1 life! if someone plays a number card in the wrong order, the game is immediately interrupted by the player who is holding cards in that colour that should have been played before. the team loses one of its lives ( regardless of how many cards would have had to be laid before ) and']"
   ]
  },
  {
   "cell_type": "code",
   "execution_count": 5,
   "metadata": {},
   "outputs": [
    {
     "data": {
      "text/plain": [
       "8124"
      ]
     },
     "execution_count": 5,
     "metadata": {},
     "output_type": "execute_result"
    }
   ],
   "source": [
    "sum([len(x) for x in a])"
   ]
  },
  {
   "cell_type": "code",
   "execution_count": null,
   "metadata": {},
   "outputs": [],
   "source": []
  }
 ],
 "metadata": {
  "kernelspec": {
   "display_name": "venv",
   "language": "python",
   "name": "python3"
  },
  "language_info": {
   "codemirror_mode": {
    "name": "ipython",
    "version": 3
   },
   "file_extension": ".py",
   "mimetype": "text/x-python",
   "name": "python",
   "nbconvert_exporter": "python",
   "pygments_lexer": "ipython3",
   "version": "3.10.5"
  }
 },
 "nbformat": 4,
 "nbformat_minor": 2
}
