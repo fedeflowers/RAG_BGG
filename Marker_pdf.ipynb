{
  "nbformat": 4,
  "nbformat_minor": 0,
  "metadata": {
    "colab": {
      "provenance": [],
      "gpuType": "T4"
    },
    "kernelspec": {
      "name": "python3",
      "display_name": "Python 3"
    },
    "language_info": {
      "name": "python"
    },
    "accelerator": "GPU",
    "widgets": {
      "application/vnd.jupyter.widget-state+json": {
        "3509777033fd4b90a2bdebf601da94b7": {
          "model_module": "@jupyter-widgets/controls",
          "model_name": "HBoxModel",
          "model_module_version": "1.5.0",
          "state": {
            "_dom_classes": [],
            "_model_module": "@jupyter-widgets/controls",
            "_model_module_version": "1.5.0",
            "_model_name": "HBoxModel",
            "_view_count": null,
            "_view_module": "@jupyter-widgets/controls",
            "_view_module_version": "1.5.0",
            "_view_name": "HBoxView",
            "box_style": "",
            "children": [
              "IPY_MODEL_c0242cc7e07b447ab2b7e8838d276146",
              "IPY_MODEL_41459cb0a1f84322adf86050e6947a22",
              "IPY_MODEL_2db69cb694b74a8eb0eca7bb3b59d4fd"
            ],
            "layout": "IPY_MODEL_33640cecbcc745b6863605a31eb22c0f"
          }
        },
        "c0242cc7e07b447ab2b7e8838d276146": {
          "model_module": "@jupyter-widgets/controls",
          "model_name": "HTMLModel",
          "model_module_version": "1.5.0",
          "state": {
            "_dom_classes": [],
            "_model_module": "@jupyter-widgets/controls",
            "_model_module_version": "1.5.0",
            "_model_name": "HTMLModel",
            "_view_count": null,
            "_view_module": "@jupyter-widgets/controls",
            "_view_module_version": "1.5.0",
            "_view_name": "HTMLView",
            "description": "",
            "description_tooltip": null,
            "layout": "IPY_MODEL_d2359f8491274cdf90c7a00feb5d78ae",
            "placeholder": "​",
            "style": "IPY_MODEL_76f52961a5b448c38968bf64d0b413c5",
            "value": "preprocessor_config.json: 100%"
          }
        },
        "41459cb0a1f84322adf86050e6947a22": {
          "model_module": "@jupyter-widgets/controls",
          "model_name": "FloatProgressModel",
          "model_module_version": "1.5.0",
          "state": {
            "_dom_classes": [],
            "_model_module": "@jupyter-widgets/controls",
            "_model_module_version": "1.5.0",
            "_model_name": "FloatProgressModel",
            "_view_count": null,
            "_view_module": "@jupyter-widgets/controls",
            "_view_module_version": "1.5.0",
            "_view_name": "ProgressView",
            "bar_style": "success",
            "description": "",
            "description_tooltip": null,
            "layout": "IPY_MODEL_0c1b270b5a2d4e7fa61dfb32722869c1",
            "max": 445,
            "min": 0,
            "orientation": "horizontal",
            "style": "IPY_MODEL_2ff84247636b4383ae56fbd8e1bbc61e",
            "value": 445
          }
        },
        "2db69cb694b74a8eb0eca7bb3b59d4fd": {
          "model_module": "@jupyter-widgets/controls",
          "model_name": "HTMLModel",
          "model_module_version": "1.5.0",
          "state": {
            "_dom_classes": [],
            "_model_module": "@jupyter-widgets/controls",
            "_model_module_version": "1.5.0",
            "_model_name": "HTMLModel",
            "_view_count": null,
            "_view_module": "@jupyter-widgets/controls",
            "_view_module_version": "1.5.0",
            "_view_name": "HTMLView",
            "description": "",
            "description_tooltip": null,
            "layout": "IPY_MODEL_48ec2ad153554abe9aa2923bcbffa9fd",
            "placeholder": "​",
            "style": "IPY_MODEL_e4f384c198f241b2a3e00b542ada0138",
            "value": " 445/445 [00:00&lt;00:00, 14.2kB/s]"
          }
        },
        "33640cecbcc745b6863605a31eb22c0f": {
          "model_module": "@jupyter-widgets/base",
          "model_name": "LayoutModel",
          "model_module_version": "1.2.0",
          "state": {
            "_model_module": "@jupyter-widgets/base",
            "_model_module_version": "1.2.0",
            "_model_name": "LayoutModel",
            "_view_count": null,
            "_view_module": "@jupyter-widgets/base",
            "_view_module_version": "1.2.0",
            "_view_name": "LayoutView",
            "align_content": null,
            "align_items": null,
            "align_self": null,
            "border": null,
            "bottom": null,
            "display": null,
            "flex": null,
            "flex_flow": null,
            "grid_area": null,
            "grid_auto_columns": null,
            "grid_auto_flow": null,
            "grid_auto_rows": null,
            "grid_column": null,
            "grid_gap": null,
            "grid_row": null,
            "grid_template_areas": null,
            "grid_template_columns": null,
            "grid_template_rows": null,
            "height": null,
            "justify_content": null,
            "justify_items": null,
            "left": null,
            "margin": null,
            "max_height": null,
            "max_width": null,
            "min_height": null,
            "min_width": null,
            "object_fit": null,
            "object_position": null,
            "order": null,
            "overflow": null,
            "overflow_x": null,
            "overflow_y": null,
            "padding": null,
            "right": null,
            "top": null,
            "visibility": null,
            "width": null
          }
        },
        "d2359f8491274cdf90c7a00feb5d78ae": {
          "model_module": "@jupyter-widgets/base",
          "model_name": "LayoutModel",
          "model_module_version": "1.2.0",
          "state": {
            "_model_module": "@jupyter-widgets/base",
            "_model_module_version": "1.2.0",
            "_model_name": "LayoutModel",
            "_view_count": null,
            "_view_module": "@jupyter-widgets/base",
            "_view_module_version": "1.2.0",
            "_view_name": "LayoutView",
            "align_content": null,
            "align_items": null,
            "align_self": null,
            "border": null,
            "bottom": null,
            "display": null,
            "flex": null,
            "flex_flow": null,
            "grid_area": null,
            "grid_auto_columns": null,
            "grid_auto_flow": null,
            "grid_auto_rows": null,
            "grid_column": null,
            "grid_gap": null,
            "grid_row": null,
            "grid_template_areas": null,
            "grid_template_columns": null,
            "grid_template_rows": null,
            "height": null,
            "justify_content": null,
            "justify_items": null,
            "left": null,
            "margin": null,
            "max_height": null,
            "max_width": null,
            "min_height": null,
            "min_width": null,
            "object_fit": null,
            "object_position": null,
            "order": null,
            "overflow": null,
            "overflow_x": null,
            "overflow_y": null,
            "padding": null,
            "right": null,
            "top": null,
            "visibility": null,
            "width": null
          }
        },
        "76f52961a5b448c38968bf64d0b413c5": {
          "model_module": "@jupyter-widgets/controls",
          "model_name": "DescriptionStyleModel",
          "model_module_version": "1.5.0",
          "state": {
            "_model_module": "@jupyter-widgets/controls",
            "_model_module_version": "1.5.0",
            "_model_name": "DescriptionStyleModel",
            "_view_count": null,
            "_view_module": "@jupyter-widgets/base",
            "_view_module_version": "1.2.0",
            "_view_name": "StyleView",
            "description_width": ""
          }
        },
        "0c1b270b5a2d4e7fa61dfb32722869c1": {
          "model_module": "@jupyter-widgets/base",
          "model_name": "LayoutModel",
          "model_module_version": "1.2.0",
          "state": {
            "_model_module": "@jupyter-widgets/base",
            "_model_module_version": "1.2.0",
            "_model_name": "LayoutModel",
            "_view_count": null,
            "_view_module": "@jupyter-widgets/base",
            "_view_module_version": "1.2.0",
            "_view_name": "LayoutView",
            "align_content": null,
            "align_items": null,
            "align_self": null,
            "border": null,
            "bottom": null,
            "display": null,
            "flex": null,
            "flex_flow": null,
            "grid_area": null,
            "grid_auto_columns": null,
            "grid_auto_flow": null,
            "grid_auto_rows": null,
            "grid_column": null,
            "grid_gap": null,
            "grid_row": null,
            "grid_template_areas": null,
            "grid_template_columns": null,
            "grid_template_rows": null,
            "height": null,
            "justify_content": null,
            "justify_items": null,
            "left": null,
            "margin": null,
            "max_height": null,
            "max_width": null,
            "min_height": null,
            "min_width": null,
            "object_fit": null,
            "object_position": null,
            "order": null,
            "overflow": null,
            "overflow_x": null,
            "overflow_y": null,
            "padding": null,
            "right": null,
            "top": null,
            "visibility": null,
            "width": null
          }
        },
        "2ff84247636b4383ae56fbd8e1bbc61e": {
          "model_module": "@jupyter-widgets/controls",
          "model_name": "ProgressStyleModel",
          "model_module_version": "1.5.0",
          "state": {
            "_model_module": "@jupyter-widgets/controls",
            "_model_module_version": "1.5.0",
            "_model_name": "ProgressStyleModel",
            "_view_count": null,
            "_view_module": "@jupyter-widgets/base",
            "_view_module_version": "1.2.0",
            "_view_name": "StyleView",
            "bar_color": null,
            "description_width": ""
          }
        },
        "48ec2ad153554abe9aa2923bcbffa9fd": {
          "model_module": "@jupyter-widgets/base",
          "model_name": "LayoutModel",
          "model_module_version": "1.2.0",
          "state": {
            "_model_module": "@jupyter-widgets/base",
            "_model_module_version": "1.2.0",
            "_model_name": "LayoutModel",
            "_view_count": null,
            "_view_module": "@jupyter-widgets/base",
            "_view_module_version": "1.2.0",
            "_view_name": "LayoutView",
            "align_content": null,
            "align_items": null,
            "align_self": null,
            "border": null,
            "bottom": null,
            "display": null,
            "flex": null,
            "flex_flow": null,
            "grid_area": null,
            "grid_auto_columns": null,
            "grid_auto_flow": null,
            "grid_auto_rows": null,
            "grid_column": null,
            "grid_gap": null,
            "grid_row": null,
            "grid_template_areas": null,
            "grid_template_columns": null,
            "grid_template_rows": null,
            "height": null,
            "justify_content": null,
            "justify_items": null,
            "left": null,
            "margin": null,
            "max_height": null,
            "max_width": null,
            "min_height": null,
            "min_width": null,
            "object_fit": null,
            "object_position": null,
            "order": null,
            "overflow": null,
            "overflow_x": null,
            "overflow_y": null,
            "padding": null,
            "right": null,
            "top": null,
            "visibility": null,
            "width": null
          }
        },
        "e4f384c198f241b2a3e00b542ada0138": {
          "model_module": "@jupyter-widgets/controls",
          "model_name": "DescriptionStyleModel",
          "model_module_version": "1.5.0",
          "state": {
            "_model_module": "@jupyter-widgets/controls",
            "_model_module_version": "1.5.0",
            "_model_name": "DescriptionStyleModel",
            "_view_count": null,
            "_view_module": "@jupyter-widgets/base",
            "_view_module_version": "1.2.0",
            "_view_name": "StyleView",
            "description_width": ""
          }
        },
        "66c7e657002e4981ba3c44c25ca99e58": {
          "model_module": "@jupyter-widgets/controls",
          "model_name": "HBoxModel",
          "model_module_version": "1.5.0",
          "state": {
            "_dom_classes": [],
            "_model_module": "@jupyter-widgets/controls",
            "_model_module_version": "1.5.0",
            "_model_name": "HBoxModel",
            "_view_count": null,
            "_view_module": "@jupyter-widgets/controls",
            "_view_module_version": "1.5.0",
            "_view_name": "HBoxView",
            "box_style": "",
            "children": [
              "IPY_MODEL_ea0a823325474caab6c5c5532586ee5b",
              "IPY_MODEL_ba3cd54a0be346b3b74af42c1bdf69dd",
              "IPY_MODEL_b8cfef7d1ab64ac8bd44d0b6b340c30f"
            ],
            "layout": "IPY_MODEL_a10aa3b4cdf64802944dcce40d7cbd98"
          }
        },
        "ea0a823325474caab6c5c5532586ee5b": {
          "model_module": "@jupyter-widgets/controls",
          "model_name": "HTMLModel",
          "model_module_version": "1.5.0",
          "state": {
            "_dom_classes": [],
            "_model_module": "@jupyter-widgets/controls",
            "_model_module_version": "1.5.0",
            "_model_name": "HTMLModel",
            "_view_count": null,
            "_view_module": "@jupyter-widgets/controls",
            "_view_module_version": "1.5.0",
            "_view_name": "HTMLView",
            "description": "",
            "description_tooltip": null,
            "layout": "IPY_MODEL_f5a5e3e5ecd148ba8559056bc3e85c15",
            "placeholder": "​",
            "style": "IPY_MODEL_4ab23490684647df92d338e1417c526b",
            "value": "tokenizer_config.json: 100%"
          }
        },
        "ba3cd54a0be346b3b74af42c1bdf69dd": {
          "model_module": "@jupyter-widgets/controls",
          "model_name": "FloatProgressModel",
          "model_module_version": "1.5.0",
          "state": {
            "_dom_classes": [],
            "_model_module": "@jupyter-widgets/controls",
            "_model_module_version": "1.5.0",
            "_model_name": "FloatProgressModel",
            "_view_count": null,
            "_view_module": "@jupyter-widgets/controls",
            "_view_module_version": "1.5.0",
            "_view_name": "ProgressView",
            "bar_style": "success",
            "description": "",
            "description_tooltip": null,
            "layout": "IPY_MODEL_52063ecd37644eabb106469b2806740a",
            "max": 527,
            "min": 0,
            "orientation": "horizontal",
            "style": "IPY_MODEL_ff1af4902b8344ab9ad70af15f750415",
            "value": 527
          }
        },
        "b8cfef7d1ab64ac8bd44d0b6b340c30f": {
          "model_module": "@jupyter-widgets/controls",
          "model_name": "HTMLModel",
          "model_module_version": "1.5.0",
          "state": {
            "_dom_classes": [],
            "_model_module": "@jupyter-widgets/controls",
            "_model_module_version": "1.5.0",
            "_model_name": "HTMLModel",
            "_view_count": null,
            "_view_module": "@jupyter-widgets/controls",
            "_view_module_version": "1.5.0",
            "_view_name": "HTMLView",
            "description": "",
            "description_tooltip": null,
            "layout": "IPY_MODEL_884ab9d7e7aa44608d32b2a080c2b862",
            "placeholder": "​",
            "style": "IPY_MODEL_29580fd96bd14ccb8cb31301f74a22e7",
            "value": " 527/527 [00:00&lt;00:00, 12.9kB/s]"
          }
        },
        "a10aa3b4cdf64802944dcce40d7cbd98": {
          "model_module": "@jupyter-widgets/base",
          "model_name": "LayoutModel",
          "model_module_version": "1.2.0",
          "state": {
            "_model_module": "@jupyter-widgets/base",
            "_model_module_version": "1.2.0",
            "_model_name": "LayoutModel",
            "_view_count": null,
            "_view_module": "@jupyter-widgets/base",
            "_view_module_version": "1.2.0",
            "_view_name": "LayoutView",
            "align_content": null,
            "align_items": null,
            "align_self": null,
            "border": null,
            "bottom": null,
            "display": null,
            "flex": null,
            "flex_flow": null,
            "grid_area": null,
            "grid_auto_columns": null,
            "grid_auto_flow": null,
            "grid_auto_rows": null,
            "grid_column": null,
            "grid_gap": null,
            "grid_row": null,
            "grid_template_areas": null,
            "grid_template_columns": null,
            "grid_template_rows": null,
            "height": null,
            "justify_content": null,
            "justify_items": null,
            "left": null,
            "margin": null,
            "max_height": null,
            "max_width": null,
            "min_height": null,
            "min_width": null,
            "object_fit": null,
            "object_position": null,
            "order": null,
            "overflow": null,
            "overflow_x": null,
            "overflow_y": null,
            "padding": null,
            "right": null,
            "top": null,
            "visibility": null,
            "width": null
          }
        },
        "f5a5e3e5ecd148ba8559056bc3e85c15": {
          "model_module": "@jupyter-widgets/base",
          "model_name": "LayoutModel",
          "model_module_version": "1.2.0",
          "state": {
            "_model_module": "@jupyter-widgets/base",
            "_model_module_version": "1.2.0",
            "_model_name": "LayoutModel",
            "_view_count": null,
            "_view_module": "@jupyter-widgets/base",
            "_view_module_version": "1.2.0",
            "_view_name": "LayoutView",
            "align_content": null,
            "align_items": null,
            "align_self": null,
            "border": null,
            "bottom": null,
            "display": null,
            "flex": null,
            "flex_flow": null,
            "grid_area": null,
            "grid_auto_columns": null,
            "grid_auto_flow": null,
            "grid_auto_rows": null,
            "grid_column": null,
            "grid_gap": null,
            "grid_row": null,
            "grid_template_areas": null,
            "grid_template_columns": null,
            "grid_template_rows": null,
            "height": null,
            "justify_content": null,
            "justify_items": null,
            "left": null,
            "margin": null,
            "max_height": null,
            "max_width": null,
            "min_height": null,
            "min_width": null,
            "object_fit": null,
            "object_position": null,
            "order": null,
            "overflow": null,
            "overflow_x": null,
            "overflow_y": null,
            "padding": null,
            "right": null,
            "top": null,
            "visibility": null,
            "width": null
          }
        },
        "4ab23490684647df92d338e1417c526b": {
          "model_module": "@jupyter-widgets/controls",
          "model_name": "DescriptionStyleModel",
          "model_module_version": "1.5.0",
          "state": {
            "_model_module": "@jupyter-widgets/controls",
            "_model_module_version": "1.5.0",
            "_model_name": "DescriptionStyleModel",
            "_view_count": null,
            "_view_module": "@jupyter-widgets/base",
            "_view_module_version": "1.2.0",
            "_view_name": "StyleView",
            "description_width": ""
          }
        },
        "52063ecd37644eabb106469b2806740a": {
          "model_module": "@jupyter-widgets/base",
          "model_name": "LayoutModel",
          "model_module_version": "1.2.0",
          "state": {
            "_model_module": "@jupyter-widgets/base",
            "_model_module_version": "1.2.0",
            "_model_name": "LayoutModel",
            "_view_count": null,
            "_view_module": "@jupyter-widgets/base",
            "_view_module_version": "1.2.0",
            "_view_name": "LayoutView",
            "align_content": null,
            "align_items": null,
            "align_self": null,
            "border": null,
            "bottom": null,
            "display": null,
            "flex": null,
            "flex_flow": null,
            "grid_area": null,
            "grid_auto_columns": null,
            "grid_auto_flow": null,
            "grid_auto_rows": null,
            "grid_column": null,
            "grid_gap": null,
            "grid_row": null,
            "grid_template_areas": null,
            "grid_template_columns": null,
            "grid_template_rows": null,
            "height": null,
            "justify_content": null,
            "justify_items": null,
            "left": null,
            "margin": null,
            "max_height": null,
            "max_width": null,
            "min_height": null,
            "min_width": null,
            "object_fit": null,
            "object_position": null,
            "order": null,
            "overflow": null,
            "overflow_x": null,
            "overflow_y": null,
            "padding": null,
            "right": null,
            "top": null,
            "visibility": null,
            "width": null
          }
        },
        "ff1af4902b8344ab9ad70af15f750415": {
          "model_module": "@jupyter-widgets/controls",
          "model_name": "ProgressStyleModel",
          "model_module_version": "1.5.0",
          "state": {
            "_model_module": "@jupyter-widgets/controls",
            "_model_module_version": "1.5.0",
            "_model_name": "ProgressStyleModel",
            "_view_count": null,
            "_view_module": "@jupyter-widgets/base",
            "_view_module_version": "1.2.0",
            "_view_name": "StyleView",
            "bar_color": null,
            "description_width": ""
          }
        },
        "884ab9d7e7aa44608d32b2a080c2b862": {
          "model_module": "@jupyter-widgets/base",
          "model_name": "LayoutModel",
          "model_module_version": "1.2.0",
          "state": {
            "_model_module": "@jupyter-widgets/base",
            "_model_module_version": "1.2.0",
            "_model_name": "LayoutModel",
            "_view_count": null,
            "_view_module": "@jupyter-widgets/base",
            "_view_module_version": "1.2.0",
            "_view_name": "LayoutView",
            "align_content": null,
            "align_items": null,
            "align_self": null,
            "border": null,
            "bottom": null,
            "display": null,
            "flex": null,
            "flex_flow": null,
            "grid_area": null,
            "grid_auto_columns": null,
            "grid_auto_flow": null,
            "grid_auto_rows": null,
            "grid_column": null,
            "grid_gap": null,
            "grid_row": null,
            "grid_template_areas": null,
            "grid_template_columns": null,
            "grid_template_rows": null,
            "height": null,
            "justify_content": null,
            "justify_items": null,
            "left": null,
            "margin": null,
            "max_height": null,
            "max_width": null,
            "min_height": null,
            "min_width": null,
            "object_fit": null,
            "object_position": null,
            "order": null,
            "overflow": null,
            "overflow_x": null,
            "overflow_y": null,
            "padding": null,
            "right": null,
            "top": null,
            "visibility": null,
            "width": null
          }
        },
        "29580fd96bd14ccb8cb31301f74a22e7": {
          "model_module": "@jupyter-widgets/controls",
          "model_name": "DescriptionStyleModel",
          "model_module_version": "1.5.0",
          "state": {
            "_model_module": "@jupyter-widgets/controls",
            "_model_module_version": "1.5.0",
            "_model_name": "DescriptionStyleModel",
            "_view_count": null,
            "_view_module": "@jupyter-widgets/base",
            "_view_module_version": "1.2.0",
            "_view_name": "StyleView",
            "description_width": ""
          }
        },
        "6405707229d648148f612557760598e8": {
          "model_module": "@jupyter-widgets/controls",
          "model_name": "HBoxModel",
          "model_module_version": "1.5.0",
          "state": {
            "_dom_classes": [],
            "_model_module": "@jupyter-widgets/controls",
            "_model_module_version": "1.5.0",
            "_model_name": "HBoxModel",
            "_view_count": null,
            "_view_module": "@jupyter-widgets/controls",
            "_view_module_version": "1.5.0",
            "_view_name": "HBoxView",
            "box_style": "",
            "children": [
              "IPY_MODEL_d30ed7ce537d479887883c39167d6ed3",
              "IPY_MODEL_fd7a066c844246c8a9f3f1392fa7ae44",
              "IPY_MODEL_bba7cd692b504bc29522c02270350ce7"
            ],
            "layout": "IPY_MODEL_9c4ac7381b904664ab9f99e13c9d2979"
          }
        },
        "d30ed7ce537d479887883c39167d6ed3": {
          "model_module": "@jupyter-widgets/controls",
          "model_name": "HTMLModel",
          "model_module_version": "1.5.0",
          "state": {
            "_dom_classes": [],
            "_model_module": "@jupyter-widgets/controls",
            "_model_module_version": "1.5.0",
            "_model_name": "HTMLModel",
            "_view_count": null,
            "_view_module": "@jupyter-widgets/controls",
            "_view_module_version": "1.5.0",
            "_view_name": "HTMLView",
            "description": "",
            "description_tooltip": null,
            "layout": "IPY_MODEL_584c77e7fbed46b2841a674e4c7856a2",
            "placeholder": "​",
            "style": "IPY_MODEL_4b2a26fc547344c8afdda7e5ea46daeb",
            "value": "vocab.txt: 100%"
          }
        },
        "fd7a066c844246c8a9f3f1392fa7ae44": {
          "model_module": "@jupyter-widgets/controls",
          "model_name": "FloatProgressModel",
          "model_module_version": "1.5.0",
          "state": {
            "_dom_classes": [],
            "_model_module": "@jupyter-widgets/controls",
            "_model_module_version": "1.5.0",
            "_model_name": "FloatProgressModel",
            "_view_count": null,
            "_view_module": "@jupyter-widgets/controls",
            "_view_module_version": "1.5.0",
            "_view_name": "ProgressView",
            "bar_style": "success",
            "description": "",
            "description_tooltip": null,
            "layout": "IPY_MODEL_a4e3e77632bf45408ac9d0b488c5aada",
            "max": 231508,
            "min": 0,
            "orientation": "horizontal",
            "style": "IPY_MODEL_c8e46ce9163942c7914ad79836d5c9e4",
            "value": 231508
          }
        },
        "bba7cd692b504bc29522c02270350ce7": {
          "model_module": "@jupyter-widgets/controls",
          "model_name": "HTMLModel",
          "model_module_version": "1.5.0",
          "state": {
            "_dom_classes": [],
            "_model_module": "@jupyter-widgets/controls",
            "_model_module_version": "1.5.0",
            "_model_name": "HTMLModel",
            "_view_count": null,
            "_view_module": "@jupyter-widgets/controls",
            "_view_module_version": "1.5.0",
            "_view_name": "HTMLView",
            "description": "",
            "description_tooltip": null,
            "layout": "IPY_MODEL_0f4ade44a3cd4d24b2e256106322aee0",
            "placeholder": "​",
            "style": "IPY_MODEL_b4eec0eb08134549bd1e44be6c429d25",
            "value": " 232k/232k [00:00&lt;00:00, 1.81MB/s]"
          }
        },
        "9c4ac7381b904664ab9f99e13c9d2979": {
          "model_module": "@jupyter-widgets/base",
          "model_name": "LayoutModel",
          "model_module_version": "1.2.0",
          "state": {
            "_model_module": "@jupyter-widgets/base",
            "_model_module_version": "1.2.0",
            "_model_name": "LayoutModel",
            "_view_count": null,
            "_view_module": "@jupyter-widgets/base",
            "_view_module_version": "1.2.0",
            "_view_name": "LayoutView",
            "align_content": null,
            "align_items": null,
            "align_self": null,
            "border": null,
            "bottom": null,
            "display": null,
            "flex": null,
            "flex_flow": null,
            "grid_area": null,
            "grid_auto_columns": null,
            "grid_auto_flow": null,
            "grid_auto_rows": null,
            "grid_column": null,
            "grid_gap": null,
            "grid_row": null,
            "grid_template_areas": null,
            "grid_template_columns": null,
            "grid_template_rows": null,
            "height": null,
            "justify_content": null,
            "justify_items": null,
            "left": null,
            "margin": null,
            "max_height": null,
            "max_width": null,
            "min_height": null,
            "min_width": null,
            "object_fit": null,
            "object_position": null,
            "order": null,
            "overflow": null,
            "overflow_x": null,
            "overflow_y": null,
            "padding": null,
            "right": null,
            "top": null,
            "visibility": null,
            "width": null
          }
        },
        "584c77e7fbed46b2841a674e4c7856a2": {
          "model_module": "@jupyter-widgets/base",
          "model_name": "LayoutModel",
          "model_module_version": "1.2.0",
          "state": {
            "_model_module": "@jupyter-widgets/base",
            "_model_module_version": "1.2.0",
            "_model_name": "LayoutModel",
            "_view_count": null,
            "_view_module": "@jupyter-widgets/base",
            "_view_module_version": "1.2.0",
            "_view_name": "LayoutView",
            "align_content": null,
            "align_items": null,
            "align_self": null,
            "border": null,
            "bottom": null,
            "display": null,
            "flex": null,
            "flex_flow": null,
            "grid_area": null,
            "grid_auto_columns": null,
            "grid_auto_flow": null,
            "grid_auto_rows": null,
            "grid_column": null,
            "grid_gap": null,
            "grid_row": null,
            "grid_template_areas": null,
            "grid_template_columns": null,
            "grid_template_rows": null,
            "height": null,
            "justify_content": null,
            "justify_items": null,
            "left": null,
            "margin": null,
            "max_height": null,
            "max_width": null,
            "min_height": null,
            "min_width": null,
            "object_fit": null,
            "object_position": null,
            "order": null,
            "overflow": null,
            "overflow_x": null,
            "overflow_y": null,
            "padding": null,
            "right": null,
            "top": null,
            "visibility": null,
            "width": null
          }
        },
        "4b2a26fc547344c8afdda7e5ea46daeb": {
          "model_module": "@jupyter-widgets/controls",
          "model_name": "DescriptionStyleModel",
          "model_module_version": "1.5.0",
          "state": {
            "_model_module": "@jupyter-widgets/controls",
            "_model_module_version": "1.5.0",
            "_model_name": "DescriptionStyleModel",
            "_view_count": null,
            "_view_module": "@jupyter-widgets/base",
            "_view_module_version": "1.2.0",
            "_view_name": "StyleView",
            "description_width": ""
          }
        },
        "a4e3e77632bf45408ac9d0b488c5aada": {
          "model_module": "@jupyter-widgets/base",
          "model_name": "LayoutModel",
          "model_module_version": "1.2.0",
          "state": {
            "_model_module": "@jupyter-widgets/base",
            "_model_module_version": "1.2.0",
            "_model_name": "LayoutModel",
            "_view_count": null,
            "_view_module": "@jupyter-widgets/base",
            "_view_module_version": "1.2.0",
            "_view_name": "LayoutView",
            "align_content": null,
            "align_items": null,
            "align_self": null,
            "border": null,
            "bottom": null,
            "display": null,
            "flex": null,
            "flex_flow": null,
            "grid_area": null,
            "grid_auto_columns": null,
            "grid_auto_flow": null,
            "grid_auto_rows": null,
            "grid_column": null,
            "grid_gap": null,
            "grid_row": null,
            "grid_template_areas": null,
            "grid_template_columns": null,
            "grid_template_rows": null,
            "height": null,
            "justify_content": null,
            "justify_items": null,
            "left": null,
            "margin": null,
            "max_height": null,
            "max_width": null,
            "min_height": null,
            "min_width": null,
            "object_fit": null,
            "object_position": null,
            "order": null,
            "overflow": null,
            "overflow_x": null,
            "overflow_y": null,
            "padding": null,
            "right": null,
            "top": null,
            "visibility": null,
            "width": null
          }
        },
        "c8e46ce9163942c7914ad79836d5c9e4": {
          "model_module": "@jupyter-widgets/controls",
          "model_name": "ProgressStyleModel",
          "model_module_version": "1.5.0",
          "state": {
            "_model_module": "@jupyter-widgets/controls",
            "_model_module_version": "1.5.0",
            "_model_name": "ProgressStyleModel",
            "_view_count": null,
            "_view_module": "@jupyter-widgets/base",
            "_view_module_version": "1.2.0",
            "_view_name": "StyleView",
            "bar_color": null,
            "description_width": ""
          }
        },
        "0f4ade44a3cd4d24b2e256106322aee0": {
          "model_module": "@jupyter-widgets/base",
          "model_name": "LayoutModel",
          "model_module_version": "1.2.0",
          "state": {
            "_model_module": "@jupyter-widgets/base",
            "_model_module_version": "1.2.0",
            "_model_name": "LayoutModel",
            "_view_count": null,
            "_view_module": "@jupyter-widgets/base",
            "_view_module_version": "1.2.0",
            "_view_name": "LayoutView",
            "align_content": null,
            "align_items": null,
            "align_self": null,
            "border": null,
            "bottom": null,
            "display": null,
            "flex": null,
            "flex_flow": null,
            "grid_area": null,
            "grid_auto_columns": null,
            "grid_auto_flow": null,
            "grid_auto_rows": null,
            "grid_column": null,
            "grid_gap": null,
            "grid_row": null,
            "grid_template_areas": null,
            "grid_template_columns": null,
            "grid_template_rows": null,
            "height": null,
            "justify_content": null,
            "justify_items": null,
            "left": null,
            "margin": null,
            "max_height": null,
            "max_width": null,
            "min_height": null,
            "min_width": null,
            "object_fit": null,
            "object_position": null,
            "order": null,
            "overflow": null,
            "overflow_x": null,
            "overflow_y": null,
            "padding": null,
            "right": null,
            "top": null,
            "visibility": null,
            "width": null
          }
        },
        "b4eec0eb08134549bd1e44be6c429d25": {
          "model_module": "@jupyter-widgets/controls",
          "model_name": "DescriptionStyleModel",
          "model_module_version": "1.5.0",
          "state": {
            "_model_module": "@jupyter-widgets/controls",
            "_model_module_version": "1.5.0",
            "_model_name": "DescriptionStyleModel",
            "_view_count": null,
            "_view_module": "@jupyter-widgets/base",
            "_view_module_version": "1.2.0",
            "_view_name": "StyleView",
            "description_width": ""
          }
        },
        "1d91eb2de7c74c3ab951a17eb498e449": {
          "model_module": "@jupyter-widgets/controls",
          "model_name": "HBoxModel",
          "model_module_version": "1.5.0",
          "state": {
            "_dom_classes": [],
            "_model_module": "@jupyter-widgets/controls",
            "_model_module_version": "1.5.0",
            "_model_name": "HBoxModel",
            "_view_count": null,
            "_view_module": "@jupyter-widgets/controls",
            "_view_module_version": "1.5.0",
            "_view_name": "HBoxView",
            "box_style": "",
            "children": [
              "IPY_MODEL_99f937f8ce854d53b9eed44e37ff4f52",
              "IPY_MODEL_d422316bd45442648fce6f2bc4c5efaa",
              "IPY_MODEL_36c6c515050d407b84ed10143c64e7d0"
            ],
            "layout": "IPY_MODEL_0ac5db040ab842a8883c401e5b1ed982"
          }
        },
        "99f937f8ce854d53b9eed44e37ff4f52": {
          "model_module": "@jupyter-widgets/controls",
          "model_name": "HTMLModel",
          "model_module_version": "1.5.0",
          "state": {
            "_dom_classes": [],
            "_model_module": "@jupyter-widgets/controls",
            "_model_module_version": "1.5.0",
            "_model_name": "HTMLModel",
            "_view_count": null,
            "_view_module": "@jupyter-widgets/controls",
            "_view_module_version": "1.5.0",
            "_view_name": "HTMLView",
            "description": "",
            "description_tooltip": null,
            "layout": "IPY_MODEL_4ba9d01152ee461781311257308fb11e",
            "placeholder": "​",
            "style": "IPY_MODEL_3b2d5ebbec9b4ec5a11b2a0a9cd13d1c",
            "value": "tokenizer.json: 100%"
          }
        },
        "d422316bd45442648fce6f2bc4c5efaa": {
          "model_module": "@jupyter-widgets/controls",
          "model_name": "FloatProgressModel",
          "model_module_version": "1.5.0",
          "state": {
            "_dom_classes": [],
            "_model_module": "@jupyter-widgets/controls",
            "_model_module_version": "1.5.0",
            "_model_name": "FloatProgressModel",
            "_view_count": null,
            "_view_module": "@jupyter-widgets/controls",
            "_view_module_version": "1.5.0",
            "_view_name": "ProgressView",
            "bar_style": "success",
            "description": "",
            "description_tooltip": null,
            "layout": "IPY_MODEL_d073b16473a6459e9830d43fa67d59c4",
            "max": 711396,
            "min": 0,
            "orientation": "horizontal",
            "style": "IPY_MODEL_e566479bd54b4888ac487469ab82f58a",
            "value": 711396
          }
        },
        "36c6c515050d407b84ed10143c64e7d0": {
          "model_module": "@jupyter-widgets/controls",
          "model_name": "HTMLModel",
          "model_module_version": "1.5.0",
          "state": {
            "_dom_classes": [],
            "_model_module": "@jupyter-widgets/controls",
            "_model_module_version": "1.5.0",
            "_model_name": "HTMLModel",
            "_view_count": null,
            "_view_module": "@jupyter-widgets/controls",
            "_view_module_version": "1.5.0",
            "_view_name": "HTMLView",
            "description": "",
            "description_tooltip": null,
            "layout": "IPY_MODEL_6b978bb08b6f4d0eb175264774a485a6",
            "placeholder": "​",
            "style": "IPY_MODEL_fc9f8731498746dd920cb74dc1e1e597",
            "value": " 711k/711k [00:00&lt;00:00, 5.27MB/s]"
          }
        },
        "0ac5db040ab842a8883c401e5b1ed982": {
          "model_module": "@jupyter-widgets/base",
          "model_name": "LayoutModel",
          "model_module_version": "1.2.0",
          "state": {
            "_model_module": "@jupyter-widgets/base",
            "_model_module_version": "1.2.0",
            "_model_name": "LayoutModel",
            "_view_count": null,
            "_view_module": "@jupyter-widgets/base",
            "_view_module_version": "1.2.0",
            "_view_name": "LayoutView",
            "align_content": null,
            "align_items": null,
            "align_self": null,
            "border": null,
            "bottom": null,
            "display": null,
            "flex": null,
            "flex_flow": null,
            "grid_area": null,
            "grid_auto_columns": null,
            "grid_auto_flow": null,
            "grid_auto_rows": null,
            "grid_column": null,
            "grid_gap": null,
            "grid_row": null,
            "grid_template_areas": null,
            "grid_template_columns": null,
            "grid_template_rows": null,
            "height": null,
            "justify_content": null,
            "justify_items": null,
            "left": null,
            "margin": null,
            "max_height": null,
            "max_width": null,
            "min_height": null,
            "min_width": null,
            "object_fit": null,
            "object_position": null,
            "order": null,
            "overflow": null,
            "overflow_x": null,
            "overflow_y": null,
            "padding": null,
            "right": null,
            "top": null,
            "visibility": null,
            "width": null
          }
        },
        "4ba9d01152ee461781311257308fb11e": {
          "model_module": "@jupyter-widgets/base",
          "model_name": "LayoutModel",
          "model_module_version": "1.2.0",
          "state": {
            "_model_module": "@jupyter-widgets/base",
            "_model_module_version": "1.2.0",
            "_model_name": "LayoutModel",
            "_view_count": null,
            "_view_module": "@jupyter-widgets/base",
            "_view_module_version": "1.2.0",
            "_view_name": "LayoutView",
            "align_content": null,
            "align_items": null,
            "align_self": null,
            "border": null,
            "bottom": null,
            "display": null,
            "flex": null,
            "flex_flow": null,
            "grid_area": null,
            "grid_auto_columns": null,
            "grid_auto_flow": null,
            "grid_auto_rows": null,
            "grid_column": null,
            "grid_gap": null,
            "grid_row": null,
            "grid_template_areas": null,
            "grid_template_columns": null,
            "grid_template_rows": null,
            "height": null,
            "justify_content": null,
            "justify_items": null,
            "left": null,
            "margin": null,
            "max_height": null,
            "max_width": null,
            "min_height": null,
            "min_width": null,
            "object_fit": null,
            "object_position": null,
            "order": null,
            "overflow": null,
            "overflow_x": null,
            "overflow_y": null,
            "padding": null,
            "right": null,
            "top": null,
            "visibility": null,
            "width": null
          }
        },
        "3b2d5ebbec9b4ec5a11b2a0a9cd13d1c": {
          "model_module": "@jupyter-widgets/controls",
          "model_name": "DescriptionStyleModel",
          "model_module_version": "1.5.0",
          "state": {
            "_model_module": "@jupyter-widgets/controls",
            "_model_module_version": "1.5.0",
            "_model_name": "DescriptionStyleModel",
            "_view_count": null,
            "_view_module": "@jupyter-widgets/base",
            "_view_module_version": "1.2.0",
            "_view_name": "StyleView",
            "description_width": ""
          }
        },
        "d073b16473a6459e9830d43fa67d59c4": {
          "model_module": "@jupyter-widgets/base",
          "model_name": "LayoutModel",
          "model_module_version": "1.2.0",
          "state": {
            "_model_module": "@jupyter-widgets/base",
            "_model_module_version": "1.2.0",
            "_model_name": "LayoutModel",
            "_view_count": null,
            "_view_module": "@jupyter-widgets/base",
            "_view_module_version": "1.2.0",
            "_view_name": "LayoutView",
            "align_content": null,
            "align_items": null,
            "align_self": null,
            "border": null,
            "bottom": null,
            "display": null,
            "flex": null,
            "flex_flow": null,
            "grid_area": null,
            "grid_auto_columns": null,
            "grid_auto_flow": null,
            "grid_auto_rows": null,
            "grid_column": null,
            "grid_gap": null,
            "grid_row": null,
            "grid_template_areas": null,
            "grid_template_columns": null,
            "grid_template_rows": null,
            "height": null,
            "justify_content": null,
            "justify_items": null,
            "left": null,
            "margin": null,
            "max_height": null,
            "max_width": null,
            "min_height": null,
            "min_width": null,
            "object_fit": null,
            "object_position": null,
            "order": null,
            "overflow": null,
            "overflow_x": null,
            "overflow_y": null,
            "padding": null,
            "right": null,
            "top": null,
            "visibility": null,
            "width": null
          }
        },
        "e566479bd54b4888ac487469ab82f58a": {
          "model_module": "@jupyter-widgets/controls",
          "model_name": "ProgressStyleModel",
          "model_module_version": "1.5.0",
          "state": {
            "_model_module": "@jupyter-widgets/controls",
            "_model_module_version": "1.5.0",
            "_model_name": "ProgressStyleModel",
            "_view_count": null,
            "_view_module": "@jupyter-widgets/base",
            "_view_module_version": "1.2.0",
            "_view_name": "StyleView",
            "bar_color": null,
            "description_width": ""
          }
        },
        "6b978bb08b6f4d0eb175264774a485a6": {
          "model_module": "@jupyter-widgets/base",
          "model_name": "LayoutModel",
          "model_module_version": "1.2.0",
          "state": {
            "_model_module": "@jupyter-widgets/base",
            "_model_module_version": "1.2.0",
            "_model_name": "LayoutModel",
            "_view_count": null,
            "_view_module": "@jupyter-widgets/base",
            "_view_module_version": "1.2.0",
            "_view_name": "LayoutView",
            "align_content": null,
            "align_items": null,
            "align_self": null,
            "border": null,
            "bottom": null,
            "display": null,
            "flex": null,
            "flex_flow": null,
            "grid_area": null,
            "grid_auto_columns": null,
            "grid_auto_flow": null,
            "grid_auto_rows": null,
            "grid_column": null,
            "grid_gap": null,
            "grid_row": null,
            "grid_template_areas": null,
            "grid_template_columns": null,
            "grid_template_rows": null,
            "height": null,
            "justify_content": null,
            "justify_items": null,
            "left": null,
            "margin": null,
            "max_height": null,
            "max_width": null,
            "min_height": null,
            "min_width": null,
            "object_fit": null,
            "object_position": null,
            "order": null,
            "overflow": null,
            "overflow_x": null,
            "overflow_y": null,
            "padding": null,
            "right": null,
            "top": null,
            "visibility": null,
            "width": null
          }
        },
        "fc9f8731498746dd920cb74dc1e1e597": {
          "model_module": "@jupyter-widgets/controls",
          "model_name": "DescriptionStyleModel",
          "model_module_version": "1.5.0",
          "state": {
            "_model_module": "@jupyter-widgets/controls",
            "_model_module_version": "1.5.0",
            "_model_name": "DescriptionStyleModel",
            "_view_count": null,
            "_view_module": "@jupyter-widgets/base",
            "_view_module_version": "1.2.0",
            "_view_name": "StyleView",
            "description_width": ""
          }
        },
        "c13ff77fcbbe4aa28a0eb743174d8d9c": {
          "model_module": "@jupyter-widgets/controls",
          "model_name": "HBoxModel",
          "model_module_version": "1.5.0",
          "state": {
            "_dom_classes": [],
            "_model_module": "@jupyter-widgets/controls",
            "_model_module_version": "1.5.0",
            "_model_name": "HBoxModel",
            "_view_count": null,
            "_view_module": "@jupyter-widgets/controls",
            "_view_module_version": "1.5.0",
            "_view_name": "HBoxView",
            "box_style": "",
            "children": [
              "IPY_MODEL_e3108e2f05924f0d8328b68aee8a9b8e",
              "IPY_MODEL_0a34aac958fd4a33b595d67360df5e72",
              "IPY_MODEL_a5894995fb2c4961b5504ca19f6f7efd"
            ],
            "layout": "IPY_MODEL_9a6cb1c537e74ef5817dc913dc49f02b"
          }
        },
        "e3108e2f05924f0d8328b68aee8a9b8e": {
          "model_module": "@jupyter-widgets/controls",
          "model_name": "HTMLModel",
          "model_module_version": "1.5.0",
          "state": {
            "_dom_classes": [],
            "_model_module": "@jupyter-widgets/controls",
            "_model_module_version": "1.5.0",
            "_model_name": "HTMLModel",
            "_view_count": null,
            "_view_module": "@jupyter-widgets/controls",
            "_view_module_version": "1.5.0",
            "_view_name": "HTMLView",
            "description": "",
            "description_tooltip": null,
            "layout": "IPY_MODEL_6f935b418b7e4ad08d74db185fe95f4b",
            "placeholder": "​",
            "style": "IPY_MODEL_8e405a3bd3734237ac518cb7770a9f2e",
            "value": "special_tokens_map.json: 100%"
          }
        },
        "0a34aac958fd4a33b595d67360df5e72": {
          "model_module": "@jupyter-widgets/controls",
          "model_name": "FloatProgressModel",
          "model_module_version": "1.5.0",
          "state": {
            "_dom_classes": [],
            "_model_module": "@jupyter-widgets/controls",
            "_model_module_version": "1.5.0",
            "_model_name": "FloatProgressModel",
            "_view_count": null,
            "_view_module": "@jupyter-widgets/controls",
            "_view_module_version": "1.5.0",
            "_view_name": "ProgressView",
            "bar_style": "success",
            "description": "",
            "description_tooltip": null,
            "layout": "IPY_MODEL_a5166e753bec468e803e9f996e1e3303",
            "max": 125,
            "min": 0,
            "orientation": "horizontal",
            "style": "IPY_MODEL_9a86b63dcb4447509c12dd5cbc084d56",
            "value": 125
          }
        },
        "a5894995fb2c4961b5504ca19f6f7efd": {
          "model_module": "@jupyter-widgets/controls",
          "model_name": "HTMLModel",
          "model_module_version": "1.5.0",
          "state": {
            "_dom_classes": [],
            "_model_module": "@jupyter-widgets/controls",
            "_model_module_version": "1.5.0",
            "_model_name": "HTMLModel",
            "_view_count": null,
            "_view_module": "@jupyter-widgets/controls",
            "_view_module_version": "1.5.0",
            "_view_name": "HTMLView",
            "description": "",
            "description_tooltip": null,
            "layout": "IPY_MODEL_166c4be882a240109a2b92e457c383ab",
            "placeholder": "​",
            "style": "IPY_MODEL_860276079dbc4bf2a8bd0763f35de70d",
            "value": " 125/125 [00:00&lt;00:00, 3.13kB/s]"
          }
        },
        "9a6cb1c537e74ef5817dc913dc49f02b": {
          "model_module": "@jupyter-widgets/base",
          "model_name": "LayoutModel",
          "model_module_version": "1.2.0",
          "state": {
            "_model_module": "@jupyter-widgets/base",
            "_model_module_version": "1.2.0",
            "_model_name": "LayoutModel",
            "_view_count": null,
            "_view_module": "@jupyter-widgets/base",
            "_view_module_version": "1.2.0",
            "_view_name": "LayoutView",
            "align_content": null,
            "align_items": null,
            "align_self": null,
            "border": null,
            "bottom": null,
            "display": null,
            "flex": null,
            "flex_flow": null,
            "grid_area": null,
            "grid_auto_columns": null,
            "grid_auto_flow": null,
            "grid_auto_rows": null,
            "grid_column": null,
            "grid_gap": null,
            "grid_row": null,
            "grid_template_areas": null,
            "grid_template_columns": null,
            "grid_template_rows": null,
            "height": null,
            "justify_content": null,
            "justify_items": null,
            "left": null,
            "margin": null,
            "max_height": null,
            "max_width": null,
            "min_height": null,
            "min_width": null,
            "object_fit": null,
            "object_position": null,
            "order": null,
            "overflow": null,
            "overflow_x": null,
            "overflow_y": null,
            "padding": null,
            "right": null,
            "top": null,
            "visibility": null,
            "width": null
          }
        },
        "6f935b418b7e4ad08d74db185fe95f4b": {
          "model_module": "@jupyter-widgets/base",
          "model_name": "LayoutModel",
          "model_module_version": "1.2.0",
          "state": {
            "_model_module": "@jupyter-widgets/base",
            "_model_module_version": "1.2.0",
            "_model_name": "LayoutModel",
            "_view_count": null,
            "_view_module": "@jupyter-widgets/base",
            "_view_module_version": "1.2.0",
            "_view_name": "LayoutView",
            "align_content": null,
            "align_items": null,
            "align_self": null,
            "border": null,
            "bottom": null,
            "display": null,
            "flex": null,
            "flex_flow": null,
            "grid_area": null,
            "grid_auto_columns": null,
            "grid_auto_flow": null,
            "grid_auto_rows": null,
            "grid_column": null,
            "grid_gap": null,
            "grid_row": null,
            "grid_template_areas": null,
            "grid_template_columns": null,
            "grid_template_rows": null,
            "height": null,
            "justify_content": null,
            "justify_items": null,
            "left": null,
            "margin": null,
            "max_height": null,
            "max_width": null,
            "min_height": null,
            "min_width": null,
            "object_fit": null,
            "object_position": null,
            "order": null,
            "overflow": null,
            "overflow_x": null,
            "overflow_y": null,
            "padding": null,
            "right": null,
            "top": null,
            "visibility": null,
            "width": null
          }
        },
        "8e405a3bd3734237ac518cb7770a9f2e": {
          "model_module": "@jupyter-widgets/controls",
          "model_name": "DescriptionStyleModel",
          "model_module_version": "1.5.0",
          "state": {
            "_model_module": "@jupyter-widgets/controls",
            "_model_module_version": "1.5.0",
            "_model_name": "DescriptionStyleModel",
            "_view_count": null,
            "_view_module": "@jupyter-widgets/base",
            "_view_module_version": "1.2.0",
            "_view_name": "StyleView",
            "description_width": ""
          }
        },
        "a5166e753bec468e803e9f996e1e3303": {
          "model_module": "@jupyter-widgets/base",
          "model_name": "LayoutModel",
          "model_module_version": "1.2.0",
          "state": {
            "_model_module": "@jupyter-widgets/base",
            "_model_module_version": "1.2.0",
            "_model_name": "LayoutModel",
            "_view_count": null,
            "_view_module": "@jupyter-widgets/base",
            "_view_module_version": "1.2.0",
            "_view_name": "LayoutView",
            "align_content": null,
            "align_items": null,
            "align_self": null,
            "border": null,
            "bottom": null,
            "display": null,
            "flex": null,
            "flex_flow": null,
            "grid_area": null,
            "grid_auto_columns": null,
            "grid_auto_flow": null,
            "grid_auto_rows": null,
            "grid_column": null,
            "grid_gap": null,
            "grid_row": null,
            "grid_template_areas": null,
            "grid_template_columns": null,
            "grid_template_rows": null,
            "height": null,
            "justify_content": null,
            "justify_items": null,
            "left": null,
            "margin": null,
            "max_height": null,
            "max_width": null,
            "min_height": null,
            "min_width": null,
            "object_fit": null,
            "object_position": null,
            "order": null,
            "overflow": null,
            "overflow_x": null,
            "overflow_y": null,
            "padding": null,
            "right": null,
            "top": null,
            "visibility": null,
            "width": null
          }
        },
        "9a86b63dcb4447509c12dd5cbc084d56": {
          "model_module": "@jupyter-widgets/controls",
          "model_name": "ProgressStyleModel",
          "model_module_version": "1.5.0",
          "state": {
            "_model_module": "@jupyter-widgets/controls",
            "_model_module_version": "1.5.0",
            "_model_name": "ProgressStyleModel",
            "_view_count": null,
            "_view_module": "@jupyter-widgets/base",
            "_view_module_version": "1.2.0",
            "_view_name": "StyleView",
            "bar_color": null,
            "description_width": ""
          }
        },
        "166c4be882a240109a2b92e457c383ab": {
          "model_module": "@jupyter-widgets/base",
          "model_name": "LayoutModel",
          "model_module_version": "1.2.0",
          "state": {
            "_model_module": "@jupyter-widgets/base",
            "_model_module_version": "1.2.0",
            "_model_name": "LayoutModel",
            "_view_count": null,
            "_view_module": "@jupyter-widgets/base",
            "_view_module_version": "1.2.0",
            "_view_name": "LayoutView",
            "align_content": null,
            "align_items": null,
            "align_self": null,
            "border": null,
            "bottom": null,
            "display": null,
            "flex": null,
            "flex_flow": null,
            "grid_area": null,
            "grid_auto_columns": null,
            "grid_auto_flow": null,
            "grid_auto_rows": null,
            "grid_column": null,
            "grid_gap": null,
            "grid_row": null,
            "grid_template_areas": null,
            "grid_template_columns": null,
            "grid_template_rows": null,
            "height": null,
            "justify_content": null,
            "justify_items": null,
            "left": null,
            "margin": null,
            "max_height": null,
            "max_width": null,
            "min_height": null,
            "min_width": null,
            "object_fit": null,
            "object_position": null,
            "order": null,
            "overflow": null,
            "overflow_x": null,
            "overflow_y": null,
            "padding": null,
            "right": null,
            "top": null,
            "visibility": null,
            "width": null
          }
        },
        "860276079dbc4bf2a8bd0763f35de70d": {
          "model_module": "@jupyter-widgets/controls",
          "model_name": "DescriptionStyleModel",
          "model_module_version": "1.5.0",
          "state": {
            "_model_module": "@jupyter-widgets/controls",
            "_model_module_version": "1.5.0",
            "_model_name": "DescriptionStyleModel",
            "_view_count": null,
            "_view_module": "@jupyter-widgets/base",
            "_view_module_version": "1.2.0",
            "_view_name": "StyleView",
            "description_width": ""
          }
        },
        "2828e03831874c9c8f58ee35cafbaf55": {
          "model_module": "@jupyter-widgets/controls",
          "model_name": "HBoxModel",
          "model_module_version": "1.5.0",
          "state": {
            "_dom_classes": [],
            "_model_module": "@jupyter-widgets/controls",
            "_model_module_version": "1.5.0",
            "_model_name": "HBoxModel",
            "_view_count": null,
            "_view_module": "@jupyter-widgets/controls",
            "_view_module_version": "1.5.0",
            "_view_name": "HBoxView",
            "box_style": "",
            "children": [
              "IPY_MODEL_dfd5c65f4f724147af903293fdfdacaf",
              "IPY_MODEL_63dbbd402b46459b92c07ab5dfae64b8",
              "IPY_MODEL_7639e7c4240b4f42bb500b47a6d02a61"
            ],
            "layout": "IPY_MODEL_b445f1b173f041469e43e3eaee1d50cd"
          }
        },
        "dfd5c65f4f724147af903293fdfdacaf": {
          "model_module": "@jupyter-widgets/controls",
          "model_name": "HTMLModel",
          "model_module_version": "1.5.0",
          "state": {
            "_dom_classes": [],
            "_model_module": "@jupyter-widgets/controls",
            "_model_module_version": "1.5.0",
            "_model_name": "HTMLModel",
            "_view_count": null,
            "_view_module": "@jupyter-widgets/controls",
            "_view_module_version": "1.5.0",
            "_view_name": "HTMLView",
            "description": "",
            "description_tooltip": null,
            "layout": "IPY_MODEL_c1f27043193e43e6ab166c9a8ac1e41e",
            "placeholder": "​",
            "style": "IPY_MODEL_00f8861eb9514853be805c6b30c52dba",
            "value": "config.json: 100%"
          }
        },
        "63dbbd402b46459b92c07ab5dfae64b8": {
          "model_module": "@jupyter-widgets/controls",
          "model_name": "FloatProgressModel",
          "model_module_version": "1.5.0",
          "state": {
            "_dom_classes": [],
            "_model_module": "@jupyter-widgets/controls",
            "_model_module_version": "1.5.0",
            "_model_name": "FloatProgressModel",
            "_view_count": null,
            "_view_module": "@jupyter-widgets/controls",
            "_view_module_version": "1.5.0",
            "_view_name": "ProgressView",
            "bar_style": "success",
            "description": "",
            "description_tooltip": null,
            "layout": "IPY_MODEL_2bbc79c1278e4ebda637e55c3c0ec0fc",
            "max": 4597,
            "min": 0,
            "orientation": "horizontal",
            "style": "IPY_MODEL_e8a994f6ca7c45acb5a36415b099e345",
            "value": 4597
          }
        },
        "7639e7c4240b4f42bb500b47a6d02a61": {
          "model_module": "@jupyter-widgets/controls",
          "model_name": "HTMLModel",
          "model_module_version": "1.5.0",
          "state": {
            "_dom_classes": [],
            "_model_module": "@jupyter-widgets/controls",
            "_model_module_version": "1.5.0",
            "_model_name": "HTMLModel",
            "_view_count": null,
            "_view_module": "@jupyter-widgets/controls",
            "_view_module_version": "1.5.0",
            "_view_name": "HTMLView",
            "description": "",
            "description_tooltip": null,
            "layout": "IPY_MODEL_65eede1eacdb4826a85d07ef0374572a",
            "placeholder": "​",
            "style": "IPY_MODEL_8cf929a850e544e0afa613b7fc6f52d6",
            "value": " 4.60k/4.60k [00:00&lt;00:00, 194kB/s]"
          }
        },
        "b445f1b173f041469e43e3eaee1d50cd": {
          "model_module": "@jupyter-widgets/base",
          "model_name": "LayoutModel",
          "model_module_version": "1.2.0",
          "state": {
            "_model_module": "@jupyter-widgets/base",
            "_model_module_version": "1.2.0",
            "_model_name": "LayoutModel",
            "_view_count": null,
            "_view_module": "@jupyter-widgets/base",
            "_view_module_version": "1.2.0",
            "_view_name": "LayoutView",
            "align_content": null,
            "align_items": null,
            "align_self": null,
            "border": null,
            "bottom": null,
            "display": null,
            "flex": null,
            "flex_flow": null,
            "grid_area": null,
            "grid_auto_columns": null,
            "grid_auto_flow": null,
            "grid_auto_rows": null,
            "grid_column": null,
            "grid_gap": null,
            "grid_row": null,
            "grid_template_areas": null,
            "grid_template_columns": null,
            "grid_template_rows": null,
            "height": null,
            "justify_content": null,
            "justify_items": null,
            "left": null,
            "margin": null,
            "max_height": null,
            "max_width": null,
            "min_height": null,
            "min_width": null,
            "object_fit": null,
            "object_position": null,
            "order": null,
            "overflow": null,
            "overflow_x": null,
            "overflow_y": null,
            "padding": null,
            "right": null,
            "top": null,
            "visibility": null,
            "width": null
          }
        },
        "c1f27043193e43e6ab166c9a8ac1e41e": {
          "model_module": "@jupyter-widgets/base",
          "model_name": "LayoutModel",
          "model_module_version": "1.2.0",
          "state": {
            "_model_module": "@jupyter-widgets/base",
            "_model_module_version": "1.2.0",
            "_model_name": "LayoutModel",
            "_view_count": null,
            "_view_module": "@jupyter-widgets/base",
            "_view_module_version": "1.2.0",
            "_view_name": "LayoutView",
            "align_content": null,
            "align_items": null,
            "align_self": null,
            "border": null,
            "bottom": null,
            "display": null,
            "flex": null,
            "flex_flow": null,
            "grid_area": null,
            "grid_auto_columns": null,
            "grid_auto_flow": null,
            "grid_auto_rows": null,
            "grid_column": null,
            "grid_gap": null,
            "grid_row": null,
            "grid_template_areas": null,
            "grid_template_columns": null,
            "grid_template_rows": null,
            "height": null,
            "justify_content": null,
            "justify_items": null,
            "left": null,
            "margin": null,
            "max_height": null,
            "max_width": null,
            "min_height": null,
            "min_width": null,
            "object_fit": null,
            "object_position": null,
            "order": null,
            "overflow": null,
            "overflow_x": null,
            "overflow_y": null,
            "padding": null,
            "right": null,
            "top": null,
            "visibility": null,
            "width": null
          }
        },
        "00f8861eb9514853be805c6b30c52dba": {
          "model_module": "@jupyter-widgets/controls",
          "model_name": "DescriptionStyleModel",
          "model_module_version": "1.5.0",
          "state": {
            "_model_module": "@jupyter-widgets/controls",
            "_model_module_version": "1.5.0",
            "_model_name": "DescriptionStyleModel",
            "_view_count": null,
            "_view_module": "@jupyter-widgets/base",
            "_view_module_version": "1.2.0",
            "_view_name": "StyleView",
            "description_width": ""
          }
        },
        "2bbc79c1278e4ebda637e55c3c0ec0fc": {
          "model_module": "@jupyter-widgets/base",
          "model_name": "LayoutModel",
          "model_module_version": "1.2.0",
          "state": {
            "_model_module": "@jupyter-widgets/base",
            "_model_module_version": "1.2.0",
            "_model_name": "LayoutModel",
            "_view_count": null,
            "_view_module": "@jupyter-widgets/base",
            "_view_module_version": "1.2.0",
            "_view_name": "LayoutView",
            "align_content": null,
            "align_items": null,
            "align_self": null,
            "border": null,
            "bottom": null,
            "display": null,
            "flex": null,
            "flex_flow": null,
            "grid_area": null,
            "grid_auto_columns": null,
            "grid_auto_flow": null,
            "grid_auto_rows": null,
            "grid_column": null,
            "grid_gap": null,
            "grid_row": null,
            "grid_template_areas": null,
            "grid_template_columns": null,
            "grid_template_rows": null,
            "height": null,
            "justify_content": null,
            "justify_items": null,
            "left": null,
            "margin": null,
            "max_height": null,
            "max_width": null,
            "min_height": null,
            "min_width": null,
            "object_fit": null,
            "object_position": null,
            "order": null,
            "overflow": null,
            "overflow_x": null,
            "overflow_y": null,
            "padding": null,
            "right": null,
            "top": null,
            "visibility": null,
            "width": null
          }
        },
        "e8a994f6ca7c45acb5a36415b099e345": {
          "model_module": "@jupyter-widgets/controls",
          "model_name": "ProgressStyleModel",
          "model_module_version": "1.5.0",
          "state": {
            "_model_module": "@jupyter-widgets/controls",
            "_model_module_version": "1.5.0",
            "_model_name": "ProgressStyleModel",
            "_view_count": null,
            "_view_module": "@jupyter-widgets/base",
            "_view_module_version": "1.2.0",
            "_view_name": "StyleView",
            "bar_color": null,
            "description_width": ""
          }
        },
        "65eede1eacdb4826a85d07ef0374572a": {
          "model_module": "@jupyter-widgets/base",
          "model_name": "LayoutModel",
          "model_module_version": "1.2.0",
          "state": {
            "_model_module": "@jupyter-widgets/base",
            "_model_module_version": "1.2.0",
            "_model_name": "LayoutModel",
            "_view_count": null,
            "_view_module": "@jupyter-widgets/base",
            "_view_module_version": "1.2.0",
            "_view_name": "LayoutView",
            "align_content": null,
            "align_items": null,
            "align_self": null,
            "border": null,
            "bottom": null,
            "display": null,
            "flex": null,
            "flex_flow": null,
            "grid_area": null,
            "grid_auto_columns": null,
            "grid_auto_flow": null,
            "grid_auto_rows": null,
            "grid_column": null,
            "grid_gap": null,
            "grid_row": null,
            "grid_template_areas": null,
            "grid_template_columns": null,
            "grid_template_rows": null,
            "height": null,
            "justify_content": null,
            "justify_items": null,
            "left": null,
            "margin": null,
            "max_height": null,
            "max_width": null,
            "min_height": null,
            "min_width": null,
            "object_fit": null,
            "object_position": null,
            "order": null,
            "overflow": null,
            "overflow_x": null,
            "overflow_y": null,
            "padding": null,
            "right": null,
            "top": null,
            "visibility": null,
            "width": null
          }
        },
        "8cf929a850e544e0afa613b7fc6f52d6": {
          "model_module": "@jupyter-widgets/controls",
          "model_name": "DescriptionStyleModel",
          "model_module_version": "1.5.0",
          "state": {
            "_model_module": "@jupyter-widgets/controls",
            "_model_module_version": "1.5.0",
            "_model_name": "DescriptionStyleModel",
            "_view_count": null,
            "_view_module": "@jupyter-widgets/base",
            "_view_module_version": "1.2.0",
            "_view_name": "StyleView",
            "description_width": ""
          }
        },
        "6b664b715145428894f6639fe3defc10": {
          "model_module": "@jupyter-widgets/controls",
          "model_name": "HBoxModel",
          "model_module_version": "1.5.0",
          "state": {
            "_dom_classes": [],
            "_model_module": "@jupyter-widgets/controls",
            "_model_module_version": "1.5.0",
            "_model_name": "HBoxModel",
            "_view_count": null,
            "_view_module": "@jupyter-widgets/controls",
            "_view_module_version": "1.5.0",
            "_view_name": "HBoxView",
            "box_style": "",
            "children": [
              "IPY_MODEL_e0c669293be2467984c285fbd8cc3124",
              "IPY_MODEL_0e3fa8ccd8d24c6bbd71cda12566555a",
              "IPY_MODEL_fa9d93e6b78d4d78a93398be8c55001c"
            ],
            "layout": "IPY_MODEL_616299ccf043457d8f86303d976f41c7"
          }
        },
        "e0c669293be2467984c285fbd8cc3124": {
          "model_module": "@jupyter-widgets/controls",
          "model_name": "HTMLModel",
          "model_module_version": "1.5.0",
          "state": {
            "_dom_classes": [],
            "_model_module": "@jupyter-widgets/controls",
            "_model_module_version": "1.5.0",
            "_model_name": "HTMLModel",
            "_view_count": null,
            "_view_module": "@jupyter-widgets/controls",
            "_view_module_version": "1.5.0",
            "_view_name": "HTMLView",
            "description": "",
            "description_tooltip": null,
            "layout": "IPY_MODEL_045e0f2468db46d3805205947cde3541",
            "placeholder": "​",
            "style": "IPY_MODEL_6dc39a46db264517b940b9aabcab6ea0",
            "value": "model.safetensors: 100%"
          }
        },
        "0e3fa8ccd8d24c6bbd71cda12566555a": {
          "model_module": "@jupyter-widgets/controls",
          "model_name": "FloatProgressModel",
          "model_module_version": "1.5.0",
          "state": {
            "_dom_classes": [],
            "_model_module": "@jupyter-widgets/controls",
            "_model_module_version": "1.5.0",
            "_model_name": "FloatProgressModel",
            "_view_count": null,
            "_view_module": "@jupyter-widgets/controls",
            "_view_module_version": "1.5.0",
            "_view_name": "ProgressView",
            "bar_style": "success",
            "description": "",
            "description_tooltip": null,
            "layout": "IPY_MODEL_b9edf2be27b14453afed30e9988e2b81",
            "max": 1879014680,
            "min": 0,
            "orientation": "horizontal",
            "style": "IPY_MODEL_7fec044fac9748c4b284db1ca1966565",
            "value": 1879014680
          }
        },
        "fa9d93e6b78d4d78a93398be8c55001c": {
          "model_module": "@jupyter-widgets/controls",
          "model_name": "HTMLModel",
          "model_module_version": "1.5.0",
          "state": {
            "_dom_classes": [],
            "_model_module": "@jupyter-widgets/controls",
            "_model_module_version": "1.5.0",
            "_model_name": "HTMLModel",
            "_view_count": null,
            "_view_module": "@jupyter-widgets/controls",
            "_view_module_version": "1.5.0",
            "_view_name": "HTMLView",
            "description": "",
            "description_tooltip": null,
            "layout": "IPY_MODEL_1904b863622c4e9d9e854896379df061",
            "placeholder": "​",
            "style": "IPY_MODEL_433eb9b28fda4e96bd32d9fb7b516390",
            "value": " 1.88G/1.88G [00:40&lt;00:00, 18.0MB/s]"
          }
        },
        "616299ccf043457d8f86303d976f41c7": {
          "model_module": "@jupyter-widgets/base",
          "model_name": "LayoutModel",
          "model_module_version": "1.2.0",
          "state": {
            "_model_module": "@jupyter-widgets/base",
            "_model_module_version": "1.2.0",
            "_model_name": "LayoutModel",
            "_view_count": null,
            "_view_module": "@jupyter-widgets/base",
            "_view_module_version": "1.2.0",
            "_view_name": "LayoutView",
            "align_content": null,
            "align_items": null,
            "align_self": null,
            "border": null,
            "bottom": null,
            "display": null,
            "flex": null,
            "flex_flow": null,
            "grid_area": null,
            "grid_auto_columns": null,
            "grid_auto_flow": null,
            "grid_auto_rows": null,
            "grid_column": null,
            "grid_gap": null,
            "grid_row": null,
            "grid_template_areas": null,
            "grid_template_columns": null,
            "grid_template_rows": null,
            "height": null,
            "justify_content": null,
            "justify_items": null,
            "left": null,
            "margin": null,
            "max_height": null,
            "max_width": null,
            "min_height": null,
            "min_width": null,
            "object_fit": null,
            "object_position": null,
            "order": null,
            "overflow": null,
            "overflow_x": null,
            "overflow_y": null,
            "padding": null,
            "right": null,
            "top": null,
            "visibility": null,
            "width": null
          }
        },
        "045e0f2468db46d3805205947cde3541": {
          "model_module": "@jupyter-widgets/base",
          "model_name": "LayoutModel",
          "model_module_version": "1.2.0",
          "state": {
            "_model_module": "@jupyter-widgets/base",
            "_model_module_version": "1.2.0",
            "_model_name": "LayoutModel",
            "_view_count": null,
            "_view_module": "@jupyter-widgets/base",
            "_view_module_version": "1.2.0",
            "_view_name": "LayoutView",
            "align_content": null,
            "align_items": null,
            "align_self": null,
            "border": null,
            "bottom": null,
            "display": null,
            "flex": null,
            "flex_flow": null,
            "grid_area": null,
            "grid_auto_columns": null,
            "grid_auto_flow": null,
            "grid_auto_rows": null,
            "grid_column": null,
            "grid_gap": null,
            "grid_row": null,
            "grid_template_areas": null,
            "grid_template_columns": null,
            "grid_template_rows": null,
            "height": null,
            "justify_content": null,
            "justify_items": null,
            "left": null,
            "margin": null,
            "max_height": null,
            "max_width": null,
            "min_height": null,
            "min_width": null,
            "object_fit": null,
            "object_position": null,
            "order": null,
            "overflow": null,
            "overflow_x": null,
            "overflow_y": null,
            "padding": null,
            "right": null,
            "top": null,
            "visibility": null,
            "width": null
          }
        },
        "6dc39a46db264517b940b9aabcab6ea0": {
          "model_module": "@jupyter-widgets/controls",
          "model_name": "DescriptionStyleModel",
          "model_module_version": "1.5.0",
          "state": {
            "_model_module": "@jupyter-widgets/controls",
            "_model_module_version": "1.5.0",
            "_model_name": "DescriptionStyleModel",
            "_view_count": null,
            "_view_module": "@jupyter-widgets/base",
            "_view_module_version": "1.2.0",
            "_view_name": "StyleView",
            "description_width": ""
          }
        },
        "b9edf2be27b14453afed30e9988e2b81": {
          "model_module": "@jupyter-widgets/base",
          "model_name": "LayoutModel",
          "model_module_version": "1.2.0",
          "state": {
            "_model_module": "@jupyter-widgets/base",
            "_model_module_version": "1.2.0",
            "_model_name": "LayoutModel",
            "_view_count": null,
            "_view_module": "@jupyter-widgets/base",
            "_view_module_version": "1.2.0",
            "_view_name": "LayoutView",
            "align_content": null,
            "align_items": null,
            "align_self": null,
            "border": null,
            "bottom": null,
            "display": null,
            "flex": null,
            "flex_flow": null,
            "grid_area": null,
            "grid_auto_columns": null,
            "grid_auto_flow": null,
            "grid_auto_rows": null,
            "grid_column": null,
            "grid_gap": null,
            "grid_row": null,
            "grid_template_areas": null,
            "grid_template_columns": null,
            "grid_template_rows": null,
            "height": null,
            "justify_content": null,
            "justify_items": null,
            "left": null,
            "margin": null,
            "max_height": null,
            "max_width": null,
            "min_height": null,
            "min_width": null,
            "object_fit": null,
            "object_position": null,
            "order": null,
            "overflow": null,
            "overflow_x": null,
            "overflow_y": null,
            "padding": null,
            "right": null,
            "top": null,
            "visibility": null,
            "width": null
          }
        },
        "7fec044fac9748c4b284db1ca1966565": {
          "model_module": "@jupyter-widgets/controls",
          "model_name": "ProgressStyleModel",
          "model_module_version": "1.5.0",
          "state": {
            "_model_module": "@jupyter-widgets/controls",
            "_model_module_version": "1.5.0",
            "_model_name": "ProgressStyleModel",
            "_view_count": null,
            "_view_module": "@jupyter-widgets/base",
            "_view_module_version": "1.2.0",
            "_view_name": "StyleView",
            "bar_color": null,
            "description_width": ""
          }
        },
        "1904b863622c4e9d9e854896379df061": {
          "model_module": "@jupyter-widgets/base",
          "model_name": "LayoutModel",
          "model_module_version": "1.2.0",
          "state": {
            "_model_module": "@jupyter-widgets/base",
            "_model_module_version": "1.2.0",
            "_model_name": "LayoutModel",
            "_view_count": null,
            "_view_module": "@jupyter-widgets/base",
            "_view_module_version": "1.2.0",
            "_view_name": "LayoutView",
            "align_content": null,
            "align_items": null,
            "align_self": null,
            "border": null,
            "bottom": null,
            "display": null,
            "flex": null,
            "flex_flow": null,
            "grid_area": null,
            "grid_auto_columns": null,
            "grid_auto_flow": null,
            "grid_auto_rows": null,
            "grid_column": null,
            "grid_gap": null,
            "grid_row": null,
            "grid_template_areas": null,
            "grid_template_columns": null,
            "grid_template_rows": null,
            "height": null,
            "justify_content": null,
            "justify_items": null,
            "left": null,
            "margin": null,
            "max_height": null,
            "max_width": null,
            "min_height": null,
            "min_width": null,
            "object_fit": null,
            "object_position": null,
            "order": null,
            "overflow": null,
            "overflow_x": null,
            "overflow_y": null,
            "padding": null,
            "right": null,
            "top": null,
            "visibility": null,
            "width": null
          }
        },
        "433eb9b28fda4e96bd32d9fb7b516390": {
          "model_module": "@jupyter-widgets/controls",
          "model_name": "DescriptionStyleModel",
          "model_module_version": "1.5.0",
          "state": {
            "_model_module": "@jupyter-widgets/controls",
            "_model_module_version": "1.5.0",
            "_model_name": "DescriptionStyleModel",
            "_view_count": null,
            "_view_module": "@jupyter-widgets/base",
            "_view_module_version": "1.2.0",
            "_view_name": "StyleView",
            "description_width": ""
          }
        }
      }
    }
  },
  "cells": [
    {
      "cell_type": "code",
      "source": [
        "pip install marker-pdf"
      ],
      "metadata": {
        "colab": {
          "base_uri": "https://localhost:8080/"
        },
        "id": "LCFJjLCfz3d7",
        "outputId": "6063be9d-2ecd-4c18-e73d-d9a6191fb05a",
        "collapsed": true
      },
      "execution_count": null,
      "outputs": [
        {
          "output_type": "stream",
          "name": "stdout",
          "text": [
            "Requirement already satisfied: marker-pdf in /usr/local/lib/python3.10/dist-packages (0.3.10)\n",
            "Requirement already satisfied: Pillow<11.0.0,>=10.1.0 in /usr/local/lib/python3.10/dist-packages (from marker-pdf) (10.4.0)\n",
            "Requirement already satisfied: filetype<2.0.0,>=1.2.0 in /usr/local/lib/python3.10/dist-packages (from marker-pdf) (1.2.0)\n",
            "Requirement already satisfied: ftfy<7.0.0,>=6.1.1 in /usr/local/lib/python3.10/dist-packages (from marker-pdf) (6.3.1)\n",
            "Requirement already satisfied: pdftext<0.4.0,>=0.3.18 in /usr/local/lib/python3.10/dist-packages (from marker-pdf) (0.3.19)\n",
            "Requirement already satisfied: pydantic<3.0.0,>=2.4.2 in /usr/local/lib/python3.10/dist-packages (from marker-pdf) (2.9.2)\n",
            "Requirement already satisfied: pydantic-settings<3.0.0,>=2.0.3 in /usr/local/lib/python3.10/dist-packages (from marker-pdf) (2.6.1)\n",
            "Requirement already satisfied: python-dotenv<2.0.0,>=1.0.0 in /usr/local/lib/python3.10/dist-packages (from marker-pdf) (1.0.1)\n",
            "Requirement already satisfied: rapidfuzz<4.0.0,>=3.8.1 in /usr/local/lib/python3.10/dist-packages (from marker-pdf) (3.10.1)\n",
            "Requirement already satisfied: regex<2025.0.0,>=2024.4.28 in /usr/local/lib/python3.10/dist-packages (from marker-pdf) (2024.9.11)\n",
            "Requirement already satisfied: surya-ocr<0.7.0,>=0.6.13 in /usr/local/lib/python3.10/dist-packages (from marker-pdf) (0.6.13)\n",
            "Requirement already satisfied: tabled-pdf<0.2.0,>=0.1.4 in /usr/local/lib/python3.10/dist-packages (from marker-pdf) (0.1.4)\n",
            "Requirement already satisfied: tabulate<0.10.0,>=0.9.0 in /usr/local/lib/python3.10/dist-packages (from marker-pdf) (0.9.0)\n",
            "Requirement already satisfied: texify<0.3.0,>=0.2.1 in /usr/local/lib/python3.10/dist-packages (from marker-pdf) (0.2.1)\n",
            "Requirement already satisfied: torch<3.0.0,>=2.4.1 in /usr/local/lib/python3.10/dist-packages (from marker-pdf) (2.5.1+cu121)\n",
            "Requirement already satisfied: tqdm<5.0.0,>=4.66.1 in /usr/local/lib/python3.10/dist-packages (from marker-pdf) (4.66.6)\n",
            "Requirement already satisfied: transformers<5.0.0,>=4.45.2 in /usr/local/lib/python3.10/dist-packages (from marker-pdf) (4.46.2)\n",
            "Requirement already satisfied: wcwidth in /usr/local/lib/python3.10/dist-packages (from ftfy<7.0.0,>=6.1.1->marker-pdf) (0.2.13)\n",
            "Requirement already satisfied: onnxruntime<2.0.0,>=1.19.2 in /usr/local/lib/python3.10/dist-packages (from pdftext<0.4.0,>=0.3.18->marker-pdf) (1.20.1)\n",
            "Requirement already satisfied: pypdfium2<5.0.0,>=4.29.0 in /usr/local/lib/python3.10/dist-packages (from pdftext<0.4.0,>=0.3.18->marker-pdf) (4.30.0)\n",
            "Requirement already satisfied: annotated-types>=0.6.0 in /usr/local/lib/python3.10/dist-packages (from pydantic<3.0.0,>=2.4.2->marker-pdf) (0.7.0)\n",
            "Requirement already satisfied: pydantic-core==2.23.4 in /usr/local/lib/python3.10/dist-packages (from pydantic<3.0.0,>=2.4.2->marker-pdf) (2.23.4)\n",
            "Requirement already satisfied: typing-extensions>=4.6.1 in /usr/local/lib/python3.10/dist-packages (from pydantic<3.0.0,>=2.4.2->marker-pdf) (4.12.2)\n",
            "Requirement already satisfied: opencv-python<5.0.0.0,>=4.9.0.80 in /usr/local/lib/python3.10/dist-packages (from surya-ocr<0.7.0,>=0.6.13->marker-pdf) (4.10.0.84)\n",
            "Requirement already satisfied: click<9.0.0,>=8.1.7 in /usr/local/lib/python3.10/dist-packages (from tabled-pdf<0.2.0,>=0.1.4->marker-pdf) (8.1.7)\n",
            "Requirement already satisfied: scikit-learn<2.0.0,>=1.5.2 in /usr/local/lib/python3.10/dist-packages (from tabled-pdf<0.2.0,>=0.1.4->marker-pdf) (1.5.2)\n",
            "Requirement already satisfied: filelock in /usr/local/lib/python3.10/dist-packages (from torch<3.0.0,>=2.4.1->marker-pdf) (3.16.1)\n",
            "Requirement already satisfied: networkx in /usr/local/lib/python3.10/dist-packages (from torch<3.0.0,>=2.4.1->marker-pdf) (3.4.2)\n",
            "Requirement already satisfied: jinja2 in /usr/local/lib/python3.10/dist-packages (from torch<3.0.0,>=2.4.1->marker-pdf) (3.1.4)\n",
            "Requirement already satisfied: fsspec in /usr/local/lib/python3.10/dist-packages (from torch<3.0.0,>=2.4.1->marker-pdf) (2024.10.0)\n",
            "Requirement already satisfied: sympy==1.13.1 in /usr/local/lib/python3.10/dist-packages (from torch<3.0.0,>=2.4.1->marker-pdf) (1.13.1)\n",
            "Requirement already satisfied: mpmath<1.4,>=1.1.0 in /usr/local/lib/python3.10/dist-packages (from sympy==1.13.1->torch<3.0.0,>=2.4.1->marker-pdf) (1.3.0)\n",
            "Requirement already satisfied: huggingface-hub<1.0,>=0.23.2 in /usr/local/lib/python3.10/dist-packages (from transformers<5.0.0,>=4.45.2->marker-pdf) (0.26.2)\n",
            "Requirement already satisfied: numpy>=1.17 in /usr/local/lib/python3.10/dist-packages (from transformers<5.0.0,>=4.45.2->marker-pdf) (1.26.4)\n",
            "Requirement already satisfied: packaging>=20.0 in /usr/local/lib/python3.10/dist-packages (from transformers<5.0.0,>=4.45.2->marker-pdf) (24.2)\n",
            "Requirement already satisfied: pyyaml>=5.1 in /usr/local/lib/python3.10/dist-packages (from transformers<5.0.0,>=4.45.2->marker-pdf) (6.0.2)\n",
            "Requirement already satisfied: requests in /usr/local/lib/python3.10/dist-packages (from transformers<5.0.0,>=4.45.2->marker-pdf) (2.32.3)\n",
            "Requirement already satisfied: safetensors>=0.4.1 in /usr/local/lib/python3.10/dist-packages (from transformers<5.0.0,>=4.45.2->marker-pdf) (0.4.5)\n",
            "Requirement already satisfied: tokenizers<0.21,>=0.20 in /usr/local/lib/python3.10/dist-packages (from transformers<5.0.0,>=4.45.2->marker-pdf) (0.20.3)\n",
            "Requirement already satisfied: coloredlogs in /usr/local/lib/python3.10/dist-packages (from onnxruntime<2.0.0,>=1.19.2->pdftext<0.4.0,>=0.3.18->marker-pdf) (15.0.1)\n",
            "Requirement already satisfied: flatbuffers in /usr/local/lib/python3.10/dist-packages (from onnxruntime<2.0.0,>=1.19.2->pdftext<0.4.0,>=0.3.18->marker-pdf) (24.3.25)\n",
            "Requirement already satisfied: protobuf in /usr/local/lib/python3.10/dist-packages (from onnxruntime<2.0.0,>=1.19.2->pdftext<0.4.0,>=0.3.18->marker-pdf) (5.28.3)\n",
            "Requirement already satisfied: scipy>=1.6.0 in /usr/local/lib/python3.10/dist-packages (from scikit-learn<2.0.0,>=1.5.2->tabled-pdf<0.2.0,>=0.1.4->marker-pdf) (1.13.1)\n",
            "Requirement already satisfied: joblib>=1.2.0 in /usr/local/lib/python3.10/dist-packages (from scikit-learn<2.0.0,>=1.5.2->tabled-pdf<0.2.0,>=0.1.4->marker-pdf) (1.4.2)\n",
            "Requirement already satisfied: threadpoolctl>=3.1.0 in /usr/local/lib/python3.10/dist-packages (from scikit-learn<2.0.0,>=1.5.2->tabled-pdf<0.2.0,>=0.1.4->marker-pdf) (3.5.0)\n",
            "Requirement already satisfied: MarkupSafe>=2.0 in /usr/local/lib/python3.10/dist-packages (from jinja2->torch<3.0.0,>=2.4.1->marker-pdf) (3.0.2)\n",
            "Requirement already satisfied: charset-normalizer<4,>=2 in /usr/local/lib/python3.10/dist-packages (from requests->transformers<5.0.0,>=4.45.2->marker-pdf) (3.4.0)\n",
            "Requirement already satisfied: idna<4,>=2.5 in /usr/local/lib/python3.10/dist-packages (from requests->transformers<5.0.0,>=4.45.2->marker-pdf) (3.10)\n",
            "Requirement already satisfied: urllib3<3,>=1.21.1 in /usr/local/lib/python3.10/dist-packages (from requests->transformers<5.0.0,>=4.45.2->marker-pdf) (2.2.3)\n",
            "Requirement already satisfied: certifi>=2017.4.17 in /usr/local/lib/python3.10/dist-packages (from requests->transformers<5.0.0,>=4.45.2->marker-pdf) (2024.8.30)\n",
            "Requirement already satisfied: humanfriendly>=9.1 in /usr/local/lib/python3.10/dist-packages (from coloredlogs->onnxruntime<2.0.0,>=1.19.2->pdftext<0.4.0,>=0.3.18->marker-pdf) (10.0)\n"
          ]
        }
      ]
    },
    {
      "cell_type": "code",
      "source": [
        "# pip install langchain"
      ],
      "metadata": {
        "id": "WPLX4wid4GwK"
      },
      "execution_count": null,
      "outputs": []
    },
    {
      "cell_type": "code",
      "source": [
        "# pip install langchain_community"
      ],
      "metadata": {
        "id": "9iT0OiG03RVH"
      },
      "execution_count": null,
      "outputs": []
    },
    {
      "cell_type": "code",
      "source": [
        "# pip install torch torchvision transformers"
      ],
      "metadata": {
        "id": "USTk9ljq6pLD"
      },
      "execution_count": null,
      "outputs": []
    },
    {
      "cell_type": "code",
      "source": [
        "pip install -U langchain-community"
      ],
      "metadata": {
        "colab": {
          "base_uri": "https://localhost:8080/"
        },
        "id": "zKySXPzP5bER",
        "outputId": "c3304c6a-1579-4595-c568-b476d1d32b25"
      },
      "execution_count": null,
      "outputs": [
        {
          "output_type": "stream",
          "name": "stdout",
          "text": [
            "Requirement already satisfied: langchain-community in /usr/local/lib/python3.10/dist-packages (0.3.8)\n",
            "Requirement already satisfied: PyYAML>=5.3 in /usr/local/lib/python3.10/dist-packages (from langchain-community) (6.0.2)\n",
            "Requirement already satisfied: SQLAlchemy<2.0.36,>=1.4 in /usr/local/lib/python3.10/dist-packages (from langchain-community) (2.0.35)\n",
            "Requirement already satisfied: aiohttp<4.0.0,>=3.8.3 in /usr/local/lib/python3.10/dist-packages (from langchain-community) (3.11.2)\n",
            "Requirement already satisfied: dataclasses-json<0.7,>=0.5.7 in /usr/local/lib/python3.10/dist-packages (from langchain-community) (0.6.7)\n",
            "Requirement already satisfied: httpx-sse<0.5.0,>=0.4.0 in /usr/local/lib/python3.10/dist-packages (from langchain-community) (0.4.0)\n",
            "Requirement already satisfied: langchain<0.4.0,>=0.3.8 in /usr/local/lib/python3.10/dist-packages (from langchain-community) (0.3.8)\n",
            "Requirement already satisfied: langchain-core<0.4.0,>=0.3.21 in /usr/local/lib/python3.10/dist-packages (from langchain-community) (0.3.21)\n",
            "Requirement already satisfied: langsmith<0.2.0,>=0.1.125 in /usr/local/lib/python3.10/dist-packages (from langchain-community) (0.1.143)\n",
            "Requirement already satisfied: numpy<2,>=1.22.4 in /usr/local/lib/python3.10/dist-packages (from langchain-community) (1.26.4)\n",
            "Requirement already satisfied: pydantic-settings<3.0.0,>=2.4.0 in /usr/local/lib/python3.10/dist-packages (from langchain-community) (2.6.1)\n",
            "Requirement already satisfied: requests<3,>=2 in /usr/local/lib/python3.10/dist-packages (from langchain-community) (2.32.3)\n",
            "Requirement already satisfied: tenacity!=8.4.0,<10,>=8.1.0 in /usr/local/lib/python3.10/dist-packages (from langchain-community) (9.0.0)\n",
            "Requirement already satisfied: aiohappyeyeballs>=2.3.0 in /usr/local/lib/python3.10/dist-packages (from aiohttp<4.0.0,>=3.8.3->langchain-community) (2.4.3)\n",
            "Requirement already satisfied: aiosignal>=1.1.2 in /usr/local/lib/python3.10/dist-packages (from aiohttp<4.0.0,>=3.8.3->langchain-community) (1.3.1)\n",
            "Requirement already satisfied: attrs>=17.3.0 in /usr/local/lib/python3.10/dist-packages (from aiohttp<4.0.0,>=3.8.3->langchain-community) (24.2.0)\n",
            "Requirement already satisfied: frozenlist>=1.1.1 in /usr/local/lib/python3.10/dist-packages (from aiohttp<4.0.0,>=3.8.3->langchain-community) (1.5.0)\n",
            "Requirement already satisfied: multidict<7.0,>=4.5 in /usr/local/lib/python3.10/dist-packages (from aiohttp<4.0.0,>=3.8.3->langchain-community) (6.1.0)\n",
            "Requirement already satisfied: propcache>=0.2.0 in /usr/local/lib/python3.10/dist-packages (from aiohttp<4.0.0,>=3.8.3->langchain-community) (0.2.0)\n",
            "Requirement already satisfied: yarl<2.0,>=1.17.0 in /usr/local/lib/python3.10/dist-packages (from aiohttp<4.0.0,>=3.8.3->langchain-community) (1.17.2)\n",
            "Requirement already satisfied: async-timeout<6.0,>=4.0 in /usr/local/lib/python3.10/dist-packages (from aiohttp<4.0.0,>=3.8.3->langchain-community) (4.0.3)\n",
            "Requirement already satisfied: marshmallow<4.0.0,>=3.18.0 in /usr/local/lib/python3.10/dist-packages (from dataclasses-json<0.7,>=0.5.7->langchain-community) (3.23.1)\n",
            "Requirement already satisfied: typing-inspect<1,>=0.4.0 in /usr/local/lib/python3.10/dist-packages (from dataclasses-json<0.7,>=0.5.7->langchain-community) (0.9.0)\n",
            "Requirement already satisfied: langchain-text-splitters<0.4.0,>=0.3.0 in /usr/local/lib/python3.10/dist-packages (from langchain<0.4.0,>=0.3.8->langchain-community) (0.3.2)\n",
            "Requirement already satisfied: pydantic<3.0.0,>=2.7.4 in /usr/local/lib/python3.10/dist-packages (from langchain<0.4.0,>=0.3.8->langchain-community) (2.9.2)\n",
            "Requirement already satisfied: jsonpatch<2.0,>=1.33 in /usr/local/lib/python3.10/dist-packages (from langchain-core<0.4.0,>=0.3.21->langchain-community) (1.33)\n",
            "Requirement already satisfied: packaging<25,>=23.2 in /usr/local/lib/python3.10/dist-packages (from langchain-core<0.4.0,>=0.3.21->langchain-community) (24.2)\n",
            "Requirement already satisfied: typing-extensions>=4.7 in /usr/local/lib/python3.10/dist-packages (from langchain-core<0.4.0,>=0.3.21->langchain-community) (4.12.2)\n",
            "Requirement already satisfied: httpx<1,>=0.23.0 in /usr/local/lib/python3.10/dist-packages (from langsmith<0.2.0,>=0.1.125->langchain-community) (0.27.2)\n",
            "Requirement already satisfied: orjson<4.0.0,>=3.9.14 in /usr/local/lib/python3.10/dist-packages (from langsmith<0.2.0,>=0.1.125->langchain-community) (3.10.11)\n",
            "Requirement already satisfied: requests-toolbelt<2.0.0,>=1.0.0 in /usr/local/lib/python3.10/dist-packages (from langsmith<0.2.0,>=0.1.125->langchain-community) (1.0.0)\n",
            "Requirement already satisfied: python-dotenv>=0.21.0 in /usr/local/lib/python3.10/dist-packages (from pydantic-settings<3.0.0,>=2.4.0->langchain-community) (1.0.1)\n",
            "Requirement already satisfied: charset-normalizer<4,>=2 in /usr/local/lib/python3.10/dist-packages (from requests<3,>=2->langchain-community) (3.4.0)\n",
            "Requirement already satisfied: idna<4,>=2.5 in /usr/local/lib/python3.10/dist-packages (from requests<3,>=2->langchain-community) (3.10)\n",
            "Requirement already satisfied: urllib3<3,>=1.21.1 in /usr/local/lib/python3.10/dist-packages (from requests<3,>=2->langchain-community) (2.2.3)\n",
            "Requirement already satisfied: certifi>=2017.4.17 in /usr/local/lib/python3.10/dist-packages (from requests<3,>=2->langchain-community) (2024.8.30)\n",
            "Requirement already satisfied: greenlet!=0.4.17 in /usr/local/lib/python3.10/dist-packages (from SQLAlchemy<2.0.36,>=1.4->langchain-community) (3.1.1)\n",
            "Requirement already satisfied: anyio in /usr/local/lib/python3.10/dist-packages (from httpx<1,>=0.23.0->langsmith<0.2.0,>=0.1.125->langchain-community) (3.7.1)\n",
            "Requirement already satisfied: httpcore==1.* in /usr/local/lib/python3.10/dist-packages (from httpx<1,>=0.23.0->langsmith<0.2.0,>=0.1.125->langchain-community) (1.0.7)\n",
            "Requirement already satisfied: sniffio in /usr/local/lib/python3.10/dist-packages (from httpx<1,>=0.23.0->langsmith<0.2.0,>=0.1.125->langchain-community) (1.3.1)\n",
            "Requirement already satisfied: h11<0.15,>=0.13 in /usr/local/lib/python3.10/dist-packages (from httpcore==1.*->httpx<1,>=0.23.0->langsmith<0.2.0,>=0.1.125->langchain-community) (0.14.0)\n",
            "Requirement already satisfied: jsonpointer>=1.9 in /usr/local/lib/python3.10/dist-packages (from jsonpatch<2.0,>=1.33->langchain-core<0.4.0,>=0.3.21->langchain-community) (3.0.0)\n",
            "Requirement already satisfied: annotated-types>=0.6.0 in /usr/local/lib/python3.10/dist-packages (from pydantic<3.0.0,>=2.7.4->langchain<0.4.0,>=0.3.8->langchain-community) (0.7.0)\n",
            "Requirement already satisfied: pydantic-core==2.23.4 in /usr/local/lib/python3.10/dist-packages (from pydantic<3.0.0,>=2.7.4->langchain<0.4.0,>=0.3.8->langchain-community) (2.23.4)\n",
            "Requirement already satisfied: mypy-extensions>=0.3.0 in /usr/local/lib/python3.10/dist-packages (from typing-inspect<1,>=0.4.0->dataclasses-json<0.7,>=0.5.7->langchain-community) (1.0.0)\n",
            "Requirement already satisfied: exceptiongroup in /usr/local/lib/python3.10/dist-packages (from anyio->httpx<1,>=0.23.0->langsmith<0.2.0,>=0.1.125->langchain-community) (1.2.2)\n"
          ]
        }
      ]
    },
    {
      "cell_type": "code",
      "source": [
        "pip install langchain_qdrant"
      ],
      "metadata": {
        "colab": {
          "base_uri": "https://localhost:8080/"
        },
        "id": "b-iWqmak1S9v",
        "outputId": "7045aa6d-f129-4fea-8f59-dfddfa954abb"
      },
      "execution_count": null,
      "outputs": [
        {
          "output_type": "stream",
          "name": "stdout",
          "text": [
            "Requirement already satisfied: langchain_qdrant in /usr/local/lib/python3.10/dist-packages (0.2.0)\n",
            "Requirement already satisfied: langchain-core!=0.3.0,!=0.3.1,!=0.3.10,!=0.3.11,!=0.3.12,!=0.3.13,!=0.3.14,!=0.3.2,!=0.3.3,!=0.3.4,!=0.3.5,!=0.3.6,!=0.3.7,!=0.3.8,!=0.3.9,<0.4.0,>=0.2.43 in /usr/local/lib/python3.10/dist-packages (from langchain_qdrant) (0.3.21)\n",
            "Requirement already satisfied: pydantic<3.0.0,>=2.7.4 in /usr/local/lib/python3.10/dist-packages (from langchain_qdrant) (2.9.2)\n",
            "Requirement already satisfied: qdrant-client<2.0.0,>=1.10.1 in /usr/local/lib/python3.10/dist-packages (from langchain_qdrant) (1.12.1)\n",
            "Requirement already satisfied: PyYAML>=5.3 in /usr/local/lib/python3.10/dist-packages (from langchain-core!=0.3.0,!=0.3.1,!=0.3.10,!=0.3.11,!=0.3.12,!=0.3.13,!=0.3.14,!=0.3.2,!=0.3.3,!=0.3.4,!=0.3.5,!=0.3.6,!=0.3.7,!=0.3.8,!=0.3.9,<0.4.0,>=0.2.43->langchain_qdrant) (6.0.2)\n",
            "Requirement already satisfied: jsonpatch<2.0,>=1.33 in /usr/local/lib/python3.10/dist-packages (from langchain-core!=0.3.0,!=0.3.1,!=0.3.10,!=0.3.11,!=0.3.12,!=0.3.13,!=0.3.14,!=0.3.2,!=0.3.3,!=0.3.4,!=0.3.5,!=0.3.6,!=0.3.7,!=0.3.8,!=0.3.9,<0.4.0,>=0.2.43->langchain_qdrant) (1.33)\n",
            "Requirement already satisfied: langsmith<0.2.0,>=0.1.125 in /usr/local/lib/python3.10/dist-packages (from langchain-core!=0.3.0,!=0.3.1,!=0.3.10,!=0.3.11,!=0.3.12,!=0.3.13,!=0.3.14,!=0.3.2,!=0.3.3,!=0.3.4,!=0.3.5,!=0.3.6,!=0.3.7,!=0.3.8,!=0.3.9,<0.4.0,>=0.2.43->langchain_qdrant) (0.1.143)\n",
            "Requirement already satisfied: packaging<25,>=23.2 in /usr/local/lib/python3.10/dist-packages (from langchain-core!=0.3.0,!=0.3.1,!=0.3.10,!=0.3.11,!=0.3.12,!=0.3.13,!=0.3.14,!=0.3.2,!=0.3.3,!=0.3.4,!=0.3.5,!=0.3.6,!=0.3.7,!=0.3.8,!=0.3.9,<0.4.0,>=0.2.43->langchain_qdrant) (24.2)\n",
            "Requirement already satisfied: tenacity!=8.4.0,<10.0.0,>=8.1.0 in /usr/local/lib/python3.10/dist-packages (from langchain-core!=0.3.0,!=0.3.1,!=0.3.10,!=0.3.11,!=0.3.12,!=0.3.13,!=0.3.14,!=0.3.2,!=0.3.3,!=0.3.4,!=0.3.5,!=0.3.6,!=0.3.7,!=0.3.8,!=0.3.9,<0.4.0,>=0.2.43->langchain_qdrant) (9.0.0)\n",
            "Requirement already satisfied: typing-extensions>=4.7 in /usr/local/lib/python3.10/dist-packages (from langchain-core!=0.3.0,!=0.3.1,!=0.3.10,!=0.3.11,!=0.3.12,!=0.3.13,!=0.3.14,!=0.3.2,!=0.3.3,!=0.3.4,!=0.3.5,!=0.3.6,!=0.3.7,!=0.3.8,!=0.3.9,<0.4.0,>=0.2.43->langchain_qdrant) (4.12.2)\n",
            "Requirement already satisfied: annotated-types>=0.6.0 in /usr/local/lib/python3.10/dist-packages (from pydantic<3.0.0,>=2.7.4->langchain_qdrant) (0.7.0)\n",
            "Requirement already satisfied: pydantic-core==2.23.4 in /usr/local/lib/python3.10/dist-packages (from pydantic<3.0.0,>=2.7.4->langchain_qdrant) (2.23.4)\n",
            "Requirement already satisfied: grpcio>=1.41.0 in /usr/local/lib/python3.10/dist-packages (from qdrant-client<2.0.0,>=1.10.1->langchain_qdrant) (1.68.0)\n",
            "Requirement already satisfied: grpcio-tools>=1.41.0 in /usr/local/lib/python3.10/dist-packages (from qdrant-client<2.0.0,>=1.10.1->langchain_qdrant) (1.68.0)\n",
            "Requirement already satisfied: httpx>=0.20.0 in /usr/local/lib/python3.10/dist-packages (from httpx[http2]>=0.20.0->qdrant-client<2.0.0,>=1.10.1->langchain_qdrant) (0.27.2)\n",
            "Requirement already satisfied: numpy>=1.21 in /usr/local/lib/python3.10/dist-packages (from qdrant-client<2.0.0,>=1.10.1->langchain_qdrant) (1.26.4)\n",
            "Requirement already satisfied: portalocker<3.0.0,>=2.7.0 in /usr/local/lib/python3.10/dist-packages (from qdrant-client<2.0.0,>=1.10.1->langchain_qdrant) (2.10.1)\n",
            "Requirement already satisfied: urllib3<3,>=1.26.14 in /usr/local/lib/python3.10/dist-packages (from qdrant-client<2.0.0,>=1.10.1->langchain_qdrant) (2.2.3)\n",
            "Requirement already satisfied: protobuf<6.0dev,>=5.26.1 in /usr/local/lib/python3.10/dist-packages (from grpcio-tools>=1.41.0->qdrant-client<2.0.0,>=1.10.1->langchain_qdrant) (5.28.3)\n",
            "Requirement already satisfied: setuptools in /usr/local/lib/python3.10/dist-packages (from grpcio-tools>=1.41.0->qdrant-client<2.0.0,>=1.10.1->langchain_qdrant) (75.1.0)\n",
            "Requirement already satisfied: anyio in /usr/local/lib/python3.10/dist-packages (from httpx>=0.20.0->httpx[http2]>=0.20.0->qdrant-client<2.0.0,>=1.10.1->langchain_qdrant) (3.7.1)\n",
            "Requirement already satisfied: certifi in /usr/local/lib/python3.10/dist-packages (from httpx>=0.20.0->httpx[http2]>=0.20.0->qdrant-client<2.0.0,>=1.10.1->langchain_qdrant) (2024.8.30)\n",
            "Requirement already satisfied: httpcore==1.* in /usr/local/lib/python3.10/dist-packages (from httpx>=0.20.0->httpx[http2]>=0.20.0->qdrant-client<2.0.0,>=1.10.1->langchain_qdrant) (1.0.7)\n",
            "Requirement already satisfied: idna in /usr/local/lib/python3.10/dist-packages (from httpx>=0.20.0->httpx[http2]>=0.20.0->qdrant-client<2.0.0,>=1.10.1->langchain_qdrant) (3.10)\n",
            "Requirement already satisfied: sniffio in /usr/local/lib/python3.10/dist-packages (from httpx>=0.20.0->httpx[http2]>=0.20.0->qdrant-client<2.0.0,>=1.10.1->langchain_qdrant) (1.3.1)\n",
            "Requirement already satisfied: h11<0.15,>=0.13 in /usr/local/lib/python3.10/dist-packages (from httpcore==1.*->httpx>=0.20.0->httpx[http2]>=0.20.0->qdrant-client<2.0.0,>=1.10.1->langchain_qdrant) (0.14.0)\n",
            "Requirement already satisfied: h2<5,>=3 in /usr/local/lib/python3.10/dist-packages (from httpx[http2]>=0.20.0->qdrant-client<2.0.0,>=1.10.1->langchain_qdrant) (4.1.0)\n",
            "Requirement already satisfied: jsonpointer>=1.9 in /usr/local/lib/python3.10/dist-packages (from jsonpatch<2.0,>=1.33->langchain-core!=0.3.0,!=0.3.1,!=0.3.10,!=0.3.11,!=0.3.12,!=0.3.13,!=0.3.14,!=0.3.2,!=0.3.3,!=0.3.4,!=0.3.5,!=0.3.6,!=0.3.7,!=0.3.8,!=0.3.9,<0.4.0,>=0.2.43->langchain_qdrant) (3.0.0)\n",
            "Requirement already satisfied: orjson<4.0.0,>=3.9.14 in /usr/local/lib/python3.10/dist-packages (from langsmith<0.2.0,>=0.1.125->langchain-core!=0.3.0,!=0.3.1,!=0.3.10,!=0.3.11,!=0.3.12,!=0.3.13,!=0.3.14,!=0.3.2,!=0.3.3,!=0.3.4,!=0.3.5,!=0.3.6,!=0.3.7,!=0.3.8,!=0.3.9,<0.4.0,>=0.2.43->langchain_qdrant) (3.10.11)\n",
            "Requirement already satisfied: requests<3,>=2 in /usr/local/lib/python3.10/dist-packages (from langsmith<0.2.0,>=0.1.125->langchain-core!=0.3.0,!=0.3.1,!=0.3.10,!=0.3.11,!=0.3.12,!=0.3.13,!=0.3.14,!=0.3.2,!=0.3.3,!=0.3.4,!=0.3.5,!=0.3.6,!=0.3.7,!=0.3.8,!=0.3.9,<0.4.0,>=0.2.43->langchain_qdrant) (2.32.3)\n",
            "Requirement already satisfied: requests-toolbelt<2.0.0,>=1.0.0 in /usr/local/lib/python3.10/dist-packages (from langsmith<0.2.0,>=0.1.125->langchain-core!=0.3.0,!=0.3.1,!=0.3.10,!=0.3.11,!=0.3.12,!=0.3.13,!=0.3.14,!=0.3.2,!=0.3.3,!=0.3.4,!=0.3.5,!=0.3.6,!=0.3.7,!=0.3.8,!=0.3.9,<0.4.0,>=0.2.43->langchain_qdrant) (1.0.0)\n",
            "Requirement already satisfied: hyperframe<7,>=6.0 in /usr/local/lib/python3.10/dist-packages (from h2<5,>=3->httpx[http2]>=0.20.0->qdrant-client<2.0.0,>=1.10.1->langchain_qdrant) (6.0.1)\n",
            "Requirement already satisfied: hpack<5,>=4.0 in /usr/local/lib/python3.10/dist-packages (from h2<5,>=3->httpx[http2]>=0.20.0->qdrant-client<2.0.0,>=1.10.1->langchain_qdrant) (4.0.0)\n",
            "Requirement already satisfied: charset-normalizer<4,>=2 in /usr/local/lib/python3.10/dist-packages (from requests<3,>=2->langsmith<0.2.0,>=0.1.125->langchain-core!=0.3.0,!=0.3.1,!=0.3.10,!=0.3.11,!=0.3.12,!=0.3.13,!=0.3.14,!=0.3.2,!=0.3.3,!=0.3.4,!=0.3.5,!=0.3.6,!=0.3.7,!=0.3.8,!=0.3.9,<0.4.0,>=0.2.43->langchain_qdrant) (3.4.0)\n",
            "Requirement already satisfied: exceptiongroup in /usr/local/lib/python3.10/dist-packages (from anyio->httpx>=0.20.0->httpx[http2]>=0.20.0->qdrant-client<2.0.0,>=1.10.1->langchain_qdrant) (1.2.2)\n"
          ]
        }
      ]
    },
    {
      "cell_type": "code",
      "source": [
        "pip install qdrant_client"
      ],
      "metadata": {
        "colab": {
          "base_uri": "https://localhost:8080/"
        },
        "id": "3vrOR_nWzszh",
        "outputId": "2815e8c1-97e7-49dc-d6dd-fbf604ad3e6f"
      },
      "execution_count": null,
      "outputs": [
        {
          "output_type": "stream",
          "name": "stdout",
          "text": [
            "Requirement already satisfied: qdrant_client in /usr/local/lib/python3.10/dist-packages (1.12.1)\n",
            "Requirement already satisfied: grpcio>=1.41.0 in /usr/local/lib/python3.10/dist-packages (from qdrant_client) (1.68.0)\n",
            "Requirement already satisfied: grpcio-tools>=1.41.0 in /usr/local/lib/python3.10/dist-packages (from qdrant_client) (1.68.0)\n",
            "Requirement already satisfied: httpx>=0.20.0 in /usr/local/lib/python3.10/dist-packages (from httpx[http2]>=0.20.0->qdrant_client) (0.27.2)\n",
            "Requirement already satisfied: numpy>=1.21 in /usr/local/lib/python3.10/dist-packages (from qdrant_client) (1.26.4)\n",
            "Requirement already satisfied: portalocker<3.0.0,>=2.7.0 in /usr/local/lib/python3.10/dist-packages (from qdrant_client) (2.10.1)\n",
            "Requirement already satisfied: pydantic>=1.10.8 in /usr/local/lib/python3.10/dist-packages (from qdrant_client) (2.9.2)\n",
            "Requirement already satisfied: urllib3<3,>=1.26.14 in /usr/local/lib/python3.10/dist-packages (from qdrant_client) (2.2.3)\n",
            "Requirement already satisfied: protobuf<6.0dev,>=5.26.1 in /usr/local/lib/python3.10/dist-packages (from grpcio-tools>=1.41.0->qdrant_client) (5.28.3)\n",
            "Requirement already satisfied: setuptools in /usr/local/lib/python3.10/dist-packages (from grpcio-tools>=1.41.0->qdrant_client) (75.1.0)\n",
            "Requirement already satisfied: anyio in /usr/local/lib/python3.10/dist-packages (from httpx>=0.20.0->httpx[http2]>=0.20.0->qdrant_client) (3.7.1)\n",
            "Requirement already satisfied: certifi in /usr/local/lib/python3.10/dist-packages (from httpx>=0.20.0->httpx[http2]>=0.20.0->qdrant_client) (2024.8.30)\n",
            "Requirement already satisfied: httpcore==1.* in /usr/local/lib/python3.10/dist-packages (from httpx>=0.20.0->httpx[http2]>=0.20.0->qdrant_client) (1.0.7)\n",
            "Requirement already satisfied: idna in /usr/local/lib/python3.10/dist-packages (from httpx>=0.20.0->httpx[http2]>=0.20.0->qdrant_client) (3.10)\n",
            "Requirement already satisfied: sniffio in /usr/local/lib/python3.10/dist-packages (from httpx>=0.20.0->httpx[http2]>=0.20.0->qdrant_client) (1.3.1)\n",
            "Requirement already satisfied: h11<0.15,>=0.13 in /usr/local/lib/python3.10/dist-packages (from httpcore==1.*->httpx>=0.20.0->httpx[http2]>=0.20.0->qdrant_client) (0.14.0)\n",
            "Requirement already satisfied: h2<5,>=3 in /usr/local/lib/python3.10/dist-packages (from httpx[http2]>=0.20.0->qdrant_client) (4.1.0)\n",
            "Requirement already satisfied: annotated-types>=0.6.0 in /usr/local/lib/python3.10/dist-packages (from pydantic>=1.10.8->qdrant_client) (0.7.0)\n",
            "Requirement already satisfied: pydantic-core==2.23.4 in /usr/local/lib/python3.10/dist-packages (from pydantic>=1.10.8->qdrant_client) (2.23.4)\n",
            "Requirement already satisfied: typing-extensions>=4.6.1 in /usr/local/lib/python3.10/dist-packages (from pydantic>=1.10.8->qdrant_client) (4.12.2)\n",
            "Requirement already satisfied: hyperframe<7,>=6.0 in /usr/local/lib/python3.10/dist-packages (from h2<5,>=3->httpx[http2]>=0.20.0->qdrant_client) (6.0.1)\n",
            "Requirement already satisfied: hpack<5,>=4.0 in /usr/local/lib/python3.10/dist-packages (from h2<5,>=3->httpx[http2]>=0.20.0->qdrant_client) (4.0.0)\n",
            "Requirement already satisfied: exceptiongroup in /usr/local/lib/python3.10/dist-packages (from anyio->httpx>=0.20.0->httpx[http2]>=0.20.0->qdrant_client) (1.2.2)\n"
          ]
        }
      ]
    },
    {
      "cell_type": "code",
      "source": [
        "pip install tiktoken"
      ],
      "metadata": {
        "colab": {
          "base_uri": "https://localhost:8080/"
        },
        "id": "CWWUlZMH6WTy",
        "outputId": "0d1b808b-5483-4a5b-84fc-077381215060"
      },
      "execution_count": null,
      "outputs": [
        {
          "output_type": "stream",
          "name": "stdout",
          "text": [
            "Requirement already satisfied: tiktoken in /usr/local/lib/python3.10/dist-packages (0.8.0)\n",
            "Requirement already satisfied: regex>=2022.1.18 in /usr/local/lib/python3.10/dist-packages (from tiktoken) (2024.9.11)\n",
            "Requirement already satisfied: requests>=2.26.0 in /usr/local/lib/python3.10/dist-packages (from tiktoken) (2.32.3)\n",
            "Requirement already satisfied: charset-normalizer<4,>=2 in /usr/local/lib/python3.10/dist-packages (from requests>=2.26.0->tiktoken) (3.4.0)\n",
            "Requirement already satisfied: idna<4,>=2.5 in /usr/local/lib/python3.10/dist-packages (from requests>=2.26.0->tiktoken) (3.10)\n",
            "Requirement already satisfied: urllib3<3,>=1.21.1 in /usr/local/lib/python3.10/dist-packages (from requests>=2.26.0->tiktoken) (2.2.3)\n",
            "Requirement already satisfied: certifi>=2017.4.17 in /usr/local/lib/python3.10/dist-packages (from requests>=2.26.0->tiktoken) (2024.8.30)\n"
          ]
        }
      ]
    },
    {
      "cell_type": "code",
      "execution_count": null,
      "metadata": {
        "colab": {
          "base_uri": "https://localhost:8080/"
        },
        "id": "DScH2hKgzww-",
        "outputId": "bfd82dd4-78f0-4fac-e39c-3e0d84fbfe7b"
      },
      "outputs": [
        {
          "output_type": "stream",
          "name": "stdout",
          "text": [
            "Loaded detection model vikp/surya_det3 on device cpu with dtype torch.float32\n",
            "Loaded detection model vikp/surya_layout3 on device cpu with dtype torch.float32\n",
            "Loaded reading order model vikp/surya_order on device cpu with dtype torch.float32\n",
            "Loaded recognition model vikp/surya_rec2 on device cpu with dtype torch.float32\n",
            "Loaded texify model to cpu with torch.float32 dtype\n",
            "Loaded recognition model vikp/surya_tablerec on device cpu with dtype torch.float32\n"
          ]
        },
        {
          "output_type": "stream",
          "name": "stderr",
          "text": [
            "Detecting bboxes: 100%|██████████| 4/4 [02:57<00:00, 44.31s/it]\n",
            "Recognizing Text: 100%|██████████| 1/1 [00:39<00:00, 39.96s/it]\n",
            "Detecting bboxes: 100%|██████████| 3/3 [02:15<00:00, 45.15s/it]\n",
            "Finding reading order: 100%|██████████| 3/3 [04:37<00:00, 92.37s/it]\n",
            "Recognizing tables: 0it [00:00, ?it/s]\n"
          ]
        }
      ],
      "source": [
        "from marker.convert import convert_single_pdf\n",
        "from marker.models import load_all_models\n",
        "\n",
        "\n",
        "models = load_all_models()\n",
        "full_text, imaged, out_meta = convert_single_pdf(\"/content/SpellBook_391834.pdf\", models, langs=['en'])"
      ]
    },
    {
      "cell_type": "code",
      "source": [
        "# print(full_text)"
      ],
      "metadata": {
        "id": "YzNH1tNqz6C2"
      },
      "execution_count": null,
      "outputs": []
    },
    {
      "cell_type": "code",
      "source": [
        "# imaged"
      ],
      "metadata": {
        "id": "X6GyVG3nz6Gc"
      },
      "execution_count": null,
      "outputs": []
    },
    {
      "cell_type": "markdown",
      "source": [
        "example of code to be adjusted, then push the chunks with metadata to Qdrant"
      ],
      "metadata": {
        "id": "-hocp2TF3Sw-"
      }
    },
    {
      "cell_type": "code",
      "source": [
        "from langchain.text_splitter import MarkdownHeaderTextSplitter\n",
        "\n",
        "# 1. Initialize MarkdownHeaderTextSplitter with the level of header to split on.\n",
        "# text_splitter = MarkdownHeaderTextSplitter(levels=[\"1\"])\n",
        "headers_to_split = [\n",
        "    (\"#\", \"Header 1\"),\n",
        "    (\"##\", \"Header 2\"),\n",
        "    (\"###\", \"Header 3\"),\n",
        "    (\"####\", \"Header 4\"),\n",
        "    (\"#####\", \"Header 5\"),\n",
        "    (\"######\", \"Header 6\"),\n",
        "]\n",
        "\n",
        "\n",
        "text_splitter = MarkdownHeaderTextSplitter(\n",
        "    headers_to_split,\n",
        "    strip_headers=False\n",
        ")\n",
        "\n",
        "chunks = text_splitter.split_text(full_text)\n",
        "\n",
        "\n"
      ],
      "metadata": {
        "id": "5wNQVoJaz6I0"
      },
      "execution_count": null,
      "outputs": []
    },
    {
      "cell_type": "markdown",
      "source": [
        "levare noise dai chunks\n"
      ],
      "metadata": {
        "id": "1sDQ2safuQP9"
      }
    },
    {
      "cell_type": "markdown",
      "source": [
        "Blip fa un po' cagare, andrebbe cambiato in meglio"
      ],
      "metadata": {
        "id": "qfPcufPn7__D"
      }
    },
    {
      "cell_type": "code",
      "source": [
        "imaged[\"11_image_1.png\"]"
      ],
      "metadata": {
        "colab": {
          "base_uri": "https://localhost:8080/",
          "height": 124
        },
        "id": "j66TpKJ89k-x",
        "outputId": "6f990c31-79c0-4218-f630-efe2b1af44de"
      },
      "execution_count": null,
      "outputs": [
        {
          "output_type": "execute_result",
          "data": {
            "text/plain": [
              "<PIL.Image.Image image mode=RGB size=76x107>"
            ],
            "image/png": "[encoded data removed]",
            "image/jpeg": "[encoded data removed]"
          },
          "metadata": {},
          "execution_count": 11
        }
      ]
    },
    {
      "cell_type": "markdown",
      "source": [
        "___________________________________ Trying to remove not useful\n",
        "images____________________________________\n",
        "(doesnt work)"
      ],
      "metadata": {
        "id": "VsfcQzNCNOTW"
      }
    },
    {
      "cell_type": "code",
      "source": [
        "# # prompt: read file from openAI.txt and initialize gpt 4o mini\n",
        "\n",
        "# # Assuming 'openAI.txt' is in the current working directory.  If not,\n",
        "# # provide the full path.\n",
        "# from langchain.chat_models import ChatOpenAI\n",
        "\n",
        "# try:\n",
        "#     with open(\"/content/OpenAI.txt\", \"r\") as f:\n",
        "#         api_key = f.readline().strip() # Read the first line (API key)\n",
        "\n",
        "# except FileNotFoundError:\n",
        "#     print(\"Error: 'openAI.txt' not found. Please ensure the file exists and contains your API key.\")\n",
        "#     api_key = None # or raise an exception, depending on your needs\n",
        "\n",
        "# if api_key:\n",
        "#     import os\n",
        "#     os.environ[\"OPENAI_API_KEY\"] = api_key\n",
        "\n",
        "#     # Initialize gpt-4-1106-preview (or any other desired model) using langchain\n",
        "\n",
        "#     try:\n",
        "#       llm = ChatOpenAI(model=\"gpt-4o-mini\", temperature=0.3)\n",
        "#       print(\"GPT-4 initialized successfully!\")\n",
        "#     except Exception as e:\n",
        "#         print(f\"An error occurred while initializing the GPT model: {e}\")"
      ],
      "metadata": {
        "colab": {
          "base_uri": "https://localhost:8080/"
        },
        "id": "bphaafq8uThB",
        "outputId": "ae969794-c2b2-4247-f1e8-d5d49218fbaf"
      },
      "execution_count": null,
      "outputs": [
        {
          "output_type": "stream",
          "name": "stderr",
          "text": [
            "<ipython-input-26-6fd50d9e3810>:22: LangChainDeprecationWarning: The class `ChatOpenAI` was deprecated in LangChain 0.0.10 and will be removed in 1.0. An updated version of the class exists in the :class:`~langchain-openai package and should be used instead. To use it run `pip install -U :class:`~langchain-openai` and import as `from :class:`~langchain_openai import ChatOpenAI``.\n",
            "  llm = ChatOpenAI(model=\"gpt-4o-mini\", temperature=0.3)\n"
          ]
        },
        {
          "output_type": "stream",
          "name": "stdout",
          "text": [
            "GPT-4 initialized successfully!\n"
          ]
        }
      ]
    },
    {
      "cell_type": "code",
      "source": [
        "# from transformers import BlipProcessor, BlipForConditionalGeneration\n",
        "# from PIL import Image\n",
        "\n",
        "# # Load the BLIP model and processor\n",
        "# processor = BlipProcessor.from_pretrained(\"Salesforce/blip-image-captioning-large\")\n",
        "# model = BlipForConditionalGeneration.from_pretrained(\"Salesforce/blip-image-captioning-large\")\n"
      ],
      "metadata": {
        "colab": {
          "base_uri": "https://localhost:8080/",
          "height": 241,
          "referenced_widgets": [
            "3509777033fd4b90a2bdebf601da94b7",
            "c0242cc7e07b447ab2b7e8838d276146",
            "41459cb0a1f84322adf86050e6947a22",
            "2db69cb694b74a8eb0eca7bb3b59d4fd",
            "33640cecbcc745b6863605a31eb22c0f",
            "d2359f8491274cdf90c7a00feb5d78ae",
            "76f52961a5b448c38968bf64d0b413c5",
            "0c1b270b5a2d4e7fa61dfb32722869c1",
            "2ff84247636b4383ae56fbd8e1bbc61e",
            "48ec2ad153554abe9aa2923bcbffa9fd",
            "e4f384c198f241b2a3e00b542ada0138",
            "66c7e657002e4981ba3c44c25ca99e58",
            "ea0a823325474caab6c5c5532586ee5b",
            "ba3cd54a0be346b3b74af42c1bdf69dd",
            "b8cfef7d1ab64ac8bd44d0b6b340c30f",
            "a10aa3b4cdf64802944dcce40d7cbd98",
            "f5a5e3e5ecd148ba8559056bc3e85c15",
            "4ab23490684647df92d338e1417c526b",
            "52063ecd37644eabb106469b2806740a",
            "ff1af4902b8344ab9ad70af15f750415",
            "884ab9d7e7aa44608d32b2a080c2b862",
            "29580fd96bd14ccb8cb31301f74a22e7",
            "6405707229d648148f612557760598e8",
            "d30ed7ce537d479887883c39167d6ed3",
            "fd7a066c844246c8a9f3f1392fa7ae44",
            "bba7cd692b504bc29522c02270350ce7",
            "9c4ac7381b904664ab9f99e13c9d2979",
            "584c77e7fbed46b2841a674e4c7856a2",
            "4b2a26fc547344c8afdda7e5ea46daeb",
            "a4e3e77632bf45408ac9d0b488c5aada",
            "c8e46ce9163942c7914ad79836d5c9e4",
            "0f4ade44a3cd4d24b2e256106322aee0",
            "b4eec0eb08134549bd1e44be6c429d25",
            "1d91eb2de7c74c3ab951a17eb498e449",
            "99f937f8ce854d53b9eed44e37ff4f52",
            "d422316bd45442648fce6f2bc4c5efaa",
            "36c6c515050d407b84ed10143c64e7d0",
            "0ac5db040ab842a8883c401e5b1ed982",
            "4ba9d01152ee461781311257308fb11e",
            "3b2d5ebbec9b4ec5a11b2a0a9cd13d1c",
            "d073b16473a6459e9830d43fa67d59c4",
            "e566479bd54b4888ac487469ab82f58a",
            "6b978bb08b6f4d0eb175264774a485a6",
            "fc9f8731498746dd920cb74dc1e1e597",
            "c13ff77fcbbe4aa28a0eb743174d8d9c",
            "e3108e2f05924f0d8328b68aee8a9b8e",
            "0a34aac958fd4a33b595d67360df5e72",
            "a5894995fb2c4961b5504ca19f6f7efd",
            "9a6cb1c537e74ef5817dc913dc49f02b",
            "6f935b418b7e4ad08d74db185fe95f4b",
            "8e405a3bd3734237ac518cb7770a9f2e",
            "a5166e753bec468e803e9f996e1e3303",
            "9a86b63dcb4447509c12dd5cbc084d56",
            "166c4be882a240109a2b92e457c383ab",
            "860276079dbc4bf2a8bd0763f35de70d",
            "2828e03831874c9c8f58ee35cafbaf55",
            "dfd5c65f4f724147af903293fdfdacaf",
            "63dbbd402b46459b92c07ab5dfae64b8",
            "7639e7c4240b4f42bb500b47a6d02a61",
            "b445f1b173f041469e43e3eaee1d50cd",
            "c1f27043193e43e6ab166c9a8ac1e41e",
            "00f8861eb9514853be805c6b30c52dba",
            "2bbc79c1278e4ebda637e55c3c0ec0fc",
            "e8a994f6ca7c45acb5a36415b099e345",
            "65eede1eacdb4826a85d07ef0374572a",
            "8cf929a850e544e0afa613b7fc6f52d6",
            "6b664b715145428894f6639fe3defc10",
            "e0c669293be2467984c285fbd8cc3124",
            "0e3fa8ccd8d24c6bbd71cda12566555a",
            "fa9d93e6b78d4d78a93398be8c55001c",
            "616299ccf043457d8f86303d976f41c7",
            "045e0f2468db46d3805205947cde3541",
            "6dc39a46db264517b940b9aabcab6ea0",
            "b9edf2be27b14453afed30e9988e2b81",
            "7fec044fac9748c4b284db1ca1966565",
            "1904b863622c4e9d9e854896379df061",
            "433eb9b28fda4e96bd32d9fb7b516390"
          ]
        },
        "id": "6kKchjz66lyn",
        "outputId": "5d1f84ec-ec4c-4d1b-841b-53c362acdb99"
      },
      "execution_count": null,
      "outputs": [
        {
          "output_type": "display_data",
          "data": {
            "text/plain": [
              "preprocessor_config.json:   0%|          | 0.00/445 [00:00<?, ?B/s]"
            ],
            "application/vnd.jupyter.widget-view+json": {
              "version_major": 2,
              "version_minor": 0,
              "model_id": "3509777033fd4b90a2bdebf601da94b7"
            }
          },
          "metadata": {}
        },
        {
          "output_type": "display_data",
          "data": {
            "text/plain": [
              "tokenizer_config.json:   0%|          | 0.00/527 [00:00<?, ?B/s]"
            ],
            "application/vnd.jupyter.widget-view+json": {
              "version_major": 2,
              "version_minor": 0,
              "model_id": "66c7e657002e4981ba3c44c25ca99e58"
            }
          },
          "metadata": {}
        },
        {
          "output_type": "display_data",
          "data": {
            "text/plain": [
              "vocab.txt:   0%|          | 0.00/232k [00:00<?, ?B/s]"
            ],
            "application/vnd.jupyter.widget-view+json": {
              "version_major": 2,
              "version_minor": 0,
              "model_id": "6405707229d648148f612557760598e8"
            }
          },
          "metadata": {}
        },
        {
          "output_type": "display_data",
          "data": {
            "text/plain": [
              "tokenizer.json:   0%|          | 0.00/711k [00:00<?, ?B/s]"
            ],
            "application/vnd.jupyter.widget-view+json": {
              "version_major": 2,
              "version_minor": 0,
              "model_id": "1d91eb2de7c74c3ab951a17eb498e449"
            }
          },
          "metadata": {}
        },
        {
          "output_type": "display_data",
          "data": {
            "text/plain": [
              "special_tokens_map.json:   0%|          | 0.00/125 [00:00<?, ?B/s]"
            ],
            "application/vnd.jupyter.widget-view+json": {
              "version_major": 2,
              "version_minor": 0,
              "model_id": "c13ff77fcbbe4aa28a0eb743174d8d9c"
            }
          },
          "metadata": {}
        },
        {
          "output_type": "display_data",
          "data": {
            "text/plain": [
              "config.json:   0%|          | 0.00/4.60k [00:00<?, ?B/s]"
            ],
            "application/vnd.jupyter.widget-view+json": {
              "version_major": 2,
              "version_minor": 0,
              "model_id": "2828e03831874c9c8f58ee35cafbaf55"
            }
          },
          "metadata": {}
        },
        {
          "output_type": "display_data",
          "data": {
            "text/plain": [
              "model.safetensors:   0%|          | 0.00/1.88G [00:00<?, ?B/s]"
            ],
            "application/vnd.jupyter.widget-view+json": {
              "version_major": 2,
              "version_minor": 0,
              "model_id": "6b664b715145428894f6639fe3defc10"
            }
          },
          "metadata": {}
        }
      ]
    },
    {
      "cell_type": "code",
      "source": [
        "# image_descriptions = {}\n",
        "# chunk_number = 0\n",
        "# for chunk in chunks:\n",
        "#     image_descriptions[chunk_number] = []  # Initialize as an empty list for this chunk\n",
        "#     for image_name in imaged:\n",
        "#         if image_name in chunk.page_content:\n",
        "#             image = imaged[image_name].convert(\"RGB\")\n",
        "#             #Generate caption\n",
        "#             inputs = processor(image, return_tensors=\"pt\")\n",
        "#             outputs = model.generate(**inputs)\n",
        "#             caption = processor.decode(outputs[0], skip_special_tokens=True)\n",
        "#             image_descriptions[chunk_number].append((image_name, caption))  # Append as a tuple\n",
        "#     chunk_number += 1\n",
        "# image_descriptions"
      ],
      "metadata": {
        "id": "ED7bqH797j7j"
      },
      "execution_count": null,
      "outputs": []
    },
    {
      "cell_type": "code",
      "source": [
        "# from langchain.prompts import PromptTemplate\n",
        "\n",
        "# template_string = '''\n",
        "# System: Your task is to process the given {chunk} and {image_descriptions}, this last dictionary contains image names that you will find in chunk and also their brief description.\n",
        "# - Do not modify the content semantically.\n",
        "# - Remove image references if they seem misplaced or irrelevant to the game explanation, base yuor reasoning on the image description and its surrounding context.\n",
        "# '''\n",
        "\n",
        "# PROMPT = PromptTemplate(\n",
        "#     template=template_string,\n",
        "#     input_variables=[\"chunk\", \"image_descriptions\"]\n",
        "# )"
      ],
      "metadata": {
        "id": "FzLT5qQRuTXD"
      },
      "execution_count": null,
      "outputs": []
    },
    {
      "cell_type": "code",
      "source": [
        "# # prompt: create a chain with the llm and the prompt string giving input the variables\n",
        "\n",
        "# from langchain.chains import LLMChain\n",
        "# chunk_number = 0\n",
        "\n",
        "# # Example usage of the LLMChain\n",
        "# for chunk in chunks:\n",
        "#     # Prepare the input for the prompt\n",
        "\n",
        "#     prompt_input = {\"chunk\": chunk.page_content, \"image_descriptions\": image_descriptions[chunk_number]}\n",
        "\n",
        "#     # Create an LLMChain\n",
        "#     llm_chain = LLMChain(llm=llm, prompt=PROMPT)\n",
        "#     chunk_number += 1\n",
        "#     # Run the LLMChain\n",
        "#     try:\n",
        "#         response = llm_chain.run(prompt_input)\n",
        "#         # Update the chunk's page content with the processed response\n",
        "#         chunk.page_content = response\n",
        "#         # print(\"Processed Chunk:\\n\", response) # or handle the response as needed\n",
        "#     except Exception as e:\n",
        "#         print(f\"An error occurred during LLMChain execution: {e}\")"
      ],
      "metadata": {
        "id": "fPdtXq-dCUAf"
      },
      "execution_count": null,
      "outputs": []
    },
    {
      "cell_type": "markdown",
      "source": [
        "_____________________________________________"
      ],
      "metadata": {
        "id": "xFoInO4ENU5M"
      }
    },
    {
      "cell_type": "code",
      "source": [
        "import base64\n",
        "from io import BytesIO\n",
        "\n",
        "# Assuming `imaged` contains PIL Image objects or file paths\n",
        "transformed_imaged = {key.lower(): value for key, value in imaged.items()}\n",
        "for chunk in chunks:\n",
        "    relevant_images = {}\n",
        "    for image_name in transformed_imaged.keys():\n",
        "        if image_name in chunk.page_content.lower():\n",
        "            # Convert PIL Image to base64\n",
        "            image = imaged[image_name]  # This assumes it's a PIL Image\n",
        "            buffer = BytesIO()\n",
        "            image.save(buffer, format=\"PNG\")  # Adjust format as needed\n",
        "            base64_image = base64.b64encode(buffer.getvalue()).decode('utf-8')\n",
        "            relevant_images[image_name]= base64_image\n",
        "\n",
        "    # 4. Assign images as metadata.\n",
        "    chunk.metadata['images'] = relevant_images\n"
      ],
      "metadata": {
        "id": "i979TP24z6LK"
      },
      "execution_count": null,
      "outputs": []
    },
    {
      "cell_type": "markdown",
      "source": [
        "QUESTO CHUNCK E LA RELATIVA IMMAGINE SAREBBE MEGLIO PULIRLI"
      ],
      "metadata": {
        "id": "x5cD5dszsWYd"
      }
    },
    {
      "cell_type": "code",
      "source": [
        "# prompt: convert the chunks[1].metadata['images' to base64 and display them]\n",
        "\n",
        "# Assuming chunks[1] exists and has the 'images' metadata\n",
        "import base64\n",
        "from IPython.display import Image, display\n",
        "\n",
        "for base64_image in chunks[2].metadata['images']:\n",
        "      print(\"IMAGE\")\n",
        "      image_data = base64.b64decode(chunks[2].metadata['images'][base64_image])\n",
        "      display(Image(data=image_data))\n"
      ],
      "metadata": {
        "colab": {
          "base_uri": "https://localhost:8080/",
          "height": 160
        },
        "id": "Pw6WbIM6mFXy",
        "outputId": "4a537b40-b544-4f9a-ee20-e3b87ea24b0f"
      },
      "execution_count": null,
      "outputs": [
        {
          "output_type": "stream",
          "name": "stdout",
          "text": [
            "IMAGE\n"
          ]
        },
        {
          "output_type": "display_data",
          "data": {
            "image/png": "[encoded data removed]",
            "text/plain": [
              "<IPython.core.display.Image object>"
            ]
          },
          "metadata": {}
        },
        {
          "output_type": "stream",
          "name": "stdout",
          "text": [
            "IMAGE\n"
          ]
        },
        {
          "output_type": "display_data",
          "data": {
            "image/png": "[encoded data removed]",
            "text/plain": [
              "<IPython.core.display.Image object>"
            ]
          },
          "metadata": {}
        }
      ]
    },
    {
      "cell_type": "code",
      "source": [
        "#add metadata\n",
        "# for txt_file in tqdm(txt_files):\n",
        "#     # Read text content from each TXT file\n",
        "#     with open(os.path.join(path, txt_file), 'r', encoding='utf-8') as file:\n",
        "#         text = file.read()\n",
        "#     txt_texts.append(text)\n",
        "\n",
        "# Read text content from each TXT file\n",
        "# txt_dict = [{\"game_name\": txt_file.removesuffix(\".txt\").split(\"_\")[0], \"game_id\": txt_file.removesuffix(\".txt\").split(\"_\")[1]} for txt_file in txt_files]\n",
        "\n",
        "book_name = \"SpellBook_391834\"\n",
        "txt_dict = {\n",
        "        \"game_name\": book_name.split(\"_\")[0],\n",
        "        \"game_id\": book_name.split(\"_\")[1]\n",
        "    }\n"
      ],
      "metadata": {
        "id": "bf7WPOD9-uQy"
      },
      "execution_count": null,
      "outputs": []
    },
    {
      "cell_type": "code",
      "source": [
        "\n",
        "# Add txt_dict to the metadata of each chunk\n",
        "for chunk in chunks:\n",
        "    chunk.metadata['game_name'] = txt_dict['game_name']\n",
        "    chunk.metadata['game_id'] = txt_dict['game_id']"
      ],
      "metadata": {
        "id": "8hgUx27TABnN"
      },
      "execution_count": null,
      "outputs": []
    },
    {
      "cell_type": "code",
      "source": [
        "chunks[0].metadata"
      ],
      "metadata": {
        "colab": {
          "base_uri": "https://localhost:8080/"
        },
        "id": "alz_HmyGB3cE",
        "outputId": "3b93e141-7402-4a33-8e2a-1de816be3b11"
      },
      "execution_count": null,
      "outputs": [
        {
          "output_type": "execute_result",
          "data": {
            "text/plain": [
              "{'images': {'0_image_0.png': 'iVBORw0KGgoAAAANSUhEUgAAAasAAAB6CAIAAACOZusEAAEAAElEQVR4nIT9aZNkS5Ilhp2javded4+IjMjt7VXv1aulq7pqumd6FgwICDCECH8E/wp/Eb/ww4CECAgSAAdozEDQIGZ6eu9auqre/nKN1d3vNdPDD2o3MqsBCEOy6mVmZES4XzNTO+foUVX+X/7P/wkgQADNjKAU0aoigAAg0GigAwBEykgSoAEASIIAzQWAiBYSCAj9gzRJJCACgtQioCo1gMzvQAOcZoBAmplAASQkQVI7qFXBRDNC0UgjBxiNVEQoFAFA+ToISZLQ/1KS8r/rv0H/s0CCEBCkIAqU+usnvYGArL96SAEQsFh/R9LoyIdi1l90BFABKAQF1ACJEAjAAANgRno+VoIQQaq/VpFvPUVpXSaAvP8/gG/9g/67/kN/5yOfv4CQwkDQxQJzklC+qQAaIYmAQSCMDDAfkZk5aWYWsdCMRlKA0czM3R00MN9A5HMGDcF8jbnMoLFvhSBkxlIKodZCCtLNyyHUatvvD68u7+bjfLfMj84v/sOfnv6nn/z28Ucnd4faLg+vv9q/enH86kXU6wXY/fo43t7sf/R0+aN/8vTjf/6DYbP97d++/Nd/8tUf/+nrb290enK6223oXsrgZm5QxHE+SKVW7Y/7cXPy3Q/e+cef2h8++Xo54De/+PbL3169ej3jOKhsD0+fzmePqvlAK2aiEKrLHiDdzJxuIUKKCAj9KBnRT4rUIgIQhFxZIKJFA5BPFTD0Q3O/4usz1P1qBqDceFAgQojcpICJltsVg5kNRhppzCWHpMifDUTIIEO0CPci86gLIiKapOIWCkA0p7lZgYR+uNSiSYCCCICCyAIIaIBHy91NMxIC+n7oGwDrcSeZO8Gclhs+oKCBcLDAHOghw5CbjIggxb6bEK2BsDKWcWJxCP1pI1+qK0LRIBF5Ekl3mlEEBbpUAZT1FAmkRERIFdGYL4B51Jg/G2QuVSBPNQhacXNTHmLyzZqtS9lPfL5AQaB5QIUYAeaPg0QGJIAhtQiStP7A8pwFLc/3EjDQ6ObmToiCEBQMUFNdQ1ascYGAkSLQ1N7aZIBAZNS7/6DuI0KPGkPGG1AGEykpFEY3u9+7AQTpQr5xgSQKEGIAMuX2M+bNoRBASeoBVpQhIEcGU72JbflE8b/x8b/5l3/vs/+rfyOFAiR8famSFMx/qdybTZitb8MRHHIZ+zUjImik+UAbelAjwTU496UErQhtjdUGksjDs767iHl/CEUZ3MtkVmRBycjdZpqrNtOga11fvv7//Gk8Mf7HT+PJpx9ysHcOx3r58vnfffv5L4frb+bNXB9/b/jhP//u9OHHdZ5//qe/+r/+V9/88uvZp5N33z3duXOaymbaDJMZDYhQWw61aa5tu/fbuf7Nrz/7+tnDV5+e/gffv/mH/8knH33x9Ze/uPns18fL51dn3xzs+vWL83ePJ2eVHCPoMDoA0sy9eAlaPlhlJIEUcb/zIVlfRCUQyK/NnQnehz/03wj315ugNdL1paQZxLe+E4C8RyU1WwJcZAXFwwzr3mWerowDGQijNdVcfaO5URDMGQY0IiDL10wm4KFxBPPvQoqoNREFkMcqI1H+JEcIaKD6KSaZ58VMNJqJiA5TBJijgABFhmDWn4LyQZiHpGhNAQHjZgtDSHObPczLwB6dLNFPP7+58VTyfah/NegSBkCF/RkSoKJFW6CWMVpEx0aqImgOWUghhSJfPEFhcA4SjITByEQabw5tHoaO/yJvQ9L60oCgISOOqNxYgCQ0NYgQoSYGCtSEAEyyaIFYFPnK1b+zAgjC+s5Ryz2YL6Nfv31jkQDUOjZk/o8r8mqGkLh+CUBTB7yuDKOEs2PVt+KMtK7Zut0FkOZQvut8bQkJ2PcTK3T/QNbAdB8D/34s+/8f+Kj21pe/eTUQABMoOkEqpAYF7rdBrn2Ia8gWwwxrZGdoDXQCSXqP6R3k93dAUgSNaIZ7EAiSMCLWs5tAveVjJ1VbRXAqQxQutZ2cSG2o7cihvNgv37woN9evT9q7Kmc8ezRuH7y7G07fmw8vXrbjcHYxlHfPil/++Z988S//+PXPv/Xd6cVuGreb7bSZTk5Oxmk0K2TfGHXh0mJc2jIOdnvkze3+7vmf/OaRxfif2usPPnz88OL04eMXX/7Gv/ly3t9dngdu2vGw3dXipQ1mTIZBBVac4CqBAFq0th4qggbvSCwZCSWQuXn62rx9Ba/Pvh9jiGVY4WHHQ4jI+whQBGFGs4xKEvP+Zhi0gGbwfswSErYQQZqXwcyiVaizvUQutAzbcb/XlHgEiNoIGA0wArESQWDoZyQpliQ1Cv1pr3dgcgm4gw4zcj11iLxuM2yt36MBVI8oCrVEsgkep+2pWdRlrrVllOzQASt9ohGtLw08n2QuQjItIAiVFWkHREWNNjudRFMjXQEqxIhG84CJoVZbi0Y0AW4exqCZ1GzIg+WEG2sgFIYAYHRLeJpwo6PVRiR2tERiGUBoxYhIThEhBNWaIvp7ozFWcAvVInMoEE1tibZ4mQAnrQcS1VwwrWeWZKjfntEphsSEkARERYbdRIemBSRUQO8BlJaAWAARHSWzhAQoQxwzGBIwg+xNVMofbKaoQIPsPlSJvvL03Ba2MvUGqYfON9BgXVxJ664h7+NmrMwj7yNP4pk/RzYwIyCa1Aiwv/cMUzCnGiKcaFBFMFgEFDHgYBA0c0iIJkMHwnkAJHaAAylojtYEWSlmRQhXhFpIhhBlpYR8KGUOFIN56cyQVjqkLDEfXy1XNZZBI33H7QjzmPc83Z6fnJ69a1Ef2LiJ6/2rX//m//vvXv/y2XR6dnpxtt1M4+7sZDNth2HwUkgqmYFYnBsNS4vDcvBhON2OV9e3z69e/8lnD08M/zRuP/jRdx59/MnHL1793b/7zW9/cf3y2Y2/XMbTs5cn574t90qPFC0WYyFsZfkkVgqS4Jguh6KFGqIJAfbvkHvG81rqkEKhQOQRDVihOUCuLFioIGXWpGiyjsEdMCFkBphleA0CamiR2k6GtFCQRjMv5gZzRUiBaCvjzhvJQEbUjlWT1mbgj1BEqCZNkzz5TMJ/qUFVsk6JIMLVCVOqTYKnDLIesk7QEyRiJf9iolXBkieHFXM6rAwRiwSBNF8ZSECi5V6mzNAi4Unko1MkB6WAFlID70l+fv9W56ZpcCeiVikIMyGWpnlWO3CZBy0bLaqLNQWslGEohI06fSAvMZTm02zDEizmTouI5Pfo11mGflOPQbTUCVGkjEj9IBJySwQrBWylCCRTCQTc6IKJsgh0rSMiakorJinQ1PLRCsmX2RF7J6ZBBgADgwSMaMzXtt5vAu8DRMYUMybvAAPrBXevdpmt4J5ag1DGNVtjF8ECvwfgPf7lZzsk0Horrx+2wgQhlcp8fXG/X1Z2uR5AJLnQirnyy/OebFB/s6vCGIABnq+3wcnBbIlE0DEPFq1sJCpmwo00Z0QNNfOhn0CaSKiB+QqlaF4GIVoLonphba0oWiiBRAtsR1sahQC9FAsqYjEv7kaaGcdmM3wqNh/a4VBjPmBx1+zLV2gV04c2PbHNKcp22X9bl3h+2TBsTs92u+20246b0a3ImHg/b4ymhBLEYDSbJi8HL1vxPOLybv/nLy9++O7rdzSOD59cXDz54aZszr74m//52Yvnd3itzbCdx+2QEioh0LoA0GOHmyOixXrkTKZ+RsFENFSSrM7NIiK3iAwADDEjKuAohVawClK5AdjXudCMElQViyJZTRC5BSGAVgAomjrX6XtYUiCsscUbucXMRFNCZGVoDnSpq28MW7VEImy9zBNCrSc6OV+kWg8B5mJhapcwRWUAUeSeEp+xA4/EZj34CfDi7pJabQIJb5RbjWiDtMwBDjTmuYjW1AKCD04SgRYVEuBNTa26IqEEzNzcSLUQrfQnBYMPBh9VSSyBJsb+UG9vcHs3HA9TWcZhfnBWTs+LFbaj6l3bX7c6Q0u0xnj55VR82Gy4Panjbt49XMrmAENo64jaIkMJU8WAWcZqhBpStAXuV8gSQOd+gCkM0QCaudEz7nSWpkAwEuP4OPgUtMQfoVA0ckzel5GBPcDmfhDXWCZkFihB+0pJaGaegm7f52/0GlsDVU9Z5EJQROupAKGtRC8vNF8RYEdub6t7XB9B4inhfkcR8B4SO5VIUlPXI3QP9978CjgRoICggv0GWd9BCFggz11umYIxgE4aCEWAoBVGUdsv9KhRrm/McDJKPi7lpGlAVBKBIAm2XDmyrFCSIKNVmtNdrTWo0MtmN+/3y8uvLzBPo58O21d+UjV4GRsUtUGtH4cQQUcQoRa14ni7aDl6+Yi7otN3GEe0hkMDjeNWsal1a3Y7DuPJZnOym7bbsQxFZob7FFYynpBMCDcvbu7uXsQB0PLq6rcv9fNn9vQ3Xzz0yXenp0/e+eQHsv385//+9fOv90+vXn9lU3twVtyo2kJFpqhtvbvNPLNrPTsBX0UEmuUlEbka0j3OXxiNiOAIurEEG2D00b1E/86ppqNFYU9ECUWqJWKJFoB7KX0zZYyFRBdBRt+rZsoY1ZOCDapIccYKaV6sBRSh2hTN/F60WS/vN+dUeEu46Ywo5W+CsH47+ECQqggEhahILJI81NzcjU4jFNEaFEnqrQygAdEF1iWGqBduM8dQiTxfTZlmGorBoNCc10OVEDS6TyTdi4PRakRlkg+lfsPSUQKktkSEDPP+MF/dtOvL8XhztqmPz8uT7+2efvz00fsXjz95eP7oxGHHu/n6ixeHV7fzXb2+vLl9Pd/czsdD3d8eD4cD716eXH4V0+nZ2ePD+OBynorLDJbJZq7kgAao66S4Fwu0Mjys8WqNXx2cJzBMNBUAqUVIJk2TexkEBoKqMAFOZl7HQIMqMIQiMoJkjjtZKhrQhEY2ABG5y+4jc8da9xuAb6LhGsWQBy2ApP9EJ+NJDt9kN/q3eitjK2bKAP3i7eKpAwSTmPubhwMYWiR1Qso7vFdbAIAFCrDhrSRxblABeQS7gAWBWpnOfZ7u2JaKsqVFyG7vji9/9Xz77O7RQ5QLPz9/+uKRi83qXbHWYgBPWQY44aNaAzrKIaJVgfBi5hSsiXevX98+++bi7ovzB3Ua/REeXLfv3GoYGRUVrXYZi95aCG2Zl1hqtBqtBoQSONliU+J46pvCetQgLEcti+abuszmZdiMm91m2oxlKO7WOlQrfc3kUotokEUXR0WLcVBshvOT6fr27t99tfnk7PmD9859soiDnQwf/eSiHeuf1qvbr68vFj0r3rabDRukQ6tjGWAFJoVqrZkK0aqA+zi4O6RoVG0JfFKWEUUYrABLRFUeRgIcMzsfYWpLLnnKq4AAFz1oEm0saAZUwEiXWloZRAmiwciwglWyYwhqa2aYgHUlOxoQIQJOJO6D0sawSkqgr0eAKeCoM9ukpOiYESAavQBkO0KSOWhoC9RAhxoJsiR0TtafnMyQGulA2Pr8GIHrI3z/6p3p8y21VI8Z5oNPg43mw7gspYbVykVF8irIDF6sVC8jjHLS3WwUKcQ8x1isEIVARG11LubLcdlfXdUXz8f97TsP7NPff/DDnz758Mcfnr73ePfwYihlnpe7m32d74aBDx6ePvngbLs9gzDfLYeru7vrm2dfPXv21dXNZXt9W+9uXuPZ5enmbNg8uprOqg8o02DmXQZEKHVKBpCpXPZ4tGqnKbYhGZMz2XrUziB6Oix6/oWOjvYjRT0rg6FE67Yb9Mx8csuMXlwDB7AKf0AXKFbq8fbll4KFrSmi3wl/PVirokOqwg4bFcpF1ptvCFnfP+ufxbfj4Rrp1tzC+hPuw3CggBAMQuKv9Zuvwnz+OHnKi+vdTSICpDJMm9FgAApYgPQtNdLMN1ZKq/PdbXv12+fjVzdPH+Cddy24zK8uj9tpiKGgLT7ZZksbVtVONSrTDpG8qZRGDxiN8/64vzssz77c3X3744/s4bsndx5FmK9jHm0Uza0tmUcyN6foZr5EZbh7saHOx2jFUDDszIBjYLzgA+Bwq1c/1+Grerg1mcPWLMOqyt3/tl9DXTPtXqtkoJSbbzbTXNuzG/zdt+WjL796eDJZCZtsOHv04U/a5XX7Ne74/OZw9+oKZ3NBKWOLqITTnYNQpVZ8JKi+w41lhDsBcgEY0d7eWJlZitzFqSuGOiWoLbRQgZTbzDIXt1K3zllApwcUXTdZt0kQFuk5W+9IQRHQyhvepOakzM41S0mEFJiJr7ev0fvfcCXdKRmtca9vvEIo5S1BwIKopDMWIMANU+FwX20YnXKbOcxgLgFKsYRGBlDI88dnP/jkyXQyabG7F8/q3I6Hu+Mxjgf6HGiBY2NEBLYqbqWJDWbjgMGHbdk9OCmbycpA82c6ebGUnaGQMMT+uH95vdeLV5v5+nuPh9/7jz768T///rvffTpOp/PheHd98+Wvf/X5V1dXl8vNXVuqGbwM85MHfO/88p3Hm83pbrp4ePHdjz76gx8cXl7fXn7z2c+/efbN7VefX1++fhU3lyfbJ4ftw/3u4ewcUuK598vYCui62JqPOSXhjFU0iHTIutEglCuZCZIuftKlqnY0P4Mg1fSzWO4kJlvtAMiguCcjGVhTI5VJfm/HE5Ig2iqW3YeWZKNaM6BIixFVoYZUYuzNV5GCifEmlOY3WUlp/mz4/ZnsALHnNwAImSQB0CVt0dK+5Ghka5rWrHfD/Rfl+wLUbU9KTtGxM0l44opGB4yi0BQIjQ1zvd7ffHW5vPj2yTx/7/fLBz84odXXL+tvrrGv1Qx0Cy9mG0+40dyVeiKEganhQm2py7HF4TC/fF5eP/v+yfy9n5788D/8YHdWXn/78qvf1OPLqqIwG4fJ4IpGQ/qEvAzjqLk2M5aBZ0925fQRpwnlBHYEFoSw3IHgpmA41KjgmF/eBdS8EGlSk4yJ01I4TlObekQYzFVaK1bKptb9b25Ofvrsavexb6Zz9wHnvjs7/YlXjfztcMvr18cDbzenZwO8eGsz3B2j2UAMEU1auufJzKO4DzSzgeKMJWmx1hseAlUKMHruygg3EYoarR2EAV2Fc6QkRzC1oszjm5OQquTRt7QAKEIkUBEL8xCBQqZonDb08NuTAXnkDApFW4mO3e+mvF/X/HVGU+jNJ9m5yxoN1SpY4JMk1IPaMXkajDQHywp1LLUXg8y6yzQirBPrLuCw4Pnd9N/8zfvT6e47700/+8l3Pnhw0/av58Ndvbu5u+Lx0OrC2iwqlmM97KsqbWynp3b6dLr46Hz7cJS1+Xg7v6p//XN8tT8dBysir+a4fXZtL5+/v6uf/OT8H/8ff/zd3/84hmG5uvz6b77428+u/+bz/W++2j+/PF7f7FtrgEqZhmFzdn7yzqPxpx/zxx/dfOfhlR/fHZ8+2n4w79750cV3fnj99bMv/+6zX/3VN5//5upw/Pa07mG425wH+tUBc0v7IrtrKe/ihF/My9O43tEBgJaeRrW2KCpUyRBHqjKoWCSERHYtMNNwmdYKqbWW+yYYiAqIqux2mPZGA0bHTMYgvQuzyTTtzZWl37URZl7f6GZ8s2HuoyblK8AN3UeovMfz1o5EjJEaES0T5h0mdOVSqRuQxmhAgA2C5OzaN9TJvtZbOr/cMrYmPHBINtLUfd0ySNSiFhE15mO7OcbdPL+6s2f7D070wQ/LP/oP3n/v4/PPv/h6OewXtqYhfMdxGAwI+GDu42FpRAAW9WjLAkKt1turctzjeKf9/kk5PH53++lPLj792Ycf/LN/shxv6uHfipfH2jpGVrNiCihatABYBR82hrkUB8Eg2szDN9AVJJYNSsGwBQFdcPNonvdtrjQ4HXAFmioAc6M5bCAdWoCU8gkg2CIqJMpIFPepHG9bXC2Y6cVKnJx6g8WR5eTs8eMPPry5vR3aUp8s+9v2YJkXLzRzRNR6SBEhIU0mHkO0WmUGDiGphZRm+C7GdRx4H04Mbga0vuOsCE63mGu05sPQt1TmndJjlNlOOkH3koZVRbOAOqxsUCPDOv8OgIiAs3s54SZP6py0CiRghujpo44rF8DfuBzR7q9k0FYGLKKlwxnuMDeNoqsdJbLsbBh7aiXT5dbRKO2+rIDm4IpZWlV36Kg9e313/ObVL35pf/a3F/+nfzj+o0/55KP3ymmp81a3l+CANmHZt+Xu9vrG5P7wwe50y/Ow8exuvrg8bg437duX33x9e7mE1Gp5dXl3/flnjw/Pv/MB/uiff/p7/9FPL9577+7ly6//8ud/8u+e/6t//+KLV0eWcRhGM5yeno2l1JZmJN1cLZcvP/v1Z+W/O3/0008e/uHH3/z43V+/84PvjyccHj949ODi4qMnj9/59ZO//OIXf/Py+tmeX/+Gjz+6O3tYBBR3OuHpTiCTzWUIWiWLnu5mShLrCSdFpKdp2tKLt9YvRQImurPblxLlFJJQUGHuBgMiWmNFsEGDIhABKnGdKdNhTQgoGC1fguA9lq32E96TgnsJpFNq9fswNxdXWLdSiTdf+Ab1pj6Vf2oA0yWEN58kQaGlxSmFpICEEijd/aCWtAstzJx0oORzCwVAoyWWDI7teNT+yppFi6UtmJsOh3Z7jH1tc5SGHXFxwnd/NH73B7vvfLL5/j96n+P2q69eUfu2oAVkhcMEY62HV1fLe4df+9ymDea7ud4dl9tjqLlp3OhkKmcP/OLdzbtPT9//dPudf/YPNu9/L7bTeItH77+/+c2RxsgCCR/MqFbrMgtdxKx1yXzkvERTg0ZUwa5hG5RTuAFHwGDCxsqYcChA4T4BSirShxgiTBUIWZE5IMYkH6M1xCKFO4fipdjLW391tRyuXp6/8xjDiEaOzU4unnx0E7zkcOPfHF8fry55ckr3sjHzjH0tOSYBePqhWquaZVmNgbzx008nrPm+N8iOULSojJZcqPS8Bo0KtEpPM3YADnqnu72SqemNnk4kXsg0Md3KZF6agMw9Q0zRMI3K7MQ32U2G5LdV5PVVRucZ/TjYqit0hWnNIBNGQKqLYZGATHd075QhMSnvabY8dXdjIsG81Hu+pqlM48YLSHcej8fPv/jmv1jee69cl+X6/PvfnZ5M/vghcCI+hQirJ/XKbKkNVi+//Pnn/+W/+vzf/GXMbSg+nO42024zbUVYufniN+8dX/70J6ef/IPv/OF/+ge7k5OXv/3FX/7Vl/+vP372118eDpgeXDyeCkEO4zQMPphH5hbpTcvxOB32883lyz/+09e//eb9L783/bO7X3z3hx+flIDTxvrO9z8+f/rh7uwv/vrPv/rms9enL7+qGObTMyecrXkRzFrTvRifBxYAuiOZq0uoR0BF1AZ3c5fQaiu2ls7RUhb7nY9ouFd6AKGleZBRTU1idB8p0G8fmFpLjt4zJPd4CqtCx64YvglSGQqZSiE7OFxDYWK3342Oa+hMaotuHUBWp5nU2C9bARVo4EJZLyEgI+2jXeKpkKu7mpogcGRnvhl715QOJLWr/TK+fHayf7EdiNB8iHpEBNw1Xdg4+rbg8ZPNk/eGD96f3vlwfPzuYzt/cHs5O+mjARVaDAcjAWvSEjwr3w6TPXq8tcZlKXUPAzcjtls/OSnnj8qDJ5uH752fPHk4vvOkbjcxy+ewsYyboVvaE4sHBFoZbC2R7FWWtKiqt4sO3+D4RL7FMCBeQyPQwAmLeSzjFGWzZRvpBTCgdHYBSkQ9Eq3l43Cz9AZ5CZFoYFhrZuZDGQe/usbrK1w+u3vwnYrNDkORgptH28f1/c3p4fgb53z7rF7NFsx0razHMHsr0890HkQL8U2F4N+PK2t46ag9hY40q2flWf9SSoFgmgVgNFpEKCrasSfWrFsLU+vM2CkvcPdhghcPqYVaZfpFQmv5xKoe416G/l9/lLVAJd+aAy6YECDYCyXyjVg+i1LcEbXOtXUazlioFnClWkzSymCebC0Vwgzw6ZOXiwxV8wHFN+NQ7u4Ow3D3+uru5Ut/5+nCsmVrgqFdA9ewCXKooNAP39x9++X/9N+8+tf/i7/W6fmpF6e5kZx8qGL5jr/+2R+d/aP/6Mff+6d/eLidf/uLv/vlX3zxX/2bZ3/51WHanjyYppPddpzG4sWZdFVCK2UQndrFNB82x7lhOR6+/Prr13cPr/bjf7b82ffre5uPvs+yo8/DePejn32vzIu35dlXhwcvfnujd/dnj6hCNctKmjQVqZfy5Y4HU8vF23AIoszdDca6LOn37EgdpDGykARN/fJfZVaCZM0612iJwAkYot3XV3azZ2ZOnOZu6HsNtjoa7zeHoXs+39owq0Ddww1W406Wwby5nXsA1IoFjbZ6U0ww6ZDZvXtuS0xdf8nqxR6DA6wA7tOIuW3WzMff28eSWo0K94sn24/G8vSdzXZXKKsH1bkyYgB3jzdPnjx49MB2G2xOtxi3bo06DrxyLG2RDcXKWIbtWLYA7vZ3pw/O3/noRxdnm6fvnp7g2Yhjib35yXh6UWjjOIxno41mPnBX4BtWDUNFcWDqCyQghNZkBOBGWElBq5cPCRLbIug1dIq5iHvhIX2C5fpUxLn7Ky9iC4gywNGNuOkH0lGREBvGzJVTdDJoESLYjCpm42gV7foWr765+eDmFSWaokym8NPd9vz00YuXx8PLi1fH6eb2YCdbmszSKJl++X7h9qBiq8yz3n994e9ZcAoXETWVoFzc7lxJ/SJtsAIVVQiYG0GWqHvUWXEkJLhxu5qEBfQixrSnt6WaRCuAoEo05PUigxnIrvF1GZGruvf2x+8W8HE1ZWQElSMaNGdlG0G0KrgomhcfzAew5KWGxqYA3eju/lbwhRQINIUZzT0tRBPYog5jmabRi/HG9st+oZ2//9Q/+gfc7gjo+jn2L8FJmuN2Jg94ffPi8/m3X7D6cLYdH5ycmts0YTtNpXi0Vv7wp6f/5D/5w/d++hNzm/fPvvjbr//z//qzX77m2fn5yXaz3U6lDO5WipE2WAGiNbqPLENtNcy87LbCfhy8lNu7q7/8/NF7J+OH3ztOPkQcYrn04r45fPdn7xzqvrXLZ18ezi+fxzgtm/OxNg3mnoaVtCgsCpkbKKfTk8OtrIIkUYasi1Rxhnsca/9E2tnaqsjms2xtTY8aLLXCYNdrO/MwWhalZeA0K1AmM3qarFsFu/MOXWVDGH3lvyIQse4M3GNArYFJUrCXDa344E1gylszWb8DtG4+XQQIE1FgCxToTNZMS/SCZZMspX2kD2vtPtBvjPvfKTXuIHyeLp4Pm8M87Ihp2D+c6ruP53ceDQ8eXpw8eTy4y6iog1ma1RlUvTHH7qRsTrSfpjKMMCqaDX578/q//4u61KtxM5+fb95/cPb7T/fff2d//mD0R+8yXNE4TXj4bpumIlmVamk3d8fLV8uhKvxeVLfMn+TRB2julu8aDhkJO0N5BCvQgM0J7BQgWOG7htumOdrUarQ6YzqhDexpYRkhboIDVUkILWqlD+rkg8lsaDJH8UJv+4XzYYnlYMuey8F8G3FQadycnz59unt+vfP9Sdvv6wZjdgoIJSftxZ2r7rHG8NVYZ7iHUroXV0Kh6PU/XfuJKglZ00F6OpbRQghmUZxDdVara9WTFM1AwLqxSUGj2ZCJXSCiVbSmaBmjGRUyhaO7hUJo6hvnvlLzzV5lj4M9RK7F4+xtPTqJAchk6y0ALz6NsJGRxiRnyFxQtlyxiJavlCv0A9AUKN12TnIYVSvAInIz1HmwYfDjUsmtBqcXmLjZwt/FsIXmoq9UX8zzsXicnA6nxzNOp2fnu920AWQ+FEcEyz/7z37y0R/8Pge//fb553/9m3/1P37z2X48f3R2drKbNpvN6NNY8lm6pdIE96wB1GYcgJKgaRp9bzE4b/eHX367+aevlt28+O7cTgpahZezqXzv994JRavt9ev9xdXzF8OuWbHWsuMLiaG4ocyx1FZpxctgVtazkD9T6LbjAKjWIMAmmpGedIBdIutfQZrWBFbWe9zvQjFzdSX3WwYpW0GcpKa2Nn3pjSqoKvh6scdKHsx4Xz2+0uT1CN/vnQjgDYMAegGVskahBcwLbVQeFxtRj9auW0YF66WgPdYDUknhE73TgaWxPN90T0+rK5P2xpYIiJjvvr46/t3+7jjvAW6nzTtPP/zDD7Td3J5/gO3uFGoSZYOOlV5ZDD74ycmwcXkwzIVoDSi00Y2F9WZuh6W9vrn8zRfHPyv+i48+/hc/av+Hzc2D3cV0dko/wXYTm421UCxqojnBeb/cXN5F3WCCFV+fFgHQDYAbq1cKhMrgp+eTje9g+IA80O4IgQ0YQcf2sQ3n9G+9wL3YMGXbjNX1hogshiRoa20cgDBbegWYmQ1beYs4mvlm4Ms2TFv6xUfl7EI1MO+5f0EXpwfmr0nEgHGe2xDLMo8ssDHpLy1onldyN9kHegKQ3Z+e67gqKdF9B3IpK1gCIopTUMvigejSi5nBkPU80WCOkNkIMlpmKtI8m2HIJHUHTKpBdUFbQqJ5L+FUE8Qg6TQS3t2KCDBTsqsR8Z6zvLm8s7yh1FiyFgqglZGAmnyayjD0iKmmvjENTpMMkSEPElgIGdbA7sXKwKyByAfUFrNibgqpDM4SDRTqEsAEHxF7DFvEJY5XajeIGTodt/s43kwThjKenE6badpuhjAnoJCbl/d/9hNuTvbffv3iy9/+8R9/9pfftunk4uL8ZLs7mUYfintxJovoXX5a666OBprZUAYRAzJz6sOx7r95pd/81bcn5589+u53bShRJsoxTg8/Kb+33czHX/kXV9ff7u/unl2ev79VEx1rOTRowziCpHkpheZrfUXCgmQNjffGI5FeiIAqI7r4TTdSiADNiBZqARBuLENWYef6WbeLJPJfkg9AazkF7mPW27pe/oq398EbXvtmf7yN8jLD9TsBsUOGIDKmMogKOZB3I2CDsGMcyZo+bWnsBF9J63yNGAXdTJbMOtJFnRvW7nPCEulucitTCWw2Rmut7m/3v9z/6lB/sMVxU+L0/MVoZ/2Ejg73RB4R1havMyIkOHz0cQOzIdq0KcFpqKpNu2Vzs99/8eyb/6k8+smj1w/e38fDR7Z9wGFgXbRUIJArVQ9xPLS5KUIhhBCBSEO1wUqGKkUoPQMmsIEHtAOc2DwABoDIVjQNvj3dnm/GTXBOztkiUkKu6zJEP9j3V5GEaMqSyL4V+p1mRMDacsTtCw3G3TmmU5QB8x6Yh9242Q6b4eBtOe5vx+HE5Wm8zm/DDD/sdLjvXqz0kjQW9vYGbf3J3TcQCgais9E3Jci5rYRQXnigJLdNs1mQmTnHftdjXXWSgiKkhlgQqXAH0Trmpqfrznqzkt8xOEAtxUV1Jn2/4ZUahURGo6MYCLcM4BStJIleb+E8ZZSRWdkFgo0gWgSyv5OBZmYs5j7kG7FMmkORurZZJiiteG28u1mO15cP5ktOEzBiGFG2CGB5jv1RxysuB0DGoYxTGcYyDEMZermcF0HFy3m9ur78+qtf/sXnf/VlO/r24W5bpnEqGIqlZNjLs0yUmVn2fkFvkCQjstdMGcYd291xPiyxRHNrw7CRDa3OtA1pfrI9/XD3yY9vWqtxvNu+un49PYnRWORYs8CZBHJP/p+HYe2Zl7nhLgwShJm617it/kJTLGmIziYZYaZo0WYQxnFtdWh9Pfq91pB9CpBhot94lNbKX65H401E05tIp7c+ex/jqDcps+wG8juUQsiyvyW1RbN1a8pEo0xmwrSm3gzcAQEsEqGBblImTBpQ1vN7//Le8mlhvdFBI9x9HMzNh3EYh1aXuY7D3WF/dXP52TP/aLx99/saH7jmBQA3RjeorEpCy85FeUWZO8183I4wlrGFIrQsyzSVu+Py4ta/eXn9/jEGTaAhKhFyo41qAQRCRg0lPU/RYqlL1vABNEahDdkqrp88yxZKwnBAAHUDew2cABtAWBYafII5e6OgUK94TItvPgqiY6z1GK86BUkXQIalhQqZH66od2oHXB/hO9oW0wRd+Ranj4cHD4fTM5SjtfCQrYoHVpvKmvBaF76D0Iyx3pmy3hCDFd/3O/gtxa2HP60Zl0SygiTWFG+SO7+JgD1e3u8E70XLhrSCdZmPFr0GOLD243vzI3vUxVtX/v0+Y5Zakw0oxolgZBMWygy0Yl4sjS2ZcE4HbXpcWiiaWb7/ECwCVpygGcyZ3IerEtUNItkGxbyjdrrFGLd7bo4sA0QkRdMZbaID5ZR2RTb2RV3tOlKAMBbUuV0/f/XVN3/558+fH0/OHpw8PNtguzsZU1ZLvSJvol4jZomwBaFGSGjk4IzBVBGAHep8vKn1TlJBgZuzGDmiFZ/OPvxZaZW3y2/3t8vl4eq2XOxq86HXH96bYTo/7LHn/hpJdSzZZkM0RY08eSBY6PRWwdaqRG+C3dvv8h5r6v3szGDuhZAUsxoVdn/lJo9eTTBYMe+biPLGD/O/+0H2r827fQUAbz4tQ9AyD4fopyTzuQAMNsCcnKAqOc0UgAq0AA0Y1jN8nzLOPZq5Gn9jKV+rK5G9PWjuUgzSME0K7ZZ2LNcnx8bLG7++W3DY4+yU2x2aad7HzRGD02FisWlw1wrYpGBgN6oaQ2PII6K27bGGXl0eDndX19GOe0VVOzIMvkEYsrLbGhw+YBgG97GZC7zvMiIJtYGIrCeGSJSR3J1i+i5OP4Xu0BZQaEK9A2e0O8034BEaI5AmZ+s5NscaD/p6dHm0Gz+ULhAL611RsjfoWJe7FmDxKJOPJ2hH8BLRdAzuDwO52dp2C1+KRDXBlbYqmEtCtLD1puzXY7886GtKwYx9kwJQd4PC1CWOtAHcR6N8BwtDUukqMATSbKAnkEiLaW/K25stIDLqopN07+WweXNS6NYbrA1B3rpA34S/WDMhufNpFNHMzL3QGK0SFUSEjLBioBRr7UOxrEiL9WCn/qSarvUwL10xhSFbH993ec3kWIaFrv6MpPkQw8kGJ+9pekwTMEAHhGDExXcxXuD63yqamlGReaYle8JkyV2gEPVwd3z+9eHlTSnT6FZQuGN4GeMNz3vrTul0NKS6Xl6CxRxVwaiVgUHLZlOGyZV9srihIBZaJUybBw8/fHT2q2+uzubd9dWrdjENdLC4SU2RbUK13nd943aICEHR6hEyoSEi4mgxSwwMHIwoddihzWg3Vm9HoZnDNyyZNGjQogh46eJROhd6Y6ulpw8BZZli4O2Q9RbbTYKxnqs3/6h3dkFP7r1B/1g9PqulEEizQs9fIw1rRES2q+ooFAYTi0QzA0LhAoS6YoUMKK6Y01vPXjydt0gW2K4vbMUHWQksYPCAeVFBTPVYj8vl7R77/d25FrRXCHIchEnNaEG13JP3glKicnpxyxpvjwh3oCzTZrcsdxGIOoA7+lYkNQCtGzDbouOs41FtAWRG9+LF0gsciEBIiIiITFjSnVhucf0cJ2eaCG25OUU7Iq7gCxyKmR0vO8zJ3jdJ8AT4zBs0lf43K7YGRt276POWtGihpakeYzmUsWAYgRFt4TY0PwMVFbG0uixlGBLKZ48s3FsE+o2+XpZkrxeir376lKrTs3W/MezNwVPeXnrrFTuzsym70Y/Z99RTXViglvlDyda71XuN5lriYWqK+6crW2s19Na93lMlv3MEMsl2D06NpFkxGwJVWW8pIqqsRVSK6M2ZABZYyfebx8Ags+LTkIWYtYrdEtitgR0RQ0j/OvupMcJcENrCmGewoZdjBZjxbaOtIQzlqW2+Zjnk3SAhZEEzJyMAleVQ5+Px7vb41R2HcdqMAwlRtTaskFpZ7XCfoyIhC5VWZ7U7ZLtEH5tiLMMc9d3hcHI6bs5OZcHmZAVpIXACZDGOp48/+M7Du7vl2wNYK8umDKUMRVC/BGFv2zlIhBBoaBWgk7UuLcJQzYYYT6zNRS255jQyNEUbVI9RbxjVYlFt8slo8CmittZMdfCmsEax13INQNAJFgpqM2whBHm2+FUmHPom0n0LQggRQTVa6cALxjdb6XcpzPpHApT1loLInrhUhAFgNl5OxwbIYoIU7g7jQqqJiF7pAVCEFcgAz+9Ca+yn3xWtM+DUpDrtY/YPJioj6KGoiBZt9mFSm7G8AIHZbXOh6THqDPlxwWEOCTQvRoClUKD6GSxm1hQ4opSjYCc70BfzmdV1cg6ASyAqtVBHt6gNdzcRrRJERPaqY9YqZ2FkqLVsHgVWQ9vD91BDDFDDfAQLpscogcMlbecINwlyOixBB1JquG+nIlHhvWg39TIDgFaropZhEry1iNqGYoNbO14X3KESuAY9xcqloXiZti2iyFsQNowcxiy66LJfj2EruRDgzvxlptUCmQdtpZs9h4FoiBZv+pynsncP0FZuiAbRvBCMWqOL9NZ91qorj8pwWXpyvElREXNqbzJLAykRgsgMZLlRGnrPVQYNcSSRxSdmUJ0baoSrTcrcjZEU3SOApntvMxN9UoMX0rF2slyDnIWyv5rTzdw7o89k5ZopJBlZsZUeD6KMPByX8+M1Ty/ADejACAtztnowXcY4b04n4ViFBg4yrrgmj2ep83x9eXV1c6gNMB8GH3zNvtzfBGnLeuswk+Y+ZjG/UBVhRqOuF/F4892Hd+989KScnJCiDpKzDGuyvsGXcbebTi+m6fXgC9QVmzeUt/PH+3sv1GsgLGirmHq0VqmFMZsZbBBHmtGG4GocdmMxLXuEpFGw7E9mli2RcpiDSdFaEyWDWqBW4wJxtUln7TeRxMTQky2ixK5tvIWwumDQId/vKn9vpUHIvMF1f80aczIDhKFzKPXMz+pDRMQsiTKD6XdK8kR5UoR+DaqDCYB03t9d+VV5td3r8mY+jmUajfvsDaIklYABI9oVWWCnKDNwhPJO7O1uIyQ2QlpdFGZwzzZmNADjBtMWZYCZKlkIQbGg5X0ea3859NNn2YZWnq/ORKspVURObkgH57xAQMzYTvAN4GhBDsAGq/lEaronerki7OzLTEH2wTKp00WLelzqUpfammKZayxjCXihPTBu1O5QX+lwB5xy+7A454pxwsKoNcrqaIUasyMfje6Z/Iyeke4TVUgqsodaSI0i6b0jTtKcaMqJHG/foH//Y2VI2VmF2dNq7fcDKAtQorclTjuXWSRZJgLw3oskZqDCPCs11O/rBHsmpYU6m4s1dSkegnEcHBNJz3KS1iIT1kYrA6zI3UohoViQMlNWHGdHBr+HuuwhmoKCTZnzWnlnbtUKsxAoRautNkiDsxR2bbQ15HYS4IYYwIJoqgmG5QhXdYV6nzoCLFru7q5e7m+P0ZxmnitkprfPa38dWAGOpJZWELqrRaipHZZF837+wfjy04/Ke59+NJxeUKSqQrCOcRApfAQt3MPS+NhSq8ssy/qumaCpBxSa5WQGtWaqtAZTZEu6ehe+hRWoMXIGRu+sQSsxnKHdoOX3kWjuxbwk9USraHPUpTUAFnCIoYW9QaGo6JeeqbtdZEILVakRA2CwhMj21iPT3398uc6ZZOH9O8RaztvDHeg9B4Pau89oBRNmEWlOFGlN9gZLYlW7U9tAmEvMJ2G0Yit56TuQWSqVx+h3/ZFkKeAwadlCe5QFouoNy3BfN+9cB/BERMhLyUYfhNFsWWqtLVq02o7HiJihRVWwhWWDMgEFtQADbLAiL+sTA4ypVEZ/TyIE97wY1CREQQDYwyfwBO2IWkGi7BAyK2ABc6819HuU3bUWTYjc4zBDsBvfVslFotOgiLq0ZV6O7WSrYdNYAnTUEzBABwcMg9kmgsui68rGIQXWfmiI3oN2XZ9M2/Z41WasBZ/oeC2oZT3sKRjH/c2q/70A2H9SNutPB5+yhKC7lNMJYFaAyD7rCLUlOzb2HnyZa03dpQA01O5OwX26z4xwlxyKbMUKkTSYeQEYTS2ihaQ5Z/6Yj+aDFxcMrWZqU8hqlAZEej3cNm/eSb/SU9OHMtOat3r3MN1rO4kGKoTipZQBLMCCtoAERyiL7Qr8BNxlHTzzVz8v2QWTAks7tv1Vq4cgBpBmibQdNCaCXR3JlNYESBLzSA0CCKnt9/PNy8t3l1c/+SR+9kff2b33EXeniFltJIgoSJoTAQZYprKdypRoBWoRNTpyW9Wqnm/hWwiL1rkDgcm1WHbYyoEAMgDRwoqDxbKlBEEIQWIGJrMBxvtRRxHNEGS4ad19NRCERM9BDj01CUF13Rd+vwN6pymsoJ33jGENcm+LKF2i6x1811xKgCvgfMMK+tAodFkqv0sn4Gm91VoVt/6zLmX1zWKtc0k44Cls9bAFtFbRLbMGhHDU0qKShLvBBvqkcgIWG13LEfESOpidD0OZxjJM6nqjk8amtvZrWgckrWlQBbAQUfrcHDZYVqoFGDBZsTIai/VUnd2PDUKPD8riB2Py+I1j+xi7C7gDRAjLHnL4Dhgihlo3rR2QgBIOFmWhPrJ5FCKrFXoduOWr7lmicWPRFHVpQfOq+ugEuzOpLXG4tpMtxwucXABi2eq2cSjPv64vrqFh8OJ0g5myHj2BrKeVm3SDgQpkIzxAxq73g4AbSqgBLQs5CN7Py/jfCX9vi0TAWhB3r9L0fZEd2vtN2rJXLqj0XTFGGQOkT7ynYXmtAVnWy26ib2oLog3TNgCpkqAPy3xwBGliKWNBbCJqlnXVZQ8KtIhw97KdzIzROjlBtuCP+/OhN5nvt0BBRr18Q+pDiAiYeUqpYEMcsez7w4gKI+KAuqABxwM0wqYVJmSpCnWvSEHFlsDM0jCYhWfbLs9IkXJkNtPM/g9thSpSRBOoiFjmWo/z8uyLD4fD733ov/9P33/6g+9iPJGDoKKkrrgaUAxm8jqMzmFYyGO0QZp0r7m+0ZHtvoyMuq82pCEaaKMGCg3m8GIM5EWHtMj29izRH+SGuAWb2SQzIFqrSTaCQRo50gJRc7BP0NJHaNmlWNYRk8LQgIWQcViHOqVgmwa0SBG6M6tVtVkj4P2vhG+mlfOs2TF106yCidV7YGVyk/soFve7/41wr1W/z78qGVGgvC2pYJ+11VpEM3PaYAZJfW4BZE4zC0mxkEeUM5aN6jewHVjM2zDFtC3u1dJ/zRzQVZ2+MiOA61ydhHFtAYPjKM+mruipaR5Amm+93Jm5ukBm6L2CukkiLxveC+MxQiNswHgKTMARegkfUByQ5mgzo7XsEilV9oJoZs60J9Qi1NExO/6DQJYyRGODUIYySDienWj7YINhlF7RUiYWQLRoS9h2fHmJ6xmYun+L3i8b4wDcJ5zU7S3s8x2y9Ple80l8mtdeBoikSXkVA/hdI/3vhr+MEslQub5ZZoixNa71bwuEIVLjUpOwiBaxsyIaI0KRzTu1xh/0PHmm74lukM76dzNiJGkKIYjCYsYRypmC2eUwzNyGETbSzNAyipButI4f+gNCbo5+mO4VgD5XIBFBkD39Y2Xo0+ZiQb3F8RWWPVpgmFBnLAswo+5V99DbZ0/rIEMJTrDM6MWFp6jXhOgYyWUppILB+1OaFCgnpdavvnzxSXwNYZkV835T67uP+cMfn//oDz5858efDo+fYBxYgGHAfEQcW9CbC7vGRmiJpuAMvbyLZoWCLGfX2nqo+xKg0xjzToeb6MaQAhw4OIRaG0LQAlWKwqlbMXdQlp/1IEYCQEV4ayJlxWBArfcCc96BuaKhRWD0ts59Rod8Y7FovVKho8LcPZ1WCf0oplYCEWzicJ9I77BQqV0bkRsikJ6b3jG7Mtr9nY50zNLBlsm8NChC0TokNCOdIcpcbuhShY3GbFFJqaEFUXs1PcJK8WFD82gVEMxoDVYR6HQtLjE8wLAVHLajGc++w/2+7F433VSJqSciaINx5Np5MWW6PMUhSK2CUYrttvCt5iwJaCzC8NjOtX304uTsyi2Y2VukMqvVc0AzskWDamA+zEsN2DXsKawIp+KWJw8Qd4gRwSaHbGm4L9upsThoHBhZcA5Gs2xGh0A0pqsuKryAcDYwjlBtrdB25Tie7vydC5i3m2dmDcPTKCPa6+XV8y9+/ezzF7i03TQONG9i4dob1tmbqyCknG1dQKZz1VajWfaFX61pb6YtR8AoMzWhD0DssCjSacLVlgaEOPT6kIyVqQQmxCQNJgsNUhsQJnrlxIw2qqE9MbsKKhMTq9VV+UcDi1PzcV6ajMO4ldycNpBqbLPBA5GD0hAzOJoZzMhCmlq0aHTkWI5VeFmzvavclfvcEtsoc+c9axfRMscAQi1A0i2EKuXmX+Y2bbYhWgVa1e0epXJn2Bm1wz50+PKwvHYvNO+8LRQhc8sVKOOj0QYtxzosC9uMtvDoVUmBPeX4WNVqSTnRdb/U15eX5wMnj3cflKfvbj/47ukP/+F3Hv7gUzt7gtSAkaN7DCzEERHgQsAi7O7mcn99+WJ/OU/csRQr1qxPazPCueZRu2c5n1RPA0UWtkOy7rTMFttZohumI7oyHNFBWb2fIiQkBQJaZJE8pIZmRI7uDilSVhbBMJZA3qUpp5QVQSdnWRRC5HzRkq8zZIDIddbMOv8jsksNRJEqls2aEpdEBWq+2378udpfkIcgs+BmVsxcYlQlJs6sQ2TurWs0pgjdd5hkyJZUdIhQyepXpqsgy35zhkxPA0bjeA4/w7CjDD7BHWgIA5uQk7U71zP/e914Al0HEI3DNPhmw2ELToCBRwzOaQeboIr95bDdjruRxr5SEcmn1561KzVaUXbMUDRagU3M3lD9CB3Aijgq5gwoJMlwDJCnYNkndEFQFQBZ53kASEVbKkyoDS2wBHZDe3im7YNT2+xajH6xw9VXOt5YG9Rw+/zF/tn+s9dWTncn26kUd3/Tkq0LN6n2iWipm7+ZNYOa4x+ROaMwrV7XfMM59JLR2CIsMSMNsQD1d01a+VET3oAmW4ARsHU2YcnMF72ARepbF12FngAuyxKqZoNzBGmJvqOG2lzptM32BMWNrhZgdtJ0xkIdZQNYE9exVRdBFy0bbrOk2kAKSjKTOk1KavccPxlUL0lgkjdJaunlKl2vWLMQeUgI2OC22+H8KTcnmPdcACfKA6B23hl3sdwipq6kcRXfU/UCyubi7PH7Fw8ePX90eXeraEQ0sYD1tgW6xT5RjEhoXpZal2GzO5ke/uz9+s5H5+++c37x0cWDD97z3Q7DRjCzDGFEprgnWZMOM+qN+cBgu7s53O5//dvbV3p0NsIdbn39u2knM6XIthipYCYVDuZZxQgGIbqNQ1EMishxClKLWIBZilBjVCqgSjVCVna0QRJCTJRO0Lxfp0lf8y13RaeYDtAB2Ap0N3BU7zM8qFXFAlUClgM+U81EgsLG9KOQabFeayvZRdX1Zslc5zoYAZ0aoCECqogKgD4SnjkHqJThnjkbAPdMdmVJGUK9Kxy7O3+goFZDS8PQa4jTVZNjEiOQPXcGs0EcHnJ3At9oEZpp/pZ4jUotNxDdsyIrda37Svak/E70Ft40bjabYTyhTyDhpBf6gDLAGmIPHntb6tbqsrQ6aswtnrcfsrSD6qoEnRjAYQM/J08QIB0E3KFbsEK180ERNDU2hFmyq9ZV7T5REEKwSTqukKkbcFKjq1UPeNiNPmxOZQO5od3G+JA2oF3G1bNlufuLX8SXMe22W6ePQxlKMfPVxdFVvKRsWK+2UP5BROs0vMeL3PWhrG4CQ4gW0Y5qDV4Ah3IqbGq+WlmwCYfOlPJX5IiYKgIsOc01+wTKekYdGJhTN6NvOaJBiBoMwRroNm4IGBpaDQYxsIVyslgvP4U4AIbWAO/7N1s6JQlK1qoe5lZHc8c2HRHeyz89qSCkJTbWOkUVSMLSJy/nU02BWPCRHAuHU4wXiEU8QoXcwYFlRqnovZCnjJ40M1Of/A0AKIayOz89PS+nJ9jub+6O44GaUCJqQxYQFKTDKRqJeV5qPY4D6/Tuk++8+L1/+PH5+0+xOSsPToKDCYra5upTBt3cCZ6uc+qAhuVuubq8/PqLm8+uLMZpGrZuhcySgA70sQI/vAFFgV4BFsDQB6FRQLhBNLjDKVqtIVWoEnT6OvClIapahYy9Lnqm0cedlcnNFLXWQ9Ql0ZwlLY22zhgZATeT9e7eECR6S1GZ9/NS14I9vJkTLvSozn6RZW1OykCRqJcaqCWFyEAexhw5kt8kwGLDGb13uwPS5NK4Jk8aPO1YadbJBE638OcxUE1ACpSsGCGyXn8RK5lu0ayMCliBbYUB9RXaFYIY30E7IJwGH/rMq5zaYkVr+EvdVl12BktJMVnwpqGQI1jABRDM4RubTsrGzZMCthzh1o9Fv+wDAhVmzKQwMCAoNaRzAkSukRJjZR/8VDwT+5txQ5au5yh6H9lAa4GYQZhvkr4mUJY0L/pgu5QNOCw43pgdECcwYjTdHA9XN198Fn/xLctmt6G8yHvisBuQ+ilFv8WZbV9Uu4RLLz6ad16cJTYCoNzeWuEOejl+Vhxj6S0MsFJIAGDTsmLCpqDq3KcR2QAusKAVsoD5/dc6cQowGVVrmBs2gkGLoCwWjqTaYQqJFb6hFyA7yQUQa9OdhZpNRSQ49SCXiqcz55KGsrd6T491fJcIufM79PCW03UigEZVKtbJrg0wqidnoLV/J8FoaDMQgCMcqKh38B2UHapH5llWRxY062VuBICixc8unjx9+ODVxeHh1eW8L9XKOKj51GvyMCOoplaDQ+I7oR1vdPFivjvs68NpE5ttJreiLTTYNsuzA5KaUKGlSuRQNMftt9+8+uLVv/2rV1/XadoJ7j44ujEsjb4hrYmwRETF0m5C+YqEW9dYEL0ijmM6KUqxUIGGrHFklz2rllmxF5TTZoRi5lZGUi21GJn7CGZ7Pqk1ZtU6KgljlblUAcvbHHmhlxFoETUCZptee08Dipll0VaIiPBuxXPAxKBap/xmYBJLA3rmLqRAS7mnK6RxR+5YBroD1mrtJYs5JmntPthCrTWnCFO204K1ZW9aYMVszMbCZg60nrqwwsSplEwYT+APdLzRPKPd0UaUc5Yb3V1qSeNap9cp+PwuHZPd+5kBg9zDCjQUONHU72QWcAMvYqrvnfv12PnmV6Q0ZGwpBlsR4oDjM8SdbMdSQEMcgYKkub2ZbkSbaYAcsFCFurvifnYK+zxHA0Hv8S97TkSLNs+fPKzTo7PxnacHvjcMs6tgFud5uZ5vb5d/9af1s+Pu4snZZjNsN6MXs2xN2lPxPQHSmXyHP55IOP8cbQZgZERELL17KIQ18UEnUdx85YDqn/+dRtDqTEk9aigyYdmgGSjwDekpFIaa1IwARiJHZBtMUe8ImJ9I/SFBwXaQEIAPo5dB8I6asRAtO9lba6tvYQ+cIAJRYaWXnLqDaC362Cwj0/CX7EVgdgpUT96o0y4jgaZoQJsBQmOXbNZG7snYgOyeQaLBKjYjH5yjzSAQC+o1eLPepvf3xb3/IVJqKyFODx+9+92n3z6/m28udTg+j1bbQC+DF1ONuQoMI8GocsUMM+Plze1ff/vwvd98u7l4ev7JRSwDN0K9a0uU8R2iqvaVD0Q7Xipi5nZox1cvXvzFX7/6q2eu8fRsezqOwzCOZu4sQAvNaq0nh5DWmGALxCw1cKAPokdtiGYKowWqep/bIIvuLwk0KVCPkKtMVkZaUVREgbu72rJHO5qXYPrIzBikhcSY0WZEdQPZDB4YKETEUmcbJitTbWE2MRZDWBlba4jMwEKxKI49XIYD4SR9gL81kDe3syVRUO+SZVibENYcHUMuxqGnUqLFIlb0aToyqvUCkXLSk2tScTFtDBLNFAuN8DOYKyoF87VYfRiBUbVZvYx6DGCZQ8d93N5yGNGuYEXcCdD+GvXG2M5Od9AhHR0JUQhGRHbETO9sosscqA4uUKDJnED0WeBW4QMqVb02by2QDauiBh1ggIIrhe8619pUF3duticYd2DF/K1xAz5F2QACXNGsVikGa2zBEG30MtDWOX1tTg6ZmWUzwq1Vg5ATZkQbit/t22FpY719/1F99M5Ww/l0ehILKxysuP769bOr/+V/ufvzl5txu5vGMk7jMGzdM7siy27OlvGuU/poLbLkIHtfd+PJesFbTh9f1R/SiKrMRkBCcQZKgESjWkRNnbuzhZBoZBG8YRFVfIKitaNZAdHaghammjIhKCFaqzT4sEMElsZxTFHVkmaxGpY+JwcRYWEALJz5RqiKNje1UgaoLjXMZtKIAZVqLQoaAXNzF4kQs4DgPpWc9+V9nlBSVEWzMiW7IKlAa0ezMB8TyVR1J5bBADmLbGQZoAqM2JwiFiwCqdOnXE5a+ZXbSZurMoOcTRJFZ8mVKWZmVh6+//TTT18v+0Xf1P3h5jXttBQ2ow8yOqJQfdIPYnDfjFNrh1++mi6+ffz0t3+5e/xg+/BRLFMcQN00HwwTaBoG0Ghatu+PbEO72X97+cWXh3/75XTl2wcnp8P2ZNhMvUMsGwBlLUDvyZMqQkt5hAorMKG1I1pj9oBJ47vSa5YYN6WCNNgVTFtFQDXb7xLIcRB9YgwWhcMqcSAAbWUAjoTBN8JMHCmJea+SUswVqr4ZBjfzFgHIU3gyLlJVsDfg9RFwNBFmxfNu7CONFKTWMvDkXbPazHBFJcLMxCkEtVgiQJZhjDTcZQmkeiakF/9GBTKfANqYE8J7aazSQFUgtUq2BlbJJQKeuQ+ggoGKWKDYoOzgRHXYKcsZ2gy/CN4t9Wo+1u3pSGe02lorg5tZjo5l7xtUlTNMUnRqVA1aRa5MMZCYF1jFstdyF9GUheD9al9zR5Yd3sesCSFhxcwnlnOWU4TBzqEZGhECGmRUk1q3z3iBeaT3MuGSFzBnB2WVJ0h4KX1XkAX2+vpmN9hXL17/0cPjwyfDdP5IKK67pOO4u7y+OvzqF6/+H/8uopycbDfTNIyjFa/kkAwmgazuq4HymmNqvcH0Awpv7NMrOAGAaGsvuGw936Fjkkf2hm0y63qZ8kf6QJTE0aYBQltuFQvhkknKnrOBLo+YAbkYsoglFD4U+kmO9PZhXMGSGYC6V8xgkBXyrrCiORbGYj4AmFssTQMhBWLRvbsZpMmGwXp6KFqjrQZXrTglGVnqbEGwFTqzExF8IAg6ze+To5np7z6jUCyNbUEElj2ioozYAsstrGB46CcfTQ9uyvBtdyb1oqCEmhK80Cya7568//GP6/OX+8sXz95drovtDiKkwkAZGmC92ztoNppxKEY9e/X6zz979GT3mCd/9v4PPh7P3rHpBLFRFIyeb1FanFHi0Pa3t1fP/+avvvy//0+Xn12PJ+cnD0420zS6GwnvHcDTAjlIabvK4seiFku9bfNtm29IQ1T1a0Wk2TAEhl7z6GvJYWSfDFNUM0PzQKCfkSMIYTCb1G4j7sBinnWJM4O9KYs1sEj+1txxQa0MhUaoQjnKvbeZdEdEbRHZmDwbEwLNsuhYRgQVa3VKJOdcFQo0WdSAFnSHF82zvj0YNYTjcm3uq8lQbt7QwgrgIbqOsJKUxAByCNB9sJLWPQelqGEEh06R4t6HX5PWZmaaZaIFYkbZ0EvMLxGLbTSc7R48Pr3ZH63k/vTsHYC1CieSyLO3TwtACHqFA8XgBtWUZgBHzKjX0S6baqAIAquUnbh6EAMAhpnTSpYd+3iG4UTllLUKR0aBZsQRNsIegCYQMrCUMpq5wUm0zE2DsOxmQUtbzjosGdlAItq0217fLif19vffX9753lN/9wNtH4RLy03c3sb117/+sy//b/9De83Ti7Oz09PdyW47FRrenvHSmfbbAc68oLcrbwnNYcMb4aAPeElcGFALzeKEbA+ljODByIcKcoSn2aEhGzQD0SqiQqG2mIkc1BBtb3ZPz5P9obEYaQyCrS6S4EVB09HKhhxAkMqqd2GnGKVQC9S5kQi1tFxGWDvK2rzULIUrPQ0EIFMl6cELgG2tJEGPgbLcN/fp4FXIEZTTBprIYvRprYXOlEl0c3ty6QY1U3VyAz8iZtQ9FoMMo4DwcTOdPBg3z3uhc/SJZ1ptogXjrEabJtqHP/1HL5bD/Nkvrk7K5Zc6vQrFvEwlxKFCaDVaJha9uG1OpgcN11fP/9ufP76J0//Yv3z//W+m3QXHdzluRaE2ojIW1eX4+sXtq9f/5n+++e/+7eVXt9Pp2cnZdhinoQzD6EO6ebXmj0Aahn6HAIqlRjOHzKK27IhHK+zTo0kOxhHmuQQtsiBJigpFCMVNuo3jnZSTLJ02uRcBQkHMRCgGIWhH+ADkND8Hh27gXOuxAQzjAKI1tLpYNCsb9vbiFrURcw64yeE/7O7nytbI4V67MUqg4L3GTHmzETEDJeBoDW3pXZ4UIZtbLQo3yxz77QyhTkPbDoOD0AF2AhZ2uKpoSxlKVnRHLyRqihnIaYoVkRN3HAKRg9NmGqwQOMIM5QQU50tsL7B9ZPOjzemVlZs6KyjQzS1ahFIjWWW4XBWAZBmcY+FmwnSKYYSOSHPDaGgHDCXmGncL6oiRZiWHJPa6CKUkWruon0mdYYA77ARWUW/guUwbsNJu4KKlDznLuFOUR89xZF1cF+WwjhPo5gsTl1prxdffvv7H7xw++WQ4//ghzzeZeMH8yuo3v/nL3/7LP65fHqdxGne77XYzTkOH24rgmshPbvpWBFz/vh+6zAC0NxFwbUAHmFAyVDHn/LELo3zDmgG11d8LqFlr0hJ1ViyQosU0Te441n3UgPv9ePSkDtGKvJgXWWq6gRB4Rx5MHhh6iBKgCMygQ4a4Q7sBCjlItfZmFcWsbCajmZcpFDQPGSNoLMW8eLZB6Pl3yizuvQ6+9oPotlvaWr/uifozGbOaQ4O9z0VAbW1w4MAGww4M2AbTA2CP5QA1uEHOsvHJbMgWdG8yTOnrplRoC4cNgGJ+8r1Pf6LBx7979uX+/fkL47tXPG20UlhQanpK3EopsGJzPdmEcffi5cv/9mr889+e/ei7m599qg+fvthuwq34gM2mXF8vv/q76y++ufyTP3vxi6+rhs3F+cn56cm03ex2m6FYcVnWXrzFC1b1Mu8/DmWQP2hlWw937fgKtRLepxgB1FGqEQptyYHmkHrzLgFRbZjggyjVW9Dpg5fRx7GpoTxgBKIqJFRwBEa8yeLWlc0Es2u5j4mhjLKhCJMPgyLaMkcIaJbacuZ+zVg25h6tolWzdr+NSUAVWKAhY5CZcdxorskbJa51AgwExW3azaxnwc3QwikhlgjBB+foPmSxjoHAbNgGIVWEpKZWIacbWrvv+piZa/kG3lb3DLnZYRhQ93Dw4TsYTwHqeEubQ/TCVms97tvG3Avp2ewzt6/lYFLIzaapmG/QhyI6eNJrIbLyd3OB8QJ8xeymaaOZh4GZro2WgbaXdEZoie4FgOBFfECOwA1wBxswuMYLG06LXxOIRpZYCy+USItI6202ueg3qCIiVFuN0BdfPv/h+Pyf/Mw//KPv+QefxlLt+teiL6+u/8f/4epf/tfHzy7LxcPdxdnpdjONJSukfR3bgLV93iryrh/Ru2CrO3/1dnwEsjtLT5wYMukAai2Kz16Ha4GAIieRM8tdF0RDLIya9HIYnBF1aQi5F1jSqXBWIyqGaqO7mQ9ACVXQpVZGN5Rab80HrfY8qRdtpK9bIWrxMpYyOiYaM2WMOmfxXM8DK4RGGVprAlpOrO194DPL2QN7QtrepgFSz4zThjSbRv7kNMAxAE9xHNA6Daq3EcR8h+MVtMFYQGKZUa+gIeY7BXoHuV6O3a8VRUhRAGcsyRqW6fHDD+OH+4Pi6/bl1YcYyPFGuwEOoIzjspTNaF6GY2Px2GwnG7yF3d3d/uo3X/zm8+Ff/7vp4mzcbuJsO5lTEdfXdy9e3b64qoGy3Z6ebDeb7WbaTtM0DGXViu+zNVrvw7VhJFaRjyxlHLxM2kzHu0txDDLQLBrMJQcqW4Mqbah1VuyNpJ8IqhEoJ9pNrLdqTQpBigUyhwTKRy8WqVpRKWekyw9M4yHFAjBiIZohz7OHUegASBHKwkUHQkRw3CUb7SYZFKLmaGv0qdQrB/CRNCsMc9WZigii3cbceppyiWjRiqU4WxDTNDGHi3OJ+Ti4zBrpdItWBXPz1o7QkMO8QcGs13Gv/f+VuVsv4YTkxcbiZdpCmXatiD3KE7QGd5Ri7sOE7B6Q59yHIUk/u3M/CX5/IMOY3Uc6JkRLHw56XLLdsHu0e/CtsdXW1BrGYfWkJEqSmWNJuKG2tHq4QlTwDrqFRvgtkN6dE1jBsC0uWva3aWstHZAGScrNihe6L6GmXmJNY2vtbq77m/177cV/8BN9/I9/Mnzvh2GGb55H7F++3P+b//7Zv/zjl9fz+Ojh2elut9uO29HdLFp0HLPWdd+DvX7DZLY2/1X3ijtobQUiXTeU9b7NtFAYIZkoqKbth0xNGK01hPr8O5lxQ5ckKw7IohI1oh2XxsAwApRbo8Ij4MMwnbhPiLBYIvYGAR4Qzc1OrV6p7clN9LZtfXKLokIEBljAst2LAJfCzThOyL5uilabQcUNLP3x0sws+9dkw6BO9630Dm2pUirUIh1jiKZ0VgorOs4tIKzEWWgkj/OxHS9jPtrgDCCusQcwQgYd0G4QV2iBJSfH9tl7ee9lEVZh9uNr1yDKsMPFo0ff08ezWrSX39x83D77TO+9jAcXuzEay+CzTEsYYxiKD+bVCWymYdoc53mej/OXd3uQ0V5DFgpQpZTtyfk0TbvttJnG7XaaxlJKalrZraShswZ1joD7CHj/0QDIhDKNp48yXUw06/crES3dp1JDvWI7WNmxtMAoGWksW9hQ0O0CYvY6Brs1BDChRdRFMvMpOwlSDTTSLQdFRcIr5W3vNEM2ywrF0vs9GzMfEwGxJjd0HyOWLCyWmhTZTSGJMknRiLGMQxsmq3eaj7XSkCJWa4GQ43YZBHE5HJbNgHHa2AgbR9BYZ5bb5XDbNIzTSHezXW9FSWO0NPFEkK2Syiq0bEGceScisos2R+foqLccR/g7qK/QXmNzDkpVsUSbhUKatdbm/V3ZbIQBdOaYeaR92QCYNxrhBTaCA9iyahi9WibcOQwkJVXFHK0wG26QLN5tD50NGhRqN4wKDuBIW2gb6EFawqE9bKYtyDaJWdfd+4sIhDNqXZYWwzTRct5Eq4q21OPtfrl6+RQv//kf6mf/4jvbn/yw0ePmusb1n/z3r/6L//c3f/vF9fn56cWD7dnJbncybaehuN9709gvba6QDavjLhO63femNSfTy3PA/1WDfALmbilgL8catdGaqWmZsWgUjFgQ9KHauNggH+ClWPV6qMvxsMwMjCXp6ehlCpTGNAzMMDAauScqtTiNHBAtO+/5sLMyzPMt0NSaZAm4ErqChUVkgSEoM4OF+aiwqIvqDO37DEdzltKEGrBQqVG1IJvfmsEtogmGvDKhtNwKWV+UvqgKyehZWpCkKvu/ARICqrHM0Wpd5nY86m6vs4cczpETV7JXwrCDU8fP2/FVYMlF4UrAbM1TFbQGK1ABTRG0Ol6cvf/D72427S///TfffHbzYXw5YHl5c2HuU7GBjF58GiTGoRhtHNo4DMu8HJeltgDQWjqUwotP46aMw1jKNA7DWDbj6J6urR7v8oUlTljNcG8xhDcCSkosFixQRQvQggUUdEQ0mDGtc2UrDIHSlgOLu9xjAXNIc+ltTmnGVhV0M6IuVdFENhSAA9OimJu8CWJWE/tuvd2hzIDEgshjIMJgJXNVzPZzklHpnaKPagOwRDtgTeS6mfnUG9qZQaS8wVpMrd3FfLVc72N/N9a2K7HbYtxQFcfW6o32r3QQtqfDcD7y8UWrx7I7GaZtbaKq28ZKgdRaS509+/khfdTmaceilpCKubuRLAMYB9RLlFPZgJu/icuv6AMfDuCGZaKbWeQbolNWaARtTciu+C5VKlb4so7ZaWDtV7AEtFxo9b7cbA0pNK+6HYk+8XvljFQFltdYTgWHERr76ssQs453agvSladem4ae1zSVyeajt6ZWa/PWGg4HP15v6/VJ3J1t5x++7z/86fnmuz9sZXv15Ze/+LOX/8//6le//Hy/b/bw0fnpdnOy2+52m3EsnibON3d0LzJYVY5ofULMG4rTw1/649myS3vaXxIM0qw1hYKEmpaIFotuXvHV5Xg4WiwlorjcWRbkwBdOk42benZ2HKcDvflutGmpRxomM/hgiNBCGm2AlywrJrIKm8y5XMMgm3L6go+bga4WbEcIZO3ohAMNsA3IrLYSBzd3dznFkBe2AI2DwzxLMUkYXYi6zK6AMSCOo5nDC6yotey9kAPDLFN5QG/wCOF+Ad/8p2/k3F6ljPQJOTvPHdiAIzSjvUYZ0NgWXw5RWz+x6EvxZgZ5wWFGOcC3KCPVYgm6jY/PHw3v/0HhX5Svv/n87sP4lvP8ujy4nMdpWMZCgeyZHxYzH1DINvg2puxHPNclfcdmPgxTKVbc3c3NirPPJILYO4Nah8MZXSJaujr7LrJ70xB6O8juR1fKhGa0wNBoxcxqSOMDDEKEWksemhaQQBl8NEbEUsVaJanE0oTa6to8bpC4QIwgYGZQRZsjgua26X5pQlTvY0fCzGwo0pzHDQRopqzQaFCNBvcCN8hMRXTQ6GY2mE8giRqA0s7AsTbe3Vwuv30xLXfvv2sffv/B+z84e/LBjtN49/zueNVevTy8+Pr1t1/U29fHy18fN7+9Pn18Vn6wm0sbLb1DkYUpAWu9QEJGMx+zl7ViARa0RrAMXlybcTg5G30qmAq01+s/i6tvGCM2Bs0AwCO9wYR2RC2lPBi3OwgSFRUQmJnc3hnYCuAH2IwosFhnUa2ul9qiLmu0yOSBcsQlAKRl0qw/0Z4dLpD19jCc0W5AR8xgwXxQbX2KEIBEHOxNGxnRlgViLdMyVx5ej/tX2/n6TMdH53j01J68Pz39zrj56AllX/2Pf/Of/+d/9a///bMbTKcn5xcn02437jbjdjtuNxO9m/2ItRG4egF7b20nhJZ8N6ClB/GteCkCvnZ/zr5oEknkrJzaYpmX+fkzvnxxslxvBp7sbDvadjORESgY2nxsx9u6zEu9vBlvnp+cbOzkwX44ufQNphO6eWJptwJmnwIw1Ba1GZS5wUt2BMwKpaihtqhaKS5aUwk0AjVnojE6vIhFEjBTAjdhkylo1uALCiMoqUa0IFnvC+7aYjGX7da3W5Qxez0wlBlhWe+GG8jKRcuBIYpVhScARqtrtVDqTgM5j8NQhpGD047omZUjZBgmtBnLQqc0Rn3z8PM3tn7j0ul9RBwPwEiMQMBcu8cPPtn+dBhZvvjms5tHx+e7WF5NT+5wUuGjSd183wtNfLAoPmS5inhiYxq+zViGiZSviTB0R5LwBund/z5hYAa7boxXL/XE/RsYzGVTRERdFEtEg5PDzmwi5XVWrVKY+egjVKW6jmupcz0iqkOj2xRBss6qS5TogFQ+okyzFoPG4mFGTiyFBFGIHHrQ21CJUphiIRZEpFa4FmkIb9gPoKY35XrG7sdIDfgoIaK12mB+CL99+Xr54nO/fvXuNr73B6ef/oOHZ48f3h3jr395+Oq23i0PYJuPNvXRJ4/ee//ZcsQ3n+1ffbW/fXEz/dtfnHx0fvedD9pmIiKi0twKu9cikJXpOV+UbUZUINKsDGkay+7ByLLDvEG8RqOd/oAnjzlOGCYd72CO4mbNyWGchnEydxqjRbQcCmNZ6rBS2RW/Z/Vxt8kJ0bAsWA4x76MeoZIxEBFRuxWN5uv+55v1j6YmLjloqSIOsC1UINcSUQdhBGsWw6YRJFO0AbrZoS7Hq+uT47NHdvX4XE8eDxdPzh589Oj03YvN6a5g0QxcPn+sX/+L7x2/V07/9htdtqVudyrjZjtM05BeKLLPcemPdYV6eT1DLSEy+nSylLkiOjqlwHp/36/YpkVzw7xfrq9v2otvLq4vH53rOz89fefRtDsp03bY7k5suAuMBptrzHMsx7q/q69fztcvD5cvn431xXvj6e10fnVyvvdhECabMFgXXw1RK8yJIBp9pG2yWwSFWiJaxDKjuXEEQm1uAcEIhyo0AggtRFgWWUbl4TrIFmjHpd5cxfWtLdWX5mzTCcvp6MMGPkQZZt/SBx8meFFrglJeJ8xSCexZTfUYkMbyFUeTaj2goo9ioUKt92HyEeUEzB7MDbiLmLOHAJmzqrR6lVK0ftOvpLTwmCdzocoYGIGxADZtxrp5dDE9+ofTyc83v/67v3rZLr99quPN9v1X9XwppRiJSGcGgPTFOgUazMxKq0udZwYYc5ZAdq9QNySmDpIEAuhNn9ZoqDWEZHtLKeBmWBpGZxNoyrULwsEqZylmBdF8mMowREWrxwqwWbTagDprU++GOJ6ftUcP/XQX26GacPVyvnp53F/HfNOOt3E8eJ2G3W7gyYkePmw2Vo6MNgxyG3IUaiaqCPOh1KW1BaFGogWBKjUyJw3IaGARopQSrUYD6SjOfG40MOoSYYTagLjdLy+/fuXPvj093H74nekP//m7733v5HC8/fXPX/53f3H72bXvF6V75S+2D959+vT3L47ff2Af/bP3vv36xZe/fvXNl3dXn714Wlv9/nde786tyRUq7qUoap9jE7Oid8BFGRGiFVWKqMtSlyXmK82z6h3LYwynHCdg0cJ6ezjeCjGVchh9KttTGzZuotua3SPVZwU5E91QUdAMLMCwLvCy8sMaUZtEM1dWSKEttQyF5uYWkGoA9GIkl6W2KizXaFfACBT0JsN72BZlA7NW0zaXZsQo46AagYiIV69v7OrZE159+vD40Yfj0x89Pf/00+mjD7DZMkxtxuUlTyLa4ttvHj3Y78/qcGy3SztaxC6+4sM5Bzi1mEbv91viX4UiFajIRqeG0nt9rFsZCMuuKrBQWvnRTUOCGQ5VaPHF1y8ubl59WK4//en0nU9P3/vk0dnjYXNxIhvKcJYWvcW3LLJY7DjXWvf7eX97++UvL7/62xe//eXluL9+5/b67tHjlz7JsBlGyKRmIhFm9DIZDdkMci2YdRPZwLTaLSBpI9SKSVEJ0XJSCAlXiCoQjm25uVr07Ytyc+l3N7iLPpJwC1Qv8NS7ihXbbYqdc3h8PTzeRynAdhwOc62BsZjRcrxc9gRKyJDqLXvUYyRCpglOXzq4bwZJSE5gUAMnoNGXWAhsLIqiStnekGuflyAMotSKljtqse0pLMgZVsFTcAJFJ6aLs5Of/fjBw0dPf/6bXzz7+vObnT470e2L+ui6jtNQPCqNHDcRzY1mzlIyT8pWi4m0Yn2mWgY+dShLAIqIaHTPJp1YP2fWtROlHwTMO5RNTYRCdKGphZqLbXAUtQiGlWIKRDha2+O43Cy13R6m25cPhrsf/PD8uz96Zzydws/u5nI3t5ub63Ly4pMfzIN8fnV7/XL/8qv58su74+vQ1aW9+nY4PZ+fPD5uHyxRatM4ldFZwUYvZq22iArIipE2okRYa1URiEVq7qPRIx83AEY3M/rUgEEhqlFcImDPb5arz7/avPj243P+3j958vt/9OTpp0+fffH6l3/27L/807sXbcNxONnQWRrY4vDt82dtfoz95Q8x//gf/OBH37/+9a+//PnfvDrcXPmvf/3og3eenz4ahzIGJBphJYxsjUSYj/BB1aVboUZVqB2Pbb9nu5uLj+CE3TnHE5QBcKgZ76hmavPhsPB127idjON01kI0WI58jAjvPpM1v9ngke1GkCWJWaleCB/LWIYNinNWjQpitEIfzYpBQItsR5y6cbZL6cYpM5jDKlCgDWi02Ut0dtEiWiuIm/28GXic48XX355cf/Pp6d33P7WPf/rdBz/68fbTjzWdxnFp11/FsujuWNq1kUvj8OiTp//03e1Hz5796uX1t/sXV3eh+dFm+aw9ebXEbrNt7R6dQElSumetU5loVeuY9vyn7CWQvWTJ3jj6AOKwVKd99vXLi/nl7z05/MFPzz/+/Ufn33ky7B6yjI3Rx660YCiuGpfbw93V3aFeL9yWOorf/cG7H//ee9/7u2d/95cvvv31rX178IsnV/745lBPPbzYInhkqZnC6FL2LbjvSWU0lA2luiwkrVBsbqVVJaoFyTI2aIOo7q9e3e6//LK8vDqf9w8u7MnvnZ4/9GnLolJocPkU84F3t61alE0EXh9ev/5w9/nH5+9/U8+/ut2OxtFQq4EaPP1wtvoj5LZeMggJbsz8SQiUk1680M3LTKYfYIO4gwQVqqDtIcgD5WhFIKOFQCtDtxmSlJVo12YWyw39MacNhoANGDY0N85h3qbd7uPy3d10dvHFbvObr768jLuvP7S7S3v4zfFsGcYTN9XWlRpfV7bVFKPYRelV7l35eJqNorXWKmu10swGGhU1pGz9lu7xTLM1tWhRvB5nmaSYGUdTM1kbfCaP4WQMVm+JiVBdrq8Pdzd30/75I7/9vU+G7/7k0cWHTz//Un/yJ9e/+uLZ5c28LE2gO8ZpfPrkwSfvPP7Bk8MHT7+uP2nPX7RnXx9ef12X59/w9evtwyfl0TvzxVlEL8DvWSWjia237kjHWXGjMEvUvG/ciy4bwiYhuA73gOQQGctSDQbX5fX/j6v/fLYsubI7wbX3dvcjrno6dGSkRAIJFFBAscihHjab1mZDs26z+cfmjxjrnvkyM01ak90ku9gUxZKoAgo6dWTI9148ddUR7r73fPD7AmBnxodIFXnj3HP8bLHW+m2Xr86nyzcfnLgPP5l//x/cnRwtLs5Wn/7q/E9+Pb4aJ1XbTptQBRFXkeWYx81mOFuef4qjaXp1cm/+7scHhw/s4Ahffr65uBgm8WqbptFVxGxMAq85g0iEiB1JIT0VM7qQGAtz8dDpxkbQ7D61J6gcuDGLyEYykk5s7J3ryZxmi2PPjph3KbBEAClSofwoQE5AUlx3hp0VjW+XJAL2LnAVeLdEYGMhEWF2AFkhpcFoF55EvkC82BkHiIc4gGEZ1kMdrEj9d3g4NdvGXAnGiNNXl4v+9Lsn2w+/4x985/70ve/g6GHmCcW1nT//9M9f//Sr7esrW0yb9x5MPnkyHi0uZfbR/nePJvcuu2+ez14tr153m9XVk2qo+e7zDXsR9o52UxvFbgleHqvfHfH8VtJgYDOHXTQWpEQF7rKjLKbYRdtcX/1wL33vk/lHP5rNn9xDM8srkpSJErNTGOlocczry6dPh//yi+WXZ0POzlf14f78g4fDe3f88b2T/ZOjX//ZV8+ebfz2zBB1djeJswyYwgszaZF84VZ/cbtluh05EHgnWWICWWZyRf0OcuBAFg10s1ytnr2eXp0/bPnJx/sH98Kjby9mJ0d+NpPQknNGedj0easy8bwQiojLzdmzl0+/fL25+vxONT1u7zyP8/OucZwnFRFVuy2a3S4+bkcfO+4dctE1lX/AxMQslZNmQq4mkt18OfcwAztyAVkNROoLx6LoIsAOgKWxaPidrZ/xcWvc2PDG6B7xCWCwrWkgDKKUsxqEZvcPvzudHy2Ov3j1zeevr16tKqyO2juvxtllV9VNTWAQFwsiNFoab8FVqjZ6H2jng8Dv7njeDiZvf16ao5w1lzUBSAAecvJpg/VGbK2rbchb7UeLSaDEkERSNdVinueHK9cS09Lc9uIKl68e+5v3n1Tv/uHhvbuL51/E/+n/9emXZ3G02vmmmjShmpglS3m7jb/+/NmnX/GfLQ4/uPfkR3cvP/7O1bc+nl+c6cuvx1evNmn1qu1WeThZ7R2vct1UXMPGOPrALERSgRoiqCWoWuwt7/LGc+xVlXxNlaCEqe1+qwTV7BSg0XD95mb1+YujvPnonfCDHx2+83Ezv+eXZzevfnH2459df7mq9vebpqnmk7nz3sDQMY2o69APOI/ptJ5uLl8mdYv7Bx+3Vk2uv/zi5vK8u3vz8nW+d2PTWeWJDHkLM6lnxqVtJ3ZC1Joa28gGZNLe0jaGCRMzNCEzUgSbqQBtzjL0gxNHNDHXpJRpvZS6EQkkAYBRkaPHEptoJkiEqJAMl6EKNxZdC9SQM0y1yMeFvffeByKyrJa0mBFBvmCOABLPvvVUtwgNnCsPKfK2BGKBQ6YMyVQimJkcc9L07NVyr/vm730YP/re4fH3H/m7T6w9gSpdfv3m2dN//a+f/sv/cL4ZpfIhZ/WNe/Tg3j/4/uyf/Oiv9+49rJ88Cvf2Z8vT7unZN58uV+dd1b0Mbv/rcVFehQwQ6VtBK+9MC5Lod1NMzXY8EOw0wEU4vRPPmGYlpVdvLr+/n99/N3znD/en75yYawnkG8nkRQUJqc/5cvnq2at/+e+Xf/nN5qzjpm5S3oJ72OV/+kl95/jO3/tO+90Hy2/9nft7968//+mZv1xORzw7eTwQJhQhlTMUg79pVksoWfc7JQ4RoKY7/2zZP8WBAJK5OIOrLGVofnWzufnsm/vXFx8+qb/1/dmT708nbdPc/ZCqObXepAFXZFIfgmKfdBM9pG3Dk/r9737vg+3p6adfPv/0xfrN04/r6ZF/8LSbrkc/bfT/dDbo7opyiU7TlECJxEEdNBLnIpEiCWCFbpE3SFvkERA4TxVhiDBlcQw1mHPOeWeWc8xlREgs7vWL1d1mz+8lohuMDdwUXKMfLW0RQK4Vl8BjtsZs4u++83g+33s0e/rrl2+eXy6vzu7EVSX7F/3U3ESokABBIGMHSyAtm13nbhe7Zf9fRGolU42FhUl24i9iVzBuMKhm5Byzrlfdu5Oz2fS68UqTKAKLLo+ckyooRlpdr8aLm2p7fTLZ+yzcGa5eTZYv7y30W9+bvfPJZLHn/vT/ePPvf3z1YsN1XdfVlEMtIVTVBJo19sEheIvJlhfnf7MZlv3xGN137q4++mF9/108/c3k1WfL6+seV68WedTFSeLJQESgnDIxszhyFZgFOccxqZoxSK0S+MhgkWDkdiNT0+L3MR8sRSW7urjefPHyTrf9zkfth9+fvfNxu9jj5dX28tXq82/6r6+daydB46w+qJrWsVoe2KVE7BEq0WE1nsZm2d1srrpmvqjmd97/ViOgX6erzXW3N150LCNQefbBFSQuCEweVthVIzSbDmWQnxTZBG7PhsFwRTgBogU2GPkstcEVuOiI3DOcSChvsXK0GzEHn8wgHYiZHXEFIiBCMywh3lpilUuGVR4TzBdVJpV8zVsHe3Gv7tKizUggLaFyJsJkVsxhDNAElOC3xLYL2rKSqqUv36zb4exvv5c++OFs9u2HfOehNWJ6gasLvTj9439//r/98SWq+fE8MBGxpDi+ePHyf+/uMt35v/7gZm8ywewO+emkOnlv9vSbX748/2b7yF3GhGdxpuxuGU5vK5adFpp+58X+VsZQxoG3Kt+yMi4657wdtc7dBw/x6NttfTiD1EgCOMvZ0kqdIMq4vH7+m9f/9k8u/sPXXeJ6Mmma4EOY5JQz5ZTt9PzV//rj2dPzw3/ysbzz8ABKn/7N63h9fbT019V0cAiWkp+yd7cqPFWLqmVazUyu+BntlqkGkAmbRcLarCVNOW7Xfbp59npvff3Re833f7j/+Dt3Jnf2WaqsFXWRmc0lsDLMNPb9thtWm22KYxU8t3su7C/ufe8PDh5/8PLXvzj94tnx5mmSk1M5SZmcuHIFd/0Vy+2lYxDECRHvIpbfqiw1WbqCDbAGuUPskRWklg15QL+xMRJIBEIgS0g7UN+tVh7uZ195dp8fv/PIu0rqEVgaBGmr15+xd9p+QPUMwRfQSZJsdLxXTyZ1fT51X31xdXG2PezHhd+c4eQmTTNQOYYEEFgA5JRQpF+siSDCgl1yZ1G5eJEdI3U3HSQWFiFoNphFjTEmJj853Lt3Uu/vh/1w4bJVzWFWU7U8jBq77c3kzWk+f9lvb87vra5i0ieP5MPvzx5+x3fL7r/8q/Ff/PV4nfxsGkIzbSd7dVMzERODRFVUJ1ltjCmmvFxf/+bp65iORxr+9iQcvXO4f7h9cMd9/fX21ddx2F5IbZdyspRm5gXsmEhjRt7ACvMoqREokBhBhIJIAJzlgSGAKLzlCMucLRpdrfr1Fy/u6+Z7P5j83u/P3vl25Wd1zjScr16+7n/6edfx/mQ+mzfinbGDK3ITgL1gHDK4ovGsq24GP66jwWVfu31+9PEYh/TLX95MVlfzLEs5Dr6hsE8uaRqgicBMmaw3zTkrayJjZOWkGAdbXhqB6n2iOeop2BETmTSz6WxvUc3WtPGqjtjBCUNYvDhX5roEEoawFydSCXkGByAibZBHpIhwABFwAqtawSwW+ZDA8s4VSm6nj4Fy0VrybfG0E8YqlRMQCs0QBakQMbGpZtVsdrVN/eXV37q7/vh7s8PvfVTdPYCfgB2PV7p+8+wXr//sr5bm5/vzSSNSTSbIMeXcd3Hdrf/or2hR1/9w+qWcBGsXNDtxFN4NNplcfPPZ9Ud2FjfyfGgteE+2o07smjiFqdAtaq0cNkWJsPN9mqnm29N9zMly3gzxXpMPDvn40QLVnolnInC2eIH1C5UHcaOr01c//quL//xpL5NFU1fTtg7Bl4MhD11S7WLq++Enn55u48P/Zlj94D0G7v/mpy+rmzPk4bVMUAv5StJABHAg+DLFLNnoxpHAOyLwbYihuQVxZN3mlEh1jPHsum8uLj88lG/9wdF7v/+gmYU4rhW1jDE7uFmVlWg7qK1ev7j4D3/2+s9/ff36JidIaOr9xfTj9w7/L3+w9/63F+/+7e/Pj+ef/ekv7lw9uzOzv7o87P2kCq4MyJhZxBuVkLcMlGFwEeCZMAHZDJqRs0oiqspOOoMYTkAMISiTd672EkSYLavGiCLJk6LmYPenT4+Z/cc3p0f3Q3N3RbHjYUt+IB4gexw8RGFR4lVJbIJkwNz08OhbszB5fvbN6xdPl+vN1WPtr3Bw3u2vEaZt1hxhMecMEuc49StAnZ9y7UhEVdWUlEioxBngd73fZpaLlpiJKGvu4/hXn3Y//k3KkOPD4z/8oP6DT5aHh63Ojpgbite53zy4idfP3yzPtsPWLOjxg/sH7+xLPvvq8/O/+jpdUzNdNJMm1O2kbuqqCsJlp2oFN51Nq8ApK9HBdn398vz6J/7oyeR5sxebe5M7rW/uttOD/unTtL6+2E8Y2qMNTSZMYJeRWbPmTBwKZM5UTbNpNNM8FtNITiIMIUdqGQpwvrgZu9dnD5r1Dz6afv8PT+6/O6/nBGrTMq5uLs9f6Jvo/UE1CVJVwYfgIYIBkjJqoPcOMaUQuOvy2SbcbPMJBRecJRemi3vv6emb/ix107RcbdstqGnUCcNVmjq1SGDhYM4yZ/TRABbxzELR7JLdASggbwmBqIKvLHUiXNXsygnlfYFhg4m9sDhVLTJ+4102xdilPA4+9TacY/OcWCAB1T5YEHuM486kyAQicY6YiP3b2UiZrapmMqVdfByVDF2yBEpABXPQXe4JmTJz3mmQ8/Xl9o5cPXlHTr59t7l7F7MFkagar6/y+uLq9XDdyXTezpp62tTsReBizsE7Etps+v/48/aDe/KwuaR6D0JutrD620f2NI3j+bP+vXy5TXY6tuJdUZiWzPti+DFyJZvPdqLn2z7ZzEA5qzhedenIZUK+HJCzTls3m+V2AtcooeRjKTUHTBWlent1vrzcPv0mazuZTtu2bdumco5JmEBah5TGMIzBadd135xe/merZhbv3039+7NnX64Px02P5pomPvYQiIQybGVTIy4b2KLPI+thZhqI2UyJIgxKDqya8zBaf735YKYf/97i4UfHzcEe0Rtn2YbXoDnoSDtD042b85/89Pm//S+nP/lmPVrVthOBahzevB7/8+n133y6+L3vPPhv/9783UdPPvrR+PIXz67PTz+q0pfj3U2eTivJ5J2QlSBLo+LpUhBpUrOCmieIGXI2jc7GEY0DSvaawJRULQQ0FVdLcWvsfNbMTEycAKadqN19dXq96Rfrh/5748UdtdldMyJzh9j/LoeAHDEO4ICYkTK4Qu0giZyGw/3DxWx6tN/Mvn791c3p+WYxvtpvt6c4PN+0cEUj7FhEzZwowMQuK+1wrbAS6k3igQLKKuLwpHrrCSEW8Y0HeV2O7mYzbrbnb8741av9OLZ//7ubRhj7c5iXxclkjyZ323vdYD3giA8+yNvr5TcXn/0if3rF7XQ6n01m08p5X9dN8BURYBlZYWJm2VRVkypBK5qcXt18eVr/zWQxqS8e7HcydfsNQq3et5/9ss9Xb45VXlEYQBaIiDM8CYi9FeFbSZ4CYGKm0M4MqmLEDCfOJVCX0vrVxeLq9fc+rr/3o+Mn397jnQJOupvlxVX31VddnE7m7Ww+X3gfnDPqr9WI6gmLy2gJlfit1+wFl1teL29it/JVS2JRwsGDvQfvXMaY7OXYLk8vuSLrG+EsjuGFTITEeYPGPqY4pIicUxwtjQMSGw9ka9DcVLG8otkCOYORiVPMzMUlLMwcQl0mnqYFB0yWs6nlpMO6080Vtk/RvcT6jVULquawrkyjwYkkFbgYMzMLiyMBzDSXt2SGJkumKeWklgy5GBlKs+R2Y3P2gEItaxIpLnLebsZxdfW3PrbHn8zahyeZ4eIWDM5qw3pcbdarKKENdTNt6qYNXgRmXrMTBsA0PH1+/aefHvzfji6b5ijNxdeN1UfVY7uLAfRcv+w/tJvLK+7Qtsia484kWQirxFoE2SWGkFGouygib+FxHG+W3d962J+N1YvIqhYcV4EotMY1kQcCbAATV3NwIuRtZ1nISzuZTtqmaZoggreSSU0yCjseK6kvNzefn+79GLKou3c+mC438fpptzcuNyrJ1d7VJlXWjBwtKbEr3FQFjDOrgyaiXGAcotmMhmxN8P04djHVqXtwHB59ONk7mVo6B9Y2KNIArmS8GLslqvE3f3P2//ujVz9/vp3u7e1PZ76qUTBjTs3setP9yY+/fHX64L//R80Pf+9RNZl9+qd/yVdv3if8anVnoNqFiWoCMcGxuBIEQjDOWgR4UBR6h2aznIgT5Q4uQhzQIiYMHfIIU+RtHqIOpimZauk8eSeIhoFd5fzrq5s/ptkmHf8wv3nPje2dKdQJK3iB2COeAxskBwTLA0ajyhE7kM+zWagPHu2fHD98df+br3/9m8vN5eVe3FShvZTjrU5HqSs2ImY3ZVI1LhUXyJXilhjQt0mh5YWvKMxcAIAwNAirC9nP0DqhOOar5ebf/6w6DsvvV312wdcM3cIGOOO9g2xGg9n2dHz+6ZtPt0+fDcrN/nzq6ul0WjOrD57EmWpRR+7GHTBidYDBhOVA3fVm+fOzo3fa5d276u6vqLLpHXuCsL4J23Gc6M2DzE+HE2KqOJk5X1VmYLAVyqaRkYCURMAVTHcCppzANI759NXViV5+8CR88nfvvvPde4nIpysOvl9ur17fnD3Nz9fqDqpAiePK+YazKAcQldKfMYC9E3ZinvtVdP0mpe21zR15zyTi8r0nc1BMyXhpufY9V8rqhJwYlZ6MyxSeXQguiq5i7oyTWFSSLbS2HCkn5GTjgKzKXrV8WcVQzq6qLKtZyimqZhLHUgFZyMRJNQns59AAPkI7hWRLjOWWakEQgC353dCJSuqxQllVNSXNCVZo6UZcYrcUiLtYdmOwA0UQlbgHKJnWRI4IMelqjO/P4gfvyfzBPa4Px+xly4RMBBslDcqme61bm3nvxTEZkZAQAsgaM2BImz//dfrWcf8xf+6a9+EeEnnsPQphfl8mKf7CXmy+bfXPr1xn4r03gEuCe2FFqmVYEWUTE2XjIrdTU9OrVb9Hq5msXo2HsGCWjSuikTKgCU4ARSZEwEZjRz5n1qbFLDnvwy2YqcwUjUAizJ5K7O0+wnIYPlsv3v3m5kd30wdPwk/Po79cHbOctRMf2CxxiVV3iU25GNRzBmUCk6vEVcSsOVPadKBpSqLdTZSuTwfBDvdC0yjROVWeuMGwNSKyNfk5j+71Z2d//O9fPH+1nszmh/sHVV27EOrgoKrkRstNPXT9+Oz58//3/3Zi4/K73zv69t/77k/+909nqzdPgnzWH7OvdadhvN2OoqhEMnZ7dgUyQUGK8p5hBjyUoQpEMEGB2CFe5bjVHXLUdslCpqpGxGrsFntV3fHV1fov0nx0D7J7/YFbT+8fYhzAa9QLTBqkEZsejmnMZoLgTbxx7cgQiPcPm9nkzv6i2vvFN79+89VvBt9fPq5k5fFGnHKYNGHo1QglFZkpUElwBsyUka2Mj35rg9tJgspMVEgrEWqauq7bWA3bYbUdL667Tz+X9xfrafs8jw17Jt9QfWDtXVlnNBt0K1ct1tv+htxkNgnB+UCOiH0t4lF6JezgyUyZdnAj9b5Wi9MJZ02vN8Onl/79y/7gWP3E4MbqKD14VG+79vI6Bb2c53o1zKUuyJvd7AdU0lXZkYPLgCPUBs1ZzXIao0a7vt6mN+f3j+O3v3/44Hvvh/159/o091vraXuR3pxtX72K67rxVevrkuCQCCRVY8RII3RkNyFmtShxJdRv06Rba79eTcZ95tpVlYHmTz7khlbdmXs5Xq6vtnlvdNY4z2GyE22oqkYYaUZO2Yl5R8gAj3BTYGFjb3kAMY0bA3TYpvUyp6LbzClGFyWnxK4stZg5wDJsp63NaTBNcBOqDpGS5R5pS0HgixE6m5ZG+O0f5btXghISiAg78yV2k+vSXmeY7XTHJVEfDGOGsyxQSikTyftHuTpY1AcPzB14djAPR8ZA6mV6utjr3tmnz5amxJ4YLjApm4loEaaNUS9uNn/x6/DO4mw2Z7p3AHgl0PzQP35ydHPWx9dPZH269a/6Rlxgpl3qE8mu3zXcpnYTiFhEs+aUuz71q5sfPVzWlXnrh4GS6taaYVzr+oqbjPo+gsEimIptIYOF3X5N8+0tHwu3XhkSA4yMnffMNUeC9GN/2Y1fX4THX8WH7/Cj+21/nXDRVavVKOQ5CAtTDe8xJuhgSBy3cDU5R+SYyVQ1a9KwXA/3db0VGTSkZNOa65bbSoWWiAtjs8GQs9EG8aK/ylevzi7XnavCfD6dLaZtO2EmJjMFCzVSaa6rbmsip2/O/+gv7u3NLj58v3nw3t7XPzlbxPM7FE774IIjb2YZZadi+W2WqgDKO6SYOGLnwLeekLFHv4KuQYS6BhrywXgsDr8do0SzKSnYYIbs5pP5lrdGdL26+LPPp8vtQ57ED2dnnu/52pFuzJwBXDUWE3BrnLMM3sIa44TcizDduXc0mR7ef3F896tnz29uzi/vYb1X9Wd6cLVqnWPnfE6ZGAkmUNpBakiLPsre5t8SlXy9t+pocXXjxWWQZq23rks82mp7dba+OuXpowuuGXIMf2Tw1m10XgOH3G3Grru56SKk8pUQzSoTR+waFjZosW4b7SK9ywIxGwTZMSXJTai2Y/9qaLZDv+9ba+dMV8zp7g/2qv302a9uTp+NJ5s36xx6P2095zE7Fw1cbnkQrHgldqqHEvrovGEY8/Jq+Ui27zysnnzczg/2E7Vh71qvON1sl6/d9UV69SrZ8X5VT5omeFKGY1cjVCXeACIkDXEmY+aBrOnGtNlav1nbuAaDGjVk2X84x+b+gw0prb/ZXKRFgkQ0lCCcWBz7JnjPPmw3EdQ1e/X8XgpHE9mvqVmApjYohtEkgoUmc5q0CNU4dCoKIMc0dH0IlXOBdnZezsYQVXJm1K0sLztToboFD6R+pwwRxjgiXZheqCYr+XdZYUUz78DM5HbKKjUt8XpE4MqoAsogPKEgFaGAA5e0KoVSTmk+cXdPZHI85dmsB7ncA2tHwTiQDz6Eg335+CRtVa81pWjBVwQoCCzBQ81XXhoXf/qs/vvvmMyuZ8cjGuFoUNXmTvPgOydbPe1P311sLgaXlAMJVIyglneb8d19TGZWBlvZ2Gy4XvbHrv/WHe2pOvB9HH3WfJVmN1vp1jSZDbCnhMcmFRyTCdHghFvm/Zru9d03KSYLpjkBTCxSEAUEOAdip2qrucjlTX52WX39N6ujo/rxobxe+NVZP3nx5lpEmbIbjJiyo9SDyKSiquUwvY1ckxE5g6+3Y766qKaXnZwkBUJAEpM8DvBdRb5jf0zVG6oOeXpH+7SlizymJrJ35qkPtg3csHgWcSI55SEOwTs3nVtKAv/5q9Uf/3V1d7K8+/Hj3MVvfn31UXiz3MzGGCpxpjkbeBcuvYONCJPyrv0XJxIcnDcyIoUHVJBnyIpkIDUfiFviJaFI6q0osYxEwUbsfPDB6lpBxJvt5hfPUnQn/0j4kyerOkWaqK/mxEdZL7jvkDdADb+g0LA4aCIm1LVFE1aeTVC/+7BpZ3devPrq5ZsXA8VXj1zfNsfn416ftSIlk5KyUiKndpFfprhFNwE72hjd8uIAUjMX2AzIOdRNHXWzZiGIN5CQM6hHWsI1HCr0I7EzSv12m1XJvPc++ADfSmjBUMul2OAdBXQ0NSOxMo5kFxggiqmvvLzpZB1zHh2biTzm+THNDg9ml4/jb7aby2Hb71N3ObaQDBGwx+3HJjCLQHPOBeRkAracI9xqPbTb1Tt7/MH7i4P7Cxs7QYKEJBON2+Uq59GWgxdXN7UnCSxwAhYBJCOZkCBkK7xjiLA4gNxIjsxxEK4AG0i3yBtqDiYHs+qiW/hUxZRQZ+9ccCzMHAgFG8/kK3Zp2HbdNnHb8PQ+3MySwjHYoIZ6So3Xq45K8HyJ7yBjIWITKjJ9AiOPiXIkzUxwROwMMaHfwgVku43IT9ARY8KoRo6LfEqtgBXLUowL3sJkF3YLOE/EhbRpACFHKAo5GgxUnsRzpUQcoUTStDyrBSYV59yZo0RJKQCu9fPjyf7q5Gb5o6yf9+48VpstBy/J1LNYVjNzVWiG8XzTf3M1u9t1Oi6J9lidsgLCi8X+ncPr12/ubDaHN+2bGArc6e3+d0dHB9lOMUgpxgSKYxw3y/fvDs3U+ayXWacu5pFuOn3RzT+8Wfv7T+rQgoNRyJpJoxNXLxazg/PpnpxsuiGtL3uJbuJ9kJI5WqyyRUPEzBICmGXbUXXdYfMmHd+rHu1Xw8z0fEs3l0Mgq0PlAYsQYVIiNamzwcZsAII3cNLx6mL1IV+5kLUfElo126ChPK7X9Vz2qJqAiOtDqj0wkqfgezhrG5pgytXUwQQRzpEljR0RtzWx42h+vreXOehm8+vn9s1XNx8dzx99/M72YrNerj+aXP9iewK44hvbjTo15ZwIAHPOseTcaEy2ueb1OVUnYAdkhBrmYRndFjnCjB2BbyFBXALnMpIa+5v14IJ3RRXixFVebm6Wf/XLr88vjl990v6dT7oHj1uVOsnomxPicwxbNFNrDoCCoB/ADFVQj1wpM9Vt2J8e379/8Pjrs89fPfv09fry6oG7mYeTl/Hkxlrn4Imzlb5FGaV+3q393gqqinGhtFolsqX0xMwCYi/DLd5aYR7moStsTxGjTRzbqHY9XL7uLsa4MUfihAuNBGk050FsO21WGdibQdk7cYHFK5GpekqhgutSH/H6qn142lV7W50e8hhBW6n06IE8vmED8ep6kxajVpUwoYQGF7c776A3RbcBjTljzIPx2ctXf9Bsv/Wtyf0PKTQp85p5omlK0zvpbJWsu75MwyyI907gkIWlJI4bKTOReTYDEZMoKIS6qm3Tp0HDGKG08D4Aa+1vKF3ATSZ7bVuDWefbq1U7C2TsQjGGq0GN1ZTZgVwGLMB8A+csZ2Rjtwa7PHgSteVVfnNpY9pBAcp/n1UqX87gnawWeJt+R8V9zACX0s/BLyAZ2hXTElABaWdMuM1RKFEz5a4v8xFiYmYSAhIQcVtlozgBdokbkg0shbSlyqJE5EYgUxxLeu7uxGz36OT9SaRF/2nXrd9N/YnWqzy9GSpfaVM1zzetd9Sa9I7rkH/+yn/vw2E2rCmNYEGBXNX7dHj/8PCbcb18d7q+uqhGldahoMd3gee0G644tj4Sgb0Nr5a4L6uPHuPBe3vX5+Nicv1+3f8itavN8lfX979zsXFvVs10Cj8XM7Y+cUUpSjPbe7C4ez50Xb5/ejnz1rNsOkMV+DbrDgBMPcN5Z2Rt5beJLmJ1vUyHD/H4Pddt6j4kIJ0qm9XmJLDPJSm0sMlsl/PW9VuWcHmzrran772nlXNy2asbhVxf7Y/YNFMvi2NuDogi0hZSm7EanFsnu9qby+HWXfrW2Iu91VdDiUgqcYEgjLQ/rTWnVZe/eCnvnJ1OHzy49539r39+eZzP7sf6dfLipXIyJpRpSGkRtUzNKIFJCyIsRgwRnMAZ4sEGZtgE0QFAHoXZi7BZiimLEKHvx9Xqql5fOIujELVNcMH3nTLth213cXX5r/58eL08/Efd6t2Hr6u9I9RO/ZSkobo1VyEpLMED7KEe5BAjkYd6ZdOqlnfa48X99ujr018/ff3yaj6+OZyMn/bHZ+McxfdenFBqO/OT/tZTCSkxTo6IS4TpLknx1ocuwsREFcnMeL5AvUcu2HiDMWH1hfFMr9/k840mcTWRdyj7foU5Lj1J0RztsKG84+doGswyizM1QnaswdEQ8frKd5vhUO4oz5FukAajHGb10YPZ5c0yx3GyvLoeGyeZi9v9tpbFLRqmpH+zxtH4+nI5317ffc89+nbT7otpMohNDyg1HnXa79z86TZbmrYsVB4nUzKDUbGd7y7c7oVf4hm8QtKoyMOYxxuzlmpHcYacIF21tzeZNa5KTd7mNPQdeR+kCFmspHWKC0Hc4CDVhMQTTNmrUcR4Ba25PQA2sKg2qm7EiZiQCLEQc9JEiUqe+i7ozLldfp6AvJAPcA2cB8ZChIYawOCKKBA2O8fkrRmgHK5kTDBfNoGAqqVoKIAd4DaPXrBDjI+wQS0xFzwdxazGJCRqFZi5ZiRBGuAMlSc+cPfGAwyueVU9XV2erqp+fVC7qrJMB1/nSoQqkSr4ieqLG6w3dNT3pNGoIiQgGxM1k3qxCGGzL92Mx0uts+1Ss34bikMEgojLY26rcH0zjP32/aN48Oho+vCR0vnsevNuN1xo9dVSn7+5/i+LR/907/Vsxo7IyHnqxBIkQsfmqH3y+/d8e/X1l+u9dN2N9BzHawRvRm+vHWCAEzHT4N0mxm3w45DHntv9fO9d2TShOs8r69Y6iSYBzI6YnCmTmhkX2z1SWnX95fnVJ/X27km92eQJDTJ2kZu1VG900Q0DoBSU/BSJYR1ywmbVzK4njezN+X4e1TriKrGvi0cNjZgR+9J8QdhXITiXdfvFm/Cj68v6aH/v3r2T8+7qdPW4Pnt9XXWYSgNV9g4GkDCxkBlRJGNk5C7lgeACKAAbKIAGNCAOSL4Ec0ORlZLuuD0x6mrTY319N589PMoua2Zm77yIep4P1cACJ7Rab//zX/dPT+/+dz9cf/e963Y1C/MjP1mwKqWtGSMzyIMIlMGUNYsHWQIzO59GyOLu3geTdm92+Ozry9eXr19efXdvvI7DTy/2IjkRc8xqrDnBMv9uDVi6IMoQxyxmrLpzoqspoCIsTkIj1YJkfp/CnsVLjIA1EDPdYljLkHkkDCBTIBE8CMS7XIYi0CMYkzMp0bSUNXPOBRoOmGfUntddfL32yxVpAnKEvwcGkHg2mTxcHF983S1XB9fX13Fv9K04uXVXwqxQsWBgI9bMPjSrMa2vbr4308ePmvmJENVULdhNMQzqlCVg0nCgrZmGqnZOxLE4Fs/sjfitWN9sR1JD2TY6MSAlo5EsL5USuz2a7FM9MUtwrpnN6mZT+zH0y164HrZkDZdXJUrGjwGoGp7vk5uAGkFOyB2CK3N2i1ISesxUxAuc895577yUDDy9BR8mTaYKMDtXtRWHFlKDPJSQEjDstnlSg2vA0W3tR3Qba087TALBhFGsQ9jFUPnb3FMumeel+is7YnKOvQPBEfoYL/o6xtGnHv4A5IgG2Ig8YhzBkto7dK8+mvjFnders77bjEPi/rr76nnqNn1V+RB85V0c43Lgl5fyznplQ4+6KpGFSBki4fDBbH+5vrh5uF6vuipZXdoU5h06vfxgZi9GpJertMDynbt0eO/A759MEu5u1rDlB3lzup4tu81ffK7kTv4+rj/QgSezXAXh1S4mKUwn947uIvBi+Ppz+uwLOU1xMhsoVLdHH5WNXPBm5EPI0sXTFN7023cI7qha5Hg4VOP1sLfcbN1UU0isogIn4r0QNKumccxKWS8v1+326r1HvH8wQe4m9XB8s16KG/rtV3n2wfri/vbUHR4iNEDEcIFxRSFSMzn5qBqSZWyx2axoOvhq5Eo0O2Ypns7CTeXGhVQ3k1lML1Z8cUN3IDy7v3d/s7zumri6K1ffdNQhswjr7o1CYefwJefBZDlrDoaqMCyAGtwADloKTwUKHALEkn21HrN0N7K9fGey/va77p3v3Xeyi7kydhI8eamdVD5sQxW26+7ls2f/4/XsB88W//Cj8wd3zmYnhzTdR2jIVeoCkifJyAJTYQfknLPFwAjiiCzlvSkvvrN/7/HkxcvFyVevv342i89/b3bz1Wb/omuyeCcuqzoYEQxlEM6qGhUgFdWSlahqdOsTViPN2bIyg1BlO2B/iHQNWYMWUFOa0h4QL4dX/aYzGJF4qaYSJuQYWYFcdGW20xmpqoJIXIClmFK5mdRMSJnHq97f3GB7/qZxnTXvUNWAMnIfJB09uj57sZki1rrcpqDqmcDCxcu9C99HcTfLdozLm+t9Wz++7+6/184O5nAzhBOuHmgiC4ZuzTw6J6mqId47YdmFoBT3JghMxoZiZCrl7M6eCodaqxMvh2J11LyS5gDtAmPS4SaEuiIJRO12M4aJRjYSOIKViJCYU8xZXSvN1KGeoJlBBkoReAgw1CMzNiukUaMSOSInEsQH8cwciEnKFoGZ044AqllzzsYe3hUh/a4RZgYElOEJbLsN3W8Vw4pdAK3CUtbCCym8YAG84RaQZSj7YqBQIALMNClpciTD2D+93l+tb47Gy4wD0wRhrqqSXgbv3IQRFlp/zPsf7j3R6c05LV8+/fnF2YaGcfQVJePghNhnHV9ec1otuduYmwACYcsZ4tzByd6dF8ur1d318Kwfr5ML7G/FXb9tTmPMZNh2Xez670zGo8N2MWuVa57M9/YnF+dLZ86cBUXu13/y83yxPvhvtXt452K+V9cBGuA80mq1vrl58+bmF7/in/xGTqNMpg5wthtJlCsoShxYFey8q510aNTdJIO2dyZ3ru/0y27thjFdUdwqKSiwE2GwqGazLCyGMSs2y813/HBwVO+fTCTl7Z69l+JVHN4M4/Pt7NPr/QdvxrsnRlUy75hnRhHEOVWHHzMJmZy503GbTldDvuAHFlpxbDAjFCOygAnZh3rS9i/O+pen+Ojm2j38dvPhd+8N3auvzh71y1dXk76nxrmRfqfDYNJbK7YJEASUEVfgknzegZ25GZBt6DAGjaawmClfret083i6/uj9fP/dvXuf3Jk8+dgBgNFtaCAkuGmA59YReRHn3XK1/Itf9M/O9n7/ifztj87v3lnJYk/mc6GpbpsykMrEngUKMQcWWESOcEGcBxMmdd1UYX/CQU+/fMmXy+8u0tPt0dN1O8bBeyFiYUpKDGZhUy3zTgObgsncznFUUigzA2QIFQBmZjhCeAy0tLewKJIGG1aSUn04Sg2Skn3iyZBjNFMmciX9QlWhYNBOvqAwZvEGNSPnhF0O3m62cb3FzcXY3j9mirAKDEgLn+rF3cXR+fVFOlz2636MIdTeBE65zOpJizyWBFlNdb22T9p05/7szrsHNDlwwYEriIlXSoPFm9QPgw4btE5cCJVnfrvss1wGn7CSEkRgA4nLGlkzM7hydaPkW2lG2vbMW0tr8kG8C80kBHKt1ddRTZO6HZI5R6hpzHkc2RQFZ6yAJVi/YzrlFbaRpAFnGmW4cmOn1ljBPIMFSGaAsIGVSVFUXGQgH4x4JMpgB/ZAZaTQLTQDCY65rcWzGbKqquasO0kJB7JU9K5xGC1ZHjvPoIJzQCZLUA8pCq8BJGAlohQhvmLnKuCzF/rV82px+AaTB27epj5KqKkJpkp5MPOQCeoaMphE7jYGfnZqv3mjGgyZWYQpt7Vcre31TdXfnPlupQd3IJHJuTaoEZG5gzv785t+vn603L5asmcShoRAb4OhtXxpFpPSuH14lw7vTfxeSw4SfAoVJT7dAEpN5TShG7Y//dnN0xezj99ZfOuRPbk/3Z+uYt+/Oh9+/Xn3zavhi1OCq+uJFzEik1vgBgEinI0ye9XELC74q26oJxOaTP2d99Bfz8bn9avzyb4drtervJczRTMYISXNscDqUsqjwW1Xd4/0/v12/6Bxeby+iVnwwYvtkqebq/M/x+Fsb/a3wq/27jnZf1Q1baYKQw7tPGt78G4tztfPLq5eb+vlejl2G/KVhBLzTWogeLKo5DiLOCf2Yjkd++i712H+cPr48cE25c3l3W77xcY1Pty66ktqQ9lmJDIzUqEtpUukQ3AFNwIJ2Ws0rubKFbl57syi1Vjvcf/to+WTJ+Hxdx8u3n/Ad+5jctfRrUaQizqOlJhDcEytD068sLi+61+fX/7rN+7T07v/8BP5/Q/GCQIdVmQj4Nm8slkWEoVkMGAMbpFG9GsI0HhMAsm9w4Zmd9oXP/3m4rT7WF7WtvfFTT32nthJE4JwzgZLrgSBkaDY4n7XZG5mqjknkIaKQjMQX8MCKkF9F7MjiqNt1xiduFU7XS4mTmDQjBTJM5XEDv5dmust7sEMsJ1tq3SanHxKQbQX6ySEWqm5B0mwESRwjkTc8f2Th+ery6er5abRPqXGhOAMpAIyiwAxiakOY7/aDCGu7t+l975l4VCl7sHHcGugQ6poOMvri5vz5fnLcRsbVwdxzD6QMEm4XayUbIXbwbKQMWs2cGI2YwmtSnOXpweotkACFJRQT2W6nhy75oxrjGQ557It4NuBFQEdLFmCDtnGG6JDEmfJMCxt+XW+XENaI4ndOiXNEVprAaOYEeRtELSVSJxdY8uQCuQHuAwXwABFsEArKMAJVSXBO0+wZDFajmauqNsAAI6EYGOKSxiz1IoNMJZ/BJKdoosSYDCHcSzgJwKY2YlbLZf/7pcPTx5eP158ltwPpFL2AqnYiYFVM42RPWXKdnVpq/PPf3X9Rz/p3mzaowpgJ4FzJNUcmF5dU9/bIo9kDhCFUCJiUNPI4Ul7eOrPugkv6+TH6NtairDxthKkmEEWu81w4LqH93jx8BjtgZqnbCB0g12skhImnlFVTeM3W9us13/5s+2f/Hh0Dk1TxRiHGGOiDN6fNFXw0zo0odCKFbsASjLa8RuE2InzQiz0pvdpSKREk0XzYHPneqU6rlJ8k7ttFOdTBqiMqgHGmE3OLtdP6vHeUbjzoHFtPTuhe0NMpM1ra4UzycXF2f/y57Obbf0Hq/To3ldDe9y0W6Mt9Stdd+Oyj6vsTV9v6k+XTR/Q0GiVUAnFIABEpg6c2Jw4X8mLVdUPm1lOqGq3f7x356pbXTyJ16d906U0rRuh4i0UTUlT1JgMBoXG0QDUCxKDdkgDco/CpK/Y9ufNncX3P7p698EwCcP8aDp78mj+5BPav4/AALvfllZmJQCZxVikqjyJgbITHppq2/fdZvPZVy9PrxYvbg7+8ccvDm6sOrhjs30L5e1bBP0AOzgP12A7WreEZUoV2oWBaO9eqJvHUs+/+OrLL/on08vWLf76oh1i9KLsHZlRZojLhJIquItdK5u10i0VnaZlQEiB7CCFliJQADVNaqsPwMIvr8jdENMuCcMyMe0cBditLcneditvD1klkuJLIWS2MZkuB6Y8GGo0C2jZac4MRMGmdy8Wz8/ap6u5dWdplr3LRkbGZQy0MzAYAf2gey4eHjYH7xyl6n0JBlEwgyM0EjsQb9fDxVnscuu9c85JWSkwwSyXUmK3M+XILiCTEZtJIZKxsACiWtfcTDBsaby2tEJeocrTmTR1mPrB5aiqt8eWmeZbevduj2teEILpDFiCenL7Mg85svVry2oZpArNyKOOplkoeCpi990YN2tOmqPt6H0ORLB0uxYwEMCy64jFjGOJ+WOAyRkJLNPb3yo7UzYScImNiWU8CCpKgBpAUV8XiD00E9Sx+CqQ0NfPLv7dn9/9H2bbPfeTPP0IGDAoc4NAQmSa7XJj8drSm/Nvbv7tH6+fX9l8r2JiF+AYmcQJtxWth7zcujtxhdyBK1OxWikbMlE9qw7mfnpdh+uJxatRqwqsehvDXvareYzpehU/adPenufZAUILNeQxx3Gz1c3IMnHee6kqMRPyzqWYY/SsmfoxG5zzvmnYO6lCXQc3mdRVqFhAhfanKMD1MosgAjOJsCecrajfrG1zQbM5hWrxaG/TbRdbTC63V9o2RYW+G1lyGvMQuev6D4717rvN9O6MXXZhqCfWtO4qxkGoIoH33ebyf/0z9/T0wT/+oXv/4U1leRxWthrGLl539uyN+8WX9vlrGzzt7SUyUgi/Df8j0zKgck7YWk83G12ucWc0QDGp6/3FYr+Kq+Fwaa+SVxXnBcimOado2bBDGRPImZ9QcdFQA6rBGcwwx6Q6m4dHj9/jFXLQqqHDEzp4j1oimSIpdOV2LymC3loxcjIA4qUKnowDp8on76iupOu211fX/+aPr3/19P7f/5b86IO/OTh6iL09nd3jEEEM8/AOwSOVkAyAA8LCzIQyKKg/5ntu4RefTD/74peX83j1g1n6YrN/k5GEK0e35LAy5N6tguktOLRkbKhqNiRYYtUpSw0JEMASXGOZKAwmfRy2Q0clirTsU4tXozyCABvhrQPv9pvZzRd2gntywkRqN1ufUjIiSA02OAcKyEboZD7ZP272Trb3r7rTTRfdRDw5tmxGVKoUy2ox2Wq5+qiOh/MqtI3NG/Zk8RpWlukdnKfg2dt6Qz3JzLMTdsIgsKmiICh3lwOGZClmi4Z+1BzTxPq9mhStpSWnK2iFEfATcjVcBoX2yE333Xx/DMuhT0kVUglZTppgmUmYhBnkA4cTYm9xBcxQHSFHQhBJlNZSgZjSEK1JZMk57wNbjgCBC/6JDGSF56VEhd1VXOC7b3YGKudXD/YkjjmAPJEnCcSuwK9sp1E30pFEVMm0Z1ciY3b1JmCgYhM00AiHXb9A5JzUVagdL5fr//LXLy43j//5PwiPnnzTHhxwUks36mtKPtsKScYu/fxvXv3Lf/X8m8tQTfabtt6bz8GF6pkLdHNMdHpVvdv3Lg/SeMuGzFCybQQqNz+YL15P5+7um+EipmQQqEDeLmcZtulTjvG9B7k5WEjdkoE06zj2N/H6RiOcd+xE6ioA8JVvxpyyDTHGOObEYBUhLyLs2jp4LxKCMDNDkyNLOzoNshmZahlRiHAT6E3n1l0cutf13sSYmkme7eX5XA5vuudqKat3jlkM0Jy2KQ99POTNu4/Dgw/2aO+AbASM3JolLcHGYeJpMp/lOO23w6+/evnLr3kxm949mt4/XGDori7T86vx1cVWye0fTPcnde0yrNfsyVW/fdSIzMz5SiS3lb/YxmcX7oMxIiet991hX599Xs26B5Pl6dVkGJkLsEk1pxFEkABOzCJNhaoAIwVgSIQT4mAkZInbPdyf8uKdrKNUFdct2KnVQgniATgrq5JSr9Ot6U4txYL6JfGVJO+8q6OrxAXpl9vuq29enF9MTtf3/uCdy3cf9jVlW9ylKsBV5j0IGDYYNkgdWBA9kVOpkQyINJ1xeN9T+7D/2Zf9a7dc3xMZ0t6g5NhnhbKU+N3Cgy8z77LCLVfPeUfMEEgDmU8wO4QpVJAybFQkypnUwYlJsV4lpGiZIW5nALFb9druh5YUDwDEu4fVmF1Vhzb7fjNk0dTkbA4GCeAAY+QeyWw2a09m83uXMSa/7nKuyUygycwgxAyjlMZt1+e+e3hPj99RnklKKVtmc8hbkICyxStYdC2rOBVmZCIlZKCkAZEEMaOCCTRT7XNMY45D6JZ+u/xoP37voUwPvXnLA3NeIQtCTVSZMnxycw7TVDn4pKvYp9GjrsRXZpQtsR/JJXLMJZs8CawCJfAUcmw8woOCSoCv4WphJ8UbbhYgu7bmttotvEsmYfFGUhlNypYYiKAICErKFTGRiARiscLvtbSTGpaKUslSZgJyttyzOfDunCtWC+xYHAowfAvh2/6bHBOxa6dzbLc/+9mvzi5O/vD37n/ySf/gcAzVhHJM/XXebl892/7bP1n+/NPlaqiaSXMwr2dNrR6T0IqYU2R1pltYXm5Je9ZeWIA0gBmOkTolJuam4WYWDmsNUYul6XbQYmakhpjSTOLBHLw4cHVVUqUta9zaZkvqKi+BnQvBpWREIiRqVtU+jTWQDcTEzrFzDBYnTgRaZn8MgNXK61FTLh6ycldTcNgm7joehhgqj+ldrn17vmrn3cSNrospigYlc6Y5p5ySpjg+mozTB3V7fx/pJktNft/JNsWxr1rOHIL3wUsjmypQ5cYhbTer3yyXv/oMapEIjv18b98HP5nWja/EhdDW3rnf6bcIBNLs2QHGEoiGs6uUtm+46y0cWt3W+yf1VXdcr7322UIeMwvtmAQAkZEpAyQe7HfZ41buMc8myZghBdBp7UTcoWFMmZhaygPiG/gaft8ZcyaiHT7OiLTsXJjZoGrmCOIlCYkX8Z6cE+9D6Neb7b/7s2c///rkv/m9/MP++f69ke8+NhckDsjGwwY6wjuArFtRcjQxmIMXgKkO8s6jRYv3Pb7kV/XNdavuN2vZjuwZ3omaAuyYi4u5CGFAYCEhYXIgBo9c72lQIQIFGMEBrDQInMTlWizPFsqucHNyStFzTiqMSBHmJnAVEag8SGQwubXgG8DCYiQsY+Wrs21SdJw3UECAbQcdoJ2qBQly/MGjJ6P3l08ifnmVJ0ZqJDDSMaNKaTNst2lzfRzybOrmR5PsJ6ERi6l4SGAZVlkMsd/4KgxiLgQhD2YjEAs5D0tJM5gsUcw5bjfx6rJOm32sDic6O3bv3A+P37dqGiwNNL6icAQUm3wyU3YW2sNZtQ51nFi8iB3TxHkPM3bsQSESkSPTlBVpCdsHT9Cv4RT1IcwR9zpm6BftEddzX5yqWdnpLdzrloarRiJmxGTab3uNnZjuEu0xAUC0hQosIyYgq5Ha7RQxRyIhcVSc7XCZ2dhBO2GBmHOeKBDDLBP7wrOHrqEdUqdxzCnC1HtxXoJI8FYEP1enb/4///L5//JvpweH86N9EYrbbTo7W19eLuGqtp3s71WTSTNp6qoJ3jmDqrLzPqtxPXXjdjnEtIpVjDbOmRJxojHDRk4DwH46my+uFwvb2/bXMd9mBRNMLcex6/p+uCeb6aTa22+VA0goxjx2kP56DWN2TkIIrCVWiY3VzLxBPYprkEu2ExExF/sNm1lZi+7WzkbE0CFFFVcVsjgMndHlmu1mE7uzpn4E2Qt786bpeNRGuyG7lENGDlK2UWm7Hp7ct3oe2rlF65jWutmH9Ntt7HQ2mUwkxNazNG3VaDupu81mjPUYNWc1qBCcD1XwoaqqKnjPzot34baJKW9LEgDORc0++JiSeH6zrlKMftwwD9zM8+JeM1vNDs/vXW9/s/RhWntX6NHNGCNRr1ldMEvRYiIypBGmcB7KIGE1clVcX7tmZuOYVUyi0FR1w/GGipaUrp0wqRXVgohIUYiViQ2DtXTITAIKIM/OMzXBVcF557fb/tnzZ/9ydfjF+eyffH/7KH/enjyhvT0Co24RAtbXNnRwHm5KQWANdIQTgJWJ77+319YfNb86++LZ1Zsrq/kvT12o25gGEs+0e6YKcIxYmDnnrFmLOcYy5UiUFLGHTKCK2IMiwWEcXV1NTvbbxZYKbtN23EpfjOtFr5HjTolLOy2aAbCM0r9YRonNgMVkm2WfVjdeR9hOAgnK4tjEaHHYHN+rVuuZDJ4RFU4Bopws06jjoHG7jfRkpsd36vroHrupwZtriQ1uAHnkgVPq+zeXL7ptL0yOyVgtmjhVTmkkYqO47oftJl+cu5vrBbYHC3/vrr//uJofuTuPq+pwamEBzhRH1aWhKVBlimNOoMni8OOjm9VZeNVplHEchn7rRHa1NQFQHSlvYUNHyUCGpKARTOQCxGh26PdOpbuRsgZmVxTRYOzC4ctjGJNqQi4B5aVS7oEWnneqdiSgBwyUoIxchC1UyOtURhPGBgNlchVRJhSqQ8ROH126FUW+ARs0wgCLxB3JuAuUhrHAOQeqnXAdfF2Hru/PXr589ZyMuUgpmnZaNU0dfFX5pqlD5cU5lNAVlJLWihCpG3gccpsHcGYmIJkKVAAH7910Wk8k1H3r42XOBmGCMEEpF+gZZFbLZOJ8VQEgS0QppaHrY59MiXeYcHobBFG2u0VXWOZCuFU+33oHAAAiMDW1bJq1KMULYAcOGGEak23Wuj3t27vPEACes6SqwWTfqtf9Jk2gCaRKkrP1Q24xTLztHbTa3GPuOL6Ob17ETdqsKSocm6+D88EwOtKpY6l9z3lSE5jMpMDcnXcsXkSc41sRy9vy73ZCXow6xQNJvOrdmGIrCd5rZN6739xdH+XVwfmob/qcfRZmYS1hygoQXEWu9uQMGEAjoMgVVEFr45ogXIU83Nx8dTN7r403l5N5p8NIdcviAA/LTkFmbKox5xgzQMQQRubdlnSnwSFOyiVkULxMuHHimsB1XS03q//0l6vPXxz887/b/vDJL5vjA/fgPWkdxTWlFRhKzMMaWVFfUzgGQOxIWWlCB4vJJ3sPZnv5b35Vra6ux+rzK0zb6paaLEYwTaqx1KRmMaVRtbCTWVUIHjIBEfIK4xYaLEQKbDVnSqlT5DIyL3EjZEzEYiTEfPtEFkad7h7iQgFFufkzTInzONKmU4pL214TzWECXxMxrDOrmV7T+NV41bVGlcUh5tqxOCZKpgquOaSc01Eb5/t7Mt3HmGBLqGJySOKQTs0qIAyb/uo8b0biKoEyUa7iSolH13S9DdfXdHMq26uDGI/3/P5RfXIv3H/PH7wz8YupO3xHEU2VndNcQWDR4vJMLHLuNS01zXzrF+/OFr9Ee10zO9OkxRuYzdRU89inYR1zt+HEQIYKTGCK0CH2BOfqfc8jWJF1136+ZZrid+5voKgg2U9JDsAVyGARhl0LTBXgwHuwBlmhRNBChCDKXE6w20GwkZiIgXIyQGEDaAIo7OxW8hpALZySm4urwZ3CmMk7XxZK3knwXAXfViHFMRuygcm892APdlWQtgnee+9dWSPYjmmjBDgmYWw6HbpRxw3rAO9vU1yBkuTQVvWkCU2cO8t9zEngC//V1FTJVHVvYtP9wG1bAkmhOvZpu7U+OngnTojZmEG7iEEQyoH2Vv1+a+LZXedy6XNSoBgwS/+GrBmIjMAsEEspjwOiErGjdG54LmxNI7NDaZ5vMlpNzsFns5zyMORFHWd7ODiqwRVVxyQLo58MfXdzk3IhKURW6iUjA5rYkU0bFmnIiUEAEOnbbQwXOdqOsH075Ch/Ogc1Z+QlO7HrjruN28sCqiCJ58du/1W7nh1P+qBdv3WUtQjsUszF/yzixVVUSMHEEIEFuN2bw3TDpEPUn/4fP37Q/fP3j25Ulzw9YgZcAHnAXIwpq5ElypFyEovekiNlZGCntRRi552yU+ezVGYe4iRQQ8LUMU96ly7PL/+nf7X5zUcH//RvfXX38qw+mQlFV9dUTckGbL5GXuHw76JysGhjJicsHjSlvbsu691uPPvi80/o5nqQq6FqKiUxtYydpl5ubzhmlqLbYWcuePM1FY65CchBlCqDq1m9QMKEWBhWspsIssstRRkHsisELDMYEqCquwXO7v9mxMTCtlXqspC8VX4kWG9GxhWZUTii9rGrf9W2aXI1XKbRbEIA4EjHFIeUzWKuVQmZXIY08A1TQsVGFcYTjBfanzpEyk4ZYoOLINoOZt2I3J/acln1q6OQj+bN4w/2D79dHx7P2znCHDxpM8+1Zs6gYbSUKV/ldadwaVxthnD2EjfX/YurdH6VLy5xs2xsMvfVrbfhNpp7By+CAzxib3ENOMoD6YhaDARxbuJCS2YKZNMI84W7it+RFxFJmVMRW9ZOC4KVBeRAHvBA+QnAbJRUs2ZYStBM5HlXfKViehNWdp58BR6hyRKQGXoB7cEe1IIAcqAAqUym7BrhvnwQZmEWEVRBCN4zJU9RPZGRkalCvITaiQuBQvAAl+x07E6UUnaZY3NsfULOqdSbxEByRhFcMME9hiuOvZBNNZumXBgORGqaVbOajnEWtJ7WkBpqZgk55mEcxpyJWbwvjbOChXZ7ZIPBbtns2H2c39aAt68cFoAJVtRjBVoNS0QqQo4C84jWy36UtjFUcHCzeZi+8G0KNiKmMUFYTXNKXTfkd32sRMAN8o2liJyy6NDl1QAyZcsEMYgSNfOj1F2DIFzDlLy3ElFIyrefjVnKW/G3IAHcrh2YmcipeqFK6GKj65sxrTvKxOwIZvUTmm1O7vzmcM4X22hWWjVHO4LkToplJrAAqmCKnCBmlgnBUsK4Rjd+/dkvf3n1zsE/s/3pFe3dN2JQAxJYcuPqiodVSOuZjIETITlSIRMHEUApJSPAJ6fGRmwU+uzFN+P04DVVzvHctUGid7xeb//0Zy9PV3f//nfs72yfVfceuP275GtSpckBDJgcwQgmJsK5I72GmElLh4/89ZvDbqD01YeLm7985VP0xal2u6iBqZmygYh3nlPvydUevoEBeQ3tECqEWuOWkMm3rj4J4Zo4QQvC2IEZRsiZtDdDkgBxRB7EBCO6FcqUd64pM7wPQqRK/cBQIZ7BzcBjcXNhUOgmk8hkcng8v766ac/zRc7JIDk7Ya4qW3dpzEI5VJBqcGGlYWJVW/CHGAfzjNzmsSFC8YNpGtXcMLr1zZKWyzs+HS7o4GG9P5W7T2b3f3QSZi2FJOKJGSJCTKsLKOXVRRxHIF3f0GfPwi8/W7++Cm9u9HrVrzZjEK2ayd5kMps5IjIFCRGIBSJSwiOkyeJgwxrdFaoJZI20QnhAzkOVyViT7MCu9tancrtWAkA55RL4TKA4JksjFJAGNAE7kOyGLIigMsHPllG4cSAQHEyBZGAj2a2RAYMaEqIirqEtwDvzkzgolUwyo0RsUvJq7C1iAiJSB4rigxmQiZBTNlW4QD4IsSvSbvuvj5ad2gJlHZyphFkLJEAEORElCCw7WG/i4ARiAQkaob/7KxULizYVwsRR8EYElE8IIzLHzOxIinCr3IS6k+irIdNvPw+BiJh/91PuhuWWLauCRBjEZkU8zyJipN2o21W2MetiBrcnjRA91QSKBqfRrNGMYuNROtnXxV2H+QIuWtxad4rUpZ5Hc+zrqqnq6UzY5WGdYs9ZTEgteudI3K1cgwiqmotMq1Syhp2TCbsu2JAysPtGmGWINqzXaXPhYrKqMmHUhun+3nxv4ZZnY1aXjQHxpmrjCDVIMh7MjEmIPPIWwxUQDY59o6nXN09pRTTyX//Fn/7g3R/87XducHSVZzPxqQwZ3OziZ8dztzhyiwXPZr5q21A5MxaC8zAgZ9OkadSxz2lMm82wvF536zdh8/LjZroJB2c2M8+Whaf1EPNXX7148Wr6/Pt3/+n3871wmo/ec/M7wsxOkwqgYCYIeAJsYVcgEgnNg/cqxPXls8PpzQcL/+vlPIOmdQ2ClnRlApFpiU3XSArxIMkajXOG1fAeRfzsprDRnIcTVwtkQO4RFbbKaM08EbJUEC6LH3AGRhCb8W4ZnqOagTglzTGSEpFt+7A6vwwPVzQNUIVOkTeUEowJvXlqZg+buj+sus+vNFc9hYDymFchd7GS8Whf9k7mUM950NUrawLkAGpAhG+tbbzV2+31Jrrc1MsruM3pwfb6eM/fP27ufRROntQn7x+56RQMYIxDRB1o/ZoY/dXYb4bza31xrp89D7/6Or98s1YTFufExIVQz45bc2Qh+Enb1N45V4UqmCVoNoOmZFAaNF9TWptvA6b3YBu0relMhxXXE6hLwzpmJRIBUjYu52cBvO3+UAI0RdXRDJOqchXgZ6ApIGUwbyX4z5Ils1zDPChmsxyTRmXnhJ1mMMEzkpETFiYUGaJmDG8stnABfW/dDTVzhCkS0J9TXsZ+m1MygzhH4okIlnLKYPKeoVYCe8jtgFOEDAKIGSaO9W0jryjM47cd5nqkqMQgE0pGIg1JBY0YBuiEJ4/dQd/UfeQxjGmsNGYlFpAYuSHFRSt7c/KKNPbV/iwnZ8HXR4f47E1iJ0QgU9PgyghS3+4MzLisyJkIZQxA3lSRtAy3M8nvllZF5kDioCpkTGDimzUxPJr78HuMCFw5H+aTdHjkv1x7JlGiZGpSIa1Omjy9c4/nU5XGxTO1mdMruKEj7+qKpCIz6Oh9k8dsQuxInIerdlrbW4eycx7kCoQECtVRSVj8LjgHuQADTZANQHakr9fNh2npYEaMuHRto4FdUx0fh19fT7K4XdDwOFrqc9I8ZCsCXuuhHYwhDFPCYBwwbLm7GW+2yeLm6uJf/MebJ//s8njxdWi/a+MSJIBzf/h7kzt3ZvOjRb0/q6atm0ykmRgHZiEhmFmKGqONYx5GHYduuVq9ebO6uHn1Yrx8cz3Jmyf13htuzurJRhrItnKT6/XqP/w4XW4f/g+NPJKX6kTmx5aINasIOJBmYIRlsBA2oGSN5/3F7O5is+qO15tn62aZ6glU1YTFNJejyVSLd40YKUkc1NENxogoKLhRl8kqCg1kE7vry9ertOkAELVgXyQCJbEXBlgCjFR2CRLIWgbPGi13gJmKZaM8mKYYVceM7andZMSO2gnCEbQnUvAUnqlahTo2FcQiskNieE+kzM65ILWfzLKfTIynLBNyBtOS9gwk6CqEcXBuO2o3ss/b+fLmcDJ++MP28QfTg8PJ4t1QHZzkvYcqlV6forsgLLTr83b2/OvTX3yaf/UqvzjH68sU08hCdTWtvA/eV8H53TSMHLPzUlXBe3HOg5mMzUre32AGPw31bKAqgTPRFoHRHGPo0S8xbGBMVCFCQVR0GaVqQS4Ditu3u8LIMlk2aA/LVDQK5TAhAooGO8GM1AqmEuOgHbRi5YZIlKBqpBBX1gJM5Ahk44gcESPlEUOEi+iXMI96BvYYnY0OOpoZVDWNRgwyJd3ZVRQo5Hait3M8vp337fjsxXRT1nC3U00CNFtOWbPxLtwX8G5HHB0iMTk/C20T2oGv7Xb3ZppzjqPmFMR8C3cw42YKOCK17TattqnLWcN/veEoQFW9RYaKGKmlnDMRMTnL8e2/WjSnRFTS9AhGJLfnIe+UQYAawyJST3kswcvsah+6umHfYcwJTSuqOQ3O82ThmolAg4QAuWdDR64nlwwq5JhYxDsuWrXbztzIYiR52wrkIlYiy0VrQWSqMM0GGGWgCAAKOppKHhrDhkikCt2yZeMEIyVhR7MqqXKCBws0xxTTOEJZXBBfK8i0ITZ4gCYYjVQtJxhDYUPn4I3s4vz0p0/n/+T4eTw8rrAHAObdH/z3/7Q+WMh8or4hCewEjotDzEoeg0Fgls2ZsuapxsN+pZuLD69PL758/fWvX7386mxv6xZuum2OX7d71108Dm616f/qb754/eb+//2/a77/7V/Q+ECnD9ykkWymIzGDWmAGZjAZVJE5HE2PPjpcJRrO3umHn1/W/YC2DjmP5V40kBljR11HGlPc3DTDJaoGnGGEbIigyTXGrd18nm4+S10EeZIW1ZQciFK5KUxHQIEMUuxueeymDGDTBIsKgTFTEgYBUY1JQID2iL2tVhCCr6xgIFzDwTettFV2SFE1qYnlnVPM0ASdTtXPJ1jcQzUnywSHnG1cYegRKV+/jOvN0X74/btuLvH4ib//0eGj75zMHu6xOm00hzlhL28udXthfXr+av2bz5Z/8avu06dXy1G8+KoKbesdwzlfTeZOJHguSwAmKg4TFmEhz0xlQWkFb1YuAnK0cVQzIl9DHDAgRnJGVY04YHOB5KSaII9UFGsALOtO+mu/bXBKwAEpewZPgbCbLRTjEACMsB42QpJ4ZVf2H0n7dc4RPpCviQrWtqjKi51eiQRhhmYflMEJOSGv0Z8id1ClLChOIpSuECbeOUcQKw7zXUpwieLYScvKU1vsRm8XOlY2qvR2NcsKyZlNlXK0nDFGeAcnZGqBMQqbBdE6gEsnu1vokmZLScWSmFFoCQJNRICOmmMq8LOdiJxUc+m1bbcypdtAIGIWM1NLpcUmpgJZzmVcXj4ubGcfgIGUSJk9XFYfQCPBiBlxabY0HYAoBM7JzGJM0JRTqjnXtTR7FS3ukaus70CCUFHL6kg1myWzrORIlMuaoKTlQkGlAS8DDTYj2xWzip2S3XZ/e+dwQNmSE4mQZx42A5WETZEqK9RUKUvIB02veVCrODROJJqT6GkbUx5yKuLZDEowBtxOJ59vYGukN9ZfeUhd87C5+ZNfN5+crB8cfWnNd2lxHxJc+50fqlAaUwl+LNU1BGAh9rdSaUPZprJAappPMR7R/pM7R8+Pnjx//fMXTz+9vD7b7DXx/v7w6dXJ6YoXRsJ69vLp//j/Pblan/yj33/Tetb6se72U3E3mDNDNssJFLURd3Q8WR93V8vHffdq7S/HSVMFNZIdFazkmhZvbIkMCGYNqEU1BQjbCwxn9uoK3OpqS72rDLuXfeyASCKZAzRbLvZSIbJbMT0BDPiSW6FUcILeMjlnYCQjkgC3T9M9CwZkZG++JSIEJiZq90I9baqVICXVpOrNGSjmGGOe7A5vD9fA1ZbUOBETrME4wG6YtDk6+fj7qzvH2+Aaf+fO4eN7/uQRtdDlpaUr7Yfcv8qr81/87OrHvxp//KurdS+jUXCzwz3nnA8heHFeIM7VdSNCIuyEHYOZnBNmQcEF7tbgCiaDaVYjZaGsOSuIatgImWBYo39q9YzGM4QZ/Mi4EtuQeiDrOObkmH+bAFCODk2qY7Q0QrOTllwDJli6ZbwZkHfKVeuBRDDeXVvWDM1dHgdpsqsaM1KIqkHVCkFQargZpAUiakNew0/QbTF0ljpoQlZLajsQMbOq5QxwOTDAaiWp4LdxNGRFwo0iPykL3Le1DG7vjWLHUgXgK0KAbKBAVIBIggYmD+c1cBmxaslwJBBIspHc6nxQYsZUd8akHSjbbkeACgPZW61+Wf9mJiEm1ayWim6GWag8BEq7D7zbsu6Y8TvZCRssG9SUkBtYjaGHRVNhY0JCkVDHwXJWoJasGcSs3FJmVEZuQ0wGZzAp693dXpe1BPWy56JTUS34DsPtR7KEXd9WdtU77KW9/ayl/KAdMnA75qJ1BtWGQBw5BKrathEH1awGCsGlSd0PI2jMMWrMwgzKUIUS8gjtoAm6RSZoZVmIclu3o9LZxfqnXzcP3rvGwSliheQcLk7Jw1QtKUhhGUzknTkPCRAHV0a8pealgigkgZt7NB/6xTuPT17f/+GL5Teff/35Ve4upkf5l3L0YhmUTJSWNxf/87/hPNz/R39wOnk8zYs7BMACscJGJENc2ZjYpRyTMofZvFnMFpvL+62/vKzWfT9r23LPEhFQEm2j2eirUC1OUO3BV2AHYjQTyAGcQ79EXJtluAjypgOpEDxXMyVvKResdVHhAgA8gZlMySsxgYkcMwOWDOULi8ZEAq7g9kgjpDYdjYxIIJ7IsXfVpK2qtWBIubHs1YpkxzQnMZBBxxWvvkFXaWZiX4JZwR38FPsTH7rDeT27C2mP8t48TGbWv4kvntpWEarl0v7sx5d/8tPr33yzzspNPfU1TytfhQqE/bZWZhHywj4EZiaYsDCzMFhYitkDJsyA5ZxhxkwZRsVnRtLMw+Ikuv0HaPdhBGR0X8M+xvRD6AZVx/UNO0gAxpRTn0eBc070tlMEQJoL5s2IWHzg0IAZWmSApR1+e6y4HRtGHENYnNQV5ZTH3koqlkFzsoLSUjMTBEAMOgIjiJAYZmhmoJa2a7g34AgozAzmvIhw0cpBBEUwZ3qrdNk9o3hbsLHtIO27389bqSgRSI3MSMEkzuBRLZBGDB1yhpFpxfWRNGfObVGM0UnN5SJ8IUbwzgcmIUiADxQHMrAag5ikfFNMzCRGRPa2Gi1HjS9/KeIcfKFuMnPJzi7BkeUgLYdMmR9S8ZHsRA3OiInMmgXwLnEOw/ls+9lkf4VXOceOw4R80EGnnjLU0hrjBj7DarxdE1EWgQjTjtvHTI6YmIzJGAqwspoCxSdkgJnmjDyaJpBn8SAjAgOmqqkHkDlYSqbGsGEkqMPOq25MAlfDT8SZ55jSMHRwDNUdI05IKV9j+RXsDsIMXAMDUgeqkFvkC2hXIjYcWL1ojn/6zeE/fn0637uk6UP47F787NfROLq6GylFI6JJg7bVqqHJpKmDS0w8m9t0j6UGgTlaNiEWMZOK6hqzlu8+ODy8Vy9+/vrTFzcXVz86HrbjfULlfMBm1W0v/9V/zInu/rPmMpCLewdePGKJ9CAMS06GIfKg0CRs05bOFe9MN59eThl+jFZXDEBvc0eYHXEUZnYDZQUXUrIDeegUsz3Y18RpRylkIrMC6ibxNvaUesrj7vYXBxMqESMciCsuad5IZJqJCaIYCFktKytchWzwDfIIAufyPDMI5OtMSao4oXCZd0Z+peTYxpiaqUxnIrUnN0NeCzpkQ69gD2yBOSpPNs2TPd/UpELstV/b9RnWl2ev45//0v3J34xfn26IQlNPvXdlwFeFKlRB2HnPO2cvTM2k1AjCzLstaXk5M7NmNS2vOtGyWzQ1CFl0nidzQQgILXyFYNgqKSNfgLKFI2neNHNmTsMwVCEoWMhUsxY7gBGRWUpx2Nq4VfJcNTlGGV7DGngBEngBHWCxdJ5gl7NkpUwM58kHckGkAiGNRRRoaRjTOJomjTpe9nW/RJpjjBivgQAvsBGVgMqaIwElvtCBPbGQ3HJHYEasygqYEXOJhqcCLCxmw3zb0VshlpjZLutfQMQgTqNue0iP6BEjcklwFwuAq0h85cUJ3Ypqdi5zMYLnqkKU1sMrIK6ypErJFAwwkxCVQ1DNsuXbVz4REZfAsduOnfk2hIKKELp4xt9aLpSL1YZARArxwkMyRjIAYwQTshGbYx+YNSsFpyCnBsOY8iQw9xWuXqAiCnPdXuah67pOcygh6MUxhfLLG+WUU1TAQJ7KmMqiqrIRcrK0sR2p18CgnKFMli0rWVZTILGy6UB5WHc09n42LM3P2AEUMY6WlykNTv0wJq5cP4y71FOgmnkSJRjiCiBUHtUMvoYKzMhHmzykyXnT9Mo2qcN2u728GH7+avG9O6v5g9BnuP/H//Pri5th0w/dWELxfFtXbeP399qHd2fvP26/9e7kwd0NJq/d/oN6sQcS86wpMdxu4CACrvXOo1b8Cdf02S83V913jtZ/ebYIEEcL4c16u/yj/+juLIYfPLnyD2c4fhepR45Qj7hCZGimbGDAO9eEqvK99hMaboaqoH2phD2XnHhxRKLIFtfkDDnBZWixc0TEFTmP9sC1a1eNznnOFUw0DQmdFRI0e5AzEUBhGW8HniSF6Wa7zUsp2oXfSjoLp1EVeST2EF88JEQCZi+1iCMgK6lJTikjW04GhJp9K0hXpJeoF5QJMYFfgu8ACttkfcCNkJElZhpyv8H2dPvqxV/+ZPh3f9l/8drEu6aZtXVdV64OnoW99y54L55YSuokExuMbVcy70xUBpHCpC896+38hYr4tmC8EjGpAcIUGpoeY1JhnFlokM5AGfUxdTcU7vkWzBdII2JnOSjELKkiZ5gpEBkGi4QMeEYiIfgaKcEGWEa2kh6GYcQ4QgXZoNGQLWfkRMLkyvIfBsQ+5pw0RyAZzJLCKrhDCEFqxAFOEBMUyMmGS0tbSENFsFPawNsOfafQtUJ0LvXq20HVzs/3tvktN4AqtCyFzUjNsiImxAgSQr+DgjJDjEUgmShb6bSJwWy37g6C5VK0gGEOqYy1qbgBy7dCt2I/AqjoikG027P/1y054XcWJ2X1pOWLNisCBy4J1cyOioNFmVSgIDa4GinArcFSXLB8e43KfFEkE42UrkgYcBiubLzROAINUUnsZmFXKjzAdvt1U9gGJEYVVC2PhlzYbMKeuIINGFdKZGgICovlohqQMtK41dwpauQBWY06kENOGAZdr8arxKVxy4o4GrucVFWNRnUVqiPUDbCGngN7sARTcEN+ZmEP4YocsfPiqrq2Tex/9nzvw3fOZtcv5eCO++zFTe1DXU2ahspzoWpdP9x8s/7yq1f/6c9oMZ//4LsP/snfOXj30TdpWMXmxE+ZpAXy7Zu8aGIFhw9nJKLx4uunmm4eT6svlm1o3MI1YNpsrv/nP3L2o+XfqbfGPk+PIYHziCHBGBJhBhK42s0O9o+2yzeb+013cdPaRFVFGMy0m6wQoMgppu0gMAghK/oN+pfYfIXmEfyE6jk5JyDLSc1nTZxJ2RF5MHaeGpZisnx7AhrhFsHBu5uNbKdmJ4IxzAMBJRmeBTnv2jEKIAq+EmazkvVpypyNNAMgH4RkgmS2fQkdySoYgWoYUd5Y3oh3KZwwTzTz2K/d6uqXP7v4F//m5jfPbZt5bz4Pwc2nbVU5EQ7Oee9ZityUAVLVt00TgTTl0oOUx4d2IkdCYfDBdjK7WzIOQDlrTin2Wx0uRR9AWtR7FPaNjkwJbkL1GfoLWpm4N2QJGpGjadS0BQlxRSzEwXImMRYFlf3jFpmBDYoV00ZYjajYLpF6M9MM1WSImlyOyUzKdpicCIvz3jpKZqDRlEg8hiXWzxBmIEMT4OQWv2lAA7qN0adbOd/uYNGStyXY5QyV6RvvrkzZ/tntogaAMeH25i7KPYMaJYUq1EOLoVsAByVYRlqb9jEjq2bVpOZUoaqWgZyUTEHaQwekBESMa/QDJWXcuja1iP3LPhe35jj6P0mgb89o2r3JpCJGOQeheScQtN/+9ktJC1Y4hlQQARHCBn4Cd/P2lC5LIhJmzxQaVHuoJvANqg7usqyiSqt9q6G3W0wVimxblSwPVl51EJC/HfcxkRoYHEyzpS3ZQJqIhFjAICNnvaVB0aoxrDYWiyZl90gxseYxqkM2SM7IO26cJg+rDUbWA4Ks0AvwBJmhCYkQRx3WqY/CJAJX+aj9r57nr7+p9u596fYO3Z3jw/8/XX/WbFtynAlin7tHxBr23me68705IyfMIEAAJItTWzXLrNpak/Wb/pie9CSTZK22LrGqqGqyVGwOwkwQIIhMJJDzcKcznz2vtSLCXQ+x9skLqnSRBkvgJnD3WTuWh/vn38Didm4eRMUZJJlpTjFuu7hcrL/34/ff+WD/T779/L/946fT2xsKX6R2APxv3UssBvDBrfbuqzKsVlcnbx4uPpo3YKrayQEHITk5Pv+7Xz946f7xnTCDO6S8tnRBSLD9AhyQsHlP08Pp0fnsqL7X9R+s+qytGRcWKJNQLhgz8oDUaTUkDAa7wPYcwwJpGGku2tsw6IAULZMCGfAkVTkfJZ6YxsA1GZMfQVp2heOB0x09VUdCbs7QDtaDW1AFcUgbaCxJPiCCgKhchgpkdmWeVaLeQERbVM/DzTDAaCBkUAM7NwKqrxqJkyZmcnxlm7O//5tP/tP3rz55YqGqjvbCdG+vrUJTiQ8uBE9G4oqMlEdUfYymHX0zSvgUMVmhnyjYMsbfFiYbR6gCsGlWjVBFBlL5MQdsNqPtuGN4D43kZ+QeIXbERuyIi3W3ElXkhH1VnFzjsBUj9gCV6lqoGwIjRAcaYBFDh2QgmHU5ZVUYZZhCk8ZsDGYHuHHxNSrTWMQgPYYFVgHVFpRRtbAKCTCGKrwQA5pRrh3YeHMBu/3o+O9E47p37LT+azWm5LKbFZ/+LOVFLlmDcLB0TSiERmS1vkdKQ86xVFhV08JAVAL6RMMAS0vkFVMRvUTiXO4l1fJN8LW67bd/0X/t7+n61QOzlQ6QDBox3nX4vKckAxGkIt+aA1IkZOSIEkBB14+gpEsx+QYhwDfkK6r2yM2gDC2S3HJZGAqVdLxUjaBMYjyurIhEhK1QyiCajQAWz0JGHdRgnslyThqHPCQdtgw2sGok9OCMXIEN4slXzjvETtEBnpiQO2QjmOZM4qneg1fkNdSQBDoHTyE1FIibvIm5y2JZKDFzW9eLbffLzyZvvn4yW564w8N9Ngio2NHRWB80pzQMKWrOse+6eHm++A//5b1Hpy/8H/744pUv/jzdeJMnMmonwERw7A1mztm9F71tbsw39OjqC7PZ+4tKaw4OVcOHmX/9wad/Obn9v81v7WMtkyngoQtoAmpk2AAwqQX19cHtm/3q+MCtH29bRyTjrp8tFxNcypGzRmwXmMxAGeLR3IVrYQNS0m6dB02qJGWGdQzPAEiNWLMhRxiMWF1FKNo4+txnw7Rk6VoeS4xmaFLEhfWZ8gEsAhGqYAErEInImIxG4R3DnGMGW/IkLikrHKQlL7AO1kIVBHQD+ILcHXachqDd8uLRJ3/1nxd/+ePLrP7wxn5Th6Z2e9Opr0LlOJsF5xgwYRBMkce2xWCl3QATqSYwk3Jp0lkK3FS2nKZGhZ1vZqapgAzC5IOEtqHZAWiD9RXqBhWRNsSHYLY82LDRfGVJICXxS5mdNA2JJ/ZmpmkgF5w5cWrWp26h6SVGBQngDppAFTSBO4QK63VeXaSu18RwkSwTSkoVTGEJmc3Uck5mBTUGoHAV2inAtukobVApMqMi6IDcwfKoIiqm6lAq0lqCGeXykHa90W7MHKlB9EyhKVlaWpBkEBN5R6EiqWv4sNMX2Wikq0qaTYWIc+HdsDhhGQdhRzwMibYDp2GgnFzjQY6cSK1SWZFPZFVR1eKNODr3jnPydUW0Zyvg9fZJIyBgKbbq5QOhUGd31zmpWcw2bC2uwB7s4QIFNskZalaSssHEJIXmqYgXsAStYRvQFqbQshcSoqK6KZT4cThikLKmTFa2O0wghpZmkEgUZsW9TNnnwWlORRUjpiAEkUoi8pDVIBm0R6FSDOYOqLpfTzfBnXLaWAwqkwxv6FR1u47DevDrS5pMwQGUAUPOlnuDp9xZXmvcmnmYsrm6YoHvhvnbj+l3P6KvTD90+21FwiWQFyArjtFmsFDXSTUPQ12FPjhZrIZf/uozb/f+j9PtRB+yewF1TRmFUSFmICGAJ1M89/L++clquX7xYP5oPl13UntUwSUXAra//DS9eiP83u1jtEe0d0P7OXcd8hpUQVpwAAK3+83kimu92XQfX8TBO3HMxFZSL6EFpWNzTAAyLIBr5Ix0DmwsJqQr4p4dkWUiJvLF8quoyJkA9jTeIwMM7OrCziEUqhUTyIhS6kYIWRWIoAyZABm5hw7wFYKAFLkHEueeOWVuYGbGNnTmnZkFoT7nIUfKUXGfpR/fZGb4Q8gGbJbI4qp7+uR//PdnP3qrM7e/P6lmk2pSuyoEH6pQBSYqV6yZUoKO3s6QYngoxOTKf+PK3CtlzOfRkxnlh4JpzsWTGZSJQGUtDh+kmYiZwhnYQQTBFyc+IgMUyuxG7iRYjD3I2DtiRySqhbIrRFrqUMpGAlCGeaACC1IGCK6GAehZ16QDLBSXMMtMzhPJqKI3JUeso3osbSmvBTYYEZJZU5EvatDi/5h4SJbElFRzTmUPW6wJCveHoGamoz0x02jIb2yjkuvZRpCMxDvkrCwsLJwT2dgtiBNEK7AeFDA2TTmbki9aaGFiduKcGcRb8GE5bLJRv82BOVktaW0sOVomFoWakinAahAal1eGXV3OI45ZJlUev+QSzbob6nOiXSNrNAZSKrMwZ2PKabtNNiy1WzMC4DVupdp2qkSSC3fZiJmWvZlZjLkauqwJW6I475cnUDCbmqhRkWFI8VjakbkJmQwiyjlrSmYZCrMhU2DLlDujKjFYE9JG+42ZVaEyHzKMdEMkmQgAU2dFm2+ZWawO5CfivJGSdh5bUjN1BCM1L5VktgxsrlB0bEoYNtj+CtOvWIKtTzVGGJHz5JhdVRE1wV+uu/cezV65e+naphp5m0bPoiDMRAhmVqVc9cF5J6GbL9a/eO/s/j8c/G+m57S/j6pBgVALT4W44EFoDusHL9xYLVN/fu88vb9MZpUXaRqOsV/NL3/wwa0vvLS4PTnNfuLqryZaeUpQAxOcsHiXlNaLyWRz2Ca6yDln0xLtcw1lGaAMLqpexIi8QYpIhKSgQLRPvCBLBhhGpVGBvkaqPUPBRGxZRy5VmQ0xbggAmAmBiYTIWJjFgxsiD+vBChJUFXyAAZEtQ4dlGvpkrYiQiLFAs+pApJstLU67tDnmGzfJV8AePMMBgeHuwxLNT/L86Wdvn//6Nxvl5uhgtjeppm1dVb7k+clIP2XTbCDVDCjBMXtmU9KRlTeiNDTOIexYuISNFpy7bBlMCbDCiCakEX4XuBAJGTxFJWXHhWyAA1qQgWbiWtAZYGAhqdgRkSvyAyZAeKTbEUgtDd42CXGLqvg7V2OsNRx0CxJYIBLnKw0tSTBiJkfkwCWDpNQRJkkgGqLmPlr/KXUgvonmJoU9MOCvsFlRf2LDlcVoWUopyDklBo34QNnlEoNtTLUvXOOMAgqPuP51D0hmakKqWbNqyqTZcrbUIW53i4NcsESCM4oFxouZE3mhcWFAZiwkRIPyumfuO7asyDAFs2UYTDRp1pxNxg0WqWpRneyoLdgZrpadRdlzjPK3cb636xF/F1pd+P0EArwQe4d6Sr5VBadBV9u85u2yUhu9tMo3uM3ICtOoVhMDwwbbLfrkHdqJXCoTgTSbUir2v7th3EhA5oiNXGavOeUUjQNZSN2cdeWCEdVgyjbLwkiLFDvoVtWDWvjOOCNK2or1yojKoGLcSYk5JqqVxcQLw4mwI3bwrbmpYHYDrkVcIi6QDbmC7tvmMXdneXseI6VIMC78WEcWQsXr1a8et1967nK8psoro7ZTNo0DgRGRc45gQBU8Ieti033v56s/eG24O5vS9KYFDyqPPAIGK2atnPdvT25e7K+unn/Sf3hVZXMeXFVuMplstxfvP1789Nf2Z/tzaddoDil4IMAiyOA8PGEWZNlOZzSrsrMh52Cm48LieoQpfpBSgVvoHHEDHXZ4zkiVAmM0+xsZqqUZEjMzSzunph2eYuOmmcoiD2QK4qG83t6BgyEUB54a0oAM4gCBZqQN+hNAY+RBRbwwE3ufUw8oQ5cbWlxUeWncXVrsDImqliZfgEjxobI+03bDuWvbytzerK5m07quG+ccUZlryrpm3NqgmNEjs5KaOgnFnr4k9+YYqXAVHAyueLOVURAEppFcPqbrkDGDiv8OGTjDMcIBDMUIFjQtgDSchzTXh57Fsx/d9EwzTK+/n9J65aimQEzQDsGBFaJIEcMGaY3ckxOpfAlfh/PkhKUMdNcSU2IilmIBYnFNNl/CfQx3RcMczRTuBuAQK0vOwDtbnzK8luusGN6Xk2GjbBbj4mG3AqVxxH6mBxxJ0waoZk0CBakhI/fGZQFSNg9kzKoZWXNK656Ny+clK6IvGLEpyfmGddulbmAXiKQMXJ7Im8GoWEOAoWZZjY0gJSynHHcbLdNHSneZVZiYs+ozKOazKOFuBAaCIAQmIqgaHKIi9ilqFzEYiZThFkTIRtuekSLYsdSZNxotboeUdipjKBdNDTNUaSRwM4Gz5gwqZlJMnEGajFLH1hs5AwhsFIwjmMBBi9yVBst9GjpS0+jSptehF00khMyIyfIma5cziJxSZRJAgWCEgSWxGDlF1YAB6wEgeBCh+40Np9Aqdt3Qw7KV20WEQpCDRj49Wf360bQ4pMKKW5TtNjwoWs9ivM3Mrg6ahOsmAbicD//8Id+4fRxuvYhwUM4KuC4UViCDSKW2ar9uw43JokG/SkGIiaWuq+lsNt90P35v9rUXl8/f3CZbVxJgQHAlIESjahSW2tVV2/SBcpdKCLfwDtQtfvFWYMvhAsM5YmH6D/AtUrbYWVSYG4OTyYiZ2IkwM5sZzBvYVBWJzJigZoQMZIM34xFIFzEWLhVQbCz0paZwhBDYQ+riZu+aadR1l6UuBpxiMGIWJ7QcuIOSG4oDiepSsoBmYA/dwACkvuuQ0rSqVULdVi4E51hYS/kz3gFCxCDzbtwJlUgOYSUiI840Nk9UwPCyIszlsh49OM3MNJtZwTpVtTiU5gxNBkvQDnGN2IN7UALtjw5UAFGkEmQ6qssUSsVf8Jl1AhUHXqKIoUe3QQBCPf4DSREFmEHWHPbAm5w1jzNUubcYxSRaYTmXhpZZHMPEQEfAPWRvvQcZ+QGOUFXgW3R5SrIum/xCj6NiKjxWP9qdz9IoPeuwQs/8++6/YlIwC0M4g+uafesoVEasalxSxjAACaY2RBpijHG5LS72zHL9B4NgwjhZ+m47TIY1cgARaS+IVaDGkWM2YhCESwAtX69yYSMCWuwCyv2+I2oTFaeY6wXeWNOv2TKqpjCtnPmKESoWAhO6IfeLbrNcboZeZ3s7U0QmzkrnC05dDOwhNbmKnCdY7EFqlqOpAIHZsXi1ZLTj5DBpLgyyTABMHWVNnaZt5SRTlclT4f1pCqTsHZjQJ3ADqhwCxYErkdqQGduEkJCI+m3eLLaLXl0jVDM7aNQ8mG5hRVEYgABl8AQNYBHDivoJbT1isphsQxal1IpChHCUGscxLd89vuPIwCP6BTAKyFTWUeXAlIMMZjbzVVAz2eRff6rfeXPuuyVNZuYqIAF4tgJyXdvezIW9qrm6UfdXm5aCJyYhrqsqJj1d5Z9/VD148CGmtR0cEBPUwQiWKBm7QM2M2/2q3dQybHJtqmRWLkHVrKqakYeY+04aDwjEgxJ0hrqFAtsN5Aq2IVUmZWJ2jr3PI7zCxJ5QwlWYLLMQDMhk42RdjlM2HqN/uEgGNQIbUAU0sAA6BNcQDwtwT3KSvqeoNhnz3aEsJOwFCW6TXBok0JSaO4h3kT+z7j3iewXYJBtytwouz1pe91S3dXCj1zp0N8JeK9EJoFyo9UQAvOVkxKNTX3lvUZA7KNIO5coY195muzFYFamE9appzLFTdJ2tljQhqIIcqIatoBtoDe1NBawwVVVNWZ0Sw3LWrKVQ2WhVYszkKiFXxNSGaNAM7caQjWqKJeL6YlgvoTVJhvaWFFW9m+DECCDOWbX8aIAlsuRJvSGbrdhN4eK47h2yZbOs0JLEtIM2sFsI2NicGgBTQIvL126+tH9RAbOpWc5mWSkpNbWFxpGvDQU56UAeIrAIzchby7E3rLIn573zxfMUQGbuIbXLl121XnQHy2PUQZoWUnHVVNNc10opj0oVlrIxGAsyjdM2CEzjzMll1VPKjGohIdOu+93tf3E92quakLIjBZsmsmTbk+3ZyfzpML8Y4T+UZ8FQ1fOFxQ4gUWWNpt6zF8uJETVFzSErcla2ZPT5zERELGzIu2dcUmDYtMqWzQzC2dRyIgg5L5UIYDmRBIhINCITp94La7b1BVIFNeqXebFenKVIwqGSqnac0WejbBY1kSZlA2gACOxBFdwEsqXlAZAsqwj7mp1W4kJpCJgYQgeT5tPzzuXrW4OvX6CRW0bjEFCaCweyaVVl1brqjs/idoH9oSeAUkah0dnuUiVjRzqpXVNPZjILEatsxk4EgK+rWnmz2r71sPlXp8c3js5sOqVQcpQYrqXKEbOlyL52U994ypnKBIIR1B5TYWg01mkQKsQexOTV/AGRxyRTOIPMi/uYiJB4uh5zCoGqsOGKLIKZjITFjG2UhaiplSKWFAwtLEBQBjKkMVWLGzZVbi0qUrXd4mI5bmONQGRMIi6I9Jlt22OzWrXd41zdIs1GR6RT6BY2AH3OV2xbizQt/j85U1nzgJUIZjye8ZGgo8W3grJpNs1GECmMbSpsBFgyI2GFqiEIKUApR+fc9dS0w46oxA+kwfpLI4Cm+2imMA8JGC6gC5Op5RXSJYZOk4HIuYpEYJbTMH4bNPYpRMSUweZcxW2NdoIIdB3SAERoj6qFduivhuUqbjNAzFyclElBlIkL/ErlZIKSKuAoVJ7CDNISVuAZSUPVFNIgZegpUjca+xasYFQFlY9WMA5QsTzKxX16bLSu16vXamFQWS9YTpkQk9HUwzvNICnzQnE3IAI8mOFcMusHd9EnYRZxTpx3DuxSNPbqhv5qqJYXcXu5nU2P4W4QealviKS6XuvCctYyqhRk0UodKXrQXUOoagQwabET3AGE42J/PCCqoyAFbCAYpQyk2K8Ii4ea571NqqHvVt3VU1osiCfCVC5sE5aqChedW/fxkDUT6zBYl4Rpb18mFXhgQ9l+W9bIZOQcUaARQ9AdMZ8NZDmGxnOIue+YHTsPIljFTE64JCi49lBN09CbwkhqUUutVbVN9tgMmtVgcKmnfrC2EnaOmZFUU59SJsukA8WtVS2xlM8AZgTG9AGlFc8+4XZLlWGTYSrsmEnEhxZThNPF2tkz1CMiCI9vL4oHa5mMqVDBiVl9TCH4Pm37Plq/oRStiNJiLM7/0ARkENgiO/bBCUXTmHP0JuTEeRcqCpvV6Tx++qQ9eG7r4NAcoHCsoJSTxS10jWGJ3FMKKGpOzUYELd+0gY28UQCMjDLyFlohLq1NgLftuXVby4QSwyglLr0XeIJTFTU1DBhBz7IXHYuhjU2XGDMx2EGNHJEpWbelWhGkuPQADE3QDsOKUt9t08MLInaOWYhUzbIylJmcw+PVrLu67De1m90AVoBRF80WQAY5zVTVMOZKI+/mJ4OSlcQqUyty1aJ1MLNEhCLkMDJ2nlmIxbIWy1HHTCDNOZtKCL1mhjiSDKeIMkKC4zhlIzkaOQF1jeChGTEhKKUBeWODIPWI58hPRbw477w3cM4KAjOzSLGEyWlIMSFlVWM2uAbVHihBI4SABmkN7Wx5YcuTvBri2nRQVAYGhJW0DGRF6SoCqFLODJOKww2hoyPs30HnKXvURxYjVlfEBBNqPDUengGBsYHG/A2GEbgogstzZZhxJle4IyNzcEc2GTvpEgGgZppzznuVhErIVyxBLYFCAcRACjjKMvT5+GF3sfb+oOQ8qUGJwGLOmSeeJzpe0oNNTylZFy1nokiWQzDWQtjmYgyMHTA5XlDYQRqmwA4P4ZJmY6MeeISIqWjkzEYgC2xqyjHnPjBHeHCOsJQg65VdkPfelUQPM3NOnEsLbWEd+kQ+OT2hakqHzWwhU04KMhZiLl2SFYWuRRr7/OI1PC7bQCbiiUFmLF6JbWQOjo8UIBIv0KzEgZQwa9RPptYemt+DrpCSbs7SerHcYEi5saSqxmRKwkycxSlXxiyGHogjSdkSSGjvRbR33Oof8fFbpomKjNkH7ymTCYWoqe4Gd13+bFyIgqhwfcaNWcFeAXPMGeSdEDlvyYaO+owhIoj1mQrLYWzDGYkoB5I21L4J0RQpQxVOTSiLsyZg0aUPjv0b274yhSOoYdMh9UijwS2DYNA86qWgNi75AVNL0fI2YTtY6LF9jP4cfgIdsGpgbIvHaTnXbSYJJK4MOzby/tRssBG2l91NXuiNBmhZsRWWWMpqIEYOSLAAyhY3RAEVoZ5QXhoMqad+Tt1yNV+dXBF5YSGm0YcJmonMU360roYud4MeONcn8dIhbVF40dQy9QoLVWpr7zcozk028rczNKuOGP5Ocsrlbio+5MXgvXxTBHPImo0YECFUqqQc1CzHaIm8H/lm4/dOBBKASeAagS88TUXcjsslZmw+gWYwUWi970WkNP4GFefKtU8jSEvi4HxgziPtNhuIIR6s0LUpoBN0gw3ROJkzExgwwi5qAJmg+BFpUktmKY838s7UAArkwS5OiAyVw2SC1MLqUa0xlrJizT/uUEuChmpZjMtOJIOdE4xds2GuW0IWJtUEZ7lrqWOZspCRgpVsBSK4CUllOVNOOaWHj4eNNnteyuplJ6AAC3nnYpceb2df2WwyTTg06DNShCZfLE+Zx5dOBJavJ1kb18CfLzvAxYx+LIDl2X3+u4U4Wy7NrJqMUqpnGqZe+ZBz69NZnF9Zl/our1zVMhEXFWEWAlNaxFp1a5HBHtOXzRw2yu68bVQvdx4M0J37IIFGnUgZz4lglj7/PDba2EgBXi2aRi0WxCQkBHIkTGJGQ+Phg7Ko6mBMRBkpxj5ebKE70hLgyKkLU3GbnFWtNgswARJAoBqAkWq/5ZAVfeqipWugj0erSYM4ayv3TAW87v8L3kS7jtxQ2PElStFUu6T32uzZkQ9GsJRtu5W8BQc4D5FdJLaXpmn32v22x2iXEY2JNQtx5QN38b0T7tdrzM/NGWlC6hEmqNqikJOaWDRnaI45q+WRxDt+3wpEoOvhHwNA/RzqKVKCzqGAIxNTR8TXpc3MLOfOkGhUkwuxfd4FlkJAPPbFZfPKGi2JoRElDkDxSQe6UxIyU2NHMKROc3r46XLe+eqQR6EZizCnmEXEU1z1/nQ9udXN0a2dtIyaJKGspClx2LBQ8La3Z1VvKULDDvgpPvSjhzrUDKMfrJkZC49XlqLYLpXE7AiqnWTw+fnqxTCfNdY0RtPmw8W+mTPsdPREJIXUzeJIAhkcpR4akRPSFpIhLegAmsy2xB1kW8qwsDkpT5hshIuFiJ0ncJfNVufrw/Mn1Z0z+AZkGBbWXWBYAMDQYdhSL9QVGJlKdAxDyhtcPO7NDOzghIhJgeTRK1KEn1DjQYQ4FK4MBkXCsxsBJgiUr5E+UGkfUPZ7BC4A21hrWDE2WQVgYC9EBRBRok2QlMkhD3l1BRskrWERzXNW3UIekPvtNj5eVVQ3xJ5FsCtSxBLE99J7zp+s2our/sYmYVKR89LsVZOrthkazqsdU9HKjfx53SMlY0bxki0VBbtQG+yq+DOT/HhMSkSiqpLF2YT2bk2tuaPBs5BVXsN6rp36iYwGZwCRCDeVn2/xeKH3YnIy5RszSkTb2Ox1Nw6ye5xR8msdyLE4KUlIsGdFN3RdRsoJY++YxAylHTRICb5GmbBAxTEoGlweNpcbvzglaqwKZkL1LWvnV6lnF0REWMSJmhRDo80i9xcLXp+wu00ugwawgSrAzAOUOPhwUEkz0Gp32lmYDUbB07QJn1fAwoC6ZqPDPr9OyiPOOWtKOWo3pOcfxMnNOzi8gzCDGaoMLeNGISApKUOjIRoyFZJGgWQzweB0YKSa49M5zc/t8PKJrwW+AVeopqhn1g2UwK4BKh1itqQ2GjCOEzCTC8wN0Aj8IRwjD4jHiD3lBKosk2WyqFAh2+HcpgYwORorSsE7ryn3pRek670DRs/KxJYal1m22H5sPEAjhhpiJoxQA5S3i+366v3PbEDYI4AkODEFiQmTC1VdVd0mf7CefTlfDP25P3iQc3SjW1QNCLna3MyFrhWrkHrNhdVPRCAHAopfyKhZ4WvmHayM5LFsRZiIHEewIzDRYhOvzk6/euf8tVsymbqLtfzqLHFwXnYcBtj4xdHooYe+R58hLZCQFkgRfAbehyX0imRcsnvKPy+7a2l3j6qa5qxZNeZ+k3W7tm5OuQcThi3gIPvwLVqibvB7V34PXLvsHFhIhISZsGs0mLwjK9G7xEwIigqYONIGEmADicASuEZFVDEFe2bHa5+vBHawLo8BoQozvi6Wu/Fld/mh1MpCJcwGQWqrSELISZMRE6p9xAxjxKVtl3m+PH+yOunqunGOnPOjDzmRMaHyfullEvi8c0/m/MK69zdBledmz/umceva2UpzMXA1yiTX/TkK7FaI7WNqHF13LGPl+hzJMtpNb+UqIDMTzbPaTff34A+kRtqYYb3ZyJM1OfY+eB9EgsAcK9qGLterj59Ov3J17u6+mOUOuVpnHdqTSk5qVkspm5E4cW50Wx9LB4qFCUxKjR7reAnhZs4paUEJXUXXT564XOlmFoccKFrk3JPkjG7A0Nm661bD5ZpZhEeliYBLfCj1Sx0uh6ZLmBGswQ4/IBvIeRt6kqY53Av+BJZNi+a60I4lxazOu2u44boOlAdH4+kxobEbckTbIaeUWbcv38Pk9h2a3UKYAkoh7CJNiwJX0zqzdanvNqtuscoxJdZoWphniUjZsqc879KjJ3z/zpm//4LVh2QKqpANMVu/zX02zdGKwaOVAQ+AjZazxOwQDunovm0vkLYwhpuhfwopOgcuj8MAIk9cEbMvHkIovrwyDpVEUIOU7yyPsKBZNphhGNIkUHDCXEH3sOnRn4BaVHUmcJdULc+PLz598tFJieGkwOTIMmAxsQ2euW4b360+PKuWl5W7sZGj2qgCIpAtKywZ7XO18tVFXdkUwzJrkzOKCIGFANNkZlToScRWohc0qaZiL2JW6jqB2ECUc0xmKYl2Dx64F79+Ny42P/jAltt4IMGIIIUwYlrkTWVn4Gq4AN9AWrg1WKB7yB61R7yEruKwgl4LIsmIC7EQ42rZwMVxCsyCzLCizY5gD+dIauu2IKN2isltP7sI7TkzZaNdAcfubx1Axl5H5yUygvFAIYOT6RaxI/ZwHiRQoFvrNg5rS7H09WRERqRUisKImBX6r43L4eIoMbqocRH+PNPEmFLOGofYIE8cO7dH0rIwcQ2wOkHqKW9ssdicLT/+pFvF/b2ZVJ5dCUwHAcWZUZ2T2vvT3j5euK9dzdvbndQtNzM/Db6hqQzno42Qd9cO/rSr4ZZL8jNhVPAaMLoXsvCo5Bo/sytpmUW6kXPOFkLevwl34wB1ZejRD8N6fnmZHnfBB/Hei/MsnoiCWc5WOXr/pN1cHDerY5lWpIGw9C5XbZj6fGlKpk6YRMaI2dEAtUBno7IROw4m8SiRA+1utbJ73s1zNjIgLadUU08049AgdxRdWs91eXz+8Gy+Hp12yyHDOIBDxChl6xVdDymYfQJ6M7PEiCvLS6ZxZ6WGrDkm04xcSqFz7vq+NNLrRfp4AIpWYvdNJsW08qenq5cm6zu3fNifwvFI1h23UQQIlKCKvKTtpfWX/XLz8WkXY6hNi1klkQIirkDn9PBCvrHNBpAjuBZ1jSEhR0tr7ZNlG8wBUm4JypFzJ2mJ7AkEV6PeQ1LEHgTAI2W4PXBiSmzKNi75CxNQnC9IQlYzG+NAx0WhZVIDBx05CAYz5KQxDcNwq4pVMJYBIaC9B2l3R1TQr/PmMs7PPvuom6dJaExYA8UhwntWzQx1lj2sCXK2pE9Oq7uvdgqRSYu4shgR59De/L5M22ZPpkfx8CR+2lnWrCYjnRcF3deR80xkYwoXjUrmkfWx63mIjSiluNn2z92gL333pemtvV/95qMPHg95pilFYhMBIOUYCjGJOA83mVB7iPoA7DDaCzC8gwIhEUt3vt5uXE4xx2iV18xuNPcsHBvoMCClHAeYpo1qt0ZcIExADchZTMXMynw0Yq4qV7E4TizsnAsByLsjyQQpTF0WJiZkSj3ZEGm7gnpwIGRENe2hHtshrbbdMvbDaJqiaqYjurczw4GZlpQ7sBTaV9kqlM8Phu1OKZkWD9MY01GdQgNXKdPAzkDZsgINOGh32s9Pnj65fOeJKAuTeFdQkKIqJoMptHZOnTnePNkczlePDvoV2z5XoWrZN7znIqecc1YyL2OxGOm5ds1Q272ptGuSSWFkY7x1uevBxFmNbfRt7Ac9rHS/yXD7HMyiCpLF7cNTXVk9cSLlIoQJIzhsSZvAxyt6dIL98xNpWjT7nFVylpr2q3iZCICqakqwXQbmWPJ2f1+6uoKuso3Y6+hdXaijI+UJZX2mmnMiVT9kS84JNBto0G5FuX9yrButGiEnXOzsSJXFgSjUInWAMfoBSAgO3sM504H6NachD9Btr8riAosncqqZjE1NCPAlg+u65I0bwd1f5XfKshDGsCHGbnX5tdtp/+iQpvskAEVQBPWgDCTogLxF3kgdsjL7g+WmebKqWLJAUeyFrIJ55wN8RUwXa4k9sJ6jW1nJjY0dciaweDKjVGBSogyoZss9ITFUqHgI9cgbWA9NsAgxOBBRMUzHYOPCroisxgAbG0G/kQLmbBcDDAKorNgy8oDU55yHqHvUNwEIU6oC+Zp8S2EP1T75irDE/Mlw2T18Iiq1803wgYTNkHMCZXYiQmLRC2I//OLhZHvW6+UjGgYbBvRr5AHiWRxVE2qrprFJyB7Fnbo0sQqMWlOUXbXmsYITM7MwPRPTBRDIMiEP2/7J+er3v9xOX3jONhfvPewXhdc6sgjNVHPWlHNOqaC8pgmxR94CCWxARF4jx6JOMNQK6dc5p9G2nsYPqUWiQ1SgO9vx1mG9YfMEcQlbYHuC5TniAnGJ+RMsTtJqHfuseg3HMRVbUxZmxyW/t4xa5fruErawjq3P1q9t2FrsEQfEAakzKLhEgJRibKVJKRM0szAzjbmpAhawY/HsSv5qYRcTERuQtYine6jGGA/b2Bx4aQM4AC3gkinr0rCx7qRfnn702ebTOYe6CsLeCV/H41o2TUbwwYXKe9GLzn18NonLpWqfnPh2sjd1B3sWKOnYnxZOCfH47QqxI5byHpaq8gy3UXfQ0zjB5fSMTz3Rukv3pqluWueCKijlruu26/TBUxNUEsYkvjGrXbgOjphySr95PEnzFeVMoYKv4NU1cb9OnkRh0ZBVYeUc7sQ1eIZaMjbdpqa5wCKfLxoKmq1qI5SpZkM00cjZkBXrh7a5QL8J3bK/2jw8xUAi3otzxLJbkxeAwMCOvIMIoqHrEbsSw0JOAMrD0G9jSna95SWMisViKut+C0B9Bk8AtKRWE0QVWa0f9Defnnxtb/Py83n24B72DsY1JcsYsgYFKVhBGZteLdMQ3/mwP12jmtTMASV/XLwahJx4bkK+XOuwgaKSZl9VsV0RzAgER94PQ1grwTkzZLUIJAuDTZVAbmAk9Cs4gtSwCrYm7jULUMEfStu7Jo1LYIzBh2rXvm+lKcg7+FYxcsOTGTQn5JjTMHT9MAw395I7cGl2r2rugbzpQIhg2KDUb7Duz57qowvynn1doZpkYVdKQMqAssE7JkeVi79+aO+9n96sPlBKHPYAgczgxDCAGOo9YRJSTcmyQol3QHVGYcaxZYVBSGw3hBgsFRncGNQLJUl53fVoZPjilw9cCKeP5h+few21Fyfee++lAOpZLZumrMk0WdqssHqCpkKzB+fBlYlHBrZXdvkkHV/0JykNuwMkEIFqcVco5/1aZivQlHpTFeSMbgNLgAc3qGvAYdgidt1isZnHNGTzSXM2TVyEhuOLskv0KOZRWvpCAXnAgGLPxxCGE8D7Vuo9DpXjuNts7XqPceFf+pAR7ytYPO2OBzMLDMUZWhUEizFqTP12uH0nzg5nvHfX6iniinIGtVbntFgIhdWKf/lQOgq3J65wS3hc2Vvhr4LJkbigddXMN8v3Tg++eLZ47t6l7j3wk8PJ3uMbR+lgEU+Lt+44J+3wPSKCK/TG8efZkc/ZORY3inNGi3/LMTpwVhDbkJBSfOFI66MjaloyoqHrLy8/+KB/smZXh+JoXQY4BRtQ+8pXje+XH11Ml6uLSd+RJXPM4mrhWZNklbKxmVTMuZjCXe+tx3+NM7numAnP7GqeQSxhZhnE5bsdcm4xBGJfE+IJEsj6vDh+/GjxaCnsQgiVC4XVDCsRFzsmPtiQM2oH8egSujU5teywzbY5j8Na4c12bSfLqIAjx8zu88b1t8ofRmJc6RNUN9u0Wm5v0/zrL+uDL9/mOw8oTJEVMHg/cqHHMYOQybql9Kv337/42QfDVl0rIgKWInQPZiA4Zm09zTts+6jrpXSrca8fJnBC5NSs26RugOfImTjBxGeEqKqFKJJ725ybGMpWIy2ALXpnFtAnDEqxcGBKa2BgQ7ZxvYBr8KQAFgwImUHTbmcyhpdTHg73Ud8kN21ghrhAf2n5BLxFcrZaWs6Pn+rxKvgZVUKlAWAmgLJFgIgceakJSXGxij/6eO/BneXRdIGbt+EElpB70JqampvKVzRrtOZ+NVTaVGZlSjFoppHywlZCB8l2rwi54IhYymRnZsiabNX3X76vhy/cYF08PEmnS3GBvadQOef9yJ8GiJmF2RGULJrFDW0voBuEGhQAQkq4uEQ/B4sOHjmTK6/NNamGr5cJxJ4csXBBXsACdwCqkQnSAgFKMIE5y5o3miOTcbmRQWNV31X2UaYwEoOp0GQiUQeuIFNYLCQeMCMze3KBvBtj07iIgwFAx1So693B+MLSzttx7P/LaomZASJNCiD3sOFoinb/iJsDcxXSAMlOjCAUbbiMb/0mf7KQpqmdcPBsZQUy9im0G6OYWCd1td2uP7nkD5/ynbvn3N7gehKa0LbdAedL0pzMhGx8X7Fb0tLOrugZmuC4BLYdrUcLaFi2WQlE4E2Xa+pv7XN788gOJhgy8tAtN7/8MA0ymdXOV84HJ+KBQmGEEtqqynV/vOQPnza3X1kzCPt33a3lZG1Hs4v6vI9GZlQMIomeKXO4/trKW7bz6bbSrdmud9s1sFZaL1JDSrZHQ904bgE1kl4XDzcn6w/eH66GPT8NznvnPLGDZSuXVuGJlayCrDCG1HAGTRh6DAM2K/SZwOBdlGsZKYxH0PyZHtAK4QIjOQSAMy2+QhqHtFnMdX78b17fvPH125NXv6H7d4UdxtxSgyYT0miWlHWw2GGxXH5y/Jd/8+TDE+wf1JWvnAQRR8RZM0jMMmkPi+uBLrb0/ObCuiVN90wacy04AqQaV10coobgRJVNGG40siezZGnV+/kJW0TtQAGZjPZBm6Ku0z7HLVvSYudr5pBzKbJmRmVdsHswYJTpB5pHdByc4Ui4snzYSl1PBB5MsHPoZ9DW9C4ypQ7buPj0kubmD5gdqycl8EhsZcnKRJ4dWtG+6xunv3rS/s6T5f7RGged1E3WyNppNpFW6qmvZVLZzPqFppTVOdUxt3THXCxhIMNQxM7CjkRKboMZkcWsMfd9zKzd4rtfVJnurz748K33sUxysOfrahK8H9GxAh+paRF9JssDEibBz4CMOKDsizjQbAKbwJ3RQSyrPxiriqkwW9mDEdkoxy0/PIFcceQKhRFtQwcI0Q3QuNxQg6bReROmpf0ZJcYkNub80Og3B1jMyB68b8yQ0hQJVE0zekt9ppRVyUxpl3OEkftNtuv3MFZr23mnuN3lXULmiuLIkiGrT5lb6g4a8rUz2yIOUIUjTYT1FbrThx9++oPf5C2mtyeNSFVVoUh5djBSKUrGxMxSBW6ryfmme+d48sbJ1Y3bW2v2QrMXqs2NMDxMWS0ndaXhs+uxTYpVMgNF210Y7GYpI2fxjgDoiKhBVZmLn283DDfDZv/I1fsHyh79dnu1+fjJ5jcn5vdmbVtNJxPvRJzH2L9bstxUkvv6fLn8xcf11156NJkd4c4XUFW+lsOpHoT+OCdVjTmz81Tax8LW3A2610YeRDz28CWLlj9vuLIWwIGywsBxSDd5mB5VaHxaKflHeZMvTvHRo7zNOPSQMeiQsNuIMFFMxZ42k/NQDyW0HlRZ72CdUc9SwYTNxqhqKopzAkBsTOpo7FCL2vqZLRgInDTbZsibq6tq+eib94dXv3pw+MYX/Y0HVJc7hwBBF1Viv4DvouqQdSXr1er4s7/53pNffKK+mYQQnCN2LM4DpMUGLStbUmViOjlnHQYDi5OcM6Ut26D9clj3x4tgbGAP15CvIUIaATNLGs2MqWngAmgABqCHBhgTqVLKlKPLKBEZYyhZYYeV4GwUSiCX2IPCEYKRWY5DaYA1Dv2QZzy0daonlUqCDbB96ApyAPSAkOH0VN+/DFJNvA/iHIln9sUbmXknxBciY+dd7dzZZv2Lh0dfuH9xcOfYZi8b1/ABwxaZyE3F+7Ydbvp4nNhG4k7BJ2XXnTNAkDyWCXYgyTl5Qdo1OkbhYnHx2l73+pcf5M3m7NHVu0/Zh6qpghOgqGtQxHbg8maZseMQkkwqTGZARNyg69GrpSKAbUkTs9EoKDGCEY88CIytmzGVPTsxQA25poEIKIMc+jnSmQ1XCELhAZDEZ/GjV8346uyUGySliXPijL0nFrOyEFI4hhoSoypCK0UymOaBNBZF0ue9Bnbt3o4UW17SMpqVcVcwgo1c9DcYFUJiGuebfK/VaTCiATGS5JLJRdRr3m5PTn7+KzvehnbWeu/rIEb0ef+H636CQBScaPZ1k6ph+Pgy/ObY/f6Ds+j3q72JeJm6zV6/vdLJ+HXwDhnlnQNIYS0wXRvglwdlKe+aL0NRChOTadfnYbt5+UacHN2s9w/zepDV2fbs7Ffv9htuDitfOydSmAUgsDGEiZU0Q5ybVvLBmXx06r54/yntHcI6ss5XeqsePpv3TV1pYqJykApJsOjbR8dpLhwB08LQpILG66i7Kl+DZyQzzZpy6tfdbYfDg0m4/bpzVV69r9tHx2f2sAu+brwLjkCWRjcay2bETENvxUWX04bKkegcGDZsKWVFw16MVOBRzjmMiZOOdAMYPmfD2OeHo5zvvBlSt9ry1aMHcv7Nr8qDV48Ov/ZVev4NtDNFEk2IcXfoqfU+IeJiQ4szzWd/+58//Pd/t4zV7Kht67r2lbCM1j5MRJbUlFl8qDSmBAayxYROSSO7VV4u0uKz9enZ+w8Thxu+aig0ECkpbmM5c8QVk3MIe0hLIAMMC2QDhq1tjc2FNrErJ5IBpqIosVFvW+iRELGdWxQbMUlZCGZVS/3Z+fYbkzzZE0wOmQ/MetIlZMDkgLhNFxfKzVsfd4+WtH9QNU1ThdoJE6mZZFWQ47HrzkwaxKEJdbd69yn++XHzx/cf59kt2QuGKQcGQId3qwfbWffR7TN79/E25SkjMLtnwJbSsQMhmBGZMmWicoDBlrIZw5abLl2d/um/cQe3b149Pv7Fu/1qqJpZ47mgf/zM/9v1xGkSOMwqqlqIG92fpCOXRjfslJFhyrv/eWl1sNuqAzCUydp2JI41zDLqFmiRltTuY4g2JKyfWPc4n8d04XTIkHFKFHEkbiSzcKFGg7hQfwBiVcAcjMhxwdNLA0JOrG5A0g9iVPy1+F/+gPTsId+xhktyEmickonLHwtYAK1B81X3b16xW/drOXxxdCF2FaB5s9XV4pfvbH74AWff7rVt29TBe5FiV/EsSW/HG2AO3ufaZkM+W29+8vHNl258diMc1tObs8mJ+eUtnV/0e9I6cb5kX1kZM0k/R/Kvp7ZyJIpKnnYaIkCFvOmQ83q93cP8zRcwe+4525thcb59evyLtx6/+wRSt5NG6rYq2CebEZMV1IAlcqqbutlu5+v4ow+mr7xmYbOVyctUnUu9OWy39cI226HyompgFFoplbesjJKjZkFH2tF4IZjt9sEAYAIMnOFIV9tYdd0rdxBYnZ0S5bhddav49qfhTJv7N6eeqxBaJs1pMLUcNcdYIkl12FofEbZwBFRQQ+6R1vCefDAMhAwO49dQ/ujymYkAfL4JsV3oSWmw11vTzfzVyZPn7nT7t26+9KXn5e4D3LrPdW3DADU4AikswYsJD9tFd3zRDIv58elPfvro339/O8jkYDKtq1DXXgRExe4cBBLKALETyWTImsugmmAZFJWGPCRL24uTdHzZyYy89+z8mHdITJDRys0UGqHHiAvAjVpdKwvUHjlSNKiAHFwwF8rXcg36ENFINdlx6LOaaiwdiJnvs/XD5sXn4/TWROqAeIxubtJSuAs/tagurz/4YPPTd7UK+23tquBFBKM3gQMM2CXQwkzhHIlz+50732y+9970jfvru7OHuf0CCZMcQBIcuRu32sXTWze7/bPhLKWYnXfXrf+upSkefzsPZGgWRlTyTIZ0tUynj46/eSu99HuvW31rfvLRO59IZlc3rqRq4v/PL2KQCJFAEyTA16Px+rKDsDkz6Ggoi+v9Uh4xls/PuY6l0CxvKG9WSJeQGpRRHaDap/7CNk91tbYtI7uRlr4zrkXJ/CzJubCdHbjBACYKAgQMCZ4gBCrsmQSy8kmGzjQmHaeuUqdtXIDYs08QgKEUlpETo3Z9IMhg1ieKKU+pv3eUm7uHCID1yAYyDEO6On/67tP/9ee0UL+3V4XKO+9EXLEvul5WAgQqWH82EAt57+q6arv08UX6+af7fzr5UF/45v7BdDI7n5z3oV/EWJNTCJfM33EYvmZlXI/15ZyP03FJUzQCmP3QdRl0en7xJ3fy3efuTO69EHuqNotPP1v+6K20SLNZG0LwUlVkBuYSaly8ZDNgpt5LU1ebPr73mD94hK/d3dD0Bbr/Zni8PJw+udn0T3qnGsppfwZRtR1jkXa7j2f0BgBjF7cJIlYWzjGqDpt1POLt7La5W6scP+E+0koePbUPVnDTqSep6sCeiYhyAFSEiDsUDZdnqhy5GuzBJWhYwWppY8NAEkByjU3urj+y3RXl6HNg8vqDqpoypatUP8ovfeNL+aXXGt174A8OECqOMW7WYgOaBtQgM6yz9QpXK786+9Wvnv6X75397N1lptn+ft3W1d7ezAXHZkykOY2OGkJjwGPMgLGAQoNmD5Op5UQaoWvE/MljvwZXsssxKvQ3cmAlyixgFjKPtAUGWIAGEBsHwsBCqhQHMRSPeA8O4HJjltgujDj5yP4pGoxkBlBl4KzDajMc+f7BTZ7du5kmD4izk0PiGUBIG8yfLh8/+d5PVk9X/saR90ylvoxKzULJNjNLNIrZUVc+K02nbZ+Xj4/j939947+dne61r9ABiBgyBSWqat800/3LB4fV+UXcJu9ctsKLe6aroDLBwazkrqfMYBa33trpydVzbvHHv78Xbtzsr568/cHwaOV85SvvnHfeu5w/T0T7vCIQ5WSpzxYzpR1lRGq4ANlCGE7HcPrdIFkgcCceI2lNDTBRDApVkFnINvTYHqO+ARFYj+kM05coBMZHur7kWqTKxKOaSFV1GApZtNwjLM5gQCZAHMtkhmYCb5YNmeETWMfXTY05QlMtzrGp6XUNGl0Dnil+KDxQKhZAGLEqlITxkWEcc768nH9xv5vts29ncBNIA1Nkw2bZzTc/emv48CrU+7Mm1CGI906cK9wgK/fJ+JTGwMERyA00pGqvjafLzc8/be5WF1/2H1bT9sbh7OSjy3txedLvD8VNU3hc0u34H1T4CuP3Vd7ZokcsjqzGQFIMmrpFv6+XX3qxPnrji1If2GY5f3r101+tP7wMk4NmWvvggxehMrwWYGyUgxJDSKyuwrStL+fdD37Rvvjc9mD/im/cm945HK5OHpwvLmMzJLTBylJ69zSNUAJpGJpBpUSV9sJo50i+Gx7UMkfN6y73F/MvhLx/0Liml5Q1oV+nf3invkzV/l4g4qp1LEQkTAJWMrCrWCKLMIXR+BLFvA5ghtsj7S0mQwV2n+um7ZkjgFIBrx0xdvRQjNxuE8RPTtL//MOD76z2vvzqfLJYV5MKRBZViSgrrLMYu22/vOw+/PjJj358+k/vXPRZmmZvOmknVaimdXAFaSifgXU0rjRiRraSpuVdpsDkyjQqGKIN/bBZPbzQ5JuJeIwwuO74C+MXxaGiMIEliIdJiYpGPkdc2bCEWtakVKT2IJAxVLn47lIhPhT2hhksF+Z9BovYkDRr3nbpxXazt89UI1vP2sA7zYbU6+pMF0/f+qfVzx5y1c6ck+mkcW4kbZXsQCLWne0skYiDiO+3QMtesgAARJZJREFU5kLdtmmI6x+9f3D/zt7v3/wNT1/VSUOe1YSrA6pvu+bJ7f0cLoYhV6YJ7OzakLxQDcxgmUjAUnIvLG3XXX92ttjrjv/VF93Bmy/gcnP2wfs//GWO1Ow1tRMHslys6Jh/6yAQl4YrZzUGKgfGyGtxjJlDVF0ljRmFZTyiVFyYsSNfpWyhNaM09QqJoDBDfRf1DTiHfoN+bboBN3TjGxzflssTkl01MrNsJFyAznG+3YX9EClIpVJMD+nojqWEtNX1EqYQDzJQMDJHOGqpSTkXa1ViQkl91l3zsav3JRto/MwATDWWrPmRIDT0eXX52hfS3gsTmrDRgj2b1XnYoN+89avFD3+TpWqmddW2VV0F73gn2XgGf8RuBh6l0wy2Krg0CW2fnlz2f/fR3oE7vfv6K0fP3as+W91+sl2tLudyS5yXcVdX6Js0BoXsaGvlVFvZ344RgaRQzVFTPDk9++6d/NLXDupX7sb1Oa1OfvnPx//wzkrDtAnsgnMM0awsqplKTwQCU8mdy8jiXV1X9ab/9WfxnfeufvfmYzTT6vYN91l7I2wPZLhKCRbKgoPKioHUdo8XO5t/wGAJyBg9l3bmbWY56xDTfBn99ur523b4HNxUgDpm++TR5lfnTL6uA/umdsX1HQSmbIULQiBANcekmytrA3kH8zCBFzgxCkRm8CwBEq1AlaaqZeUxEkHcrlm1Z76zovvMwVOg4b3ffPz+e/L884cv3KtfetDevVXtzaoQaHi6OD1ZPzlZvfPBxSefLp6ebWAUvD+c1W3T7k2r4Nk5x8yK4rVJ4jybwDJMg6OUDJSheRrM4MGasxOXc9radnj6mR7PnRIHJ1UQ51nBZVJhLmXLE7w5T6qwBuhAhrigdAUWiMgkeW+WVXMmTWS5ROSA2eBACs1mqTyJkkHHVLykkU2iWu62L7wkN19tcONuve8tNhjWanPKXV4ujp/0f/1Ptsn1rSa0be2D59F0fswqI8s8WlqQEkjJLIuXwFanZjaxp/PF3/zzzRfv9g8mV2heQNWyJZqIHE5dc3g0vXwwbT/o2hgyQYTHo18kn0pCZswEaE5ZLVvKp4shXz795ivxy3/8xvRwsjn9+Ke/GE42Eibeeec8BVemkNJPg52jEsHCBlioGNMgzQzkULRoqkiUMzlP5oPs3a4nvemV+DL1cBo6Er8zdAIBSpzzAM1ENDskdzSlw1cRKnBtdAXuy9qRMlG45Zs5y5aJMgjMLCzOGaCaAWOYGWsc6Q8iFFxTTH1YnFJjVbbtOakz9EaVSeuC3L6Rb3TdWUqmSgywEJg1FQt3GvEe2qmgTQo7UAlQ1WKoYn20k9Or1w+3zz+gg9dekWbf4ibHJ2o3h9PTh79+/B9/sDjL7e29vbZy3nnnKyNj0oJojtZPIAIbytdERZ8kgrpGn5pZm/q++/CMfjqZfrc5feGNl1770ub9/vHt86tuW/dVFTxCFdJQ0KEyCBUagwONzVWZfIthOBHFPuc0PD3f3uP5V9+o9l97I22p6q8evvvpX//j4mwIh4dVXYUqiMEGNUfgz8XQhDzGbxXBWFVp24blVf/3v5i+ePeTOz6galj0YD+/kFdXy+mgVpXgEBiZQlBgHzIY83j376oKixhxTr2mAaZqDM1Dlxen5793317+3Wr6xsT2G51v14vVD96RS60OKxe8bzwLk5CakWMn5NVHUCYzdoTKsQOSoGaEADCqmp3LVHF1iJOzerokflqogzlnywRhImhWAO5z9tWuwQCMSZ2QY99U1f4+Vqv1h+89fO/XpgBRIcmosFNCjJmF2ypMprPgpKn8dFLVlWvripmERQ1ZkQqSY4oyzpFluEQDG7PFwyqyn5KfgBmbebo8HZ5+/PYv46OurdspeU/OGTsYiLJZyjGN3IW8wbBCXWD7HtggwJZGlMBZo+icQzSrddCUh87VrhBxdryqQhFMsKQgAvdwE0/LjbLFq0V/q15/8aVYPbiP2QH8JFFDLol2ccgprv7Xv+3en4eDven+rPFNYyw25gr89uP8vNcagRwHVMFnrQ7W/SefHf/HHz//v2/T/b1z+Kyo4NX2np8dvddd0SuH/dPHm+0g0yaZuSJXKBibJ4vMapnzGMl9vumXjx//wb31t/7bL01e/gIWH733jyd//0t14UZb+eDFidBv4TKjtzqBhUHsNA3ozXqjiuHCmOmhiTMhTGS/ptUi8mdVKES/Qir3uuupykukauTKb6XeeDSe4UJHcOoCiVEeNLPWU39QU8ggGLKpsROmHUuFiIAum+OeLfVDnAbldoawBxKkBQ1ry2xak11AGrC62V57dDG5XLx+uO1XabUZPFPwLsGckJDoNRBUtjVE13pOVWYVS4NlTclOji8mq+Nvf01vvnnP33gpS0Pbc+03tDn55N3H/+N/Pn+ynRzu7+1P21CHpg276mQ7gGmEQjA2K+MubhyESaYT8jTphuF8sf7pk4lRmrSnD15/MaaUf/Hwuc3JSZwsrT106pzf+eIzRvMY3QWhgA2hLPSgakpM54te5ifffjN98Y+/gb0b/urJ47c//A9/ffnRhUz3m7ZydeW8G6UgsFS0lDSCjiOGSWyOyRy309nekD98vP1//7j+7+ndg1dfv/HyS5vzt2+t53fT7KQPbRXUlMgA0ZFftgNJrLS9RAUuJCArwGRsCsuZOJ9cbm5R/5VX84039/lmk08WabC//T7/7DEm07ppqipUzjlhGjOVzdQoZRR1aN4irR1cSwc34ASUIQwWQKiYRzXe7zehIRYhERZXXBtsXIqps2cQEhp7AxBBnNS1hxqLa6vQd0MX46aPWdUUmk1EnRMmcU5C8JVzwXMVXPAiQmUeLGxzYeRkqhk5m2UqVoOZzHiI2Gt0b6qjZR2ZCYnQdohP5i75ar+t2XsC5ZwJCrWccy6OoZrVCBTAExBgAhO4GfbW2HyEdEqJnSO2qDmSmcPoYkZU9J/AztWaCh0aCqSuU89usdosFqs/fCEe3p/Krfs22bPQkm8oQdedS5uf/tPiHz+y6XQ6m9TiQ92EStBtemaynYcH/RYSTNd/OaGqEkPIe01eLX7x7tN28uB/N/tsP25Q382TwVf7uveg3Vu1fvnitHl/HYYgwrYrNDCzVHpb67NqNF6sN5ePL751tP69P3r+6PXXdLtcfnT6d790Ww77E9fW3nv3+eanHAGDsZkZm2nOfVRNKceMYY7UwgLMQ2o4IRfVu36+DEjOdQP5oqBwnsmENBGNAjYra+rKD/BEg/fsg5h6JELcIiuhhrKxA0URmNeBORIHJ0RFQ+N3+W1mBsqmmodNDNrfODBXF3iNIYEcUryUlnU9xbAlcZge7L3ycrf64EG33ur8o4G3A5vBO1ZyJVTg+qcHDDvWrpnB1HIk00T+8uqC58e/c3Pz8us3Jy88bwAhWZexuPj43bP/+IPlJ4v2cG+2N6ud4yo4EWflA48txLOLkOu3imlHlDEYMdjTbDLRFC/Xl//49HBSr/7kKLzw9ZfWyy79+jRvj3n/uXUnbeXEl4CcwoUp7FAhdmQGUiVBjATLZleLzfb85Nv3Ft/8k1enL76ers7Xxw//6vsnP/skNs3+zKOpKHhhBrMRnhGqjTVLy3aIwcwM74PGtp1s4uUvP6nu3Zr869uP/J1XZ89fba8ePY/LFbWbbWia2hF0PJzXZCPbGSCUB15ITvnaO1Ycb7NsFqvfv9M998VZdedGGlhs9cFbi797m+HbtglNU4XgeYeBaVZYyqCc1RJS0s3lsPooH77xHm7cRLU/2t1KCfL2YII4LjhlUY9ef5yRvGjuulG5bgyYAGJVDc6FqUTNSW3bDSmmmJKOOVWksJyyFw61F2Yv5LwLwiXIOxd0mcpyiiqhZJRTCZMm9qEEGy226Vt34+T2IR/cBVXcR113tNq8+wm/O2di80J15UBc5IdF/kosBouDxW1qbIv+MeQI7haESQjq4SpULDPbe4FvLXE8ZI1KISMrpCraD0KCjWIDMyUkgwpsML8d+vPL1d1m9eYbdPONB+7otRxmSknSAutl9/j08a9O/+Lv0hrTo9o1ja/aiWMkVU0ZAoIzLieAics2EyCY5pxHZSAR7TVViv0BDtLV+Y9+9iQPd/7sDx8/99yJ46/aAfjui7NuPjv56JV0tRn46dY5EkfsRlmkjeadCds+dV0azk9/7/72j/7sxdvf/Bb1y+XJZ3/30/U/P8l7h76uqrqpvXd07T0N08LgKxoZsm1KyPEgdC7MTDMZQQf0GwiZq9UaWi9l9VQ3p2en+dHQSC1QcywKKiwwsJQIA1XrIvpN/4Ub8eAmk9vg6hgWSpgmfLECHURXabU6/pjefYSrjm5PmJ33LNnUjIozGEyHlBeLrfar774wfOX1yt//CqYHlg1dRL+ydZ/y5slnua1xwz+mw1dw77UZz5L/9XPvXE44Pcn7l3ow5FBDi+Kn3PClNzGMAHXOZfxzyz7OTx5PV4/+6IX0tT98af9rr4ejFqsFreebi/N33u7//Hvzzy7RTKp2Eqq2aZu68aKlu9mxPGzHZd4tSZ8JIt7NhA5BHfkQm6btoi4WF9/79I6G7R9/g9/8k6/X03ff/4dP68vhdPpggz2vToSEZUTRsSsJRf5siRhDxPn5ZXf22XfuLv/1//DtwxdfHlaXFx9/8p//6un3PyDj2bStqmmYNa0EJ8Xaj0SzGfSZm5pAauUlZSFjCy43iWzvydnir37S3Jq4N3/neP/Vb/ZXm767eDHWD6MNyZsU2fqOXEdmZnxt2VCqwfijs7E3aJdw/OT8jWb+u99q93/n63Z06M4ePjyt/t0P85r3D2f1ZNrUde2DLzcriJmNmWEkbBLghKop1/dFmikGQIHgMZhdrUAO0wlSb4tlXG5zGgHaMYmYrokV5MwKYLHDcMeviTyTOY4Kb64yYzKtPRmGlMZNIjHBnBdfDLaZiR2T0mjWtLsNiQAEMTaLTjII7CAO3YqSbjf9vbpn35hTw2D9Ms8fb46f/ObDPM+T/Ulj7IidMJsxQ4FEFIuVeOoQN2Z5IDakOcRByVJGWiA0NL3Jy0UzwXMH9uGZdkOWCl4AykSK8fSzjeEGVixJDC6Do1rabn739e75r7zu7n8thlulscOQu/l2/nT+19+ff3wld26EWdu0TV0H1jyUczMOhFQMm4tz5JhXy8QFxWQWZoqqbd2YbQ5m+4vF5fd/3nXplX/73eHBi+86vJzrm3T3q0cvxaF7+CVb5av6KgcwExhQM8tRNdq2y91iyavLP3hh+MYf3L3xzd9B7jaPH/3tf3n8n37azw5uzKp60tQhCEuJgtht5nY1MMM056GPezI8fzOGG4fazKjxEEGMGDrSDYY5FgvpnxxfzH/yazuLcjghHQUUBhIGZS128pqHuN4OE9f93hvdza88sPtfAO1jM5gx5ZWxpigyzHX19OLR/B/eGd45E2qr2olCLZtzLuecc2btyYZq27/gls+90X/5K9Pmldes2+LymJJaSpb6i4dn//DDR//ph+fPv/rmn/3O0Zv3n3CXmqPnw3duVftvTz55tH91fLXuHnYHy9S44Md5dOTVMcQbpIjxUz/Eoc/z0+f1+Hd/t3n1917ae+0LQkxdF1NYruLf/O3FX/+sm/duNmtntZ/UMg3iGEMcWHjMGbj+RcVYadwt7kZg7IACmOZKBKFOIR3uTYLg4uL07399gCr/IbovfOt1V8l7P//sxvrTKd260JtJRJ2VEDojI6gVbKmI2LMuzs55ffqnr+ev/fHXD9/4gvbb9Qcf/Me/fPq93yRfTSezMJlNJlWVWaVIuHXHk901RrSb2XdzEcOURasQUko3ZuFivvzzHx/8D7770nfXt998s1v/VJ+cuzq8t2m2MTSNjAuZ3erHNEJ1jFIqAI7R6FpEul6twvrkj35Xjn7nq+7opW55ka+Gv/6bxQfzvf1ZPWmnVVWHUDkJQHEFAEbWjxJMo7LjyR61E7F6Zoi4PINZ8SEHTyEZ27nNH8bNYnTXKTO0AWZSFrJGjkfDtPIAnk0NYTZU4+qa9trGYClrpc52VmujseaYaSolWIHYE3EuSVuqsAK0RhFmQlRkVdUUEzaDTrC93VIjEjeJ80m8fF9PLt57a/XukyZTqKtKnLgidwU055xioSozsmVoBpKivo+8hWZoBTKkfUuXYrW10bXdndv4hvX/tOzXGx9czQRyjmVn6Wgg06Qk5ImRzK236fTk8hvPbb/93QN5+Su6d8+UU1xKXNj5J4tPzv7v/8/H//S+3Tw6mE5829beOagyyHJyXkoTTVACjRK88mQsGxGTo5GXTY4pwZxpQxsN0LT+yU9/9ejJvX/7pze/tH28d2tFezem3/jO3dB+8qMPX6ZP5nLzwm52vWSzxKwxxtWCl2dfvDF88Vv1c7/z5emD52WxOv74k7/8y89+8EEM7aStfd2GyotnizlngxdWVSg0FTy3zzFp7G9h/vVv4Mt/8lL1hVdxcBdOrY8WFTGTri2uh8Xjh++e/vl/2bz3SKZ7rvLSND6bOScMioNtu81RvbVETIt7+92b3/Bf+NKL4eU3zAeNwXhQSxgyrZ+YYbvt33nr8m9+vHznUW5ms8NAKlwRD+AKGlO+WOeXZ+dfubWc3Qw3XrzX3r7HvrGs2m3yYjm/6j55sn50Onz/Rw8/erRiqc5/9vZ7v9n/ypsPfueNzVe++Gj/ZnX0la9PX/3K+tGn/fHDl+dPT+b+8XpvHptt9hFeiJnVUlIkWOK09f3ytr/64jft+ddenb30iuxNsOmG1fxqPfzDT4///vsPPz2lup3t35hMazcJXIcKMDLykBwjxEBSCCxMnFXt2pGhoCzXk+Yo6mFTFSdt24r0gBrx5XzxX37any1u/v6Xhle/+erRi7fe+cE7548e1evTVXU0NAfZ18nXqlosQi3FnFJcLtCdvT7rvv6tWy/+q6/4G0e6Ov/onz7+D3/56JcP1dez6aTaa0Nbs/fsXSCYaVIosRKZJc2WnfdMBKghq2ZT0oSyzwneadNq1hjjk6cn//P37hmdfPmb9Ut/8s3jX7x94/KpP8u/Wd/rOky8ieOSwVIMKIlL2BONkhbAska1i/kKF5/+2ZfzV/7tt+35N+3yw+H07K//+vh7H1g7bafTdm82q6rCruXSnTAZOy7PlZ2T4DQzswCgocP6Cr48ZcHkgIK3tIapVZLTWvsifCTP4sTFEQVmIji1z511fvvXb0MEICZ2wsIjdpDHcqo07pKLp4AZC4g1jzddwdp052noCCxYbRN5nZ93z/t+VkMO6oo3OWW7WK2utj95m0+H0E58COyDJynJ8UIYSstCaTAoyCyabXrUCiXwOUCgQxJBJMOCZzy5z92A59ZL5eqdTVissH9Qw7JmUqPM7ISShWzRA5Z5yHp+Pn++OvvDb/Lki1+S2y9k1EgbznOdnzx65/jf/cXxP77fH+wdtI1rqsoVQ+Py0wMkUkj6WohRRmVrAVMqhEPObM7EA4nMHGU4oqY1DuSTrLvjx4//r3++fuP1m3/2B/rS/WU43G++/J3X7r988fYvT35zfnN5tc3SGecuC+nkrt77drj/pTfqu8+LpO3V+a9/8tnf/fD0nz8Z6raZ1PW04okbKoDgMlUZllRgRpSvNumQz187WDYTnuzlu89Nbr78Qv3ccyqTeHkJbDn2lFMcuvWq++yT7gc/Pn3rN4urNd+8cTid1E0dfCjhy8ipn281DdtvP39+6yDceHDYHE2roymc6GbJveVMKfUZYXu1vHxy+u6n8e0PN+99tlJu24P9vTbMJnUVnBPANEbEbOxd39w+ru5dof34U9+9F9eL+dAPV1fr84vN2cXyat51QxbIdDoR57zIMPT/+MuP3nmPbv/o4MWXbn3jy+nO3XDwwiuzL71J2+39q6vXTk83y812GxcrrLc0JAPUCyYtpg1me83+7bt+MmNfr5fr+acnx0/Sj966ePfDy6uFMtf7B3U7mbSTtq1c5cmLlIWNgdmIKO88qqhEjJW30bSkv+uOdIFCYjHVor8TJ5V5UC0iDLpabH78y6cPz2780XL1zTfqb/zRty/Pzp9+9HB+ehk3p3Hj1pDsaiUHqOfBSbrxwD24P7n/pa/Ut+4xp6sPPvn+Dz7+3j+ePZ2H6Wx/0oZJXTVNCKEq7YQhAc6KE9hOq0swQMzYNAtDU6/asTgXWpALYGvrrDHG4cnTp//+B3eGpvr6d44Ov3O0/eDnzw3HtWw/2D631AbZM3nHYFMbo1PNsmrKauZYI3B5fjXrj//oG/q1f/11fu51W1/M56v/5S8f//0/R1/P9mbTvbauay8sPHpQkxkR0ihGKq20GchYQN4QDE2g6R7qGaSGq8FAHJAGXi/cyZxss2sAR8rWda7l5y75/6II2v/PfxwXmXZNeQdy3qUugFmsAEskRDvNxigbGJHGYkQsgHPSpTAsT79wGG/eq2jWQjtdrTgt//mX/ItjdtN2f691O9omANvxuQhFnEsYk4O21j+ETYgEtAF9RnRkbkrcUAi1P20X83bjH1zNp3X/i/mtyyuZNDqpJDjKefQwCBiS0WLbX51dvlKf/ul3+O7vfsff+yZRHTcLDGdu++Qnf/Ppv/9fPn58WR8e3GhbN502VWhd4WmOG0ZiLiamY7SdFlVQcdCFGbtiu26ai/6VTcURSc1OyQ3MXPnhcjX/xT8tP/no8I03j/7wO/mVlzfN0dGtP/nvjr7xNB0fd8uNwntfuQNUQnBKmtLV6dtvn/z4Z4t/en+zmMfZrNprQltzHZyIy2BP3rMDXNE9pKzK4cFz9Xe+3U7u3fGT1odaiXKXKC/6Zb/qurNH68dPtu9/vPzo4erRWd8ltE1746huaj+bNlXtnRt1RVCugrWzmzdev3l4/5BbnwTDJm3mfTcf1qvt2dVwcrY6u+yPjzfHZ6tlZyR+Mtmf1tWkrfenTVMHL45BqppMycz67fsfbH7xy36IKcY0xBRTMlUzcuK9Fx8moaa2qZrKkxmLU9hmvekHffzk6rPHZ9//YTg83Lt9Z//Ovb07t6c37u4dHj0/u+duSbxPQ8oZWUlNsw7Gg8l6kz57dHH8+PTseP7oaff0or+6WpBU3vnZNNRNqLxvm6Zpa+/FMUQEn2cyud8WA3++ABjPw2+xzXaJ9TCCCDMHB6ZsNJ2YF171/WePHv35+d4//urgD78e3nju4Ot/XG9Xsc/UbXK/Xns/pAgSaffv1kc3D+76ZC1DV6dP/uGHx//w1uVvHm3ZTacHYdbU+20Tal8FV5aTzGzwBBRX25ItSXBEgEZTTTm7UX4KJ65wLR1ATWNwRkGuFp88Pv+f/kKXffWvfq/d//K3JLwt75yHiw9OhqOLdLiN08EFg0hWoQQqExA0WT903dXJC3r83W/OXvnv/oBn93x3cfLZx3/+F0++/0+berJ/52jWtlUVnKbkaw+MCeYAEbtdTIbtgDuwgwSiEKg5gp+Aw46xL3AtIETeh1ZC/y+K3HXX555hRvxWEbR/WQYtmRXz+FE7TiRMNvIz4JzX8f0HFcOAIpIZU37GMMqCEntnj8/7O2HzyovaPH/A06PcD7w9fngaf/ie3/jmsHbeOxIvzMJUkEciARyITQIsY4B1yfqVsQKXRA7C4M64oZCL+IP3Xtr/Ym5vP/n4F6f2dPW7s/QkHZ7ndr6p2UnDWTCkrJ3SdjNIf/mtW5uv/+7t+9/9bv38F2AXw/kHbujOPvvsP/3Hx9//h2Xien9aTydV3bbe+6YeGRtkJSdQcI2jjIgCFzyocO+YwYVBop2ajQx5EjI4plnrg8iKnXOy6brF4vRHPzj+2c8mL7x0+2tfSy/cPTk6mu4dvNDsRwwbTbS66o9X56vl+t0Pht+8v/zs6Wq96iZ705t39prg9yeTqpGqrkgCs4LIkUOmXrMy9wpmvhhufO/XXn9FKS2iXa2Xm8W8W66Hs4v1ZjP0Q1YYS3Di6npaO6m97M+a2XQ6acQ54ZKjZTYQdNheXG3//K/SanvcbbthGFKKOaW+71JO0FDiaQzsQn10GELw3vu28k1b11Xw3o8gmUGVM7IwifNOFEZMXIWAkrUo5dxR5agJ3jtBqGpPyUiASe2HIW36uospJ1svVu9fXn3wG4jzUlXM8ILgnffemI3I1EhzSmkYUow5JxuimimZMmj/4DD40LahritmaepQ+eC9JyFioiI/2H3ZZtco2kizAmCWd4aJ1+WPcU2SH0ukEaxxjivqjIUF4h2HTbf+9XvrTx9VR0ezLzy/9/pz05decHvPNXXjqWVfCUGHLq0W9u47m9XiyVtvH7/17uXJQjNo0s7qKhzMpm3NTqSuK1dy6wFASwHWXEBKJXbMzqyQqsyIFCS+FvEsPo87XvYuW22g1oFCtTm9nP/5XwyPH9/77reqF17+yvMPFtN3Pzh6eH51eX6+na5pttF6yJJVVEEphtz5tJpg/tKX/GvfejPcexBmN+L86c9+8clf/OXxR09SMzs82ps0wYv3rq2Lybb91iDqx2mz+JBCyjvHIaC+gaoBMmKEBoQaY63qCck1cI2VTU1xyeUdGw6Ao//6CIzdSuvz/zgaKl/vkeGECSI6Rlty8X6AZuTk2MygWgJTiEmIjFQLOkgpLuarP7mxvf9K7Q73nVDablK3+cefNe9f6d7BtK6r4KXxBEtZCxPQlexzkAM8kUGoHCdyBAQEhmQwa3wiAPpKI+Fgzx48J4f7X5geXX386aNfX9EiHnLYYLKmyVX2gyqGjXTdPSxffVNe+/3X9l77WnXjhnVPsJzz+rOf/2T+7/7y+LOn0Uk42Gvrtm1m7TT4SXAJ8J9LaohKIpSN7bIRsZedw7PByMhAHpY1J8vGEoiFjEh7ghGkrhyzdaJe2Ivb9kPXbd/91YfvvP3J3v7e3l41aXxwCo0p5n6I8+UwXw4xZiYLPhwctU0d2qaeNVXVND44kaIkkoLEMLSkDrM4yesPPux+/s+bbui1EEVz1qQo/gTi6rphgffOO++9q+tQ19XeJHhPlXNFCFC625qRiR2l+by7WnYFsI3ZCC5UexUpg1iYierKiw/MFJzUdVUHz06KBm7cnKoSK5KIcBU8WbZEGZ7EMZNmZWEvnoWEUTnHzOS9aJKqIk29Fwb1Q173w5BiGoac8pA0qgJG2ZJSTrkfSt0pHVrp4EnIkTfi5MQ7F0SkbbwT74VCHXxds2VX2pCxPRhvsFECXZClz98XZ0UIgd8mxzzTYIyuj6bZVJlZuG5CFZio915CoG0YNtv46NHTTx8e/7CuJtPmYOoP96htHTHnHDerbrUcLuf95Tp10YLIZFLXdai8n7RN3dSezTn23hGPAl6CQVMRFV1/GiK1YlZC4rwHwL7hUKtm0mymRJlJnK8bNmMyYSZ3MV/+r3//3nsf3/vTP6BvfaO5++1vb99YHT569OD4ol+eXF12my2pIZs5sUkTpjdmB1/8env/njgnKZ5/8Ju//dvjv/vx+TqF0ExvzuqmrZrGB+8cdLQdpJ2eptAV6drlREprxULsPMI+SuoOO3gHMVBCVOiAqmEfii0Kl3U1y7Mmi9feMPTMTbW7mgi4NruxosYuj42JSoVmU7PCrS9ynXKjCWtWQIi1UC6TJe+9ISv8dujOrob7dP711/3eK6+Feq+fJ5uf/fInw39+26Q6aGrX1D54gTCVkQFGamMIp2USMWI4cxVldySyRFZYC++hc2JvG9MW0ANN87yqQrWX7z1/47nnD39nsXn8aHM6X56v1/OrmFKMXE/84U1/9Nyd9pVX6cZd65KdfXj66Sc//+np/+eH5588yewn7exw2oZJJU1d194FL+TEFwphWfAazKIpQELiSgi3gVRz0WwmjWQAcslHJ0fEY0gC7fZQwlJz8C7ENNR11Q25jykmHZIOKV2eD+equrPDLzW2rsK0gRCaikKo27qua+e8ExdGKWIhGBvKRSVklqNo8mLecVV5LplzhR5Skjd3l6Vz4pw4kbqqxLNzzgfxUkCjYodERmKqrqpbG0RQVaGPyXYU3nL5MZMwlagPH4JzMtobM9MYU7GjDgDBzAky+UpYa7ERboZBCiFCis3QSDUtf0YgAoljkZyVHao6DINXrbJZypqzAUg6UsDGt4ik/BiFIUGlbRAqf4AIV15YxIsrfYOMAvvSGFiZtmhEfsrhL9MeAWw57X6gwrPF7mXi3esloDG0VXY4CRGyuMmEXMwhuKrKTR1jTN0wZNXlfH15oR8B17gLFYGBc1Vd7e+7qgohVJV3pZHyTghwsivMxdWx3F05GytBQGIwhZD44DJMwVLecU2ZkHOKhe2klomcp9w45ydN5Rw7Wa03Tz97/H/5vz39q7+5+d/80e03v9jcePGrB19r2eL99QZxQZTJBabKzLP3mW1xfvXo3dOf/fT8J7+8mK9RVc3+Xr23N5kV7otzbrwOjXHN1gSM1HJSLUEGatkJp5Q1BaliGnrXLcUGkCFvESpkQd1YGqyb524blUCWjQWmRBa19IiuKJB2rODf+rVjzo62aoYd6X9s+ncXGYyQdx396HMJGLhkZYkpgCTwKfVQB93ErJdn5//Nzf72g/1wdwYKkhbHn3R/85YObhoqV1V18N45VzgLuw8EMiJhcCGgERgcnNT3qHkF+QLokYmcECVr9qmuaD1fvPvZh4u77UF/e3o2bUGzyeQLh9PXbt/KZHHQHuYantTMqtsuJV1/+PSDt0/ffuv41x+uTs5z31PbTOqmaSfNrK3rKoTgvC8Q2K4QEQhFv6rP6C3GEcOJwExNHbPmgg+WaNVsOYKYmQ0CzdnUNDNBnLBrvNeq1qSUVYeoQ8w5aVbVMW/BPOlI8xRmppoH7yTU5KuK/IR3XiL4XKhPBJAQQRnOObR1Ee1coxo8xmTs2GDOORFhoXIomVnK9LAb/kkVpOJcICYi7yWlElMxHh3s8KZSBGn8AkedwGiBR58/tnJbsBgTjQniNKqWbLT53jFb7bo7sJHGYfAEFjIRMykOFSXto+hI9fMkaDawGWNEx3N5L6QYVYvw2DsbociUiYrqa3fod3yP8W3A9WSLazcEe+Y1slL8doF64++UkWr8/9ixtYUgwuJFFbHSukop5X7oU9ZUDsDO4WS8YLhseH0IIQQXAjsnwk6kxJgqIY1ndbeZBsQYJXGNRq6GEQ1EDArGAuWcMqwDWLyMsBYMYKLsHItz3nlxwsyV96v15vz4+P/xP53O9sOD+0dfeOXmiy/Nbh9RW+17R0R52HbLy9XT083Hj1affrb4+NPlcmPi6v39ajKp20k9bZu6Do650H0A2Gh8tHu/iEqQSRGA5qTLxMFSzduot+uqEolIBgqQFjyBN6OK3T5RkzvnC1FY0WWjbHXQPprGhBTHTQjT50Sg/8ovVSq5p+VbN6NiYbB71w1m5FD6QBLAuEAMABEbWU5aeb/e5N745NHJq27xxVfQvnCrcsPyZG6nH/+/vj/86oTCnttrQ/DiXbEsHe3Ci+U84EgCcbCSmWFgM8obkEAS0hYa4BvkYM1dkani8dWnl/+n//NfXPDk7r3b9+/svXTv4s6+1ZO6mlRSORKf4zal7WKVHn26+PTh+tHxZrHcwsz5qm0m+3tSiTRt3U7auq6FHdiIkUu0K+C9I4wpFmZKJca0+GsBponZA6aaeDQoHhkSqtlUIcI+EKlqx8gEhUWYI3bsnKsI8ADHnIYYNX9eAQ3mWciMCcIkDPCUWbx3znkuXqqjf6Zdx0EKQYkUZGDnmSh7r7uWhnbi9mLUR7vKxaUm7EQUu9evIJhMsJxgLOTJOVci/TDuxOyaN8q7UQIlQ7RUvZL9eX3nwggMJoalsuUzQ9Y8AqtjrhWNFvgGs2urpVJ1THduzAAzlSAeMW9jG7Ej5RnGOPOysxpxpSKFKB+zuOSXDBkDVHcdwLO//sWyELsCY7u/aPfhDGPqwpjrNm4Fd0BgORZm19cB8wiawjuvqq1WZZuq5Too0WvMJUC8AFzOOedYpDTXAjAKe8zECPT5ywvASASl8GnJWlDafXjbqTdGQnep3BjlHJlSSbY3EXYQwbav6qaOsd+st/1a333nyVv//IkB4gIXyA0WU45DVEPp+IP3RwehrYNzbjJt6qauvC+vfJH6jUI1k90jLDQay2Yx5gSLmnR+/s072xdeqOt7L2H2ggVHmkGALzEyaoMiOEwO2dd7bWokJbLKExn6wVQzi4B4rID2L/Ygn3/HO1y/3HJjYHO5nHn0pC3uRfnZIZrGlGEApmYkrH0Ei12cbPzq4muv5RtfuuFvTNNmQ+uzf/zn9Q8+IjR7k9pPmrbMWeP+9JpSWjoFErAnTkQRRNAEvcCwBjL+v319aa9kyXHdOZF5by3vvV6mZ+NmDaURKZOiRJE2BPCLAdk/wD/TgGXYnwwYkPnBMklAoG0ugmiTlGjQZHOWnqWn+/WrqpsZxx8i8lb1DKQaYF53vepb92ZGRpw4salDVXyAaUuvOr3Q4XZpx6v7u/ee8p3HT99555Mf/VS0EvRWKRMNipmIMU3ZHcTN9dV2s53nMpUyFWwnbbebeVtLJQnkwQzY4e6dlzEkRqv6mMrE7oB6MgQaoOXMl3dokRtYaROa+7KEW2m1Wq3RuX94fgDM5b5qoGJszbyXLEIvQINO3ugqJIAu7+HRmEUkLU62aiFAN7hs5TVwUcNgYXJIy65OHOIQTEfcRSVMlKkBkaxNjPYgIT+k0OPMrU9u6cMjlOBZB8aTeU5/Sn6VdTpXbUo5QIh5DxqF98HHuQdXZGs+ekwZZ4nfDiWV2xTuawEynr8mNcdFS5SQK8dcXCC7lTj6lPq7/BUvPkBcvKuXLzS4fo1sh7AUUQFBnyQ3saZiiuVKDQjLiXqBmFfCPWfrSS2Ks4K2YBqm4boozzICvkTairq6E2ApViYzeW9pydABFFYM0stYy67Ussy1tLbZTJvTcly6WvPT0k/LweWh2udi2+utlVJr3dY6T1PdlHma5qlut9tpquEPhJHTeQnL2XgAh1Nju33gH54W3bRnf/x7yzfe5qM/fBuPXi+zo6xDhAtkQHWcjOL+/ubRoy+8/vhLH7341e2L5y9wtRPUDZzqRmQ9w3K8bOPkI6M9zoYuN54UzS/mEWIt/Al5dbmhCOH3UbCC9vjJ8xePH//Fl9pXv7l59OU32dvxOP3iF+3ff7/trl/hNO93+zqHeySMQkNmR4XItBSi43wpLMBG2Nxw3spP4C02M+yGm3s8NW8f6vY51bZ1c7Wbr3YbGVoL1BDoEm1xM5rJwM12nmuZpxphzt1kmxpBI58mxowCEFS0xc4WxL23hKhMRwcZKBIIWumQkcYa49eNNNEleBxaV1tYjFYwb8SKfoIv6IVlizJ5FjIz2pkLRUhutqCJFvIaTwSZYCjG4t47UkUAaB7Km2s9tBuDyM9uz6Hnot8cuVqw0bx+JA9kXaoc6Nn/P3lJZrV1YP8sMopkyejdxezRHKQZhwe4Djheo6hGqQ4ISbO6igEihyQccIJEMpgWbe5NDs+pS5WAt6OkQpIlGvQlO0FjNBJwDgHPJ0G2jonjMJqsRmfPmF6S44w/qwRjEkO8X15WdMzijegdPfTjGugk46mBGG1t0b/T8l8WABUa2pEkFgxiylhgNVrVxoXlof37aAac0TkFEZjtSeIhDCRKkdU4qohIJgaBIqq38USxZ4Us0aiKVsC+rXWz3fXWttvZ+/6wtNNpcbl831qM3MnLWSmbqczTXOdpqjYVspRapiijZwGcF1hbjGHW8jhRz47L/bp868vv1uub+zfz1f6q3ntk9+7b3V1/8n6JAYSFmAFUgHDgBGyup9//ypvd/3z/yzd//eQfPnhlafuGUuc5IuIX7df1sibMPPZh9weiG/qRWlr4xYyEpyqheF6IFJ2COtWB6r3ffnJ89vjxV+YP/+Tbrzz848/3F2S9/dmPn//H//bJJ9q8sZv3u3kqDV41zWQFi8EZzgtd0cUvG7lFZxt5KeBO8yPUE3yGE+0k3rLOPC1oz9TbZi5X2N272rBOtbChuqP3Rd7jNNJYCrfTtKmoMYl4rjFNku4ullJNUl+i7kWh4bvDHVXqReo0wjbuLVGKRWnAZmTDOmDsHR4RflmZ5Ta4GCcKaZyKpi0SCjnYLEpBo8x6JZ8UHSIOcqeqmIODUWYrkwT0dm7zQUFO78zsB5qxZ6GOe/dsypypPMPpUHiL6Zx5c0QXTI/ekdjUQnV5W1VjqjDvJIBqrKSgnppCA9T70KcczAsRsw+Ds4yaXcCoMpRMeOBQ9qOJzsiOZFTPOtoqik0g5V1oKHROjWYS1cMSIylMOILbS+9UiZSI0W7PSwWmiGyAKLOpS36AQDr7RZ5zTB+WQ13epSWdTRsqCyWTRMPlpTjGQ5EE6e6ZoTwal41VtbVSizktTki872INlulsQpS97WIgZHTmzPiPOrAAbqjGYuiAO6vT4aeRtwjY3JcjWpvmXSlgmUIeIw5JztQCxbCzQisERKcVm3ZQ33UsrfV28nMqS+JdAaXYPG3KVEthtQKSHmdc6vDsMq0hiV2ZUKalLZVY7Pp/PfvaDa/33fa3x/qRbbdtu3sx732eai2sE6dZpbBOZiYXud1qt9/+0dff+mdffPO9J28/fvLi6bPDc/zq3d3jw8P9xuqZ3XiZ1ji/v3qhIxIyjkpoSBGdELt1I2PQqVjZJXVUqVo/fvTJ4YPfvfen+2d//u3rN/7kDdJKefqznxz+w395/93n5bWH96/2m5urbcwVCj9srbAdXuOgsdGhlpO/vON0wHIANugPgI4iwFAc/c4PRz/YvNlup6v9zdam7WYuy6nLu/sEiUb0DpJ1mgxVvaoVk80lkCCdJic6FU5JwIdoJtqBkxS9OQ2lhJ2DESwoZoLQzsgYEIvAVAoCWQYgGF7SYD0IQCvgsYHBR46UnxCGXGM4b4YCLFNtu7IXXrLlpXc5evi3xdKhIpTTx9YbyM1d9W2o0VQzaRiRFZYeNi52h4VWQrdkRigWZc4JmeY151kMUgMIPhQoViKbcmx9LkfkE68yOf7owW9CXOsacpKyNzhAc0mKAVgFoOCCpWMdyfTSGqEdUYhAaQBKjvl56UhE68cIwRG0KE9CDHuXaHTBfSSuhonJGww4O/R9psH0qMnMj5FZVHoue8B66EIgxjipEXpOSsqz6Dh5eVMuFQWLRLXYsviXFgFpVrFEdStcTEAaHzuFfLgv9FjA/FKwkC0OpFzAkZjDPOTBQHGDUW4xjnI0uT5fAaSIRjcFeE86YrW+IWTpdCb1G4RGPz67bb99/OLu8OHx2A6nQ/CFpdRS63a2eSq7Xb3aT9uNbTfaztxvp3v3rzY3+3sP9o9eu3f/0ecePmrXt88Ov/n1e0/ebUtbSj3XhHzmNbbhnM3EETc+Z3hyTIGiGER7LKrXzeluqTr0vrz7rD1//JtvzB995y9e/fy//JLNx/7Bez/5yfKX3336zl199dGDm+3u5v7Vbrtx6dSyzfaZhUSu+YUWHplBhZgrLMaMVKCjHYEtpgLrrNIkmhlYi9XZNnOtha4C95ieRxVHgUAdiGOxOk27mJWhlGKpe9LvlSxFMLrILpvSpbMKm0K5BR+VLg08BBGK94fbl0yzMSe7WR6M7LinFPgLlUgY+gm9yRdFNJhGNEJQIaH0TZz0UsuyVv0kf0uSJqd7zIIIbj+ytPHSaR8OwUta8aVXFjqkWxs+tcXoAxRZuJHqydKdFeqaQbCeigiGl2IVpNQEkePIAVl//qnvBsZouuD2mG3ZzaUOOmSRmEpMYNKyQg3uH4TUoNBO51XKGXXpXROUpYGJz0R2yAJ4FHeLhFy9Q5LD0IEuNKwKnet/UMSf6GM3yzqWJ49azgV1Wjo6mUcfJcTpqTkwetEmPIzD6BezqxRKcHjgYX0yypLOLOC+xE/QrGzAmStrLLFuoRMH6RSPj7CVyMESocGpztDaQ1oMsFpQ5rPRRDJa6jH0XjE5lIRLZEFmGa3EwoXNS3mh0WyaS+NmnkGVedr2Wb231rq74HdHvTi2D54ees8WRYgw9+BbpmKbed7v5/3V9v6u0mef+n7GP6EBP303Z7mMP2Sz+aGtBt6nO6TDi7615bbp4w9vT+/97tuvPv/Ov/nc5/7sX3C/+G//7n/+zeHffffpc9+/8uDe1XZ3/+H1ptap0FlALT23LVnzNIKhkUgWqKAvWARO2D3A9iHk6A1tQevQRzjs1RRjlKAKBlvMYiKrAPWu1qHOWgtNS5MA27iZQ6YGd7AqU2bDHDU6DBN0ohqwEA7MUEOPsCa89aGzCmyKeYG5j9EnAStFGIsV8lyUKSIXGjDgj7p6j+QfudMX+AKYUFC2UCcWejMdOrawCk6lbmrdwBZ5zwYw0jRHAbMiqmmER6gjAu7peuBCZM86Kk/cpS5MvtOMyqwFdfmSgW5GAGcCRPRMttGw9GtKSCiDUuo0Q5T3jERcnN9Pq78VTVz+P517RIpfHvtQ7um+jK+m5Q6s6pUvhe+4jpCmUwTmc3GnuoW7vq5SaFMrSDYRBItVgFZGjHvgsYuvQO69K3s1np2rypW/y48nXl47LZ2XgSs77+dvAoE64mxDkyZw0biiOcLtjfNbHJXmyvp1NxNLyVFqYyLFiuCGFHRGS7RLETnfg4HTGikFBBVAsE7JvfmpdR2sWCkTph1Uh5nBhYEkMvQlAKRtdzsrpVa25q17ixEKGTizHn5JvOUecxvikSj5OFKHQ+v9uCza7TYP9xNs/qc1oNbnQyY8XdT3MO0JjZDQnZSp0Re62ul0MPvk3Y+uTx9+++t3f/avv/bgn7+lZx/d/uK3/+k/f/zXP73rvHd1tb/aXd27uZo3U6Hk3Wqp0+RQ80Ygd44eGz6OVk6+zClZZWbZAoI1qWE5wJ/Cb3X40JdDfxGUUHfJhOZRkwsqkiND/DpLl01AUO3GwHxwqEPNSjGrTqIt3Q9JERMgCrr3BX4Ui3OCOwTzowjM154exBATT1gZLGHsbiT2hg8YjkbSnYKBvTdIw0WhRVdzykzwI6yA1W3jmiujZ1aPrkkWV0JZ3agYjGaFYPHuvYe3GiVS4mVeCQCsQ0mQGDVDlKGlIiAD0km4Uw5HQ7i9ZpbDKgOj+IByGjrAzqlX3n05pWIiAXpS70P+Xo7PkaJC9mIq2OolhCnhkNiabSni8RNwSaNKN3DBhf4LCjLqThkhhAz/Bn4hiUXqEuAlFSKJmPEEAK0U5lRGytWhs9oP9QrzcOhoifK08gECKDA6+XoMmInPAFrb7l0AK6wVskoFF09jRkAu9JHnVKKZHKHITGBkP6LEQAhDp3WhyOgEbSpWixVYkcTuq5/KcerJOoLwg7QlSen8Zu7fGdgBYKWVopnevbu8URrca1i7FcauljgBQcQNS5231xsBLi80ZXIYYGhd5wVHkEXes52yd3d1JzpIs7qZy24zT7WKlq6Bn/W3DGBeKnR7uJ9J5+SexTcxpgyAhIHtcHRbIDOUu4V3H7z3RXv/G9/afP1ffXPzpbd4++6vfvTL7/71xz/43yevu4f3rm+u9/v9ptTq3Zo5yMJCWp3kR7TuxcKddLA4cwhtUMVBIWtpONxid426wWYGrtCe4mTCcx1v/S4bquYkWIld3j0OBSIBOPSsVY68LBeaUNwLu1GqlWUWDd7lvfjCMtEmZ8xw7THNIhYNWnpHI0j144tSJtAivAcU2DiK2aETgaPzfobbozx9AmBmSuvc6E0XgCqwdqghUJRKmUqdnBe+IwUZjB7Zk+MQWTFzLV2gjOsczqQHQ+AG67qyWFrBgEbAEeTE0XU82RJSIxMQMXjjDIHCFwI6ZHKLEXGR2jEY3xUNMEUvAPAanmPPExFTcnsU52bdUGZHK1WWj0CJIv0lhsGF9/fpV6w9CacoCzu0wrGQfYu8L7JFyiEGDBOHw7/yAj6AIkAqkQqiTVLGz9MU0iSOYof1Yz389AGY+wolFcogMEG8EY2IQaCI9O5AMMhF2VTYKcGd6KHFREN2TbZSI//x3Ds+dznIFjgAi+h2qhe/QJchDV3ogkVfqKHAhvM9lneVXDD6qQJwOQBHJElc2mABYDouAAvnyaZhAKQkYI2RIcbeCWT6Q+L87EIiqcN7X5q8I6jwwika3AO1qQMso5J70NbrrY/bSWsTxjK7fXaDKJPM0Tu6Gtt8XNrHT59cP/3Nt76CP/3Ol2/e/gNN5cU//PyHf/Pkr77/8f9977i/vnnt/s311e7mZreZaynWl95bR6neFPO/aZZk2bqaI0gU4DzViDv8IL0gDD6BM+YHshu2Z7QTurMcM9gQxD8RyQZDCwlBbQxdTw9HUZ0kpyim1Ir2S4VF2UJsPNVBOLGwvzBfGjdlvueA+7FOpuGnqLupq+RcKrGSAOs5EMIeiWxIBs5yUixrSBgznJcYjIpDHbfdo7ucmVmdwCI3ZMBRY8zo6oHHZc4j00PfDROIoX40UjFj9sP6WQTo72MuRlrnVWeBxJRCCh8YYV3glcXryGqEwnKBlNPsr0BAo/Tm/AGiDe0o2MjSgIAGlNjaQOhMiWV6vnnGRg3URd7i+DlOz/jj+E2o/ZhXHQ6oFB32M26zunuhGpwrsststuwvEAWtAMA1OzG86QwADv0S6xUZWJldJUKRl8OIXTBjRQwVScDimHKFQzrJwcyBMskGqCTgRqdNYIF6lieN+x+MqA3B6fkgXNX0kJRY5jNxjKG1gYu9T7mJebUJ0xD99CAP3MWz8VvlIH2TZEJjVTJ4FGvkMJcYVUshK6Gq/awIoxv8PEIaFJxCMSNReSaDV61nF7ets3xcwG8BzRTAbJEf5BP0/NDunn34SnnyrTfKN//tH+6/8NruzQftw6d//8Nf/9f//uSnf//irs0PX331ere73m+urjabeaqVBrDCUWETrMZ6lkqHy12jKm/EJAODpvllBJ97E+6gO2gBDujv6XAn/xiLM2JiI6kII8saAiyF6ZxSwYzJdYmkF/NSbCR5WakAot8jkOEyy664FdyIcyhHiJSZdyxHGFWqo3QU85bsiVfUgrPiyF0etEOcT0s7RI+sIJZZuQwdcgM8fb2uoNt6x3KCmUCLgZOxUDEiOc5xXFsojKrmC0fsQg7iIA2m6vJFRMg5BZ0u2UhvTulnH04FYcaynodAPVkOjaB0o6J6dV5eeg0HEhj0ISLKERAJyZxivX5Gns+GBanyx80PPjPOGF8W71XCLA4qz65RfD/BqKPvK9TITD85X8YMTK9DkGKQUERYBrVXIrMy4bo87WpMx4u4WZ7HzIxNoIkWsoG0PLSkU1bI3G3YSWWqpg9VkqYiYGAsvsPgPZobSkkijJT+SKbMBU+gOVTtyzqBYMVnZOVsm8BUR6MKkGB42eMRB0g87/3425nbxRBHAqgWmo6IeCItJT0N1wgFSvBCGFf+N+z7QOkVvVtNDJwae/VHXlLkiLafeXlX7zqRDqn13tvzZ09f4/tvf7X9wR/93r2vfWW694q9ePLz7/+fH3z/dz/42d3T57q6vvfqg91m4vXNfr+d57kUy/ZKVow2uU1reV51CHVZFgEWLklC6NB9w5k0sZwAR78FK7DAG/wJXDhCz6p/SC1CEYTEd2e001esQRIlLYtqLCid5jQzN7ghcSfSDkO2eG/qDWqGHvWcZZra4TlghaUfnnN5YXWq8x5lI0malO5GozQQwXraI6KX/m/acnZqMYAo8UuFp6WY7R0nqFPNRfSlBUdG2hycaSL2EQJZB2F5MVTjksb+06/Be3MowRWXxS8HuAWTiqPhrC39UpuvWEsr5AmKMMFjFlOv5D9s4P5clRXPRSGCRpQ80WTEFlYVu9746r4jbi+yipKdjOO9GpwQds+RLpmVNiagYEhb+B8xYRgdY8SCgGg5v+rWi7Ua5zWta+AWS6zHmHsKrvWjWqA21jBObNjdzHm2cBqz0NHGykdeWhz5Ll8imG2gEhYN5AQQFTanqb8M1yASibIaF4JQpOIu0szmyDtSNAQda732DACJz5jLlL5812K+GTBMf0L4M3j87MsT/w3Q95KNoWFUh8sZcy/Gwnf1RDpyrtKTfklkBJUowqnLcvRWa4nWdZYsypqVuG5hjBtG5oJBgp90OlYdH27vHtzrX/jG9tW3vnrv9fvl3munj+5+/D9+/L3v/eZvf/ns9oDK+vqjq2me99vt9dV2u99YsVpKerrBdMUPRizVYDSrYM8CrJFfElR7DtUW0Dra++hHLHeYXgOFF8+wVJYFRmwiOhTloxI8J4Lk3gdEXjVFjM8ismmuEP3DpbmGIXTPhcbKh1qZRAMjjulyt7qTO9Wnzb6zsk6YdgC8n+gO24CgnyhD2aCszqgGRLMhyhmdCOcLYg4kF7L8PmiUsEi0Wk1aLWd8rmPYxoiFyVfLquiBuawn4NOv4TBzVYKOoQ2cDGzeIQ0anKlZfPjNFoh51JyOE1Hs4vqBUjPKv7LNY0Fiz1ZDZaSsAOE7pyEeGG8lBIZWI8ZCYTinkVRERs2G8v2h3FMrxDastCPGtQG1POqZ2dwIh+pwbNdLIWRl/GOMXD/H+nxxOOOJjeGdEA1j+/4RhcDIgFHklFAj9JO/Up7TfMcM6V0Dw1s3kmKJUvbC8TYK5K5l8KQ2CBMHOmBgHUZuLYkhYJnfGX9N68rL211vT9EjI8tjQkQT2uZH4TpDy7EQhCKFJ/psvrQwYhQCiZnWPlzxgN4raRbVSLy4nfCcQ93Vt+r/uysPn/bNaSlijZ4uhek4nk9nd3qfJrflUNvzXTlez8fdI7z+xevPf/X3d2+8MT94Bae7p79+54ff+9uf/uiDv/v5x88Xr6Xc20676/1mnnabzW63m6ZSqZDU7jbap8Ym+IgKmEAzTLUuy9Jbt5Lcrws0qBQYfZHLsdzirsMPaAvsVv0k3oM3LcDJ2JwdKp6od2jREB+Y0Wpm1UbbxDVHRQzq3OUdpVJmdMVIgCDB6CqtG+sEOL3Rm3thrYaG3kmzMknqTqfJdpOO1EmYQiAYJEiZwImmSKsVouqERBG61LNzEjpo6UIgNxcZtpwExMQvjkPr3mK4poertOr8gG/S8JMHNzI44OF/hH2NtjKBR6NM2WgxQyesILvoUjUWoHdP6n34NlHCw6gBzPqBfIKB++LYZDo0FDlixnAf0+SEoQ/rWC/g21B8mb8srvBi5MgwY42RRxXpRuMQKmYFD0AiaGSYM5FaH9EOpo6LjAukLAo2UqQnRd8zjETFNAkaKoEDzYbzlnm1qS4sinBC7mz4O22oZlAnkEQJDiuLtUgk3eDDcyuAIbMa4lsCAfUMs0UUPnWv57FjbLOGKjcgE0uRGnHYMybSPFOBaVk9fquotE8GNmIUFQTpQgFlENfKcRkGSYUViep8XaGckbUG1swq3FWqhoFyQUcAYRXW6U9nfZniMjDHQKf/H1+N1980mDvAAAAAAElFTkSuQmCC',\n",
              "  '1_image_0.png': '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'},\n",
              " 'game_name': 'SpellBook',\n",
              " 'game_id': '391834'}"
            ]
          },
          "metadata": {},
          "execution_count": 16
        }
      ]
    },
    {
      "cell_type": "code",
      "source": [
        "def read_token_from_file(file_path=\"token.txt\"):\n",
        "    with open(file_path, \"r\") as file:\n",
        "        return file.read().strip()"
      ],
      "metadata": {
        "id": "ejs6zQyQ0ZAK"
      },
      "execution_count": null,
      "outputs": []
    },
    {
      "cell_type": "code",
      "source": [
        "from qdrant_client import QdrantClient\n",
        "from langchain_qdrant import QdrantVectorStore\n",
        "from langchain.embeddings import OpenAIEmbeddings  # Correct import path for OpenAI embeddings\n",
        "import os\n",
        "\n",
        "COLLECTION_NAME = \"automatic_ingestion\"\n",
        "os.environ[\"OPENAI_API_KEY\"] = read_token_from_file(\"/content/OpenAI.txt\")\n",
        "URL=read_token_from_file(\"/content/qdrant_URL.txt\")\n",
        "API_KEY=read_token_from_file(\"/content/qdrant.txt\")\n",
        "# Specify the folder path\n",
        "# folder_path = \"C:\\\\Users\\\\fiori\\\\OneDrive\\\\Documenti\\\\Rulebooks\"\n",
        "EMBEDDING_MODEL_NAME = \"thenlper/gte-small\""
      ],
      "metadata": {
        "id": "ueZ5YnltxWi6"
      },
      "execution_count": null,
      "outputs": []
    },
    {
      "cell_type": "code",
      "source": [
        "def add_embeddings_to_qdrant(docs_processed, URL, API_KEY, OPENAI_KEY, collection_name=\"test_2\"):\n",
        "    \"\"\"Create embeddings for documents and add them to Qdrant.\"\"\"\n",
        "\n",
        "    URL=URL\n",
        "    API_KEY=API_KEY\n",
        "\n",
        "    if OPENAI_KEY:\n",
        "        embedding_model = OpenAIEmbeddings(\n",
        "            model=\"text-embedding-ada-002\",  # Specify the desired OpenAI embedding model\n",
        "        )\n",
        "\n",
        "    else:\n",
        "        embedding_model = HuggingFaceEmbeddings(\n",
        "            model_name=EMBEDDING_MODEL_NAME,\n",
        "            multi_process=True,  # Enable multiprocessing\n",
        "            model_kwargs={\"device\": \"cuda\"},\n",
        "            encode_kwargs={\"normalize_embeddings\": True},  # Set `True` for cosine similarity\n",
        "        )\n",
        "\n",
        "\n",
        "    vector_store = QdrantVectorStore.from_documents(\n",
        "        docs_processed,\n",
        "        embedding_model,\n",
        "        url = URL,\n",
        "        #prefer_grpc=True,\n",
        "        api_key=API_KEY,\n",
        "        collection_name=collection_name,\n",
        "        force_recreate = False\n",
        "    )"
      ],
      "metadata": {
        "id": "PTfBURwJk-wj"
      },
      "execution_count": null,
      "outputs": []
    },
    {
      "cell_type": "code",
      "source": [
        "add_embeddings_to_qdrant(chunks, URL, API_KEY, os.environ[\"OPENAI_API_KEY\"], COLLECTION_NAME)"
      ],
      "metadata": {
        "id": "_5gBsoqYk8iz",
        "colab": {
          "base_uri": "https://localhost:8080/"
        },
        "outputId": "129f73b3-e9f4-4d45-9e13-1b76e7d3ab1a"
      },
      "execution_count": null,
      "outputs": [
        {
          "output_type": "stream",
          "name": "stderr",
          "text": [
            "<ipython-input-19-a30c0a8da70e>:8: LangChainDeprecationWarning: The class `OpenAIEmbeddings` was deprecated in LangChain 0.0.9 and will be removed in 1.0. An updated version of the class exists in the :class:`~langchain-openai package and should be used instead. To use it run `pip install -U :class:`~langchain-openai` and import as `from :class:`~langchain_openai import OpenAIEmbeddings``.\n",
            "  embedding_model = OpenAIEmbeddings(\n"
          ]
        }
      ]
    },
    {
      "cell_type": "code",
      "source": [],
      "metadata": {
        "id": "MoLFteFck8ZX"
      },
      "execution_count": null,
      "outputs": []
    }
  ]
}